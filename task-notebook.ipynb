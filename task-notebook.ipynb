{
 "cells": [
  {
   "cell_type": "markdown",
   "metadata": {},
   "source": [
    "# RedCarpetUp Task"
   ]
  },
  {
   "cell_type": "markdown",
   "metadata": {},
   "source": [
    "## Data Selection"
   ]
  },
  {
   "cell_type": "code",
   "execution_count": 137,
   "metadata": {},
   "outputs": [],
   "source": [
    "import numpy as np\n",
    "import pandas as pd\n",
    "from datetime import date\n",
    "import matplotlib.pyplot as plt\n",
    "%matplotlib inline"
   ]
  },
  {
   "cell_type": "markdown",
   "metadata": {},
   "source": [
    "**NOTE : To use nsepy, please install the nsepy package onto your PC. i.e $ pip install nsepy**"
   ]
  },
  {
   "cell_type": "code",
   "execution_count": 138,
   "metadata": {},
   "outputs": [],
   "source": [
    "#from nsepy import get_history\n",
    "#infy = get_history(symbol='MCX',start=date(2015,1,1),end = date(2015,12,31))\n",
    "#tcs = get_history(symbol='TCS',start=date(2015,1,1),end = date(2015,12,31))\n",
    "#nifty_IT = get_history(symbol='NIFTY IT',start=date(2015,1,1),end = date(2015,12,31),index = True)"
   ]
  },
  {
   "cell_type": "markdown",
   "metadata": {},
   "source": [
    "**NOTE** : <br>\n",
    "The above commented code requires an internet connection to load the csv data. The csv data has already been downloaded by me and implemented using the code below."
   ]
  },
  {
   "cell_type": "code",
   "execution_count": 139,
   "metadata": {},
   "outputs": [],
   "source": [
    "infy = pd.read_csv('infy_stock.csv', parse_dates=['Date'])\n",
    "tcs = pd.read_csv('tcs_stock.csv', parse_dates=['Date'])\n",
    "nifty_IT = pd.read_csv('nifty_it_index.csv', parse_dates=['Date'])"
   ]
  },
  {
   "cell_type": "code",
   "execution_count": 140,
   "metadata": {},
   "outputs": [
    {
     "data": {
      "text/html": [
       "<div>\n",
       "<style scoped>\n",
       "    .dataframe tbody tr th:only-of-type {\n",
       "        vertical-align: middle;\n",
       "    }\n",
       "\n",
       "    .dataframe tbody tr th {\n",
       "        vertical-align: top;\n",
       "    }\n",
       "\n",
       "    .dataframe thead th {\n",
       "        text-align: right;\n",
       "    }\n",
       "</style>\n",
       "<table border=\"1\" class=\"dataframe\">\n",
       "  <thead>\n",
       "    <tr style=\"text-align: right;\">\n",
       "      <th></th>\n",
       "      <th>Date</th>\n",
       "      <th>Symbol</th>\n",
       "      <th>Series</th>\n",
       "      <th>Prev Close</th>\n",
       "      <th>Open</th>\n",
       "      <th>High</th>\n",
       "      <th>Low</th>\n",
       "      <th>Last</th>\n",
       "      <th>Close</th>\n",
       "      <th>VWAP</th>\n",
       "      <th>Volume</th>\n",
       "      <th>Turnover</th>\n",
       "      <th>Trades</th>\n",
       "      <th>Deliverable Volume</th>\n",
       "      <th>%Deliverble</th>\n",
       "    </tr>\n",
       "  </thead>\n",
       "  <tbody>\n",
       "    <tr>\n",
       "      <th>0</th>\n",
       "      <td>2015-01-01</td>\n",
       "      <td>INFY</td>\n",
       "      <td>EQ</td>\n",
       "      <td>1972.55</td>\n",
       "      <td>1968.95</td>\n",
       "      <td>1982.00</td>\n",
       "      <td>1956.9</td>\n",
       "      <td>1971.00</td>\n",
       "      <td>1974.40</td>\n",
       "      <td>1971.34</td>\n",
       "      <td>500691</td>\n",
       "      <td>9.870306e+13</td>\n",
       "      <td>14908</td>\n",
       "      <td>258080</td>\n",
       "      <td>0.5154</td>\n",
       "    </tr>\n",
       "    <tr>\n",
       "      <th>1</th>\n",
       "      <td>2015-01-02</td>\n",
       "      <td>INFY</td>\n",
       "      <td>EQ</td>\n",
       "      <td>1974.40</td>\n",
       "      <td>1972.00</td>\n",
       "      <td>2019.05</td>\n",
       "      <td>1972.0</td>\n",
       "      <td>2017.95</td>\n",
       "      <td>2013.20</td>\n",
       "      <td>2003.25</td>\n",
       "      <td>1694580</td>\n",
       "      <td>3.394669e+14</td>\n",
       "      <td>54166</td>\n",
       "      <td>1249104</td>\n",
       "      <td>0.7371</td>\n",
       "    </tr>\n",
       "    <tr>\n",
       "      <th>2</th>\n",
       "      <td>2015-01-05</td>\n",
       "      <td>INFY</td>\n",
       "      <td>EQ</td>\n",
       "      <td>2013.20</td>\n",
       "      <td>2009.90</td>\n",
       "      <td>2030.00</td>\n",
       "      <td>1977.5</td>\n",
       "      <td>1996.00</td>\n",
       "      <td>1995.90</td>\n",
       "      <td>2004.59</td>\n",
       "      <td>2484256</td>\n",
       "      <td>4.979911e+14</td>\n",
       "      <td>82694</td>\n",
       "      <td>1830962</td>\n",
       "      <td>0.7370</td>\n",
       "    </tr>\n",
       "    <tr>\n",
       "      <th>3</th>\n",
       "      <td>2015-01-06</td>\n",
       "      <td>INFY</td>\n",
       "      <td>EQ</td>\n",
       "      <td>1995.90</td>\n",
       "      <td>1980.00</td>\n",
       "      <td>1985.00</td>\n",
       "      <td>1934.1</td>\n",
       "      <td>1965.10</td>\n",
       "      <td>1954.20</td>\n",
       "      <td>1954.82</td>\n",
       "      <td>2416829</td>\n",
       "      <td>4.724458e+14</td>\n",
       "      <td>108209</td>\n",
       "      <td>1772070</td>\n",
       "      <td>0.7332</td>\n",
       "    </tr>\n",
       "    <tr>\n",
       "      <th>4</th>\n",
       "      <td>2015-01-07</td>\n",
       "      <td>INFY</td>\n",
       "      <td>EQ</td>\n",
       "      <td>1954.20</td>\n",
       "      <td>1965.00</td>\n",
       "      <td>1974.75</td>\n",
       "      <td>1950.0</td>\n",
       "      <td>1966.05</td>\n",
       "      <td>1963.55</td>\n",
       "      <td>1962.59</td>\n",
       "      <td>1812479</td>\n",
       "      <td>3.557162e+14</td>\n",
       "      <td>62463</td>\n",
       "      <td>1317720</td>\n",
       "      <td>0.7270</td>\n",
       "    </tr>\n",
       "  </tbody>\n",
       "</table>\n",
       "</div>"
      ],
      "text/plain": [
       "        Date Symbol Series  Prev Close     Open     High     Low     Last  \\\n",
       "0 2015-01-01   INFY     EQ     1972.55  1968.95  1982.00  1956.9  1971.00   \n",
       "1 2015-01-02   INFY     EQ     1974.40  1972.00  2019.05  1972.0  2017.95   \n",
       "2 2015-01-05   INFY     EQ     2013.20  2009.90  2030.00  1977.5  1996.00   \n",
       "3 2015-01-06   INFY     EQ     1995.90  1980.00  1985.00  1934.1  1965.10   \n",
       "4 2015-01-07   INFY     EQ     1954.20  1965.00  1974.75  1950.0  1966.05   \n",
       "\n",
       "     Close     VWAP   Volume      Turnover  Trades  Deliverable Volume  \\\n",
       "0  1974.40  1971.34   500691  9.870306e+13   14908              258080   \n",
       "1  2013.20  2003.25  1694580  3.394669e+14   54166             1249104   \n",
       "2  1995.90  2004.59  2484256  4.979911e+14   82694             1830962   \n",
       "3  1954.20  1954.82  2416829  4.724458e+14  108209             1772070   \n",
       "4  1963.55  1962.59  1812479  3.557162e+14   62463             1317720   \n",
       "\n",
       "   %Deliverble  \n",
       "0       0.5154  \n",
       "1       0.7371  \n",
       "2       0.7370  \n",
       "3       0.7332  \n",
       "4       0.7270  "
      ]
     },
     "execution_count": 140,
     "metadata": {},
     "output_type": "execute_result"
    }
   ],
   "source": [
    "infy.head()"
   ]
  },
  {
   "cell_type": "markdown",
   "metadata": {},
   "source": [
    "The INFY stock prices data has been loaded into the variable 'infy'"
   ]
  },
  {
   "cell_type": "code",
   "execution_count": 141,
   "metadata": {},
   "outputs": [
    {
     "data": {
      "text/html": [
       "<div>\n",
       "<style scoped>\n",
       "    .dataframe tbody tr th:only-of-type {\n",
       "        vertical-align: middle;\n",
       "    }\n",
       "\n",
       "    .dataframe tbody tr th {\n",
       "        vertical-align: top;\n",
       "    }\n",
       "\n",
       "    .dataframe thead th {\n",
       "        text-align: right;\n",
       "    }\n",
       "</style>\n",
       "<table border=\"1\" class=\"dataframe\">\n",
       "  <thead>\n",
       "    <tr style=\"text-align: right;\">\n",
       "      <th></th>\n",
       "      <th>Date</th>\n",
       "      <th>Symbol</th>\n",
       "      <th>Series</th>\n",
       "      <th>Prev Close</th>\n",
       "      <th>Open</th>\n",
       "      <th>High</th>\n",
       "      <th>Low</th>\n",
       "      <th>Last</th>\n",
       "      <th>Close</th>\n",
       "      <th>VWAP</th>\n",
       "      <th>Volume</th>\n",
       "      <th>Turnover</th>\n",
       "      <th>Trades</th>\n",
       "      <th>Deliverable Volume</th>\n",
       "      <th>%Deliverble</th>\n",
       "    </tr>\n",
       "  </thead>\n",
       "  <tbody>\n",
       "    <tr>\n",
       "      <th>0</th>\n",
       "      <td>2015-01-01</td>\n",
       "      <td>TCS</td>\n",
       "      <td>EQ</td>\n",
       "      <td>2558.25</td>\n",
       "      <td>2567.0</td>\n",
       "      <td>2567.00</td>\n",
       "      <td>2541.00</td>\n",
       "      <td>2550.00</td>\n",
       "      <td>2545.55</td>\n",
       "      <td>2548.51</td>\n",
       "      <td>183415</td>\n",
       "      <td>4.674345e+13</td>\n",
       "      <td>8002</td>\n",
       "      <td>52870</td>\n",
       "      <td>0.2883</td>\n",
       "    </tr>\n",
       "    <tr>\n",
       "      <th>1</th>\n",
       "      <td>2015-01-02</td>\n",
       "      <td>TCS</td>\n",
       "      <td>EQ</td>\n",
       "      <td>2545.55</td>\n",
       "      <td>2551.0</td>\n",
       "      <td>2590.95</td>\n",
       "      <td>2550.60</td>\n",
       "      <td>2588.40</td>\n",
       "      <td>2579.45</td>\n",
       "      <td>2568.19</td>\n",
       "      <td>462870</td>\n",
       "      <td>1.188740e+14</td>\n",
       "      <td>27585</td>\n",
       "      <td>309350</td>\n",
       "      <td>0.6683</td>\n",
       "    </tr>\n",
       "    <tr>\n",
       "      <th>2</th>\n",
       "      <td>2015-01-05</td>\n",
       "      <td>TCS</td>\n",
       "      <td>EQ</td>\n",
       "      <td>2579.45</td>\n",
       "      <td>2581.0</td>\n",
       "      <td>2599.90</td>\n",
       "      <td>2524.65</td>\n",
       "      <td>2538.10</td>\n",
       "      <td>2540.25</td>\n",
       "      <td>2563.94</td>\n",
       "      <td>877121</td>\n",
       "      <td>2.248886e+14</td>\n",
       "      <td>43234</td>\n",
       "      <td>456728</td>\n",
       "      <td>0.5207</td>\n",
       "    </tr>\n",
       "    <tr>\n",
       "      <th>3</th>\n",
       "      <td>2015-01-06</td>\n",
       "      <td>TCS</td>\n",
       "      <td>EQ</td>\n",
       "      <td>2540.25</td>\n",
       "      <td>2529.1</td>\n",
       "      <td>2529.10</td>\n",
       "      <td>2440.00</td>\n",
       "      <td>2450.05</td>\n",
       "      <td>2446.60</td>\n",
       "      <td>2466.90</td>\n",
       "      <td>1211892</td>\n",
       "      <td>2.989615e+14</td>\n",
       "      <td>84503</td>\n",
       "      <td>714306</td>\n",
       "      <td>0.5894</td>\n",
       "    </tr>\n",
       "    <tr>\n",
       "      <th>4</th>\n",
       "      <td>2015-01-07</td>\n",
       "      <td>TCS</td>\n",
       "      <td>EQ</td>\n",
       "      <td>2446.60</td>\n",
       "      <td>2470.0</td>\n",
       "      <td>2479.15</td>\n",
       "      <td>2407.45</td>\n",
       "      <td>2426.90</td>\n",
       "      <td>2417.70</td>\n",
       "      <td>2433.96</td>\n",
       "      <td>1318166</td>\n",
       "      <td>3.208362e+14</td>\n",
       "      <td>101741</td>\n",
       "      <td>886368</td>\n",
       "      <td>0.6724</td>\n",
       "    </tr>\n",
       "  </tbody>\n",
       "</table>\n",
       "</div>"
      ],
      "text/plain": [
       "        Date Symbol Series  Prev Close    Open     High      Low     Last  \\\n",
       "0 2015-01-01    TCS     EQ     2558.25  2567.0  2567.00  2541.00  2550.00   \n",
       "1 2015-01-02    TCS     EQ     2545.55  2551.0  2590.95  2550.60  2588.40   \n",
       "2 2015-01-05    TCS     EQ     2579.45  2581.0  2599.90  2524.65  2538.10   \n",
       "3 2015-01-06    TCS     EQ     2540.25  2529.1  2529.10  2440.00  2450.05   \n",
       "4 2015-01-07    TCS     EQ     2446.60  2470.0  2479.15  2407.45  2426.90   \n",
       "\n",
       "     Close     VWAP   Volume      Turnover  Trades  Deliverable Volume  \\\n",
       "0  2545.55  2548.51   183415  4.674345e+13    8002               52870   \n",
       "1  2579.45  2568.19   462870  1.188740e+14   27585              309350   \n",
       "2  2540.25  2563.94   877121  2.248886e+14   43234              456728   \n",
       "3  2446.60  2466.90  1211892  2.989615e+14   84503              714306   \n",
       "4  2417.70  2433.96  1318166  3.208362e+14  101741              886368   \n",
       "\n",
       "   %Deliverble  \n",
       "0       0.2883  \n",
       "1       0.6683  \n",
       "2       0.5207  \n",
       "3       0.5894  \n",
       "4       0.6724  "
      ]
     },
     "execution_count": 141,
     "metadata": {},
     "output_type": "execute_result"
    }
   ],
   "source": [
    "tcs.head()"
   ]
  },
  {
   "cell_type": "markdown",
   "metadata": {},
   "source": [
    "NIFT IT indexes are loaded into the variable nifty_IT"
   ]
  },
  {
   "cell_type": "code",
   "execution_count": 142,
   "metadata": {},
   "outputs": [
    {
     "data": {
      "text/html": [
       "<div>\n",
       "<style scoped>\n",
       "    .dataframe tbody tr th:only-of-type {\n",
       "        vertical-align: middle;\n",
       "    }\n",
       "\n",
       "    .dataframe tbody tr th {\n",
       "        vertical-align: top;\n",
       "    }\n",
       "\n",
       "    .dataframe thead th {\n",
       "        text-align: right;\n",
       "    }\n",
       "</style>\n",
       "<table border=\"1\" class=\"dataframe\">\n",
       "  <thead>\n",
       "    <tr style=\"text-align: right;\">\n",
       "      <th></th>\n",
       "      <th>Date</th>\n",
       "      <th>Open</th>\n",
       "      <th>High</th>\n",
       "      <th>Low</th>\n",
       "      <th>Close</th>\n",
       "      <th>Volume</th>\n",
       "      <th>Turnover</th>\n",
       "    </tr>\n",
       "  </thead>\n",
       "  <tbody>\n",
       "    <tr>\n",
       "      <th>0</th>\n",
       "      <td>2015-01-01</td>\n",
       "      <td>11214.80</td>\n",
       "      <td>11235.75</td>\n",
       "      <td>11166.35</td>\n",
       "      <td>11215.70</td>\n",
       "      <td>4246150</td>\n",
       "      <td>3.575100e+09</td>\n",
       "    </tr>\n",
       "    <tr>\n",
       "      <th>1</th>\n",
       "      <td>2015-01-02</td>\n",
       "      <td>11214.65</td>\n",
       "      <td>11399.10</td>\n",
       "      <td>11214.65</td>\n",
       "      <td>11372.10</td>\n",
       "      <td>10004862</td>\n",
       "      <td>9.645600e+09</td>\n",
       "    </tr>\n",
       "    <tr>\n",
       "      <th>2</th>\n",
       "      <td>2015-01-05</td>\n",
       "      <td>11369.35</td>\n",
       "      <td>11433.75</td>\n",
       "      <td>11186.95</td>\n",
       "      <td>11248.55</td>\n",
       "      <td>8858018</td>\n",
       "      <td>1.059000e+10</td>\n",
       "    </tr>\n",
       "    <tr>\n",
       "      <th>3</th>\n",
       "      <td>2015-01-06</td>\n",
       "      <td>11186.10</td>\n",
       "      <td>11186.10</td>\n",
       "      <td>10909.00</td>\n",
       "      <td>10959.90</td>\n",
       "      <td>12515739</td>\n",
       "      <td>1.364500e+10</td>\n",
       "    </tr>\n",
       "    <tr>\n",
       "      <th>4</th>\n",
       "      <td>2015-01-07</td>\n",
       "      <td>11013.20</td>\n",
       "      <td>11042.35</td>\n",
       "      <td>10889.55</td>\n",
       "      <td>10916.00</td>\n",
       "      <td>10976356</td>\n",
       "      <td>1.203440e+10</td>\n",
       "    </tr>\n",
       "  </tbody>\n",
       "</table>\n",
       "</div>"
      ],
      "text/plain": [
       "        Date      Open      High       Low     Close    Volume      Turnover\n",
       "0 2015-01-01  11214.80  11235.75  11166.35  11215.70   4246150  3.575100e+09\n",
       "1 2015-01-02  11214.65  11399.10  11214.65  11372.10  10004862  9.645600e+09\n",
       "2 2015-01-05  11369.35  11433.75  11186.95  11248.55   8858018  1.059000e+10\n",
       "3 2015-01-06  11186.10  11186.10  10909.00  10959.90  12515739  1.364500e+10\n",
       "4 2015-01-07  11013.20  11042.35  10889.55  10916.00  10976356  1.203440e+10"
      ]
     },
     "execution_count": 142,
     "metadata": {},
     "output_type": "execute_result"
    }
   ],
   "source": [
    "nifty_IT.head()"
   ]
  },
  {
   "cell_type": "markdown",
   "metadata": {},
   "source": [
    "TCS stocks data loaded into the variable tcs"
   ]
  },
  {
   "cell_type": "markdown",
   "metadata": {},
   "source": [
    "## Part 1: Time Series Analysis"
   ]
  },
  {
   "cell_type": "markdown",
   "metadata": {},
   "source": [
    "### Rolling averages"
   ]
  },
  {
   "cell_type": "code",
   "execution_count": 143,
   "metadata": {},
   "outputs": [
    {
     "data": {
      "text/plain": [
       "(pandas.core.indexes.range.RangeIndex,\n",
       " pandas.core.indexes.range.RangeIndex,\n",
       " pandas.core.indexes.range.RangeIndex)"
      ]
     },
     "execution_count": 143,
     "metadata": {},
     "output_type": "execute_result"
    }
   ],
   "source": [
    "type(infy.index),type(tcs.index),type(nifty_IT.index)"
   ]
  },
  {
   "cell_type": "markdown",
   "metadata": {},
   "source": [
    "The dataframes are not Datetime Indexed. Therefore we need to DateTime Index the dataframes"
   ]
  },
  {
   "cell_type": "code",
   "execution_count": 144,
   "metadata": {},
   "outputs": [
    {
     "data": {
      "text/plain": [
       "(pandas.core.indexes.datetimes.DatetimeIndex,\n",
       " pandas.core.indexes.datetimes.DatetimeIndex,\n",
       " pandas.core.indexes.datetimes.DatetimeIndex)"
      ]
     },
     "execution_count": 144,
     "metadata": {},
     "output_type": "execute_result"
    }
   ],
   "source": [
    "infy.index = pd.to_datetime(infy.index)\n",
    "tcs.index = pd.to_datetime(tcs.index)\n",
    "nifty_IT.index = pd.to_datetime(nifty_IT.index)\n",
    "\n",
    "type(infy.index),type(tcs.index),type(nifty_IT.index)"
   ]
  },
  {
   "cell_type": "code",
   "execution_count": 145,
   "metadata": {},
   "outputs": [],
   "source": [
    "from datetime import timedelta\n",
    "def rollingAvg(df):\n",
    "    window = np.arange(4,53,12)\n",
    "    series = df.Close\n",
    "    df_new = pd.DataFrame(index=df.index,columns=list(window))\n",
    "    for i in window:\n",
    "        df_new[i] = series.rolling(window=timedelta(weeks=int(i))).mean()\n",
    "    df_new.columns.name = 'Rolling window size'\n",
    "    return df_new"
   ]
  },
  {
   "cell_type": "markdown",
   "metadata": {},
   "source": [
    "**In the function above, I create a k-moving average function where k = 4,16,...52. I put all these individual moving averages Series into a single Dataframe**"
   ]
  },
  {
   "cell_type": "code",
   "execution_count": 146,
   "metadata": {},
   "outputs": [
    {
     "data": {
      "text/html": [
       "<div>\n",
       "<style scoped>\n",
       "    .dataframe tbody tr th:only-of-type {\n",
       "        vertical-align: middle;\n",
       "    }\n",
       "\n",
       "    .dataframe tbody tr th {\n",
       "        vertical-align: top;\n",
       "    }\n",
       "\n",
       "    .dataframe thead th {\n",
       "        text-align: right;\n",
       "    }\n",
       "</style>\n",
       "<table border=\"1\" class=\"dataframe\">\n",
       "  <thead>\n",
       "    <tr style=\"text-align: right;\">\n",
       "      <th>Rolling window size</th>\n",
       "      <th>4</th>\n",
       "      <th>16</th>\n",
       "      <th>28</th>\n",
       "      <th>40</th>\n",
       "      <th>52</th>\n",
       "    </tr>\n",
       "  </thead>\n",
       "  <tbody>\n",
       "    <tr>\n",
       "      <th>1970-01-01 00:00:00.000000000</th>\n",
       "      <td>2545.550000</td>\n",
       "      <td>2545.550000</td>\n",
       "      <td>2545.550000</td>\n",
       "      <td>2545.550000</td>\n",
       "      <td>2545.550000</td>\n",
       "    </tr>\n",
       "    <tr>\n",
       "      <th>1970-01-01 00:00:00.000000001</th>\n",
       "      <td>2562.500000</td>\n",
       "      <td>2562.500000</td>\n",
       "      <td>2562.500000</td>\n",
       "      <td>2562.500000</td>\n",
       "      <td>2562.500000</td>\n",
       "    </tr>\n",
       "    <tr>\n",
       "      <th>1970-01-01 00:00:00.000000002</th>\n",
       "      <td>2555.083333</td>\n",
       "      <td>2555.083333</td>\n",
       "      <td>2555.083333</td>\n",
       "      <td>2555.083333</td>\n",
       "      <td>2555.083333</td>\n",
       "    </tr>\n",
       "    <tr>\n",
       "      <th>1970-01-01 00:00:00.000000003</th>\n",
       "      <td>2527.962500</td>\n",
       "      <td>2527.962500</td>\n",
       "      <td>2527.962500</td>\n",
       "      <td>2527.962500</td>\n",
       "      <td>2527.962500</td>\n",
       "    </tr>\n",
       "    <tr>\n",
       "      <th>1970-01-01 00:00:00.000000004</th>\n",
       "      <td>2505.910000</td>\n",
       "      <td>2505.910000</td>\n",
       "      <td>2505.910000</td>\n",
       "      <td>2505.910000</td>\n",
       "      <td>2505.910000</td>\n",
       "    </tr>\n",
       "  </tbody>\n",
       "</table>\n",
       "</div>"
      ],
      "text/plain": [
       "Rolling window size                     4            16           28  \\\n",
       "1970-01-01 00:00:00.000000000  2545.550000  2545.550000  2545.550000   \n",
       "1970-01-01 00:00:00.000000001  2562.500000  2562.500000  2562.500000   \n",
       "1970-01-01 00:00:00.000000002  2555.083333  2555.083333  2555.083333   \n",
       "1970-01-01 00:00:00.000000003  2527.962500  2527.962500  2527.962500   \n",
       "1970-01-01 00:00:00.000000004  2505.910000  2505.910000  2505.910000   \n",
       "\n",
       "Rolling window size                     40           52  \n",
       "1970-01-01 00:00:00.000000000  2545.550000  2545.550000  \n",
       "1970-01-01 00:00:00.000000001  2562.500000  2562.500000  \n",
       "1970-01-01 00:00:00.000000002  2555.083333  2555.083333  \n",
       "1970-01-01 00:00:00.000000003  2527.962500  2527.962500  \n",
       "1970-01-01 00:00:00.000000004  2505.910000  2505.910000  "
      ]
     },
     "execution_count": 146,
     "metadata": {},
     "output_type": "execute_result"
    }
   ],
   "source": [
    "tcs_df = rollingAvg(tcs)\n",
    "tcs_df.head()"
   ]
  },
  {
   "cell_type": "code",
   "execution_count": 147,
   "metadata": {},
   "outputs": [
    {
     "data": {
      "text/html": [
       "<div>\n",
       "<style scoped>\n",
       "    .dataframe tbody tr th:only-of-type {\n",
       "        vertical-align: middle;\n",
       "    }\n",
       "\n",
       "    .dataframe tbody tr th {\n",
       "        vertical-align: top;\n",
       "    }\n",
       "\n",
       "    .dataframe thead th {\n",
       "        text-align: right;\n",
       "    }\n",
       "</style>\n",
       "<table border=\"1\" class=\"dataframe\">\n",
       "  <thead>\n",
       "    <tr style=\"text-align: right;\">\n",
       "      <th>Rolling window size</th>\n",
       "      <th>4</th>\n",
       "      <th>16</th>\n",
       "      <th>28</th>\n",
       "      <th>40</th>\n",
       "      <th>52</th>\n",
       "    </tr>\n",
       "  </thead>\n",
       "  <tbody>\n",
       "    <tr>\n",
       "      <th>1970-01-01 00:00:00.000000000</th>\n",
       "      <td>1974.400</td>\n",
       "      <td>1974.400</td>\n",
       "      <td>1974.400</td>\n",
       "      <td>1974.400</td>\n",
       "      <td>1974.400</td>\n",
       "    </tr>\n",
       "    <tr>\n",
       "      <th>1970-01-01 00:00:00.000000001</th>\n",
       "      <td>1993.800</td>\n",
       "      <td>1993.800</td>\n",
       "      <td>1993.800</td>\n",
       "      <td>1993.800</td>\n",
       "      <td>1993.800</td>\n",
       "    </tr>\n",
       "    <tr>\n",
       "      <th>1970-01-01 00:00:00.000000002</th>\n",
       "      <td>1994.500</td>\n",
       "      <td>1994.500</td>\n",
       "      <td>1994.500</td>\n",
       "      <td>1994.500</td>\n",
       "      <td>1994.500</td>\n",
       "    </tr>\n",
       "    <tr>\n",
       "      <th>1970-01-01 00:00:00.000000003</th>\n",
       "      <td>1984.425</td>\n",
       "      <td>1984.425</td>\n",
       "      <td>1984.425</td>\n",
       "      <td>1984.425</td>\n",
       "      <td>1984.425</td>\n",
       "    </tr>\n",
       "    <tr>\n",
       "      <th>1970-01-01 00:00:00.000000004</th>\n",
       "      <td>1980.250</td>\n",
       "      <td>1980.250</td>\n",
       "      <td>1980.250</td>\n",
       "      <td>1980.250</td>\n",
       "      <td>1980.250</td>\n",
       "    </tr>\n",
       "  </tbody>\n",
       "</table>\n",
       "</div>"
      ],
      "text/plain": [
       "Rolling window size                  4         16        28        40  \\\n",
       "1970-01-01 00:00:00.000000000  1974.400  1974.400  1974.400  1974.400   \n",
       "1970-01-01 00:00:00.000000001  1993.800  1993.800  1993.800  1993.800   \n",
       "1970-01-01 00:00:00.000000002  1994.500  1994.500  1994.500  1994.500   \n",
       "1970-01-01 00:00:00.000000003  1984.425  1984.425  1984.425  1984.425   \n",
       "1970-01-01 00:00:00.000000004  1980.250  1980.250  1980.250  1980.250   \n",
       "\n",
       "Rolling window size                  52  \n",
       "1970-01-01 00:00:00.000000000  1974.400  \n",
       "1970-01-01 00:00:00.000000001  1993.800  \n",
       "1970-01-01 00:00:00.000000002  1994.500  \n",
       "1970-01-01 00:00:00.000000003  1984.425  \n",
       "1970-01-01 00:00:00.000000004  1980.250  "
      ]
     },
     "execution_count": 147,
     "metadata": {},
     "output_type": "execute_result"
    }
   ],
   "source": [
    "infy_df = rollingAvg(infy)\n",
    "infy_df.head()"
   ]
  },
  {
   "cell_type": "code",
   "execution_count": 148,
   "metadata": {},
   "outputs": [
    {
     "data": {
      "text/html": [
       "<div>\n",
       "<style scoped>\n",
       "    .dataframe tbody tr th:only-of-type {\n",
       "        vertical-align: middle;\n",
       "    }\n",
       "\n",
       "    .dataframe tbody tr th {\n",
       "        vertical-align: top;\n",
       "    }\n",
       "\n",
       "    .dataframe thead th {\n",
       "        text-align: right;\n",
       "    }\n",
       "</style>\n",
       "<table border=\"1\" class=\"dataframe\">\n",
       "  <thead>\n",
       "    <tr style=\"text-align: right;\">\n",
       "      <th>Rolling window size</th>\n",
       "      <th>4</th>\n",
       "      <th>16</th>\n",
       "      <th>28</th>\n",
       "      <th>40</th>\n",
       "      <th>52</th>\n",
       "    </tr>\n",
       "  </thead>\n",
       "  <tbody>\n",
       "    <tr>\n",
       "      <th>1970-01-01 00:00:00.000000000</th>\n",
       "      <td>11215.700000</td>\n",
       "      <td>11215.700000</td>\n",
       "      <td>11215.700000</td>\n",
       "      <td>11215.700000</td>\n",
       "      <td>11215.700000</td>\n",
       "    </tr>\n",
       "    <tr>\n",
       "      <th>1970-01-01 00:00:00.000000001</th>\n",
       "      <td>11293.900000</td>\n",
       "      <td>11293.900000</td>\n",
       "      <td>11293.900000</td>\n",
       "      <td>11293.900000</td>\n",
       "      <td>11293.900000</td>\n",
       "    </tr>\n",
       "    <tr>\n",
       "      <th>1970-01-01 00:00:00.000000002</th>\n",
       "      <td>11278.783333</td>\n",
       "      <td>11278.783333</td>\n",
       "      <td>11278.783333</td>\n",
       "      <td>11278.783333</td>\n",
       "      <td>11278.783333</td>\n",
       "    </tr>\n",
       "    <tr>\n",
       "      <th>1970-01-01 00:00:00.000000003</th>\n",
       "      <td>11199.062500</td>\n",
       "      <td>11199.062500</td>\n",
       "      <td>11199.062500</td>\n",
       "      <td>11199.062500</td>\n",
       "      <td>11199.062500</td>\n",
       "    </tr>\n",
       "    <tr>\n",
       "      <th>1970-01-01 00:00:00.000000004</th>\n",
       "      <td>11142.450000</td>\n",
       "      <td>11142.450000</td>\n",
       "      <td>11142.450000</td>\n",
       "      <td>11142.450000</td>\n",
       "      <td>11142.450000</td>\n",
       "    </tr>\n",
       "  </tbody>\n",
       "</table>\n",
       "</div>"
      ],
      "text/plain": [
       "Rolling window size                      4             16            28  \\\n",
       "1970-01-01 00:00:00.000000000  11215.700000  11215.700000  11215.700000   \n",
       "1970-01-01 00:00:00.000000001  11293.900000  11293.900000  11293.900000   \n",
       "1970-01-01 00:00:00.000000002  11278.783333  11278.783333  11278.783333   \n",
       "1970-01-01 00:00:00.000000003  11199.062500  11199.062500  11199.062500   \n",
       "1970-01-01 00:00:00.000000004  11142.450000  11142.450000  11142.450000   \n",
       "\n",
       "Rolling window size                      40            52  \n",
       "1970-01-01 00:00:00.000000000  11215.700000  11215.700000  \n",
       "1970-01-01 00:00:00.000000001  11293.900000  11293.900000  \n",
       "1970-01-01 00:00:00.000000002  11278.783333  11278.783333  \n",
       "1970-01-01 00:00:00.000000003  11199.062500  11199.062500  \n",
       "1970-01-01 00:00:00.000000004  11142.450000  11142.450000  "
      ]
     },
     "execution_count": 148,
     "metadata": {},
     "output_type": "execute_result"
    }
   ],
   "source": [
    "nifty_df = rollingAvg(nifty_IT)\n",
    "nifty_df.head()"
   ]
  },
  {
   "cell_type": "markdown",
   "metadata": {},
   "source": [
    "### Additional: Plotting the different k-moving averages (k=4,16,...52) for comparision"
   ]
  },
  {
   "cell_type": "code",
   "execution_count": 149,
   "metadata": {},
   "outputs": [
    {
     "data": {
      "image/png": "[encoded data removed]",
      "text/plain": [
       "<Figure size 1080x1080 with 3 Axes>"
      ]
     },
     "metadata": {
      "needs_background": "light"
     },
     "output_type": "display_data"
    }
   ],
   "source": [
    "fig = plt.figure(figsize=(15,15))\n",
    "df_list = [tcs_df,nifty_df,infy_df]\n",
    "plot_titles = ['Plot for TCS','Plot for NIFTY 50','Plot for INFY']\n",
    "for i in range(3):\n",
    "    ax = fig.add_subplot(2,2,i+1)\n",
    "    df_list[i].plot(ax=ax,title=plot_titles[i])"
   ]
  },
  {
   "cell_type": "markdown",
   "metadata": {},
   "source": [
    "### Conclusion: We observe that as the window size of the moving average increases, the time-series plot gets more and more noise-free"
   ]
  },
  {
   "cell_type": "markdown",
   "metadata": {},
   "source": [
    "## Calculating Shocks"
   ]
  },
  {
   "cell_type": "markdown",
   "metadata": {},
   "source": [
    "### 1. Volume shock"
   ]
  },
  {
   "cell_type": "code",
   "execution_count": 150,
   "metadata": {},
   "outputs": [],
   "source": [
    "def volumeShock(df):\n",
    "    volume_arr = np.array(df.Volume)\n",
    "    volume_prev = np.roll(volume_arr,1) #Shift the array by 1 position ahead\n",
    "    volume_prev[0] = 0 #The first element is nullified\n",
    "    \n",
    "    volume_diff = volume_arr - volume_prev\n",
    "    \n",
    "    volume_shock_np = ((volume_diff/volume_arr)>0.1).astype(int)\n",
    "    \n",
    "    volume_shock = pd.Series(volume_shock_np,index=df.index)\n",
    "    return volume_shock"
   ]
  },
  {
   "cell_type": "markdown",
   "metadata": {},
   "source": [
    "In the function volumeShock above, I have done the computaion in numpy than in Series as the computations in numpy are faster."
   ]
  },
  {
   "cell_type": "code",
   "execution_count": 151,
   "metadata": {},
   "outputs": [
    {
     "data": {
      "text/plain": [
       "1970-01-01 00:00:00.000000000    1\n",
       "1970-01-01 00:00:00.000000001    1\n",
       "1970-01-01 00:00:00.000000002    1\n",
       "1970-01-01 00:00:00.000000003    0\n",
       "1970-01-01 00:00:00.000000004    0\n",
       "1970-01-01 00:00:00.000000005    1\n",
       "1970-01-01 00:00:00.000000006    1\n",
       "1970-01-01 00:00:00.000000007    0\n",
       "1970-01-01 00:00:00.000000008    0\n",
       "1970-01-01 00:00:00.000000009    1\n",
       "1970-01-01 00:00:00.000000010    0\n",
       "1970-01-01 00:00:00.000000011    0\n",
       "1970-01-01 00:00:00.000000012    0\n",
       "1970-01-01 00:00:00.000000013    1\n",
       "1970-01-01 00:00:00.000000014    1\n",
       "1970-01-01 00:00:00.000000015    1\n",
       "1970-01-01 00:00:00.000000016    0\n",
       "1970-01-01 00:00:00.000000017    1\n",
       "1970-01-01 00:00:00.000000018    0\n",
       "1970-01-01 00:00:00.000000019    1\n",
       "1970-01-01 00:00:00.000000020    0\n",
       "1970-01-01 00:00:00.000000021    0\n",
       "1970-01-01 00:00:00.000000022    0\n",
       "1970-01-01 00:00:00.000000023    0\n",
       "1970-01-01 00:00:00.000000024    1\n",
       "1970-01-01 00:00:00.000000025    0\n",
       "1970-01-01 00:00:00.000000026    0\n",
       "1970-01-01 00:00:00.000000027    1\n",
       "1970-01-01 00:00:00.000000028    0\n",
       "1970-01-01 00:00:00.000000029    0\n",
       "                                ..\n",
       "1970-01-01 00:00:00.000000218    1\n",
       "1970-01-01 00:00:00.000000219    0\n",
       "1970-01-01 00:00:00.000000220    0\n",
       "1970-01-01 00:00:00.000000221    0\n",
       "1970-01-01 00:00:00.000000222    0\n",
       "1970-01-01 00:00:00.000000223    1\n",
       "1970-01-01 00:00:00.000000224    0\n",
       "1970-01-01 00:00:00.000000225    1\n",
       "1970-01-01 00:00:00.000000226    0\n",
       "1970-01-01 00:00:00.000000227    0\n",
       "1970-01-01 00:00:00.000000228    0\n",
       "1970-01-01 00:00:00.000000229    1\n",
       "1970-01-01 00:00:00.000000230    0\n",
       "1970-01-01 00:00:00.000000231    1\n",
       "1970-01-01 00:00:00.000000232    1\n",
       "1970-01-01 00:00:00.000000233    0\n",
       "1970-01-01 00:00:00.000000234    0\n",
       "1970-01-01 00:00:00.000000235    0\n",
       "1970-01-01 00:00:00.000000236    1\n",
       "1970-01-01 00:00:00.000000237    0\n",
       "1970-01-01 00:00:00.000000238    0\n",
       "1970-01-01 00:00:00.000000239    1\n",
       "1970-01-01 00:00:00.000000240    0\n",
       "1970-01-01 00:00:00.000000241    0\n",
       "1970-01-01 00:00:00.000000242    0\n",
       "1970-01-01 00:00:00.000000243    0\n",
       "1970-01-01 00:00:00.000000244    1\n",
       "1970-01-01 00:00:00.000000245    0\n",
       "1970-01-01 00:00:00.000000246    1\n",
       "1970-01-01 00:00:00.000000247    1\n",
       "Length: 248, dtype: int32"
      ]
     },
     "execution_count": 151,
     "metadata": {},
     "output_type": "execute_result"
    }
   ],
   "source": [
    "volumeShock(infy)"
   ]
  },
  {
   "cell_type": "code",
   "execution_count": 152,
   "metadata": {},
   "outputs": [
    {
     "data": {
      "text/plain": [
       "1970-01-01 00:00:00.000000000    1\n",
       "1970-01-01 00:00:00.000000001    1\n",
       "1970-01-01 00:00:00.000000002    1\n",
       "1970-01-01 00:00:00.000000003    1\n",
       "1970-01-01 00:00:00.000000004    0\n",
       "1970-01-01 00:00:00.000000005    0\n",
       "1970-01-01 00:00:00.000000006    1\n",
       "1970-01-01 00:00:00.000000007    0\n",
       "1970-01-01 00:00:00.000000008    0\n",
       "1970-01-01 00:00:00.000000009    1\n",
       "1970-01-01 00:00:00.000000010    1\n",
       "1970-01-01 00:00:00.000000011    0\n",
       "1970-01-01 00:00:00.000000012    0\n",
       "1970-01-01 00:00:00.000000013    1\n",
       "1970-01-01 00:00:00.000000014    1\n",
       "1970-01-01 00:00:00.000000015    0\n",
       "1970-01-01 00:00:00.000000016    1\n",
       "1970-01-01 00:00:00.000000017    0\n",
       "1970-01-01 00:00:00.000000018    1\n",
       "1970-01-01 00:00:00.000000019    1\n",
       "1970-01-01 00:00:00.000000020    1\n",
       "1970-01-01 00:00:00.000000021    0\n",
       "1970-01-01 00:00:00.000000022    0\n",
       "1970-01-01 00:00:00.000000023    0\n",
       "1970-01-01 00:00:00.000000024    1\n",
       "1970-01-01 00:00:00.000000025    0\n",
       "1970-01-01 00:00:00.000000026    0\n",
       "1970-01-01 00:00:00.000000027    1\n",
       "1970-01-01 00:00:00.000000028    0\n",
       "1970-01-01 00:00:00.000000029    0\n",
       "                                ..\n",
       "1970-01-01 00:00:00.000000218    0\n",
       "1970-01-01 00:00:00.000000219    1\n",
       "1970-01-01 00:00:00.000000220    0\n",
       "1970-01-01 00:00:00.000000221    0\n",
       "1970-01-01 00:00:00.000000222    0\n",
       "1970-01-01 00:00:00.000000223    1\n",
       "1970-01-01 00:00:00.000000224    0\n",
       "1970-01-01 00:00:00.000000225    1\n",
       "1970-01-01 00:00:00.000000226    0\n",
       "1970-01-01 00:00:00.000000227    0\n",
       "1970-01-01 00:00:00.000000228    1\n",
       "1970-01-01 00:00:00.000000229    0\n",
       "1970-01-01 00:00:00.000000230    0\n",
       "1970-01-01 00:00:00.000000231    0\n",
       "1970-01-01 00:00:00.000000232    1\n",
       "1970-01-01 00:00:00.000000233    0\n",
       "1970-01-01 00:00:00.000000234    0\n",
       "1970-01-01 00:00:00.000000235    1\n",
       "1970-01-01 00:00:00.000000236    0\n",
       "1970-01-01 00:00:00.000000237    1\n",
       "1970-01-01 00:00:00.000000238    1\n",
       "1970-01-01 00:00:00.000000239    1\n",
       "1970-01-01 00:00:00.000000240    0\n",
       "1970-01-01 00:00:00.000000241    0\n",
       "1970-01-01 00:00:00.000000242    0\n",
       "1970-01-01 00:00:00.000000243    0\n",
       "1970-01-01 00:00:00.000000244    1\n",
       "1970-01-01 00:00:00.000000245    0\n",
       "1970-01-01 00:00:00.000000246    0\n",
       "1970-01-01 00:00:00.000000247    0\n",
       "Length: 248, dtype: int32"
      ]
     },
     "execution_count": 152,
     "metadata": {},
     "output_type": "execute_result"
    }
   ],
   "source": [
    "volumeShock(tcs)"
   ]
  },
  {
   "cell_type": "code",
   "execution_count": 153,
   "metadata": {},
   "outputs": [
    {
     "data": {
      "text/plain": [
       "1970-01-01 00:00:00.000000000    1\n",
       "1970-01-01 00:00:00.000000001    1\n",
       "1970-01-01 00:00:00.000000002    0\n",
       "1970-01-01 00:00:00.000000003    1\n",
       "1970-01-01 00:00:00.000000004    0\n",
       "1970-01-01 00:00:00.000000005    1\n",
       "1970-01-01 00:00:00.000000006    1\n",
       "1970-01-01 00:00:00.000000007    0\n",
       "1970-01-01 00:00:00.000000008    0\n",
       "1970-01-01 00:00:00.000000009    0\n",
       "1970-01-01 00:00:00.000000010    0\n",
       "1970-01-01 00:00:00.000000011    0\n",
       "1970-01-01 00:00:00.000000012    0\n",
       "1970-01-01 00:00:00.000000013    0\n",
       "1970-01-01 00:00:00.000000014    1\n",
       "1970-01-01 00:00:00.000000015    0\n",
       "1970-01-01 00:00:00.000000016    1\n",
       "1970-01-01 00:00:00.000000017    0\n",
       "1970-01-01 00:00:00.000000018    0\n",
       "1970-01-01 00:00:00.000000019    0\n",
       "1970-01-01 00:00:00.000000020    1\n",
       "1970-01-01 00:00:00.000000021    0\n",
       "1970-01-01 00:00:00.000000022    1\n",
       "1970-01-01 00:00:00.000000023    0\n",
       "1970-01-01 00:00:00.000000024    0\n",
       "1970-01-01 00:00:00.000000025    0\n",
       "1970-01-01 00:00:00.000000026    0\n",
       "1970-01-01 00:00:00.000000027    1\n",
       "1970-01-01 00:00:00.000000028    0\n",
       "1970-01-01 00:00:00.000000029    1\n",
       "                                ..\n",
       "1970-01-01 00:00:00.000000218    0\n",
       "1970-01-01 00:00:00.000000219    0\n",
       "1970-01-01 00:00:00.000000220    0\n",
       "1970-01-01 00:00:00.000000221    0\n",
       "1970-01-01 00:00:00.000000222    0\n",
       "1970-01-01 00:00:00.000000223    1\n",
       "1970-01-01 00:00:00.000000224    0\n",
       "1970-01-01 00:00:00.000000225    1\n",
       "1970-01-01 00:00:00.000000226    0\n",
       "1970-01-01 00:00:00.000000227    0\n",
       "1970-01-01 00:00:00.000000228    1\n",
       "1970-01-01 00:00:00.000000229    0\n",
       "1970-01-01 00:00:00.000000230    0\n",
       "1970-01-01 00:00:00.000000231    0\n",
       "1970-01-01 00:00:00.000000232    1\n",
       "1970-01-01 00:00:00.000000233    0\n",
       "1970-01-01 00:00:00.000000234    0\n",
       "1970-01-01 00:00:00.000000235    0\n",
       "1970-01-01 00:00:00.000000236    1\n",
       "1970-01-01 00:00:00.000000237    0\n",
       "1970-01-01 00:00:00.000000238    0\n",
       "1970-01-01 00:00:00.000000239    1\n",
       "1970-01-01 00:00:00.000000240    0\n",
       "1970-01-01 00:00:00.000000241    0\n",
       "1970-01-01 00:00:00.000000242    0\n",
       "1970-01-01 00:00:00.000000243    0\n",
       "1970-01-01 00:00:00.000000244    1\n",
       "1970-01-01 00:00:00.000000245    0\n",
       "1970-01-01 00:00:00.000000246    0\n",
       "1970-01-01 00:00:00.000000247    1\n",
       "Length: 248, dtype: int32"
      ]
     },
     "execution_count": 153,
     "metadata": {},
     "output_type": "execute_result"
    }
   ],
   "source": [
    "volumeShock(nifty_IT)"
   ]
  },
  {
   "cell_type": "markdown",
   "metadata": {},
   "source": [
    "### 2. Price Shocks / Price Black Swan"
   ]
  },
  {
   "cell_type": "code",
   "execution_count": 154,
   "metadata": {},
   "outputs": [],
   "source": [
    "def pricingShock(df):\n",
    "    pricing_arr = np.array(df.Close)\n",
    "    pricing_next = np.roll(pricing_arr,-1) #Shift the array by 1 position behind\n",
    "    pricing_next[-1] = 0 #The last element is nullified\n",
    "    \n",
    "    pricing_diff = pricing_next - pricing_arr\n",
    "    \n",
    "    pricing_shock_np = ((pricing_diff/pricing_arr)>0.02).astype(int)\n",
    "    \n",
    "    pricing_shock = pd.Series(pricing_shock_np,index=df.index)\n",
    "    return pricing_shock"
   ]
  },
  {
   "cell_type": "markdown",
   "metadata": {},
   "source": [
    "**Pricing Shock : Based on the difference of (T+1)th closing price and (T)th closing price**"
   ]
  },
  {
   "cell_type": "code",
   "execution_count": 155,
   "metadata": {},
   "outputs": [
    {
     "data": {
      "text/plain": [
       "1970-01-01 00:00:00.000000000    0\n",
       "1970-01-01 00:00:00.000000001    0\n",
       "1970-01-01 00:00:00.000000002    0\n",
       "1970-01-01 00:00:00.000000003    0\n",
       "1970-01-01 00:00:00.000000004    0\n",
       "1970-01-01 00:00:00.000000005    1\n",
       "1970-01-01 00:00:00.000000006    1\n",
       "1970-01-01 00:00:00.000000007    0\n",
       "1970-01-01 00:00:00.000000008    0\n",
       "1970-01-01 00:00:00.000000009    0\n",
       "1970-01-01 00:00:00.000000010    0\n",
       "1970-01-01 00:00:00.000000011    0\n",
       "1970-01-01 00:00:00.000000012    0\n",
       "1970-01-01 00:00:00.000000013    1\n",
       "1970-01-01 00:00:00.000000014    0\n",
       "1970-01-01 00:00:00.000000015    0\n",
       "1970-01-01 00:00:00.000000016    0\n",
       "1970-01-01 00:00:00.000000017    0\n",
       "1970-01-01 00:00:00.000000018    0\n",
       "1970-01-01 00:00:00.000000019    0\n",
       "1970-01-01 00:00:00.000000020    0\n",
       "1970-01-01 00:00:00.000000021    0\n",
       "1970-01-01 00:00:00.000000022    0\n",
       "1970-01-01 00:00:00.000000023    1\n",
       "1970-01-01 00:00:00.000000024    0\n",
       "1970-01-01 00:00:00.000000025    0\n",
       "1970-01-01 00:00:00.000000026    0\n",
       "1970-01-01 00:00:00.000000027    0\n",
       "1970-01-01 00:00:00.000000028    0\n",
       "1970-01-01 00:00:00.000000029    0\n",
       "                                ..\n",
       "1970-01-01 00:00:00.000000218    1\n",
       "1970-01-01 00:00:00.000000219    0\n",
       "1970-01-01 00:00:00.000000220    0\n",
       "1970-01-01 00:00:00.000000221    0\n",
       "1970-01-01 00:00:00.000000222    0\n",
       "1970-01-01 00:00:00.000000223    0\n",
       "1970-01-01 00:00:00.000000224    1\n",
       "1970-01-01 00:00:00.000000225    0\n",
       "1970-01-01 00:00:00.000000226    0\n",
       "1970-01-01 00:00:00.000000227    0\n",
       "1970-01-01 00:00:00.000000228    0\n",
       "1970-01-01 00:00:00.000000229    0\n",
       "1970-01-01 00:00:00.000000230    0\n",
       "1970-01-01 00:00:00.000000231    0\n",
       "1970-01-01 00:00:00.000000232    0\n",
       "1970-01-01 00:00:00.000000233    0\n",
       "1970-01-01 00:00:00.000000234    0\n",
       "1970-01-01 00:00:00.000000235    0\n",
       "1970-01-01 00:00:00.000000236    0\n",
       "1970-01-01 00:00:00.000000237    0\n",
       "1970-01-01 00:00:00.000000238    0\n",
       "1970-01-01 00:00:00.000000239    0\n",
       "1970-01-01 00:00:00.000000240    0\n",
       "1970-01-01 00:00:00.000000241    0\n",
       "1970-01-01 00:00:00.000000242    0\n",
       "1970-01-01 00:00:00.000000243    0\n",
       "1970-01-01 00:00:00.000000244    0\n",
       "1970-01-01 00:00:00.000000245    0\n",
       "1970-01-01 00:00:00.000000246    0\n",
       "1970-01-01 00:00:00.000000247    0\n",
       "Length: 248, dtype: int32"
      ]
     },
     "execution_count": 155,
     "metadata": {},
     "output_type": "execute_result"
    }
   ],
   "source": [
    "pricingShock(infy)"
   ]
  },
  {
   "cell_type": "code",
   "execution_count": 156,
   "metadata": {},
   "outputs": [
    {
     "data": {
      "text/plain": [
       "1970-01-01 00:00:00.000000000    0\n",
       "1970-01-01 00:00:00.000000001    0\n",
       "1970-01-01 00:00:00.000000002    0\n",
       "1970-01-01 00:00:00.000000003    0\n",
       "1970-01-01 00:00:00.000000004    0\n",
       "1970-01-01 00:00:00.000000005    1\n",
       "1970-01-01 00:00:00.000000006    0\n",
       "1970-01-01 00:00:00.000000007    0\n",
       "1970-01-01 00:00:00.000000008    0\n",
       "1970-01-01 00:00:00.000000009    0\n",
       "1970-01-01 00:00:00.000000010    0\n",
       "1970-01-01 00:00:00.000000011    0\n",
       "1970-01-01 00:00:00.000000012    0\n",
       "1970-01-01 00:00:00.000000013    0\n",
       "1970-01-01 00:00:00.000000014    0\n",
       "1970-01-01 00:00:00.000000015    0\n",
       "1970-01-01 00:00:00.000000016    0\n",
       "1970-01-01 00:00:00.000000017    0\n",
       "1970-01-01 00:00:00.000000018    0\n",
       "1970-01-01 00:00:00.000000019    0\n",
       "1970-01-01 00:00:00.000000020    0\n",
       "1970-01-01 00:00:00.000000021    0\n",
       "1970-01-01 00:00:00.000000022    0\n",
       "1970-01-01 00:00:00.000000023    0\n",
       "1970-01-01 00:00:00.000000024    0\n",
       "1970-01-01 00:00:00.000000025    0\n",
       "1970-01-01 00:00:00.000000026    0\n",
       "1970-01-01 00:00:00.000000027    0\n",
       "1970-01-01 00:00:00.000000028    0\n",
       "1970-01-01 00:00:00.000000029    1\n",
       "                                ..\n",
       "1970-01-01 00:00:00.000000218    0\n",
       "1970-01-01 00:00:00.000000219    0\n",
       "1970-01-01 00:00:00.000000220    0\n",
       "1970-01-01 00:00:00.000000221    0\n",
       "1970-01-01 00:00:00.000000222    0\n",
       "1970-01-01 00:00:00.000000223    0\n",
       "1970-01-01 00:00:00.000000224    0\n",
       "1970-01-01 00:00:00.000000225    0\n",
       "1970-01-01 00:00:00.000000226    0\n",
       "1970-01-01 00:00:00.000000227    0\n",
       "1970-01-01 00:00:00.000000228    0\n",
       "1970-01-01 00:00:00.000000229    0\n",
       "1970-01-01 00:00:00.000000230    0\n",
       "1970-01-01 00:00:00.000000231    0\n",
       "1970-01-01 00:00:00.000000232    0\n",
       "1970-01-01 00:00:00.000000233    0\n",
       "1970-01-01 00:00:00.000000234    0\n",
       "1970-01-01 00:00:00.000000235    0\n",
       "1970-01-01 00:00:00.000000236    0\n",
       "1970-01-01 00:00:00.000000237    0\n",
       "1970-01-01 00:00:00.000000238    0\n",
       "1970-01-01 00:00:00.000000239    0\n",
       "1970-01-01 00:00:00.000000240    0\n",
       "1970-01-01 00:00:00.000000241    0\n",
       "1970-01-01 00:00:00.000000242    0\n",
       "1970-01-01 00:00:00.000000243    0\n",
       "1970-01-01 00:00:00.000000244    0\n",
       "1970-01-01 00:00:00.000000245    0\n",
       "1970-01-01 00:00:00.000000246    0\n",
       "1970-01-01 00:00:00.000000247    0\n",
       "Length: 248, dtype: int32"
      ]
     },
     "execution_count": 156,
     "metadata": {},
     "output_type": "execute_result"
    }
   ],
   "source": [
    "pricingShock(tcs)"
   ]
  },
  {
   "cell_type": "code",
   "execution_count": 157,
   "metadata": {},
   "outputs": [
    {
     "data": {
      "text/plain": [
       "1970-01-01 00:00:00.000000000    0\n",
       "1970-01-01 00:00:00.000000001    0\n",
       "1970-01-01 00:00:00.000000002    0\n",
       "1970-01-01 00:00:00.000000003    0\n",
       "1970-01-01 00:00:00.000000004    0\n",
       "1970-01-01 00:00:00.000000005    1\n",
       "1970-01-01 00:00:00.000000006    0\n",
       "1970-01-01 00:00:00.000000007    0\n",
       "1970-01-01 00:00:00.000000008    0\n",
       "1970-01-01 00:00:00.000000009    0\n",
       "1970-01-01 00:00:00.000000010    0\n",
       "1970-01-01 00:00:00.000000011    0\n",
       "1970-01-01 00:00:00.000000012    0\n",
       "1970-01-01 00:00:00.000000013    0\n",
       "1970-01-01 00:00:00.000000014    0\n",
       "1970-01-01 00:00:00.000000015    0\n",
       "1970-01-01 00:00:00.000000016    0\n",
       "1970-01-01 00:00:00.000000017    0\n",
       "1970-01-01 00:00:00.000000018    0\n",
       "1970-01-01 00:00:00.000000019    0\n",
       "1970-01-01 00:00:00.000000020    0\n",
       "1970-01-01 00:00:00.000000021    0\n",
       "1970-01-01 00:00:00.000000022    0\n",
       "1970-01-01 00:00:00.000000023    0\n",
       "1970-01-01 00:00:00.000000024    0\n",
       "1970-01-01 00:00:00.000000025    0\n",
       "1970-01-01 00:00:00.000000026    0\n",
       "1970-01-01 00:00:00.000000027    0\n",
       "1970-01-01 00:00:00.000000028    0\n",
       "1970-01-01 00:00:00.000000029    0\n",
       "                                ..\n",
       "1970-01-01 00:00:00.000000218    0\n",
       "1970-01-01 00:00:00.000000219    0\n",
       "1970-01-01 00:00:00.000000220    0\n",
       "1970-01-01 00:00:00.000000221    0\n",
       "1970-01-01 00:00:00.000000222    0\n",
       "1970-01-01 00:00:00.000000223    0\n",
       "1970-01-01 00:00:00.000000224    0\n",
       "1970-01-01 00:00:00.000000225    0\n",
       "1970-01-01 00:00:00.000000226    0\n",
       "1970-01-01 00:00:00.000000227    0\n",
       "1970-01-01 00:00:00.000000228    0\n",
       "1970-01-01 00:00:00.000000229    0\n",
       "1970-01-01 00:00:00.000000230    0\n",
       "1970-01-01 00:00:00.000000231    0\n",
       "1970-01-01 00:00:00.000000232    0\n",
       "1970-01-01 00:00:00.000000233    0\n",
       "1970-01-01 00:00:00.000000234    0\n",
       "1970-01-01 00:00:00.000000235    0\n",
       "1970-01-01 00:00:00.000000236    0\n",
       "1970-01-01 00:00:00.000000237    0\n",
       "1970-01-01 00:00:00.000000238    0\n",
       "1970-01-01 00:00:00.000000239    0\n",
       "1970-01-01 00:00:00.000000240    0\n",
       "1970-01-01 00:00:00.000000241    0\n",
       "1970-01-01 00:00:00.000000242    0\n",
       "1970-01-01 00:00:00.000000243    0\n",
       "1970-01-01 00:00:00.000000244    0\n",
       "1970-01-01 00:00:00.000000245    0\n",
       "1970-01-01 00:00:00.000000246    0\n",
       "1970-01-01 00:00:00.000000247    0\n",
       "Length: 248, dtype: int32"
      ]
     },
     "execution_count": 157,
     "metadata": {},
     "output_type": "execute_result"
    }
   ],
   "source": [
    "pricingShock(nifty_IT)"
   ]
  },
  {
   "cell_type": "markdown",
   "metadata": {},
   "source": [
    "## 3. Pricing shock without Volume shock"
   ]
  },
  {
   "cell_type": "markdown",
   "metadata": {},
   "source": [
    "**NOTE : <br>\n",
    "The definition of the pricing without volume shock was unclear in the question, therefore I have assumed it as follow: <br>\n",
    "To find those days when pricing shock is 1 but Volume shock is 0**"
   ]
  },
  {
   "cell_type": "code",
   "execution_count": 158,
   "metadata": {},
   "outputs": [],
   "source": [
    "def priceVol(df):\n",
    "    pricing_shock = np.array(pricingShock(df))\n",
    "    volume_shock = np.array(volumeShock(df))\n",
    "    \n",
    "    priceVol = df.index[np.where((pricing_shock==1) & (volume_shock==0))]\n",
    "    \n",
    "    return priceVol"
   ]
  },
  {
   "cell_type": "code",
   "execution_count": 159,
   "metadata": {},
   "outputs": [
    {
     "data": {
      "text/plain": [
       "DatetimeIndex(['1970-01-01 00:00:00.000000023',\n",
       "               '1970-01-01 00:00:00.000000049',\n",
       "               '1970-01-01 00:00:00.000000131',\n",
       "               '1970-01-01 00:00:00.000000151',\n",
       "               '1970-01-01 00:00:00.000000172',\n",
       "               '1970-01-01 00:00:00.000000182',\n",
       "               '1970-01-01 00:00:00.000000185',\n",
       "               '1970-01-01 00:00:00.000000191',\n",
       "               '1970-01-01 00:00:00.000000224'],\n",
       "              dtype='datetime64[ns]', freq=None)"
      ]
     },
     "execution_count": 159,
     "metadata": {},
     "output_type": "execute_result"
    }
   ],
   "source": [
    "priceVol(infy)"
   ]
  },
  {
   "cell_type": "code",
   "execution_count": 160,
   "metadata": {},
   "outputs": [
    {
     "data": {
      "text/plain": [
       "DatetimeIndex(['1970-01-01 00:00:00.000000005',\n",
       "               '1970-01-01 00:00:00.000000029',\n",
       "               '1970-01-01 00:00:00.000000083',\n",
       "               '1970-01-01 00:00:00.000000094',\n",
       "               '1970-01-01 00:00:00.000000154',\n",
       "               '1970-01-01 00:00:00.000000156',\n",
       "               '1970-01-01 00:00:00.000000167',\n",
       "               '1970-01-01 00:00:00.000000186',\n",
       "               '1970-01-01 00:00:00.000000187'],\n",
       "              dtype='datetime64[ns]', freq=None)"
      ]
     },
     "execution_count": 160,
     "metadata": {},
     "output_type": "execute_result"
    }
   ],
   "source": [
    "priceVol(tcs)"
   ]
  },
  {
   "cell_type": "code",
   "execution_count": 161,
   "metadata": {},
   "outputs": [
    {
     "data": {
      "text/plain": [
       "DatetimeIndex(['1970-01-01 00:00:00.000000136', '1970-01-01 00:00:00.000000182'], dtype='datetime64[ns]', freq=None)"
      ]
     },
     "execution_count": 161,
     "metadata": {},
     "output_type": "execute_result"
    }
   ],
   "source": [
    "priceVol(nifty_IT)"
   ]
  },
  {
   "cell_type": "markdown",
   "metadata": {},
   "source": [
    "# Part 2 : Visualization"
   ]
  },
  {
   "cell_type": "markdown",
   "metadata": {},
   "source": [
    "### Bokeh Visualization"
   ]
  },
  {
   "cell_type": "code",
   "execution_count": 162,
   "metadata": {},
   "outputs": [],
   "source": [
    "from bokeh.plotting import figure, show, output_file, output_notebook\n",
    "from bokeh.palettes import Spectral11, colorblind, Inferno, BuGn, brewer\n",
    "from bokeh.models import HoverTool, value, LabelSet, Legend, ColumnDataSource,LinearColorMapper,BasicTicker, PrintfTickFormatter, ColorBar\n",
    "import warnings\n",
    "warnings.filterwarnings('ignore')"
   ]
  },
  {
   "cell_type": "code",
   "execution_count": 163,
   "metadata": {},
   "outputs": [
    {
     "data": {
      "text/html": [
       "\n",
       "    <div class=\"bk-root\">\n",
       "        <a href=\"https://bokeh.pydata.org\" target=\"_blank\" class=\"bk-logo bk-logo-small bk-logo-notebook\"></a>\n",
       "        <span id=\"d85cef32-70b8-42cf-b14f-4415534502b1\">Loading BokehJS ...</span>\n",
       "    </div>"
      ]
     },
     "metadata": {},
     "output_type": "display_data"
    },
    {
     "data": {
      "application/javascript": [
       "\n",
       "(function(root) {\n",
       "  function now() {\n",
       "    return new Date();\n",
       "  }\n",
       "\n",
       "  var force = true;\n",
       "\n",
       "  if (typeof (root._bokeh_onload_callbacks) === \"undefined\" || force === true) {\n",
       "    root._bokeh_onload_callbacks = [];\n",
       "    root._bokeh_is_loading = undefined;\n",
       "  }\n",
       "\n",
       "  var JS_MIME_TYPE = 'application/javascript';\n",
       "  var HTML_MIME_TYPE = 'text/html';\n",
       "  var EXEC_MIME_TYPE = 'application/vnd.bokehjs_exec.v0+json';\n",
       "  var CLASS_NAME = 'output_bokeh rendered_html';\n",
       "\n",
       "  /**\n",
       "   * Render data to the DOM node\n",
       "   */\n",
       "  function render(props, node) {\n",
       "    var script = document.createElement(\"script\");\n",
       "    node.appendChild(script);\n",
       "  }\n",
       "\n",
       "  /**\n",
       "   * Handle when an output is cleared or removed\n",
       "   */\n",
       "  function handleClearOutput(event, handle) {\n",
       "    var cell = handle.cell;\n",
       "\n",
       "    var id = cell.output_area._bokeh_element_id;\n",
       "    var server_id = cell.output_area._bokeh_server_id;\n",
       "    // Clean up Bokeh references\n",
       "    if (id != null && id in Bokeh.index) {\n",
       "      Bokeh.index[id].model.document.clear();\n",
       "      delete Bokeh.index[id];\n",
       "    }\n",
       "\n",
       "    if (server_id !== undefined) {\n",
       "      // Clean up Bokeh references\n",
       "      var cmd = \"from bokeh.io.state import curstate; print(curstate().uuid_to_server['\" + server_id + \"'].get_sessions()[0].document.roots[0]._id)\";\n",
       "      cell.notebook.kernel.execute(cmd, {\n",
       "        iopub: {\n",
       "          output: function(msg) {\n",
       "            var id = msg.content.text.trim();\n",
       "            if (id in Bokeh.index) {\n",
       "              Bokeh.index[id].model.document.clear();\n",
       "              delete Bokeh.index[id];\n",
       "            }\n",
       "          }\n",
       "        }\n",
       "      });\n",
       "      // Destroy server and session\n",
       "      var cmd = \"import bokeh.io.notebook as ion; ion.destroy_server('\" + server_id + \"')\";\n",
       "      cell.notebook.kernel.execute(cmd);\n",
       "    }\n",
       "  }\n",
       "\n",
       "  /**\n",
       "   * Handle when a new output is added\n",
       "   */\n",
       "  function handleAddOutput(event, handle) {\n",
       "    var output_area = handle.output_area;\n",
       "    var output = handle.output;\n",
       "\n",
       "    // limit handleAddOutput to display_data with EXEC_MIME_TYPE content only\n",
       "    if ((output.output_type != \"display_data\") || (!output.data.hasOwnProperty(EXEC_MIME_TYPE))) {\n",
       "      return\n",
       "    }\n",
       "\n",
       "    var toinsert = output_area.element.find(\".\" + CLASS_NAME.split(' ')[0]);\n",
       "\n",
       "    if (output.metadata[EXEC_MIME_TYPE][\"id\"] !== undefined) {\n",
       "      toinsert[toinsert.length - 1].firstChild.textContent = output.data[JS_MIME_TYPE];\n",
       "      // store reference to embed id on output_area\n",
       "      output_area._bokeh_element_id = output.metadata[EXEC_MIME_TYPE][\"id\"];\n",
       "    }\n",
       "    if (output.metadata[EXEC_MIME_TYPE][\"server_id\"] !== undefined) {\n",
       "      var bk_div = document.createElement(\"div\");\n",
       "      bk_div.innerHTML = output.data[HTML_MIME_TYPE];\n",
       "      var script_attrs = bk_div.children[0].attributes;\n",
       "      for (var i = 0; i < script_attrs.length; i++) {\n",
       "        toinsert[toinsert.length - 1].firstChild.setAttribute(script_attrs[i].name, script_attrs[i].value);\n",
       "      }\n",
       "      // store reference to server id on output_area\n",
       "      output_area._bokeh_server_id = output.metadata[EXEC_MIME_TYPE][\"server_id\"];\n",
       "    }\n",
       "  }\n",
       "\n",
       "  function register_renderer(events, OutputArea) {\n",
       "\n",
       "    function append_mime(data, metadata, element) {\n",
       "      // create a DOM node to render to\n",
       "      var toinsert = this.create_output_subarea(\n",
       "        metadata,\n",
       "        CLASS_NAME,\n",
       "        EXEC_MIME_TYPE\n",
       "      );\n",
       "      this.keyboard_manager.register_events(toinsert);\n",
       "      // Render to node\n",
       "      var props = {data: data, metadata: metadata[EXEC_MIME_TYPE]};\n",
       "      render(props, toinsert[toinsert.length - 1]);\n",
       "      element.append(toinsert);\n",
       "      return toinsert\n",
       "    }\n",
       "\n",
       "    /* Handle when an output is cleared or removed */\n",
       "    events.on('clear_output.CodeCell', handleClearOutput);\n",
       "    events.on('delete.Cell', handleClearOutput);\n",
       "\n",
       "    /* Handle when a new output is added */\n",
       "    events.on('output_added.OutputArea', handleAddOutput);\n",
       "\n",
       "    /**\n",
       "     * Register the mime type and append_mime function with output_area\n",
       "     */\n",
       "    OutputArea.prototype.register_mime_type(EXEC_MIME_TYPE, append_mime, {\n",
       "      /* Is output safe? */\n",
       "      safe: true,\n",
       "      /* Index of renderer in `output_area.display_order` */\n",
       "      index: 0\n",
       "    });\n",
       "  }\n",
       "\n",
       "  // register the mime type if in Jupyter Notebook environment and previously unregistered\n",
       "  if (root.Jupyter !== undefined) {\n",
       "    var events = require('base/js/events');\n",
       "    var OutputArea = require('notebook/js/outputarea').OutputArea;\n",
       "\n",
       "    if (OutputArea.prototype.mime_types().indexOf(EXEC_MIME_TYPE) == -1) {\n",
       "      register_renderer(events, OutputArea);\n",
       "    }\n",
       "  }\n",
       "\n",
       "  \n",
       "  if (typeof (root._bokeh_timeout) === \"undefined\" || force === true) {\n",
       "    root._bokeh_timeout = Date.now() + 5000;\n",
       "    root._bokeh_failed_load = false;\n",
       "  }\n",
       "\n",
       "  var NB_LOAD_WARNING = {'data': {'text/html':\n",
       "     \"<div style='background-color: #fdd'>\\n\"+\n",
       "     \"<p>\\n\"+\n",
       "     \"BokehJS does not appear to have successfully loaded. If loading BokehJS from CDN, this \\n\"+\n",
       "     \"may be due to a slow or bad network connection. Possible fixes:\\n\"+\n",
       "     \"</p>\\n\"+\n",
       "     \"<ul>\\n\"+\n",
       "     \"<li>re-rerun `output_notebook()` to attempt to load from CDN again, or</li>\\n\"+\n",
       "     \"<li>use INLINE resources instead, as so:</li>\\n\"+\n",
       "     \"</ul>\\n\"+\n",
       "     \"<code>\\n\"+\n",
       "     \"from bokeh.resources import INLINE\\n\"+\n",
       "     \"output_notebook(resources=INLINE)\\n\"+\n",
       "     \"</code>\\n\"+\n",
       "     \"</div>\"}};\n",
       "\n",
       "  function display_loaded() {\n",
       "    var el = document.getElementById(\"d85cef32-70b8-42cf-b14f-4415534502b1\");\n",
       "    if (el != null) {\n",
       "      el.textContent = \"BokehJS is loading...\";\n",
       "    }\n",
       "    if (root.Bokeh !== undefined) {\n",
       "      if (el != null) {\n",
       "        el.textContent = \"BokehJS \" + root.Bokeh.version + \" successfully loaded.\";\n",
       "      }\n",
       "    } else if (Date.now() < root._bokeh_timeout) {\n",
       "      setTimeout(display_loaded, 100)\n",
       "    }\n",
       "  }\n",
       "\n",
       "\n",
       "  function run_callbacks() {\n",
       "    try {\n",
       "      root._bokeh_onload_callbacks.forEach(function(callback) { callback() });\n",
       "    }\n",
       "    finally {\n",
       "      delete root._bokeh_onload_callbacks\n",
       "    }\n",
       "    console.info(\"Bokeh: all callbacks have finished\");\n",
       "  }\n",
       "\n",
       "  function load_libs(js_urls, callback) {\n",
       "    root._bokeh_onload_callbacks.push(callback);\n",
       "    if (root._bokeh_is_loading > 0) {\n",
       "      console.log(\"Bokeh: BokehJS is being loaded, scheduling callback at\", now());\n",
       "      return null;\n",
       "    }\n",
       "    if (js_urls == null || js_urls.length === 0) {\n",
       "      run_callbacks();\n",
       "      return null;\n",
       "    }\n",
       "    console.log(\"Bokeh: BokehJS not loaded, scheduling load and callback at\", now());\n",
       "    root._bokeh_is_loading = js_urls.length;\n",
       "    for (var i = 0; i < js_urls.length; i++) {\n",
       "      var url = js_urls[i];\n",
       "      var s = document.createElement('script');\n",
       "      s.src = url;\n",
       "      s.async = false;\n",
       "      s.onreadystatechange = s.onload = function() {\n",
       "        root._bokeh_is_loading--;\n",
       "        if (root._bokeh_is_loading === 0) {\n",
       "          console.log(\"Bokeh: all BokehJS libraries loaded\");\n",
       "          run_callbacks()\n",
       "        }\n",
       "      };\n",
       "      s.onerror = function() {\n",
       "        console.warn(\"failed to load library \" + url);\n",
       "      };\n",
       "      console.log(\"Bokeh: injecting script tag for BokehJS library: \", url);\n",
       "      document.getElementsByTagName(\"head\")[0].appendChild(s);\n",
       "    }\n",
       "  };var element = document.getElementById(\"d85cef32-70b8-42cf-b14f-4415534502b1\");\n",
       "  if (element == null) {\n",
       "    console.log(\"Bokeh: ERROR: autoload.js configured with elementid 'd85cef32-70b8-42cf-b14f-4415534502b1' but no matching script tag was found. \")\n",
       "    return false;\n",
       "  }\n",
       "\n",
       "  var js_urls = [\"https://cdn.pydata.org/bokeh/release/bokeh-0.13.0.min.js\", \"https://cdn.pydata.org/bokeh/release/bokeh-widgets-0.13.0.min.js\", \"https://cdn.pydata.org/bokeh/release/bokeh-tables-0.13.0.min.js\", \"https://cdn.pydata.org/bokeh/release/bokeh-gl-0.13.0.min.js\"];\n",
       "\n",
       "  var inline_js = [\n",
       "    function(Bokeh) {\n",
       "      Bokeh.set_log_level(\"info\");\n",
       "    },\n",
       "    \n",
       "    function(Bokeh) {\n",
       "      \n",
       "    },\n",
       "    function(Bokeh) {\n",
       "      console.log(\"Bokeh: injecting CSS: https://cdn.pydata.org/bokeh/release/bokeh-0.13.0.min.css\");\n",
       "      Bokeh.embed.inject_css(\"https://cdn.pydata.org/bokeh/release/bokeh-0.13.0.min.css\");\n",
       "      console.log(\"Bokeh: injecting CSS: https://cdn.pydata.org/bokeh/release/bokeh-widgets-0.13.0.min.css\");\n",
       "      Bokeh.embed.inject_css(\"https://cdn.pydata.org/bokeh/release/bokeh-widgets-0.13.0.min.css\");\n",
       "      console.log(\"Bokeh: injecting CSS: https://cdn.pydata.org/bokeh/release/bokeh-tables-0.13.0.min.css\");\n",
       "      Bokeh.embed.inject_css(\"https://cdn.pydata.org/bokeh/release/bokeh-tables-0.13.0.min.css\");\n",
       "    }\n",
       "  ];\n",
       "\n",
       "  function run_inline_js() {\n",
       "    \n",
       "    if ((root.Bokeh !== undefined) || (force === true)) {\n",
       "      for (var i = 0; i < inline_js.length; i++) {\n",
       "        inline_js[i].call(root, root.Bokeh);\n",
       "      }if (force === true) {\n",
       "        display_loaded();\n",
       "      }} else if (Date.now() < root._bokeh_timeout) {\n",
       "      setTimeout(run_inline_js, 100);\n",
       "    } else if (!root._bokeh_failed_load) {\n",
       "      console.log(\"Bokeh: BokehJS failed to load within specified timeout.\");\n",
       "      root._bokeh_failed_load = true;\n",
       "    } else if (force !== true) {\n",
       "      var cell = $(document.getElementById(\"d85cef32-70b8-42cf-b14f-4415534502b1\")).parents('.cell').data().cell;\n",
       "      cell.output_area.append_execute_result(NB_LOAD_WARNING)\n",
       "    }\n",
       "\n",
       "  }\n",
       "\n",
       "  if (root._bokeh_is_loading === 0) {\n",
       "    console.log(\"Bokeh: BokehJS loaded, going straight to plotting\");\n",
       "    run_inline_js();\n",
       "  } else {\n",
       "    load_libs(js_urls, function() {\n",
       "      console.log(\"Bokeh: BokehJS plotting callback run at\", now());\n",
       "      run_inline_js();\n",
       "    });\n",
       "  }\n",
       "}(window));"
      ],
      "application/vnd.bokehjs_load.v0+json": "\n(function(root) {\n  function now() {\n    return new Date();\n  }\n\n  var force = true;\n\n  if (typeof (root._bokeh_onload_callbacks) === \"undefined\" || force === true) {\n    root._bokeh_onload_callbacks = [];\n    root._bokeh_is_loading = undefined;\n  }\n\n  \n\n  \n  if (typeof (root._bokeh_timeout) === \"undefined\" || force === true) {\n    root._bokeh_timeout = Date.now() + 5000;\n    root._bokeh_failed_load = false;\n  }\n\n  var NB_LOAD_WARNING = {'data': {'text/html':\n     \"<div style='background-color: #fdd'>\\n\"+\n     \"<p>\\n\"+\n     \"BokehJS does not appear to have successfully loaded. If loading BokehJS from CDN, this \\n\"+\n     \"may be due to a slow or bad network connection. Possible fixes:\\n\"+\n     \"</p>\\n\"+\n     \"<ul>\\n\"+\n     \"<li>re-rerun `output_notebook()` to attempt to load from CDN again, or</li>\\n\"+\n     \"<li>use INLINE resources instead, as so:</li>\\n\"+\n     \"</ul>\\n\"+\n     \"<code>\\n\"+\n     \"from bokeh.resources import INLINE\\n\"+\n     \"output_notebook(resources=INLINE)\\n\"+\n     \"</code>\\n\"+\n     \"</div>\"}};\n\n  function display_loaded() {\n    var el = document.getElementById(\"d85cef32-70b8-42cf-b14f-4415534502b1\");\n    if (el != null) {\n      el.textContent = \"BokehJS is loading...\";\n    }\n    if (root.Bokeh !== undefined) {\n      if (el != null) {\n        el.textContent = \"BokehJS \" + root.Bokeh.version + \" successfully loaded.\";\n      }\n    } else if (Date.now() < root._bokeh_timeout) {\n      setTimeout(display_loaded, 100)\n    }\n  }\n\n\n  function run_callbacks() {\n    try {\n      root._bokeh_onload_callbacks.forEach(function(callback) { callback() });\n    }\n    finally {\n      delete root._bokeh_onload_callbacks\n    }\n    console.info(\"Bokeh: all callbacks have finished\");\n  }\n\n  function load_libs(js_urls, callback) {\n    root._bokeh_onload_callbacks.push(callback);\n    if (root._bokeh_is_loading > 0) {\n      console.log(\"Bokeh: BokehJS is being loaded, scheduling callback at\", now());\n      return null;\n    }\n    if (js_urls == null || js_urls.length === 0) {\n      run_callbacks();\n      return null;\n    }\n    console.log(\"Bokeh: BokehJS not loaded, scheduling load and callback at\", now());\n    root._bokeh_is_loading = js_urls.length;\n    for (var i = 0; i < js_urls.length; i++) {\n      var url = js_urls[i];\n      var s = document.createElement('script');\n      s.src = url;\n      s.async = false;\n      s.onreadystatechange = s.onload = function() {\n        root._bokeh_is_loading--;\n        if (root._bokeh_is_loading === 0) {\n          console.log(\"Bokeh: all BokehJS libraries loaded\");\n          run_callbacks()\n        }\n      };\n      s.onerror = function() {\n        console.warn(\"failed to load library \" + url);\n      };\n      console.log(\"Bokeh: injecting script tag for BokehJS library: \", url);\n      document.getElementsByTagName(\"head\")[0].appendChild(s);\n    }\n  };var element = document.getElementById(\"d85cef32-70b8-42cf-b14f-4415534502b1\");\n  if (element == null) {\n    console.log(\"Bokeh: ERROR: autoload.js configured with elementid 'd85cef32-70b8-42cf-b14f-4415534502b1' but no matching script tag was found. \")\n    return false;\n  }\n\n  var js_urls = [\"https://cdn.pydata.org/bokeh/release/bokeh-0.13.0.min.js\", \"https://cdn.pydata.org/bokeh/release/bokeh-widgets-0.13.0.min.js\", \"https://cdn.pydata.org/bokeh/release/bokeh-tables-0.13.0.min.js\", \"https://cdn.pydata.org/bokeh/release/bokeh-gl-0.13.0.min.js\"];\n\n  var inline_js = [\n    function(Bokeh) {\n      Bokeh.set_log_level(\"info\");\n    },\n    \n    function(Bokeh) {\n      \n    },\n    function(Bokeh) {\n      console.log(\"Bokeh: injecting CSS: https://cdn.pydata.org/bokeh/release/bokeh-0.13.0.min.css\");\n      Bokeh.embed.inject_css(\"https://cdn.pydata.org/bokeh/release/bokeh-0.13.0.min.css\");\n      console.log(\"Bokeh: injecting CSS: https://cdn.pydata.org/bokeh/release/bokeh-widgets-0.13.0.min.css\");\n      Bokeh.embed.inject_css(\"https://cdn.pydata.org/bokeh/release/bokeh-widgets-0.13.0.min.css\");\n      console.log(\"Bokeh: injecting CSS: https://cdn.pydata.org/bokeh/release/bokeh-tables-0.13.0.min.css\");\n      Bokeh.embed.inject_css(\"https://cdn.pydata.org/bokeh/release/bokeh-tables-0.13.0.min.css\");\n    }\n  ];\n\n  function run_inline_js() {\n    \n    if ((root.Bokeh !== undefined) || (force === true)) {\n      for (var i = 0; i < inline_js.length; i++) {\n        inline_js[i].call(root, root.Bokeh);\n      }if (force === true) {\n        display_loaded();\n      }} else if (Date.now() < root._bokeh_timeout) {\n      setTimeout(run_inline_js, 100);\n    } else if (!root._bokeh_failed_load) {\n      console.log(\"Bokeh: BokehJS failed to load within specified timeout.\");\n      root._bokeh_failed_load = true;\n    } else if (force !== true) {\n      var cell = $(document.getElementById(\"d85cef32-70b8-42cf-b14f-4415534502b1\")).parents('.cell').data().cell;\n      cell.output_area.append_execute_result(NB_LOAD_WARNING)\n    }\n\n  }\n\n  if (root._bokeh_is_loading === 0) {\n    console.log(\"Bokeh: BokehJS loaded, going straight to plotting\");\n    run_inline_js();\n  } else {\n    load_libs(js_urls, function() {\n      console.log(\"Bokeh: BokehJS plotting callback run at\", now());\n      run_inline_js();\n    });\n  }\n}(window));"
     },
     "metadata": {},
     "output_type": "display_data"
    }
   ],
   "source": [
    "output_notebook()"
   ]
  },
  {
   "cell_type": "code",
   "execution_count": 164,
   "metadata": {},
   "outputs": [],
   "source": [
    "infy.name = 'INFY'\n",
    "tcs.name = 'TCS'\n",
    "nifty_IT.name = 'NIFTY IT'\n",
    "def bokeh_plotting(df):\n",
    "    TOOLS = 'save,pan,box_zoom,reset,wheel_zoom,hover'\n",
    "    p = figure(title=\"Closing Price for {}\".format(df.name), y_axis_type=\"linear\", plot_height = 400,tools = TOOLS, plot_width = 800)\n",
    "    p.xaxis.axis_label = 'Time'\n",
    "    p.yaxis.axis_label = 'Closing Price'\n",
    "    \n",
    "    \n",
    "    #Marking the volumeless price movement with black\n",
    "    p.circle(priceVol(df),df.Close[priceVol(df)], size = 10, color = 'k')\n",
    "\n",
    "    p.line(df.index,df.Close,line_color=\"blue\", line_width = 3)\n",
    "    p.select_one(HoverTool).tooltips = [('time', '@x'),('Closing Price', '@y')]\n",
    "    show(p)"
   ]
  },
  {
   "cell_type": "code",
   "execution_count": 165,
   "metadata": {},
   "outputs": [
    {
     "name": "stderr",
     "output_type": "stream",
     "text": [
      "ERROR:bokeh.core.validation.check:E-1001 (BAD_COLUMN_NAME): Glyph refers to nonexistent column name: k [renderer: GlyphRenderer(id='fd9303ac-9184-43ad-9402-01e31349256b', ...)]\n"
     ]
    },
    {
     "data": {
      "text/html": [
       "\n",
       "\n",
       "\n",
       "\n",
       "\n",
       "\n",
       "  <div class=\"bk-root\" id=\"14ab02ee-2064-44ca-a8c0-2fa1412d6d10\"></div>\n"
      ]
     },
     "metadata": {},
     "output_type": "display_data"
    },
    {
     "data": {
      "application/javascript": [
       "(function(root) {\n",
       "  function embed_document(root) {\n",
       "    \n",
       "  var docs_json = {\"0ce86e1f-8fd1-4f3a-a211-882b2d3dbc82\":{\"roots\":{\"references\":[{\"attributes\":{\"data_source\":{\"id\":\"e445c9d2-d2ae-4d22-ad7d-bf37202d0d45\",\"type\":\"ColumnDataSource\"},\"glyph\":{\"id\":\"781093a4-90d4-4917-aee4-5d2a565b03dd\",\"type\":\"Line\"},\"hover_glyph\":null,\"muted_glyph\":null,\"nonselection_glyph\":{\"id\":\"42a99747-f7d5-4510-b674-036bd5f14652\",\"type\":\"Line\"},\"selection_glyph\":null,\"view\":{\"id\":\"9e95036b-d52f-4f76-a0bd-49b55cf87aca\",\"type\":\"CDSView\"}},\"id\":\"7b620f78-8f9d-43d1-8aa2-d60ee3e0ae9e\",\"type\":\"GlyphRenderer\"},{\"attributes\":{\"callback\":null},\"id\":\"4036e212-e86a-421e-9af2-8248f670fe8a\",\"type\":\"DataRange1d\"},{\"attributes\":{},\"id\":\"faacc659-9d26-40f4-aaa8-7ce2d2a978b0\",\"type\":\"PanTool\"},{\"attributes\":{},\"id\":\"d5d36223-3fd0-48c2-b7ff-01822b387b71\",\"type\":\"Selection\"},{\"attributes\":{},\"id\":\"2ba97c59-c9b3-4ea1-aa8d-e6f23c9d5ba1\",\"type\":\"LinearScale\"},{\"attributes\":{\"data_source\":{\"id\":\"35c2a271-75a4-4b27-b301-1dd240325c0f\",\"type\":\"ColumnDataSource\"},\"glyph\":{\"id\":\"6156d537-b12b-4a17-9f5e-2348a3e4e2e9\",\"type\":\"Circle\"},\"hover_glyph\":null,\"muted_glyph\":null,\"nonselection_glyph\":{\"id\":\"adb02583-4d06-410f-b6a9-875e3d5ecb72\",\"type\":\"Circle\"},\"selection_glyph\":null,\"view\":{\"id\":\"c0c5d32e-2221-4766-b592-115fabc1ae63\",\"type\":\"CDSView\"}},\"id\":\"fd9303ac-9184-43ad-9402-01e31349256b\",\"type\":\"GlyphRenderer\"},{\"attributes\":{\"plot\":{\"id\":\"887017e5-d490-4545-95cd-88643c390cf4\",\"subtype\":\"Figure\",\"type\":\"Plot\"},\"ticker\":{\"id\":\"49061dd2-0dc2-4bc5-beab-211adf84455e\",\"type\":\"BasicTicker\"}},\"id\":\"cfff016e-a634-40fd-91f4-a01298a552e1\",\"type\":\"Grid\"},{\"attributes\":{\"fill_color\":{\"field\":\"k\"},\"line_color\":{\"field\":\"k\"},\"size\":{\"units\":\"screen\",\"value\":10},\"x\":{\"field\":\"x\"},\"y\":{\"field\":\"y\"}},\"id\":\"6156d537-b12b-4a17-9f5e-2348a3e4e2e9\",\"type\":\"Circle\"},{\"attributes\":{\"line_alpha\":0.1,\"line_color\":\"#1f77b4\",\"line_width\":3,\"x\":{\"field\":\"x\"},\"y\":{\"field\":\"y\"}},\"id\":\"42a99747-f7d5-4510-b674-036bd5f14652\",\"type\":\"Line\"},{\"attributes\":{\"source\":{\"id\":\"e445c9d2-d2ae-4d22-ad7d-bf37202d0d45\",\"type\":\"ColumnDataSource\"}},\"id\":\"9e95036b-d52f-4f76-a0bd-49b55cf87aca\",\"type\":\"CDSView\"},{\"attributes\":{},\"id\":\"97271ce5-1114-4f50-8db6-2cd55ae450e8\",\"type\":\"BasicTickFormatter\"},{\"attributes\":{\"active_drag\":\"auto\",\"active_inspect\":\"auto\",\"active_multi\":null,\"active_scroll\":\"auto\",\"active_tap\":\"auto\",\"tools\":[{\"id\":\"beed2439-d3f1-4821-80e0-484746979ddf\",\"type\":\"SaveTool\"},{\"id\":\"faacc659-9d26-40f4-aaa8-7ce2d2a978b0\",\"type\":\"PanTool\"},{\"id\":\"e9ac4f01-3218-4df5-adb7-0dfd9d2c3408\",\"type\":\"BoxZoomTool\"},{\"id\":\"58150c02-8236-45df-8004-ef0ab8b389c7\",\"type\":\"ResetTool\"},{\"id\":\"5a2a388b-62c6-4609-9861-7a5e1f4acdb5\",\"type\":\"WheelZoomTool\"},{\"id\":\"bd193840-a4a6-49e3-86de-e780190dbf59\",\"type\":\"HoverTool\"}]},\"id\":\"061f36ed-1cf3-401d-a4ba-f27adb8ddbfe\",\"type\":\"Toolbar\"},{\"attributes\":{},\"id\":\"add28198-8b33-434d-a9b0-aff464752bd7\",\"type\":\"BasicTickFormatter\"},{\"attributes\":{},\"id\":\"3ec3e29b-573c-459d-8f33-3c33e790af65\",\"type\":\"LinearScale\"},{\"attributes\":{\"bottom_units\":\"screen\",\"fill_alpha\":{\"value\":0.5},\"fill_color\":{\"value\":\"lightgrey\"},\"left_units\":\"screen\",\"level\":\"overlay\",\"line_alpha\":{\"value\":1.0},\"line_color\":{\"value\":\"black\"},\"line_dash\":[4,4],\"line_width\":{\"value\":2},\"plot\":null,\"render_mode\":\"css\",\"right_units\":\"screen\",\"top_units\":\"screen\"},\"id\":\"c01eb6ad-3ee9-4e43-bfa2-1cb904ec5018\",\"type\":\"BoxAnnotation\"},{\"attributes\":{\"callback\":null,\"data\":{\"x\":{\"__ndarray__\":\"AAAAAAAAAAAAAAAAAAAAAAAAAAAAAAAAAAAAAAAAAAAAAAAAAAAAAAAAAAAAAAAAAAAAAAAAAAAAAAAAAAAAAAAAAAAAAAAAAAAAAAAAAAAAAAAAAAAAAAAAAAAAAAAAAAAAAAAAAAAAAAAAAAAAAAAAAAAAAAAAAAAAAAAAAAAAAAAAAAAAAAAAAAAAAAAAAAAAAAAAAAAAAAAAAAAAAAAAAAAAAAAAAAAAAAAAAAAAAAAAAAAAAAAAAAAAAAAAAAAAAAAAAAAAAAAAAAAAAAAAAAAAAAAAAAAAAAAAAAAAAAAAAAAAAAAAAAAAAAAAAAAAAAAAAAAAAAAAAAAAAAAAAAAAAAAAAAAAAAAAAAAAAAAAAAAAAAAAAAAAAAAAAAAAAAAAAAAAAAAAAAAAAAAAAAAAAAAAAAAAAAAAAAAAAAAAAAAAAAAAAAAAAAAAAAAAAAAAAAAAAAAAAAAAAAAAAAAAAAAAAAAAAAAAAAAAAAAAAAAAAAAAAAAAAAAAAAAAAAAAAAAAAAAAAAAAAAAAAAAAAAAAAAAAAAAAAAAAAAAAAAAAAAAAAAAAAAAAAAAAAAAAAAAAAAAAAAAAAAAAAAAAAAAAAAAAAAAAAAAAAAAAAAAAAAAAAAAAAAAAAAAAAAAAAAAAAAAAAAAAAAAAAAAAAAAAAAAAAAAAAAAAAAAAAAAAAAAAAAAAAAAAAAAAAAAAAAAAAAAAAAAAAAAAAAAAAAAAAAAAAAAAAAAAAAAAAAAAAAAAAAAAAAAAAAAAAAAAAAAAAAAAAAAAAAAAAAAAAAAAAAAAAAAAAAAAAAAAAAAAAAAAAAAAAAAAAAAAAAAAAAAAAAAAAAAAAAAAAAAAAAAAAAAAAAAAAAAAAAAAAAAAAAAAAAAAAAAAAAAAAAAAAAAAAAAAAAAAAAAAAAAAAAAAAAAAAAAAAAAAAAAAAAAAAAAAAAAAAAAAAAAAAAAAAAAAAAAAAAAAAAAAAAAAAAAAAAAAAAAAAAAAAAAAAAAAAAAAAAAAAAAAAAAAAAAAAAAAAAAAAAAAAAAAAAAAAAAAAAAAAAAAAAAAAAAAAAAAAAAAAAAAAAAAAAAAAAAAAAAAAAAAAAAAAAAAAAAAAAAAAAAAAAAAAAAAAAAAAAAAAAAAAAAAAAAAAAAAAAAAAAAAAAAAAAAAAAAAAAAAAAAAAAAAAAAAAAAAAAAAAAAAAAAAAAAAAAAAAAAAAAAAAAAAAAAAAAAAAAAAAAAAAAAAAAAAAAAAAAAAAAAAAAAAAAAAAAAAAAAAAAAAAAAAAAAAAAAAAAAAAAAAAAAAAAAAAAAAAAAAAAAAAAAAAAAAAAAAAAAAAAAAAAAAAAAAAAAAAAAAAAAAAAAAAAAAAAAAAAAAAAAAAAAAAAAAAAAAAAAAAAAAAAAAAAAAAAAAAAAAAAAAAAAAAAAAAAAAAAAAAAAAAAAAAAAAAAAAAAAAAAAAAAAAAAAAAAAAAAAAAAAAAAAAAAAAAAAAAAAAAAAAAAAAAAAAAAAAAAAAAAAAAAAAAAAAAAAAAAAAAAAAAAAAAAAAAAAAAAAAAAAAAAAAAAAAAAAAAAAAAAAAAAAAAAAAAAAAAAAAAAAAAAAAAAAAAAAAAAAAAAAAAAAAAAAAAAAAAAAAAAAAAAAAAAAAAAAAAAAAAAAAAAAAAAAAAAAAAAAAAAAAAAAAAAAAAAAAAAAAAAAAAAAAAAAAAAAAAAAAAAAAAAAAAAAAAAAAAAAAAAAAAAAAAAAAAAAAAAAAAAAAAAAAAAAAAAAAAAAAAAAAAAAAAAAAAAAAAAAAAAAAAAAAAAAAAAAAAAAAAAAAAAAAAAAAAAAAAAAAAAAAAAAAAAAAAAAAAAAAAAAAAAAAAAAAAAAAAAAAAAAAAAAAAAAAAAAAAAAAAAAAAAAAAAAAAAAAAAAAAAAAAAAAAAAAAAAAAAAAAAAAAAAAAAAAAAAAAAAAAAAAAAAAAAAAAAAAAAAAAAAAAAAAAAAAAAAAAAAAAAAAAAAAAAAAAAAAAAAAAAAAAAAAAAAAAAAAAAAAAAAAAAAAAAAAAAAAAAAAAAAAAAAAAAAAAAAAAAAAAAAAAAAAAAAAAAAAAAAAAAAAAAAAAAAAAAAAAAAAAAAAAAAAAAAAAAAAAAAAAAAAAAAAAAAAAAAAAAAAAAAAAAAAAAAAAAAAAAAAAAAAAAAAAAAAAAAAAAAAAAAAAAAAAAAAAAAAAAAAAAAAAAAAAAAAAAAAAAAAAAAAAAAAAAAAAAAAAAAAAAAAAAAAAAAAAAAAAAAAAAAAAAAAAAAAAAAAAAAAAAAAAAAAAAAAAAAAAAAAAAAAAAAAAAAAAAAAAAAAAAAAAAAAAAAAAAAAAAAAAAAAAAAAAAAAAAAAAAAAAAAAAAAAAAAAAAAAAAAAAAAAAAAAAAAAAAAAAAAAAAAAAAAAAAAAAAAAAAAAAAAAAAAAAAAAAAAAAAAAAAAAAAAAAAAAAAAAAAAAAAAAAAAAAAAAAAAAAAAAAAAAAAAAAAAAAAAAAAAAAAAAAAAAAAAAAAAAAAAAAAAAAAAAAAAAAAAAAAAAAAAAAAAAAAAAAAAAAAAAAAAAAAAAAAAAAAAAAAAAAAAAAAAAAAAAAAAAAAAAAAAAAAAAAAAAAAAAAAAAAAAAAA==\",\"dtype\":\"float64\",\"shape\":[248]},\"y\":{\"__ndarray__\":\"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\",\"dtype\":\"float64\",\"shape\":[248]}},\"selected\":{\"id\":\"dac11d7f-4d76-430d-a26c-d96efb19128e\",\"type\":\"Selection\"},\"selection_policy\":{\"id\":\"fca59281-62bf-4bd5-b3d2-bdc43ff41461\",\"type\":\"UnionRenderers\"}},\"id\":\"e445c9d2-d2ae-4d22-ad7d-bf37202d0d45\",\"type\":\"ColumnDataSource\"},{\"attributes\":{\"fill_alpha\":{\"value\":0.1},\"fill_color\":{\"value\":\"#1f77b4\"},\"line_alpha\":{\"value\":0.1},\"line_color\":{\"value\":\"#1f77b4\"},\"size\":{\"units\":\"screen\",\"value\":10},\"x\":{\"field\":\"x\"},\"y\":{\"field\":\"y\"}},\"id\":\"adb02583-4d06-410f-b6a9-875e3d5ecb72\",\"type\":\"Circle\"},{\"attributes\":{\"source\":{\"id\":\"35c2a271-75a4-4b27-b301-1dd240325c0f\",\"type\":\"ColumnDataSource\"}},\"id\":\"c0c5d32e-2221-4766-b592-115fabc1ae63\",\"type\":\"CDSView\"},{\"attributes\":{},\"id\":\"cdb48179-ccac-4cbd-b5f2-9c30aa9a9043\",\"type\":\"UnionRenderers\"},{\"attributes\":{},\"id\":\"49061dd2-0dc2-4bc5-beab-211adf84455e\",\"type\":\"BasicTicker\"},{\"attributes\":{},\"id\":\"beed2439-d3f1-4821-80e0-484746979ddf\",\"type\":\"SaveTool\"},{\"attributes\":{\"axis_label\":\"Time\",\"formatter\":{\"id\":\"97271ce5-1114-4f50-8db6-2cd55ae450e8\",\"type\":\"BasicTickFormatter\"},\"plot\":{\"id\":\"887017e5-d490-4545-95cd-88643c390cf4\",\"subtype\":\"Figure\",\"type\":\"Plot\"},\"ticker\":{\"id\":\"49061dd2-0dc2-4bc5-beab-211adf84455e\",\"type\":\"BasicTicker\"}},\"id\":\"95171fcc-8e50-4b6c-8645-ada67b63af9e\",\"type\":\"LinearAxis\"},{\"attributes\":{},\"id\":\"dac11d7f-4d76-430d-a26c-d96efb19128e\",\"type\":\"Selection\"},{\"attributes\":{\"line_color\":\"blue\",\"line_width\":3,\"x\":{\"field\":\"x\"},\"y\":{\"field\":\"y\"}},\"id\":\"781093a4-90d4-4917-aee4-5d2a565b03dd\",\"type\":\"Line\"},{\"attributes\":{},\"id\":\"fca59281-62bf-4bd5-b3d2-bdc43ff41461\",\"type\":\"UnionRenderers\"},{\"attributes\":{\"callback\":null},\"id\":\"0726f33f-1098-4f29-8fcf-f4ec0a246bdf\",\"type\":\"DataRange1d\"},{\"attributes\":{\"below\":[{\"id\":\"95171fcc-8e50-4b6c-8645-ada67b63af9e\",\"type\":\"LinearAxis\"}],\"left\":[{\"id\":\"5df7cd2c-ce0f-492a-8e25-25bc1e047d3b\",\"type\":\"LinearAxis\"}],\"plot_height\":400,\"plot_width\":800,\"renderers\":[{\"id\":\"95171fcc-8e50-4b6c-8645-ada67b63af9e\",\"type\":\"LinearAxis\"},{\"id\":\"cfff016e-a634-40fd-91f4-a01298a552e1\",\"type\":\"Grid\"},{\"id\":\"5df7cd2c-ce0f-492a-8e25-25bc1e047d3b\",\"type\":\"LinearAxis\"},{\"id\":\"71e197e2-3824-4e75-99b4-e95d0dc9b503\",\"type\":\"Grid\"},{\"id\":\"c01eb6ad-3ee9-4e43-bfa2-1cb904ec5018\",\"type\":\"BoxAnnotation\"},{\"id\":\"fd9303ac-9184-43ad-9402-01e31349256b\",\"type\":\"GlyphRenderer\"},{\"id\":\"7b620f78-8f9d-43d1-8aa2-d60ee3e0ae9e\",\"type\":\"GlyphRenderer\"}],\"title\":{\"id\":\"cadc7f0f-19f7-4f9b-8c1c-5a53ca3dbaee\",\"type\":\"Title\"},\"toolbar\":{\"id\":\"061f36ed-1cf3-401d-a4ba-f27adb8ddbfe\",\"type\":\"Toolbar\"},\"x_range\":{\"id\":\"4036e212-e86a-421e-9af2-8248f670fe8a\",\"type\":\"DataRange1d\"},\"x_scale\":{\"id\":\"2ba97c59-c9b3-4ea1-aa8d-e6f23c9d5ba1\",\"type\":\"LinearScale\"},\"y_range\":{\"id\":\"0726f33f-1098-4f29-8fcf-f4ec0a246bdf\",\"type\":\"DataRange1d\"},\"y_scale\":{\"id\":\"3ec3e29b-573c-459d-8f33-3c33e790af65\",\"type\":\"LinearScale\"}},\"id\":\"887017e5-d490-4545-95cd-88643c390cf4\",\"subtype\":\"Figure\",\"type\":\"Plot\"},{\"attributes\":{\"callback\":null,\"renderers\":\"auto\",\"tooltips\":[[\"time\",\"@x\"],[\"Closing Price\",\"@y\"]]},\"id\":\"bd193840-a4a6-49e3-86de-e780190dbf59\",\"type\":\"HoverTool\"},{\"attributes\":{\"axis_label\":\"Closing Price\",\"formatter\":{\"id\":\"add28198-8b33-434d-a9b0-aff464752bd7\",\"type\":\"BasicTickFormatter\"},\"plot\":{\"id\":\"887017e5-d490-4545-95cd-88643c390cf4\",\"subtype\":\"Figure\",\"type\":\"Plot\"},\"ticker\":{\"id\":\"fc6dc7bf-2177-4e02-af6c-7cc0d250c333\",\"type\":\"BasicTicker\"}},\"id\":\"5df7cd2c-ce0f-492a-8e25-25bc1e047d3b\",\"type\":\"LinearAxis\"},{\"attributes\":{},\"id\":\"5a2a388b-62c6-4609-9861-7a5e1f4acdb5\",\"type\":\"WheelZoomTool\"},{\"attributes\":{\"plot\":null,\"text\":\"Closing Price for INFY\"},\"id\":\"cadc7f0f-19f7-4f9b-8c1c-5a53ca3dbaee\",\"type\":\"Title\"},{\"attributes\":{\"dimension\":1,\"plot\":{\"id\":\"887017e5-d490-4545-95cd-88643c390cf4\",\"subtype\":\"Figure\",\"type\":\"Plot\"},\"ticker\":{\"id\":\"fc6dc7bf-2177-4e02-af6c-7cc0d250c333\",\"type\":\"BasicTicker\"}},\"id\":\"71e197e2-3824-4e75-99b4-e95d0dc9b503\",\"type\":\"Grid\"},{\"attributes\":{},\"id\":\"fc6dc7bf-2177-4e02-af6c-7cc0d250c333\",\"type\":\"BasicTicker\"},{\"attributes\":{\"overlay\":{\"id\":\"c01eb6ad-3ee9-4e43-bfa2-1cb904ec5018\",\"type\":\"BoxAnnotation\"}},\"id\":\"e9ac4f01-3218-4df5-adb7-0dfd9d2c3408\",\"type\":\"BoxZoomTool\"},{\"attributes\":{\"callback\":null,\"data\":{\"x\":{\"__ndarray__\":\"AAAAAAAAAAAAAAAAAAAAAAAAAAAAAAAAAAAAAAAAAAAAAAAAAAAAAAAAAAAAAAAAAAAAAAAAAAAAAAAAAAAAAAAAAAAAAAAA\",\"dtype\":\"float64\",\"shape\":[9]},\"y\":{\"__ndarray__\":\"MzMzM7O9oEDNzMzMzFihQDMzMzMzsY1AAAAAAAD4kEAzMzMzM4uQQAAAAAAAcZFAZmZmZmaHkUCamZmZmbCRQGZmZmZmqZBA\",\"dtype\":\"float64\",\"shape\":[9]}},\"selected\":{\"id\":\"d5d36223-3fd0-48c2-b7ff-01822b387b71\",\"type\":\"Selection\"},\"selection_policy\":{\"id\":\"cdb48179-ccac-4cbd-b5f2-9c30aa9a9043\",\"type\":\"UnionRenderers\"}},\"id\":\"35c2a271-75a4-4b27-b301-1dd240325c0f\",\"type\":\"ColumnDataSource\"},{\"attributes\":{},\"id\":\"58150c02-8236-45df-8004-ef0ab8b389c7\",\"type\":\"ResetTool\"}],\"root_ids\":[\"887017e5-d490-4545-95cd-88643c390cf4\"]},\"title\":\"Bokeh Application\",\"version\":\"0.13.0\"}};\n",
       "  var render_items = [{\"docid\":\"0ce86e1f-8fd1-4f3a-a211-882b2d3dbc82\",\"roots\":{\"887017e5-d490-4545-95cd-88643c390cf4\":\"14ab02ee-2064-44ca-a8c0-2fa1412d6d10\"}}];\n",
       "  root.Bokeh.embed.embed_items_notebook(docs_json, render_items);\n",
       "\n",
       "  }\n",
       "  if (root.Bokeh !== undefined) {\n",
       "    embed_document(root);\n",
       "  } else {\n",
       "    var attempts = 0;\n",
       "    var timer = setInterval(function(root) {\n",
       "      if (root.Bokeh !== undefined) {\n",
       "        embed_document(root);\n",
       "        clearInterval(timer);\n",
       "      }\n",
       "      attempts++;\n",
       "      if (attempts > 100) {\n",
       "        console.log(\"Bokeh: ERROR: Unable to run BokehJS code because BokehJS library is missing\")\n",
       "        clearInterval(timer);\n",
       "      }\n",
       "    }, 10, root)\n",
       "  }\n",
       "})(window);"
      ],
      "application/vnd.bokehjs_exec.v0+json": ""
     },
     "metadata": {
      "application/vnd.bokehjs_exec.v0+json": {
       "id": "887017e5-d490-4545-95cd-88643c390cf4"
      }
     },
     "output_type": "display_data"
    },
    {
     "name": "stderr",
     "output_type": "stream",
     "text": [
      "ERROR:bokeh.core.validation.check:E-1001 (BAD_COLUMN_NAME): Glyph refers to nonexistent column name: k [renderer: GlyphRenderer(id='036f0949-a089-4de0-8f33-f4636db3e6e1', ...)]\n",
      "ERROR:bokeh.core.validation.check:E-1001 (BAD_COLUMN_NAME): Glyph refers to nonexistent column name: k [renderer: GlyphRenderer(id='7dde578f-36c0-496d-847a-327e75827b2b', ...)]\n",
      "ERROR:bokeh.core.validation.check:E-1001 (BAD_COLUMN_NAME): Glyph refers to nonexistent column name: k [renderer: GlyphRenderer(id='b0c4e087-d062-4f9a-a442-20fdf66eff7a', ...)]\n",
      "ERROR:bokeh.core.validation.check:E-1001 (BAD_COLUMN_NAME): Glyph refers to nonexistent column name: k [renderer: GlyphRenderer(id='8a332173-ff19-4fc7-a301-1388d640c612', ...)]\n",
      "ERROR:bokeh.core.validation.check:E-1001 (BAD_COLUMN_NAME): Glyph refers to nonexistent column name: k [renderer: GlyphRenderer(id='0dccaf0e-b525-4386-9b88-986f8212ef5f', ...)]\n",
      "ERROR:bokeh.core.validation.check:E-1001 (BAD_COLUMN_NAME): Glyph refers to nonexistent column name: k [renderer: GlyphRenderer(id='fd9303ac-9184-43ad-9402-01e31349256b', ...)]\n",
      "ERROR:bokeh.core.validation.check:E-1001 (BAD_COLUMN_NAME): Glyph refers to nonexistent column name: k [renderer: GlyphRenderer(id='7111a5ad-da32-4c10-ba14-b35ec34cd25f', ...)]\n"
     ]
    },
    {
     "data": {
      "text/html": [
       "\n",
       "\n",
       "\n",
       "\n",
       "\n",
       "\n",
       "  <div class=\"bk-root\" id=\"4db0bbc7-4ff1-47d4-aa1f-1130f16fe618\"></div>\n"
      ]
     },
     "metadata": {},
     "output_type": "display_data"
    },
    {
     "data": {
      "application/javascript": [
       "(function(root) {\n",
       "  function embed_document(root) {\n",
       "    \n",
       "  var docs_json = {\"efb3363a-288b-4ab1-b7f5-76e7d5c8c54b\":{\"roots\":{\"references\":[{\"attributes\":{},\"id\":\"9d94f8ab-3c2d-4271-a7d2-fe80e1e7e9a5\",\"type\":\"UnionRenderers\"},{\"attributes\":{\"axis_label\":\"Time\",\"formatter\":{\"id\":\"2240488f-8230-45ee-8120-f91742bf24c2\",\"type\":\"BasicTickFormatter\"},\"plot\":{\"id\":\"7d67f81c-a151-4e1a-a288-47cbeb09ba10\",\"subtype\":\"Figure\",\"type\":\"Plot\"},\"ticker\":{\"id\":\"92a008d4-e6ab-4a7b-902b-f95c96c5a6cf\",\"type\":\"BasicTicker\"}},\"id\":\"aea3416c-0f9c-41fd-bdfe-ab79addcebac\",\"type\":\"LinearAxis\"},{\"attributes\":{\"plot\":null,\"text\":\"Closing Price for TCS\"},\"id\":\"f4011d1c-6204-41e6-8bb9-21bad9ea6d24\",\"type\":\"Title\"},{\"attributes\":{},\"id\":\"722e6a05-3def-484f-8d95-4b6808243e01\",\"type\":\"BasicTickFormatter\"},{\"attributes\":{},\"id\":\"2240488f-8230-45ee-8120-f91742bf24c2\",\"type\":\"BasicTickFormatter\"},{\"attributes\":{\"active_drag\":\"auto\",\"active_inspect\":\"auto\",\"active_multi\":null,\"active_scroll\":\"auto\",\"active_tap\":\"auto\",\"tools\":[{\"id\":\"4fc86541-51b8-459a-973a-96b5bdb116a2\",\"type\":\"SaveTool\"},{\"id\":\"780a0395-6cbf-461b-a052-5c15673ac1d1\",\"type\":\"PanTool\"},{\"id\":\"7f2e6b83-8a4b-484b-9b9b-8e2fc27a3644\",\"type\":\"BoxZoomTool\"},{\"id\":\"3965a31d-5187-4282-8f56-dfa5b6f6c79f\",\"type\":\"ResetTool\"},{\"id\":\"2a41c481-bd6f-434f-9f04-00a96470853d\",\"type\":\"WheelZoomTool\"},{\"id\":\"b3e6771f-f82d-44e2-8db4-125c85251586\",\"type\":\"HoverTool\"}]},\"id\":\"f794abe2-d59f-4f21-b11c-8a2f2b160461\",\"type\":\"Toolbar\"},{\"attributes\":{},\"id\":\"3965a31d-5187-4282-8f56-dfa5b6f6c79f\",\"type\":\"ResetTool\"},{\"attributes\":{\"data_source\":{\"id\":\"5e59af1c-559a-45c4-80e4-8a2802cb5784\",\"type\":\"ColumnDataSource\"},\"glyph\":{\"id\":\"e49a7248-812d-40eb-bcd2-a3011e59269b\",\"type\":\"Line\"},\"hover_glyph\":null,\"muted_glyph\":null,\"nonselection_glyph\":{\"id\":\"f464a04a-0711-47b2-8a73-f9f2378ba6bb\",\"type\":\"Line\"},\"selection_glyph\":null,\"view\":{\"id\":\"3f2a5327-6876-435e-b029-cbdd32170169\",\"type\":\"CDSView\"}},\"id\":\"10100b97-ef68-4b38-bd7d-d4f8a47bb56e\",\"type\":\"GlyphRenderer\"},{\"attributes\":{\"callback\":null,\"data\":{\"x\":{\"__ndarray__\":\"AAAAAAAAAAAAAAAAAAAAAAAAAAAAAAAAAAAAAAAAAAAAAAAAAAAAAAAAAAAAAAAAAAAAAAAAAAAAAAAAAAAAAAAAAAAAAAAA\",\"dtype\":\"float64\",\"shape\":[9]},\"y\":{\"__ndarray__\":\"mpmZmZkXo0DNzMzMTDyjQJqZmZkZPqNAAAAAAAD3o0AzMzMzM5ekQAAAAACA+aRAzczMzMzSo0CamZmZGTikQDMzMzMzqaRA\",\"dtype\":\"float64\",\"shape\":[9]}},\"selected\":{\"id\":\"dc58ac26-f7fe-4629-9701-7700d80c2b75\",\"type\":\"Selection\"},\"selection_policy\":{\"id\":\"9d94f8ab-3c2d-4271-a7d2-fe80e1e7e9a5\",\"type\":\"UnionRenderers\"}},\"id\":\"6bec64f4-8562-45ea-a88a-8deb68ee85d2\",\"type\":\"ColumnDataSource\"},{\"attributes\":{\"source\":{\"id\":\"5e59af1c-559a-45c4-80e4-8a2802cb5784\",\"type\":\"ColumnDataSource\"}},\"id\":\"3f2a5327-6876-435e-b029-cbdd32170169\",\"type\":\"CDSView\"},{\"attributes\":{},\"id\":\"ba628aee-348b-4b4c-ab9d-df595f494eaa\",\"type\":\"LinearScale\"},{\"attributes\":{\"plot\":{\"id\":\"7d67f81c-a151-4e1a-a288-47cbeb09ba10\",\"subtype\":\"Figure\",\"type\":\"Plot\"},\"ticker\":{\"id\":\"92a008d4-e6ab-4a7b-902b-f95c96c5a6cf\",\"type\":\"BasicTicker\"}},\"id\":\"c0330bc0-12a7-49a9-86f0-96d919d1a9f1\",\"type\":\"Grid\"},{\"attributes\":{},\"id\":\"dc58ac26-f7fe-4629-9701-7700d80c2b75\",\"type\":\"Selection\"},{\"attributes\":{\"axis_label\":\"Closing Price\",\"formatter\":{\"id\":\"722e6a05-3def-484f-8d95-4b6808243e01\",\"type\":\"BasicTickFormatter\"},\"plot\":{\"id\":\"7d67f81c-a151-4e1a-a288-47cbeb09ba10\",\"subtype\":\"Figure\",\"type\":\"Plot\"},\"ticker\":{\"id\":\"b1aee4ff-abd2-4f5e-9ccf-dee094ed75c4\",\"type\":\"BasicTicker\"}},\"id\":\"cfa77cac-43b6-4194-a7ce-8b5561020f62\",\"type\":\"LinearAxis\"},{\"attributes\":{\"overlay\":{\"id\":\"4ed90426-70f9-4f67-a5c0-4f0f4f449eaf\",\"type\":\"BoxAnnotation\"}},\"id\":\"7f2e6b83-8a4b-484b-9b9b-8e2fc27a3644\",\"type\":\"BoxZoomTool\"},{\"attributes\":{\"source\":{\"id\":\"6bec64f4-8562-45ea-a88a-8deb68ee85d2\",\"type\":\"ColumnDataSource\"}},\"id\":\"9832ac28-b328-48f7-be4f-0a3bb06cf34e\",\"type\":\"CDSView\"},{\"attributes\":{\"bottom_units\":\"screen\",\"fill_alpha\":{\"value\":0.5},\"fill_color\":{\"value\":\"lightgrey\"},\"left_units\":\"screen\",\"level\":\"overlay\",\"line_alpha\":{\"value\":1.0},\"line_color\":{\"value\":\"black\"},\"line_dash\":[4,4],\"line_width\":{\"value\":2},\"plot\":null,\"render_mode\":\"css\",\"right_units\":\"screen\",\"top_units\":\"screen\"},\"id\":\"4ed90426-70f9-4f67-a5c0-4f0f4f449eaf\",\"type\":\"BoxAnnotation\"},{\"attributes\":{\"below\":[{\"id\":\"aea3416c-0f9c-41fd-bdfe-ab79addcebac\",\"type\":\"LinearAxis\"}],\"left\":[{\"id\":\"cfa77cac-43b6-4194-a7ce-8b5561020f62\",\"type\":\"LinearAxis\"}],\"plot_height\":400,\"plot_width\":800,\"renderers\":[{\"id\":\"aea3416c-0f9c-41fd-bdfe-ab79addcebac\",\"type\":\"LinearAxis\"},{\"id\":\"c0330bc0-12a7-49a9-86f0-96d919d1a9f1\",\"type\":\"Grid\"},{\"id\":\"cfa77cac-43b6-4194-a7ce-8b5561020f62\",\"type\":\"LinearAxis\"},{\"id\":\"303f8482-6c92-4167-8dec-799f58a6d669\",\"type\":\"Grid\"},{\"id\":\"4ed90426-70f9-4f67-a5c0-4f0f4f449eaf\",\"type\":\"BoxAnnotation\"},{\"id\":\"7111a5ad-da32-4c10-ba14-b35ec34cd25f\",\"type\":\"GlyphRenderer\"},{\"id\":\"10100b97-ef68-4b38-bd7d-d4f8a47bb56e\",\"type\":\"GlyphRenderer\"}],\"title\":{\"id\":\"f4011d1c-6204-41e6-8bb9-21bad9ea6d24\",\"type\":\"Title\"},\"toolbar\":{\"id\":\"f794abe2-d59f-4f21-b11c-8a2f2b160461\",\"type\":\"Toolbar\"},\"x_range\":{\"id\":\"9c677b85-b38b-472a-819f-89b9e644e652\",\"type\":\"DataRange1d\"},\"x_scale\":{\"id\":\"12a71007-82ed-4ac8-98f0-382b8f150031\",\"type\":\"LinearScale\"},\"y_range\":{\"id\":\"5af8f4da-8c5e-4e02-9caa-44e43471b36a\",\"type\":\"DataRange1d\"},\"y_scale\":{\"id\":\"ba628aee-348b-4b4c-ab9d-df595f494eaa\",\"type\":\"LinearScale\"}},\"id\":\"7d67f81c-a151-4e1a-a288-47cbeb09ba10\",\"subtype\":\"Figure\",\"type\":\"Plot\"},{\"attributes\":{\"line_color\":\"blue\",\"line_width\":3,\"x\":{\"field\":\"x\"},\"y\":{\"field\":\"y\"}},\"id\":\"e49a7248-812d-40eb-bcd2-a3011e59269b\",\"type\":\"Line\"},{\"attributes\":{\"dimension\":1,\"plot\":{\"id\":\"7d67f81c-a151-4e1a-a288-47cbeb09ba10\",\"subtype\":\"Figure\",\"type\":\"Plot\"},\"ticker\":{\"id\":\"b1aee4ff-abd2-4f5e-9ccf-dee094ed75c4\",\"type\":\"BasicTicker\"}},\"id\":\"303f8482-6c92-4167-8dec-799f58a6d669\",\"type\":\"Grid\"},{\"attributes\":{\"callback\":null,\"data\":{\"x\":{\"__ndarray__\":\"AAAAAAAAAAAAAAAAAAAAAAAAAAAAAAAAAAAAAAAAAAAAAAAAAAAAAAAAAAAAAAAAAAAAAAAAAAAAAAAAAAAAAAAAAAAAAAAAAAAAAAAAAAAAAAAAAAAAAAAAAAAAAAAAAAAAAAAAAAAAAAAAAAAAAAAAAAAAAAAAAAAAAAAAAAAAAAAAAAAAAAAAAAAAAAAAAAAAAAAAAAAAAAAAAAAAAAAAAAAAAAAAAAAAAAAAAAAAAAAAAAAAAAAAAAAAAAAAAAAAAAAAAAAAAAAAAAAAAAAAAAAAAAAAAAAAAAAAAAAAAAAAAAAAAAAAAAAAAAAAAAAAAAAAAAAAAAAAAAAAAAAAAAAAAAAAAAAAAAAAAAAAAAAAAAAAAAAAAAAAAAAAAAAAAAAAAAAAAAAAAAAAAAAAAAAAAAAAAAAAAAAAAAAAAAAAAAAAAAAAAAAAAAAAAAAAAAAAAAAAAAAAAAAAAAAAAAAAAAAAAAAAAAAAAAAAAAAAAAAAAAAAAAAAAAAAAAAAAAAAAAAAAAAAAAAAAAAAAAAAAAAAAAAAAAAAAAAAAAAAAAAAAAAAAAAAAAAAAAAAAAAAAAAAAAAAAAAAAAAAAAAAAAAAAAAAAAAAAAAAAAAAAAAAAAAAAAAAAAAAAAAAAAAAAAAAAAAAAAAAAAAAAAAAAAAAAAAAAAAAAAAAAAAAAAAAAAAAAAAAAAAAAAAAAAAAAAAAAAAAAAAAAAAAAAAAAAAAAAAAAAAAAAAAAAAAAAAAAAAAAAAAAAAAAAAAAAAAAAAAAAAAAAAAAAAAAAAAAAAAAAAAAAAAAAAAAAAAAAAAAAAAAAAAAAAAAAAAAAAAAAAAAAAAAAAAAAAAAAAAAAAAAAAAAAAAAAAAAAAAAAAAAAAAAAAAAAAAAAAAAAAAAAAAAAAAAAAAAAAAAAAAAAAAAAAAAAAAAAAAAAAAAAAAAAAAAAAAAAAAAAAAAAAAAAAAAAAAAAAAAAAAAAAAAAAAAAAAAAAAAAAAAAAAAAAAAAAAAAAAAAAAAAAAAAAAAAAAAAAAAAAAAAAAAAAAAAAAAAAAAAAAAAAAAAAAAAAAAAAAAAAAAAAAAAAAAAAAAAAAAAAAAAAAAAAAAAAAAAAAAAAAAAAAAAAAAAAAAAAAAAAAAAAAAAAAAAAAAAAAAAAAAAAAAAAAAAAAAAAAAAAAAAAAAAAAAAAAAAAAAAAAAAAAAAAAAAAAAAAAAAAAAAAAAAAAAAAAAAAAAAAAAAAAAAAAAAAAAAAAAAAAAAAAAAAAAAAAAAAAAAAAAAAAAAAAAAAAAAAAAAAAAAAAAAAAAAAAAAAAAAAAAAAAAAAAAAAAAAAAAAAAAAAAAAAAAAAAAAAAAAAAAAAAAAAAAAAAAAAAAAAAAAAAAAAAAAAAAAAAAAAAAAAAAAAAAAAAAAAAAAAAAAAAAAAAAAAAAAAAAAAAAAAAAAAAAAAAAAAAAAAAAAAAAAAAAAAAAAAAAAAAAAAAAAAAAAAAAAAAAAAAAAAAAAAAAAAAAAAAAAAAAAAAAAAAAAAAAAAAAAAAAAAAAAAAAAAAAAAAAAAAAAAAAAAAAAAAAAAAAAAAAAAAAAAAAAAAAAAAAAAAAAAAAAAAAAAAAAAAAAAAAAAAAAAAAAAAAAAAAAAAAAAAAAAAAAAAAAAAAAAAAAAAAAAAAAAAAAAAAAAAAAAAAAAAAAAAAAAAAAAAAAAAAAAAAAAAAAAAAAAAAAAAAAAAAAAAAAAAAAAAAAAAAAAAAAAAAAAAAAAAAAAAAAAAAAAAAAAAAAAAAAAAAAAAAAAAAAAAAAAAAAAAAAAAAAAAAAAAAAAAAAAAAAAAAAAAAAAAAAAAAAAAAAAAAAAAAAAAAAAAAAAAAAAAAAAAAAAAAAAAAAAAAAAAAAAAAAAAAAAAAAAAAAAAAAAAAAAAAAAAAAAAAAAAAAAAAAAAAAAAAAAAAAAAAAAAAAAAAAAAAAAAAAAAAAAAAAAAAAAAAAAAAAAAAAAAAAAAAAAAAAAAAAAAAAAAAAAAAAAAAAAAAAAAAAAAAAAAAAAAAAAAAAAAAAAAAAAAAAAAAAAAAAAAAAAAAAAAAAAAAAAAAAAAAAAAAAAAAAAAAAAAAAAAAAAAAAAAAAAAAAAAAAAAAAAAAAAAAAAAAAAAAAAAAAAAAAAAAAAAAAAAAAAAAAAAAAAAAAAAAAAAAAAAAAAAAAAAAAAAAAAAAAAAAAAAAAAAAAAAAAAAAAAAAAAAAAAAAAAAAAAAAAAAAAAAAAAAAAAAAAAAAAAAAAAAAAAAAAAAAAAAAAAAAAAAAAAAAAAAAAAAAAAAAAAAAAAAAAAAAAAAAAAAAAAAAAAAAAAAAAAAAAAAAAAAAAAAAAAAAAAAAAAAAAAAAAAAAAAAAAAAAAAAAAAAAAAAAAAAAAAAAAAAAAAAAAAAAAAAAAAAAAAAAAAAAAAAAAAAAAAAAAAAAAAAAAAAAAAAAAAAAAAAAAAAAAAAAAAAAAAAAAAAAAAAAAAAAAAAAAAAAAAAAAAAAAAAAAAAAAAAAAAAAAAAAAAAAAAAAAAAAAAAAAAAAAAAAAAAAAAAAAAAAAAAAAAAAAAAAAAAAAAAAAAAAAAAAAAAAAAAAAAAAAAAAAAAAAAAAAAAAAAAAAAAAAAAAAAAAA==\",\"dtype\":\"float64\",\"shape\":[248]},\"y\":{\"__ndarray__\":\"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\",\"dtype\":\"float64\",\"shape\":[248]}},\"selected\":{\"id\":\"06b1b4c3-7ee9-4c28-8024-4c41acdc7e57\",\"type\":\"Selection\"},\"selection_policy\":{\"id\":\"46f6a7ba-e083-4095-9847-f508af4bff3a\",\"type\":\"UnionRenderers\"}},\"id\":\"5e59af1c-559a-45c4-80e4-8a2802cb5784\",\"type\":\"ColumnDataSource\"},{\"attributes\":{\"callback\":null,\"renderers\":\"auto\",\"tooltips\":[[\"time\",\"@x\"],[\"Closing Price\",\"@y\"]]},\"id\":\"b3e6771f-f82d-44e2-8db4-125c85251586\",\"type\":\"HoverTool\"},{\"attributes\":{},\"id\":\"b1aee4ff-abd2-4f5e-9ccf-dee094ed75c4\",\"type\":\"BasicTicker\"},{\"attributes\":{\"callback\":null},\"id\":\"9c677b85-b38b-472a-819f-89b9e644e652\",\"type\":\"DataRange1d\"},{\"attributes\":{},\"id\":\"780a0395-6cbf-461b-a052-5c15673ac1d1\",\"type\":\"PanTool\"},{\"attributes\":{},\"id\":\"12a71007-82ed-4ac8-98f0-382b8f150031\",\"type\":\"LinearScale\"},{\"attributes\":{\"fill_alpha\":{\"value\":0.1},\"fill_color\":{\"value\":\"#1f77b4\"},\"line_alpha\":{\"value\":0.1},\"line_color\":{\"value\":\"#1f77b4\"},\"size\":{\"units\":\"screen\",\"value\":10},\"x\":{\"field\":\"x\"},\"y\":{\"field\":\"y\"}},\"id\":\"3c36eddd-a73f-4bd2-aaec-2dd24cc81829\",\"type\":\"Circle\"},{\"attributes\":{\"callback\":null},\"id\":\"5af8f4da-8c5e-4e02-9caa-44e43471b36a\",\"type\":\"DataRange1d\"},{\"attributes\":{\"data_source\":{\"id\":\"6bec64f4-8562-45ea-a88a-8deb68ee85d2\",\"type\":\"ColumnDataSource\"},\"glyph\":{\"id\":\"9a436f29-abfc-4d3d-a533-ee298b5dbbfe\",\"type\":\"Circle\"},\"hover_glyph\":null,\"muted_glyph\":null,\"nonselection_glyph\":{\"id\":\"3c36eddd-a73f-4bd2-aaec-2dd24cc81829\",\"type\":\"Circle\"},\"selection_glyph\":null,\"view\":{\"id\":\"9832ac28-b328-48f7-be4f-0a3bb06cf34e\",\"type\":\"CDSView\"}},\"id\":\"7111a5ad-da32-4c10-ba14-b35ec34cd25f\",\"type\":\"GlyphRenderer\"},{\"attributes\":{\"fill_color\":{\"field\":\"k\"},\"line_color\":{\"field\":\"k\"},\"size\":{\"units\":\"screen\",\"value\":10},\"x\":{\"field\":\"x\"},\"y\":{\"field\":\"y\"}},\"id\":\"9a436f29-abfc-4d3d-a533-ee298b5dbbfe\",\"type\":\"Circle\"},{\"attributes\":{},\"id\":\"92a008d4-e6ab-4a7b-902b-f95c96c5a6cf\",\"type\":\"BasicTicker\"},{\"attributes\":{},\"id\":\"4fc86541-51b8-459a-973a-96b5bdb116a2\",\"type\":\"SaveTool\"},{\"attributes\":{},\"id\":\"2a41c481-bd6f-434f-9f04-00a96470853d\",\"type\":\"WheelZoomTool\"},{\"attributes\":{},\"id\":\"46f6a7ba-e083-4095-9847-f508af4bff3a\",\"type\":\"UnionRenderers\"},{\"attributes\":{\"line_alpha\":0.1,\"line_color\":\"#1f77b4\",\"line_width\":3,\"x\":{\"field\":\"x\"},\"y\":{\"field\":\"y\"}},\"id\":\"f464a04a-0711-47b2-8a73-f9f2378ba6bb\",\"type\":\"Line\"},{\"attributes\":{},\"id\":\"06b1b4c3-7ee9-4c28-8024-4c41acdc7e57\",\"type\":\"Selection\"}],\"root_ids\":[\"7d67f81c-a151-4e1a-a288-47cbeb09ba10\"]},\"title\":\"Bokeh Application\",\"version\":\"0.13.0\"}};\n",
       "  var render_items = [{\"docid\":\"efb3363a-288b-4ab1-b7f5-76e7d5c8c54b\",\"roots\":{\"7d67f81c-a151-4e1a-a288-47cbeb09ba10\":\"4db0bbc7-4ff1-47d4-aa1f-1130f16fe618\"}}];\n",
       "  root.Bokeh.embed.embed_items_notebook(docs_json, render_items);\n",
       "\n",
       "  }\n",
       "  if (root.Bokeh !== undefined) {\n",
       "    embed_document(root);\n",
       "  } else {\n",
       "    var attempts = 0;\n",
       "    var timer = setInterval(function(root) {\n",
       "      if (root.Bokeh !== undefined) {\n",
       "        embed_document(root);\n",
       "        clearInterval(timer);\n",
       "      }\n",
       "      attempts++;\n",
       "      if (attempts > 100) {\n",
       "        console.log(\"Bokeh: ERROR: Unable to run BokehJS code because BokehJS library is missing\")\n",
       "        clearInterval(timer);\n",
       "      }\n",
       "    }, 10, root)\n",
       "  }\n",
       "})(window);"
      ],
      "application/vnd.bokehjs_exec.v0+json": ""
     },
     "metadata": {
      "application/vnd.bokehjs_exec.v0+json": {
       "id": "7d67f81c-a151-4e1a-a288-47cbeb09ba10"
      }
     },
     "output_type": "display_data"
    },
    {
     "name": "stderr",
     "output_type": "stream",
     "text": [
      "ERROR:bokeh.core.validation.check:E-1001 (BAD_COLUMN_NAME): Glyph refers to nonexistent column name: k [renderer: GlyphRenderer(id='036f0949-a089-4de0-8f33-f4636db3e6e1', ...)]\n",
      "ERROR:bokeh.core.validation.check:E-1001 (BAD_COLUMN_NAME): Glyph refers to nonexistent column name: k [renderer: GlyphRenderer(id='7dde578f-36c0-496d-847a-327e75827b2b', ...)]\n",
      "ERROR:bokeh.core.validation.check:E-1001 (BAD_COLUMN_NAME): Glyph refers to nonexistent column name: k [renderer: GlyphRenderer(id='b0c4e087-d062-4f9a-a442-20fdf66eff7a', ...)]\n",
      "ERROR:bokeh.core.validation.check:E-1001 (BAD_COLUMN_NAME): Glyph refers to nonexistent column name: k [renderer: GlyphRenderer(id='8a332173-ff19-4fc7-a301-1388d640c612', ...)]\n",
      "ERROR:bokeh.core.validation.check:E-1001 (BAD_COLUMN_NAME): Glyph refers to nonexistent column name: k [renderer: GlyphRenderer(id='0dccaf0e-b525-4386-9b88-986f8212ef5f', ...)]\n",
      "ERROR:bokeh.core.validation.check:E-1001 (BAD_COLUMN_NAME): Glyph refers to nonexistent column name: k [renderer: GlyphRenderer(id='fd9303ac-9184-43ad-9402-01e31349256b', ...)]\n",
      "ERROR:bokeh.core.validation.check:E-1001 (BAD_COLUMN_NAME): Glyph refers to nonexistent column name: k [renderer: GlyphRenderer(id='7111a5ad-da32-4c10-ba14-b35ec34cd25f', ...)]\n",
      "ERROR:bokeh.core.validation.check:E-1001 (BAD_COLUMN_NAME): Glyph refers to nonexistent column name: k [renderer: GlyphRenderer(id='e7872765-6722-4490-993a-bace488f5645', ...)]\n"
     ]
    },
    {
     "data": {
      "text/html": [
       "\n",
       "\n",
       "\n",
       "\n",
       "\n",
       "\n",
       "  <div class=\"bk-root\" id=\"e8f3b38b-6c4e-4e85-82bb-de5e0ebd177f\"></div>\n"
      ]
     },
     "metadata": {},
     "output_type": "display_data"
    },
    {
     "data": {
      "application/javascript": [
       "(function(root) {\n",
       "  function embed_document(root) {\n",
       "    \n",
       "  var docs_json = {\"ef4bd8d0-99e9-413b-8d9c-f180e53ffc2b\":{\"roots\":{\"references\":[{\"attributes\":{\"axis_label\":\"Time\",\"formatter\":{\"id\":\"971adf2e-beb6-405f-a712-0e33a9f6ea21\",\"type\":\"BasicTickFormatter\"},\"plot\":{\"id\":\"8c61cae3-f35b-4743-8053-30bd9b49adf3\",\"subtype\":\"Figure\",\"type\":\"Plot\"},\"ticker\":{\"id\":\"753b8e74-d249-422e-875f-d3eb393da0c1\",\"type\":\"BasicTicker\"}},\"id\":\"78eded1d-537b-4106-9a15-84f0ca9cc8b6\",\"type\":\"LinearAxis\"},{\"attributes\":{\"active_drag\":\"auto\",\"active_inspect\":\"auto\",\"active_multi\":null,\"active_scroll\":\"auto\",\"active_tap\":\"auto\",\"tools\":[{\"id\":\"1539706f-b713-4567-a6d8-4ad71fb857de\",\"type\":\"SaveTool\"},{\"id\":\"265759aa-fca6-4a86-bf30-c0c424af981c\",\"type\":\"PanTool\"},{\"id\":\"926b439a-fafd-4876-97ac-af60fd62b13f\",\"type\":\"BoxZoomTool\"},{\"id\":\"86f57c41-3236-4a0c-bbc6-9028dd07f7ab\",\"type\":\"ResetTool\"},{\"id\":\"880d6fdf-1ec3-4471-bd58-ab8addb775b5\",\"type\":\"WheelZoomTool\"},{\"id\":\"7c445b66-7a65-4ff7-8fbd-b67ba25d636c\",\"type\":\"HoverTool\"}]},\"id\":\"049fabc6-cdf9-42f5-923d-096b12f780a7\",\"type\":\"Toolbar\"},{\"attributes\":{},\"id\":\"b98ef982-2a37-4f24-8350-d22eff81206c\",\"type\":\"Selection\"},{\"attributes\":{},\"id\":\"971adf2e-beb6-405f-a712-0e33a9f6ea21\",\"type\":\"BasicTickFormatter\"},{\"attributes\":{\"source\":{\"id\":\"13061640-8cb0-4c0f-b818-fb9b0bf65090\",\"type\":\"ColumnDataSource\"}},\"id\":\"aeba7e2b-1b6f-4523-bef7-02f3f429a36f\",\"type\":\"CDSView\"},{\"attributes\":{},\"id\":\"265759aa-fca6-4a86-bf30-c0c424af981c\",\"type\":\"PanTool\"},{\"attributes\":{},\"id\":\"9cfba0fa-af9f-49bd-8765-de23ffb6c792\",\"type\":\"BasicTicker\"},{\"attributes\":{},\"id\":\"ac53709d-83c9-44b6-b2ea-77e7923d3b61\",\"type\":\"LinearScale\"},{\"attributes\":{\"axis_label\":\"Closing Price\",\"formatter\":{\"id\":\"92fc94df-b98c-48cc-9802-b2af87eb30a7\",\"type\":\"BasicTickFormatter\"},\"plot\":{\"id\":\"8c61cae3-f35b-4743-8053-30bd9b49adf3\",\"subtype\":\"Figure\",\"type\":\"Plot\"},\"ticker\":{\"id\":\"9cfba0fa-af9f-49bd-8765-de23ffb6c792\",\"type\":\"BasicTicker\"}},\"id\":\"a9fe5e8f-530e-4b68-9a83-c08f5021af90\",\"type\":\"LinearAxis\"},{\"attributes\":{\"plot\":null,\"text\":\"Closing Price for NIFTY IT\"},\"id\":\"fa010796-7650-456b-9533-ce5cf8175289\",\"type\":\"Title\"},{\"attributes\":{\"dimension\":1,\"plot\":{\"id\":\"8c61cae3-f35b-4743-8053-30bd9b49adf3\",\"subtype\":\"Figure\",\"type\":\"Plot\"},\"ticker\":{\"id\":\"9cfba0fa-af9f-49bd-8765-de23ffb6c792\",\"type\":\"BasicTicker\"}},\"id\":\"6dc1140a-3b2e-4bff-9925-b2828d771671\",\"type\":\"Grid\"},{\"attributes\":{},\"id\":\"92fc94df-b98c-48cc-9802-b2af87eb30a7\",\"type\":\"BasicTickFormatter\"},{\"attributes\":{\"below\":[{\"id\":\"78eded1d-537b-4106-9a15-84f0ca9cc8b6\",\"type\":\"LinearAxis\"}],\"left\":[{\"id\":\"a9fe5e8f-530e-4b68-9a83-c08f5021af90\",\"type\":\"LinearAxis\"}],\"plot_height\":400,\"plot_width\":800,\"renderers\":[{\"id\":\"78eded1d-537b-4106-9a15-84f0ca9cc8b6\",\"type\":\"LinearAxis\"},{\"id\":\"530ad03f-0887-4493-9996-b2726731cd62\",\"type\":\"Grid\"},{\"id\":\"a9fe5e8f-530e-4b68-9a83-c08f5021af90\",\"type\":\"LinearAxis\"},{\"id\":\"6dc1140a-3b2e-4bff-9925-b2828d771671\",\"type\":\"Grid\"},{\"id\":\"c3cfce21-b07d-44fe-932c-373352501140\",\"type\":\"BoxAnnotation\"},{\"id\":\"e7872765-6722-4490-993a-bace488f5645\",\"type\":\"GlyphRenderer\"},{\"id\":\"dd587697-f0f8-4fd2-9967-8e88667e5d59\",\"type\":\"GlyphRenderer\"}],\"title\":{\"id\":\"fa010796-7650-456b-9533-ce5cf8175289\",\"type\":\"Title\"},\"toolbar\":{\"id\":\"049fabc6-cdf9-42f5-923d-096b12f780a7\",\"type\":\"Toolbar\"},\"x_range\":{\"id\":\"a4db6f1c-a950-49ee-8d8a-bc8175ad5aea\",\"type\":\"DataRange1d\"},\"x_scale\":{\"id\":\"cca7a70e-e531-48ea-ae96-cfcc789b0e77\",\"type\":\"LinearScale\"},\"y_range\":{\"id\":\"375a55b0-32f4-4c54-9b43-8f92f55dcc5b\",\"type\":\"DataRange1d\"},\"y_scale\":{\"id\":\"ac53709d-83c9-44b6-b2ea-77e7923d3b61\",\"type\":\"LinearScale\"}},\"id\":\"8c61cae3-f35b-4743-8053-30bd9b49adf3\",\"subtype\":\"Figure\",\"type\":\"Plot\"},{\"attributes\":{},\"id\":\"cca7a70e-e531-48ea-ae96-cfcc789b0e77\",\"type\":\"LinearScale\"},{\"attributes\":{},\"id\":\"753b8e74-d249-422e-875f-d3eb393da0c1\",\"type\":\"BasicTicker\"},{\"attributes\":{\"callback\":null},\"id\":\"a4db6f1c-a950-49ee-8d8a-bc8175ad5aea\",\"type\":\"DataRange1d\"},{\"attributes\":{\"callback\":null},\"id\":\"375a55b0-32f4-4c54-9b43-8f92f55dcc5b\",\"type\":\"DataRange1d\"},{\"attributes\":{\"callback\":null,\"data\":{\"x\":{\"__ndarray__\":\"AAAAAAAAAAAAAAAAAAAAAA==\",\"dtype\":\"float64\",\"shape\":[2]},\"y\":{\"__ndarray__\":\"mpmZmXkBxkAAAAAAANfGQA==\",\"dtype\":\"float64\",\"shape\":[2]}},\"selected\":{\"id\":\"b98ef982-2a37-4f24-8350-d22eff81206c\",\"type\":\"Selection\"},\"selection_policy\":{\"id\":\"34c8f830-2a81-4266-bd61-07a44aa71192\",\"type\":\"UnionRenderers\"}},\"id\":\"2ef0b2d3-1083-4dc6-85e5-95dbf5d54cf9\",\"type\":\"ColumnDataSource\"},{\"attributes\":{},\"id\":\"1539706f-b713-4567-a6d8-4ad71fb857de\",\"type\":\"SaveTool\"},{\"attributes\":{},\"id\":\"27cf564f-894c-46a0-bea3-30e7c84e1719\",\"type\":\"Selection\"},{\"attributes\":{},\"id\":\"880d6fdf-1ec3-4471-bd58-ab8addb775b5\",\"type\":\"WheelZoomTool\"},{\"attributes\":{\"line_color\":\"blue\",\"line_width\":3,\"x\":{\"field\":\"x\"},\"y\":{\"field\":\"y\"}},\"id\":\"e683a069-d589-44af-b639-410935557783\",\"type\":\"Line\"},{\"attributes\":{\"callback\":null,\"renderers\":\"auto\",\"tooltips\":[[\"time\",\"@x\"],[\"Closing Price\",\"@y\"]]},\"id\":\"7c445b66-7a65-4ff7-8fbd-b67ba25d636c\",\"type\":\"HoverTool\"},{\"attributes\":{\"fill_color\":{\"field\":\"k\"},\"line_color\":{\"field\":\"k\"},\"size\":{\"units\":\"screen\",\"value\":10},\"x\":{\"field\":\"x\"},\"y\":{\"field\":\"y\"}},\"id\":\"205773e9-7ba4-43c5-9edd-ff344600ca51\",\"type\":\"Circle\"},{\"attributes\":{\"callback\":null,\"data\":{\"x\":{\"__ndarray__\":\"AAAAAAAAAAAAAAAAAAAAAAAAAAAAAAAAAAAAAAAAAAAAAAAAAAAAAAAAAAAAAAAAAAAAAAAAAAAAAAAAAAAAAAAAAAAAAAAAAAAAAAAAAAAAAAAAAAAAAAAAAAAAAAAAAAAAAAAAAAAAAAAAAAAAAAAAAAAAAAAAAAAAAAAAAAAAAAAAAAAAAAAAAAAAAAAAAAAAAAAAAAAAAAAAAAAAAAAAAAAAAAAAAAAAAAAAAAAAAAAAAAAAAAAAAAAAAAAAAAAAAAAAAAAAAAAAAAAAAAAAAAAAAAAAAAAAAAAAAAAAAAAAAAAAAAAAAAAAAAAAAAAAAAAAAAAAAAAAAAAAAAAAAAAAAAAAAAAAAAAAAAAAAAAAAAAAAAAAAAAAAAAAAAAAAAAAAAAAAAAAAAAAAAAAAAAAAAAAAAAAAAAAAAAAAAAAAAAAAAAAAAAAAAAAAAAAAAAAAAAAAAAAAAAAAAAAAAAAAAAAAAAAAAAAAAAAAAAAAAAAAAAAAAAAAAAAAAAAAAAAAAAAAAAAAAAAAAAAAAAAAAAAAAAAAAAAAAAAAAAAAAAAAAAAAAAAAAAAAAAAAAAAAAAAAAAAAAAAAAAAAAAAAAAAAAAAAAAAAAAAAAAAAAAAAAAAAAAAAAAAAAAAAAAAAAAAAAAAAAAAAAAAAAAAAAAAAAAAAAAAAAAAAAAAAAAAAAAAAAAAAAAAAAAAAAAAAAAAAAAAAAAAAAAAAAAAAAAAAAAAAAAAAAAAAAAAAAAAAAAAAAAAAAAAAAAAAAAAAAAAAAAAAAAAAAAAAAAAAAAAAAAAAAAAAAAAAAAAAAAAAAAAAAAAAAAAAAAAAAAAAAAAAAAAAAAAAAAAAAAAAAAAAAAAAAAAAAAAAAAAAAAAAAAAAAAAAAAAAAAAAAAAAAAAAAAAAAAAAAAAAAAAAAAAAAAAAAAAAAAAAAAAAAAAAAAAAAAAAAAAAAAAAAAAAAAAAAAAAAAAAAAAAAAAAAAAAAAAAAAAAAAAAAAAAAAAAAAAAAAAAAAAAAAAAAAAAAAAAAAAAAAAAAAAAAAAAAAAAAAAAAAAAAAAAAAAAAAAAAAAAAAAAAAAAAAAAAAAAAAAAAAAAAAAAAAAAAAAAAAAAAAAAAAAAAAAAAAAAAAAAAAAAAAAAAAAAAAAAAAAAAAAAAAAAAAAAAAAAAAAAAAAAAAAAAAAAAAAAAAAAAAAAAAAAAAAAAAAAAAAAAAAAAAAAAAAAAAAAAAAAAAAAAAAAAAAAAAAAAAAAAAAAAAAAAAAAAAAAAAAAAAAAAAAAAAAAAAAAAAAAAAAAAAAAAAAAAAAAAAAAAAAAAAAAAAAAAAAAAAAAAAAAAAAAAAAAAAAAAAAAAAAAAAAAAAAAAAAAAAAAAAAAAAAAAAAAAAAAAAAAAAAAAAAAAAAAAAAAAAAAAAAAAAAAAAAAAAAAAAAAAAAAAAAAAAAAAAAAAAAAAAAAAAAAAAAAAAAAAAAAAAAAAAAAAAAAAAAAAAAAAAAAAAAAAAAAAAAAAAAAAAAAAAAAAAAAAAAAAAAAAAAAAAAAAAAAAAAAAAAAAAAAAAAAAAAAAAAAAAAAAAAAAAAAAAAAAAAAAAAAAAAAAAAAAAAAAAAAAAAAAAAAAAAAAAAAAAAAAAAAAAAAAAAAAAAAAAAAAAAAAAAAAAAAAAAAAAAAAAAAAAAAAAAAAAAAAAAAAAAAAAAAAAAAAAAAAAAAAAAAAAAAAAAAAAAAAAAAAAAAAAAAAAAAAAAAAAAAAAAAAAAAAAAAAAAAAAAAAAAAAAAAAAAAAAAAAAAAAAAAAAAAAAAAAAAAAAAAAAAAAAAAAAAAAAAAAAAAAAAAAAAAAAAAAAAAAAAAAAAAAAAAAAAAAAAAAAAAAAAAAAAAAAAAAAAAAAAAAAAAAAAAAAAAAAAAAAAAAAAAAAAAAAAAAAAAAAAAAAAAAAAAAAAAAAAAAAAAAAAAAAAAAAAAAAAAAAAAAAAAAAAAAAAAAAAAAAAAAAAAAAAAAAAAAAAAAAAAAAAAAAAAAAAAAAAAAAAAAAAAAAAAAAAAAAAAAAAAAAAAAAAAAAAAAAAAAAAAAAAAAAAAAAAAAAAAAAAAAAAAAAAAAAAAAAAAAAAAAAAAAAAAAAAAAAAAAAAAAAAAAAAAAAAAAAAAAAAAAAAAAAAAAAAAAAAAAAAAAAAAAAAAAAAAAAAAAAAAAAAAAAAAAAAAAAAAAAAAAAAAAAAAAAAAAAAAAAAAAAAAAAAAAAAAAAAAAAAAAAAAAAAAAAAAAAAAAAAAAAAAAAAAAAAAAAAAAAAAAAAAAAAAAAAAAAAAAAAAAAAAAAAAAAAAAAAAAAAAAAAAAAAAAAAAAAAAAAAAAAAAAAAAAAAAAAAAAAAAAAAAAAAAAAAAAAAAAAAAAAAAAAAAAAAAAAAAAAAAAAAAAAAAAAAAAAAAAAAAAAAAAAAAAAAAAAAAAAAAAAAAAAAAAAAAAAAAAAAAAAAAAAAAAAAAAAAAAAAAAAAAAAAAAAAAAAAAAAAAAAAAAAAAAAAAAAAAAAAAAAAAAAAAAAAAAAAAAAAAAAAAAAAAAAAAAAAAAAAAAAAAAAAAAAAAAAAAAAAAAAAAAAAAAAAAAAAAAAAAAAAAAAAAAAAAAAAAAAAAAAAAAAAAA==\",\"dtype\":\"float64\",\"shape\":[248]},\"y\":{\"__ndarray__\":\"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\",\"dtype\":\"float64\",\"shape\":[248]}},\"selected\":{\"id\":\"27cf564f-894c-46a0-bea3-30e7c84e1719\",\"type\":\"Selection\"},\"selection_policy\":{\"id\":\"00385114-0fcf-4c6c-a8fa-1bd8147b1e69\",\"type\":\"UnionRenderers\"}},\"id\":\"13061640-8cb0-4c0f-b818-fb9b0bf65090\",\"type\":\"ColumnDataSource\"},{\"attributes\":{},\"id\":\"86f57c41-3236-4a0c-bbc6-9028dd07f7ab\",\"type\":\"ResetTool\"},{\"attributes\":{\"line_alpha\":0.1,\"line_color\":\"#1f77b4\",\"line_width\":3,\"x\":{\"field\":\"x\"},\"y\":{\"field\":\"y\"}},\"id\":\"e376b5c2-c31a-4ff2-b807-acf53f47aa64\",\"type\":\"Line\"},{\"attributes\":{\"bottom_units\":\"screen\",\"fill_alpha\":{\"value\":0.5},\"fill_color\":{\"value\":\"lightgrey\"},\"left_units\":\"screen\",\"level\":\"overlay\",\"line_alpha\":{\"value\":1.0},\"line_color\":{\"value\":\"black\"},\"line_dash\":[4,4],\"line_width\":{\"value\":2},\"plot\":null,\"render_mode\":\"css\",\"right_units\":\"screen\",\"top_units\":\"screen\"},\"id\":\"c3cfce21-b07d-44fe-932c-373352501140\",\"type\":\"BoxAnnotation\"},{\"attributes\":{\"fill_alpha\":{\"value\":0.1},\"fill_color\":{\"value\":\"#1f77b4\"},\"line_alpha\":{\"value\":0.1},\"line_color\":{\"value\":\"#1f77b4\"},\"size\":{\"units\":\"screen\",\"value\":10},\"x\":{\"field\":\"x\"},\"y\":{\"field\":\"y\"}},\"id\":\"bf61fa39-159a-40eb-baca-af0d10f47a60\",\"type\":\"Circle\"},{\"attributes\":{\"data_source\":{\"id\":\"2ef0b2d3-1083-4dc6-85e5-95dbf5d54cf9\",\"type\":\"ColumnDataSource\"},\"glyph\":{\"id\":\"205773e9-7ba4-43c5-9edd-ff344600ca51\",\"type\":\"Circle\"},\"hover_glyph\":null,\"muted_glyph\":null,\"nonselection_glyph\":{\"id\":\"bf61fa39-159a-40eb-baca-af0d10f47a60\",\"type\":\"Circle\"},\"selection_glyph\":null,\"view\":{\"id\":\"ae85b6fe-29e2-4caa-b796-255adff32e82\",\"type\":\"CDSView\"}},\"id\":\"e7872765-6722-4490-993a-bace488f5645\",\"type\":\"GlyphRenderer\"},{\"attributes\":{},\"id\":\"34c8f830-2a81-4266-bd61-07a44aa71192\",\"type\":\"UnionRenderers\"},{\"attributes\":{\"data_source\":{\"id\":\"13061640-8cb0-4c0f-b818-fb9b0bf65090\",\"type\":\"ColumnDataSource\"},\"glyph\":{\"id\":\"e683a069-d589-44af-b639-410935557783\",\"type\":\"Line\"},\"hover_glyph\":null,\"muted_glyph\":null,\"nonselection_glyph\":{\"id\":\"e376b5c2-c31a-4ff2-b807-acf53f47aa64\",\"type\":\"Line\"},\"selection_glyph\":null,\"view\":{\"id\":\"aeba7e2b-1b6f-4523-bef7-02f3f429a36f\",\"type\":\"CDSView\"}},\"id\":\"dd587697-f0f8-4fd2-9967-8e88667e5d59\",\"type\":\"GlyphRenderer\"},{\"attributes\":{},\"id\":\"00385114-0fcf-4c6c-a8fa-1bd8147b1e69\",\"type\":\"UnionRenderers\"},{\"attributes\":{\"overlay\":{\"id\":\"c3cfce21-b07d-44fe-932c-373352501140\",\"type\":\"BoxAnnotation\"}},\"id\":\"926b439a-fafd-4876-97ac-af60fd62b13f\",\"type\":\"BoxZoomTool\"},{\"attributes\":{\"plot\":{\"id\":\"8c61cae3-f35b-4743-8053-30bd9b49adf3\",\"subtype\":\"Figure\",\"type\":\"Plot\"},\"ticker\":{\"id\":\"753b8e74-d249-422e-875f-d3eb393da0c1\",\"type\":\"BasicTicker\"}},\"id\":\"530ad03f-0887-4493-9996-b2726731cd62\",\"type\":\"Grid\"},{\"attributes\":{\"source\":{\"id\":\"2ef0b2d3-1083-4dc6-85e5-95dbf5d54cf9\",\"type\":\"ColumnDataSource\"}},\"id\":\"ae85b6fe-29e2-4caa-b796-255adff32e82\",\"type\":\"CDSView\"}],\"root_ids\":[\"8c61cae3-f35b-4743-8053-30bd9b49adf3\"]},\"title\":\"Bokeh Application\",\"version\":\"0.13.0\"}};\n",
       "  var render_items = [{\"docid\":\"ef4bd8d0-99e9-413b-8d9c-f180e53ffc2b\",\"roots\":{\"8c61cae3-f35b-4743-8053-30bd9b49adf3\":\"e8f3b38b-6c4e-4e85-82bb-de5e0ebd177f\"}}];\n",
       "  root.Bokeh.embed.embed_items_notebook(docs_json, render_items);\n",
       "\n",
       "  }\n",
       "  if (root.Bokeh !== undefined) {\n",
       "    embed_document(root);\n",
       "  } else {\n",
       "    var attempts = 0;\n",
       "    var timer = setInterval(function(root) {\n",
       "      if (root.Bokeh !== undefined) {\n",
       "        embed_document(root);\n",
       "        clearInterval(timer);\n",
       "      }\n",
       "      attempts++;\n",
       "      if (attempts > 100) {\n",
       "        console.log(\"Bokeh: ERROR: Unable to run BokehJS code because BokehJS library is missing\")\n",
       "        clearInterval(timer);\n",
       "      }\n",
       "    }, 10, root)\n",
       "  }\n",
       "})(window);"
      ],
      "application/vnd.bokehjs_exec.v0+json": ""
     },
     "metadata": {
      "application/vnd.bokehjs_exec.v0+json": {
       "id": "8c61cae3-f35b-4743-8053-30bd9b49adf3"
      }
     },
     "output_type": "display_data"
    },
    {
     "name": "stderr",
     "output_type": "stream",
     "text": [
      "ERROR:bokeh.core.validation.check:E-1001 (BAD_COLUMN_NAME): Glyph refers to nonexistent column name: k [renderer: GlyphRenderer(id='036f0949-a089-4de0-8f33-f4636db3e6e1', ...)]\n",
      "ERROR:bokeh.core.validation.check:E-1001 (BAD_COLUMN_NAME): Glyph refers to nonexistent column name: k [renderer: GlyphRenderer(id='7dde578f-36c0-496d-847a-327e75827b2b', ...)]\n",
      "ERROR:bokeh.core.validation.check:E-1001 (BAD_COLUMN_NAME): Glyph refers to nonexistent column name: k [renderer: GlyphRenderer(id='b0c4e087-d062-4f9a-a442-20fdf66eff7a', ...)]\n",
      "ERROR:bokeh.core.validation.check:E-1001 (BAD_COLUMN_NAME): Glyph refers to nonexistent column name: k [renderer: GlyphRenderer(id='8a332173-ff19-4fc7-a301-1388d640c612', ...)]\n",
      "ERROR:bokeh.core.validation.check:E-1001 (BAD_COLUMN_NAME): Glyph refers to nonexistent column name: k [renderer: GlyphRenderer(id='0dccaf0e-b525-4386-9b88-986f8212ef5f', ...)]\n",
      "ERROR:bokeh.core.validation.check:E-1001 (BAD_COLUMN_NAME): Glyph refers to nonexistent column name: k [renderer: GlyphRenderer(id='fd9303ac-9184-43ad-9402-01e31349256b', ...)]\n",
      "ERROR:bokeh.core.validation.check:E-1001 (BAD_COLUMN_NAME): Glyph refers to nonexistent column name: k [renderer: GlyphRenderer(id='7111a5ad-da32-4c10-ba14-b35ec34cd25f', ...)]\n",
      "ERROR:bokeh.core.validation.check:E-1001 (BAD_COLUMN_NAME): Glyph refers to nonexistent column name: k [renderer: GlyphRenderer(id='e7872765-6722-4490-993a-bace488f5645', ...)]\n"
     ]
    }
   ],
   "source": [
    "output_file(\"bokeh_plotting.html\", title=\"Data Visualization\")\n",
    "bokeh_plotting(infy)\n",
    "bokeh_plotting(tcs)\n",
    "bokeh_plotting(nifty_IT)"
   ]
  },
  {
   "cell_type": "code",
   "execution_count": 166,
   "metadata": {},
   "outputs": [
    {
     "name": "stderr",
     "output_type": "stream",
     "text": [
      "ERROR:bokeh.core.validation.check:E-1001 (BAD_COLUMN_NAME): Glyph refers to nonexistent column name: k [renderer: GlyphRenderer(id='30ea4dc2-61b3-4d9f-9494-bb9ad6b0b40e', ...)]\n"
     ]
    },
    {
     "data": {
      "text/html": [
       "\n",
       "\n",
       "\n",
       "\n",
       "\n",
       "\n",
       "  <div class=\"bk-root\" id=\"aefc4329-5df4-493a-b62a-6345835373e4\"></div>\n"
      ]
     },
     "metadata": {},
     "output_type": "display_data"
    },
    {
     "data": {
      "application/javascript": [
       "(function(root) {\n",
       "  function embed_document(root) {\n",
       "    \n",
       "  var docs_json = {\"79319ee4-939f-448e-a594-4b49512ad9b1\":{\"roots\":{\"references\":[{\"attributes\":{\"active_drag\":\"auto\",\"active_inspect\":\"auto\",\"active_multi\":null,\"active_scroll\":\"auto\",\"active_tap\":\"auto\",\"tools\":[{\"id\":\"cf6574f9-a236-4339-9776-68d7d04c4ee2\",\"type\":\"SaveTool\"},{\"id\":\"c8f1752d-9979-4381-85dd-e06fe42a9aa6\",\"type\":\"PanTool\"},{\"id\":\"03ebe7db-dc9b-47bd-9adb-dd27d903fa7f\",\"type\":\"BoxZoomTool\"},{\"id\":\"80d41792-23f4-4572-a94b-9bfaf91d7c54\",\"type\":\"ResetTool\"},{\"id\":\"ba49708c-88e6-4761-af28-098307dbcbc7\",\"type\":\"WheelZoomTool\"},{\"id\":\"9031c6ef-1a06-4e5b-a8c1-4771202c4afa\",\"type\":\"HoverTool\"}]},\"id\":\"0d0928e3-8811-47b5-8499-927369ff38dc\",\"type\":\"Toolbar\"},{\"attributes\":{\"plot\":null,\"text\":\"Closing Price for TCS\"},\"id\":\"6bac9372-f59f-447b-83ec-112ab87151b1\",\"type\":\"Title\"},{\"attributes\":{\"plot\":{\"id\":\"bbac9343-3b98-4e77-995f-fb6611ad7188\",\"subtype\":\"Figure\",\"type\":\"Plot\"},\"ticker\":{\"id\":\"e05e12a9-f35a-4d60-a128-cef97d092fd3\",\"type\":\"BasicTicker\"}},\"id\":\"2371d681-220b-42de-bf69-c918d270c699\",\"type\":\"Grid\"},{\"attributes\":{\"data_source\":{\"id\":\"2dcafe11-5f1f-4d93-a27b-2849c693d923\",\"type\":\"ColumnDataSource\"},\"glyph\":{\"id\":\"a28b7546-fd6a-4ba9-bba3-048a6e764c54\",\"type\":\"Line\"},\"hover_glyph\":null,\"muted_glyph\":null,\"nonselection_glyph\":{\"id\":\"6ac913c5-52a5-4950-9038-4924d6e1ed48\",\"type\":\"Line\"},\"selection_glyph\":null,\"view\":{\"id\":\"e014091c-bbd8-49de-8e64-5c5e22075881\",\"type\":\"CDSView\"}},\"id\":\"cca98f77-c76c-4d36-b1fb-1c9e35106884\",\"type\":\"GlyphRenderer\"},{\"attributes\":{\"callback\":null,\"renderers\":\"auto\",\"tooltips\":[[\"time\",\"@x\"],[\"Closing Price\",\"@y\"]]},\"id\":\"9031c6ef-1a06-4e5b-a8c1-4771202c4afa\",\"type\":\"HoverTool\"},{\"attributes\":{\"bottom_units\":\"screen\",\"fill_alpha\":{\"value\":0.5},\"fill_color\":{\"value\":\"lightgrey\"},\"left_units\":\"screen\",\"level\":\"overlay\",\"line_alpha\":{\"value\":1.0},\"line_color\":{\"value\":\"black\"},\"line_dash\":[4,4],\"line_width\":{\"value\":2},\"plot\":null,\"render_mode\":\"css\",\"right_units\":\"screen\",\"top_units\":\"screen\"},\"id\":\"504280ac-5675-478d-a584-6735fdf32920\",\"type\":\"BoxAnnotation\"},{\"attributes\":{},\"id\":\"80d41792-23f4-4572-a94b-9bfaf91d7c54\",\"type\":\"ResetTool\"},{\"attributes\":{},\"id\":\"c8f1752d-9979-4381-85dd-e06fe42a9aa6\",\"type\":\"PanTool\"},{\"attributes\":{},\"id\":\"b8e08a4a-bf50-4c54-bf9a-23b28aa9fb13\",\"type\":\"Selection\"},{\"attributes\":{\"below\":[{\"id\":\"dfc2f658-bebd-4064-9eca-71db88236da4\",\"type\":\"LinearAxis\"}],\"left\":[{\"id\":\"fb9264df-486e-4c9d-905b-69499b88f3d4\",\"type\":\"LinearAxis\"}],\"plot_height\":400,\"plot_width\":800,\"renderers\":[{\"id\":\"dfc2f658-bebd-4064-9eca-71db88236da4\",\"type\":\"LinearAxis\"},{\"id\":\"2371d681-220b-42de-bf69-c918d270c699\",\"type\":\"Grid\"},{\"id\":\"fb9264df-486e-4c9d-905b-69499b88f3d4\",\"type\":\"LinearAxis\"},{\"id\":\"979fb4a5-f983-4b73-ac26-2f9d105abac7\",\"type\":\"Grid\"},{\"id\":\"504280ac-5675-478d-a584-6735fdf32920\",\"type\":\"BoxAnnotation\"},{\"id\":\"30ea4dc2-61b3-4d9f-9494-bb9ad6b0b40e\",\"type\":\"GlyphRenderer\"},{\"id\":\"cca98f77-c76c-4d36-b1fb-1c9e35106884\",\"type\":\"GlyphRenderer\"}],\"title\":{\"id\":\"6bac9372-f59f-447b-83ec-112ab87151b1\",\"type\":\"Title\"},\"toolbar\":{\"id\":\"0d0928e3-8811-47b5-8499-927369ff38dc\",\"type\":\"Toolbar\"},\"x_range\":{\"id\":\"c0e7f5b7-a2bd-4814-8b8c-6f1497c9d73d\",\"type\":\"DataRange1d\"},\"x_scale\":{\"id\":\"20eba857-dcd8-4fbf-a06b-36c844c83a4a\",\"type\":\"LinearScale\"},\"y_range\":{\"id\":\"0c290682-d66d-406d-8723-4787d8b4f613\",\"type\":\"DataRange1d\"},\"y_scale\":{\"id\":\"7ad4e585-cfa8-45ab-9980-fcb13af01f25\",\"type\":\"LinearScale\"}},\"id\":\"bbac9343-3b98-4e77-995f-fb6611ad7188\",\"subtype\":\"Figure\",\"type\":\"Plot\"},{\"attributes\":{\"callback\":null},\"id\":\"c0e7f5b7-a2bd-4814-8b8c-6f1497c9d73d\",\"type\":\"DataRange1d\"},{\"attributes\":{\"dimension\":1,\"plot\":{\"id\":\"bbac9343-3b98-4e77-995f-fb6611ad7188\",\"subtype\":\"Figure\",\"type\":\"Plot\"},\"ticker\":{\"id\":\"4677ad35-240c-4534-916c-394f2b27273b\",\"type\":\"BasicTicker\"}},\"id\":\"979fb4a5-f983-4b73-ac26-2f9d105abac7\",\"type\":\"Grid\"},{\"attributes\":{\"callback\":null},\"id\":\"0c290682-d66d-406d-8723-4787d8b4f613\",\"type\":\"DataRange1d\"},{\"attributes\":{},\"id\":\"4677ad35-240c-4534-916c-394f2b27273b\",\"type\":\"BasicTicker\"},{\"attributes\":{\"overlay\":{\"id\":\"504280ac-5675-478d-a584-6735fdf32920\",\"type\":\"BoxAnnotation\"}},\"id\":\"03ebe7db-dc9b-47bd-9adb-dd27d903fa7f\",\"type\":\"BoxZoomTool\"},{\"attributes\":{},\"id\":\"e05e12a9-f35a-4d60-a128-cef97d092fd3\",\"type\":\"BasicTicker\"},{\"attributes\":{},\"id\":\"ba49708c-88e6-4761-af28-098307dbcbc7\",\"type\":\"WheelZoomTool\"},{\"attributes\":{\"source\":{\"id\":\"2dcafe11-5f1f-4d93-a27b-2849c693d923\",\"type\":\"ColumnDataSource\"}},\"id\":\"e014091c-bbd8-49de-8e64-5c5e22075881\",\"type\":\"CDSView\"},{\"attributes\":{\"source\":{\"id\":\"b2245369-6ac2-48da-9149-3fd196660f07\",\"type\":\"ColumnDataSource\"}},\"id\":\"54a55f07-c6ea-46bc-9688-b0462e137626\",\"type\":\"CDSView\"},{\"attributes\":{\"axis_label\":\"Time\",\"formatter\":{\"id\":\"adb3eada-f610-4393-985e-e037aa637a5b\",\"type\":\"BasicTickFormatter\"},\"plot\":{\"id\":\"bbac9343-3b98-4e77-995f-fb6611ad7188\",\"subtype\":\"Figure\",\"type\":\"Plot\"},\"ticker\":{\"id\":\"e05e12a9-f35a-4d60-a128-cef97d092fd3\",\"type\":\"BasicTicker\"}},\"id\":\"dfc2f658-bebd-4064-9eca-71db88236da4\",\"type\":\"LinearAxis\"},{\"attributes\":{},\"id\":\"20eba857-dcd8-4fbf-a06b-36c844c83a4a\",\"type\":\"LinearScale\"},{\"attributes\":{},\"id\":\"7ad4e585-cfa8-45ab-9980-fcb13af01f25\",\"type\":\"LinearScale\"},{\"attributes\":{},\"id\":\"adb3eada-f610-4393-985e-e037aa637a5b\",\"type\":\"BasicTickFormatter\"},{\"attributes\":{\"data_source\":{\"id\":\"b2245369-6ac2-48da-9149-3fd196660f07\",\"type\":\"ColumnDataSource\"},\"glyph\":{\"id\":\"1e32e6af-7f47-48b4-acf2-92d2e8664a4d\",\"type\":\"Circle\"},\"hover_glyph\":null,\"muted_glyph\":null,\"nonselection_glyph\":{\"id\":\"fdda7162-c409-41fd-9aa4-b3b697583b67\",\"type\":\"Circle\"},\"selection_glyph\":null,\"view\":{\"id\":\"54a55f07-c6ea-46bc-9688-b0462e137626\",\"type\":\"CDSView\"}},\"id\":\"30ea4dc2-61b3-4d9f-9494-bb9ad6b0b40e\",\"type\":\"GlyphRenderer\"},{\"attributes\":{\"line_alpha\":0.1,\"line_color\":\"#1f77b4\",\"line_width\":3,\"x\":{\"field\":\"x\"},\"y\":{\"field\":\"y\"}},\"id\":\"6ac913c5-52a5-4950-9038-4924d6e1ed48\",\"type\":\"Line\"},{\"attributes\":{\"axis_label\":\"Closing Price\",\"formatter\":{\"id\":\"aeee0ad9-870e-46ee-a2ab-3b17cf59b789\",\"type\":\"BasicTickFormatter\"},\"plot\":{\"id\":\"bbac9343-3b98-4e77-995f-fb6611ad7188\",\"subtype\":\"Figure\",\"type\":\"Plot\"},\"ticker\":{\"id\":\"4677ad35-240c-4534-916c-394f2b27273b\",\"type\":\"BasicTicker\"}},\"id\":\"fb9264df-486e-4c9d-905b-69499b88f3d4\",\"type\":\"LinearAxis\"},{\"attributes\":{\"fill_alpha\":{\"value\":0.1},\"fill_color\":{\"value\":\"#1f77b4\"},\"line_alpha\":{\"value\":0.1},\"line_color\":{\"value\":\"#1f77b4\"},\"size\":{\"units\":\"screen\",\"value\":10},\"x\":{\"field\":\"x\"},\"y\":{\"field\":\"y\"}},\"id\":\"fdda7162-c409-41fd-9aa4-b3b697583b67\",\"type\":\"Circle\"},{\"attributes\":{\"callback\":null,\"data\":{\"x\":{\"__ndarray__\":\"AAAAAAAAAAAAAAAAAAAAAAAAAAAAAAAAAAAAAAAAAAAAAAAAAAAAAAAAAAAAAAAAAAAAAAAAAAAAAAAAAAAAAAAAAAAAAAAA\",\"dtype\":\"float64\",\"shape\":[9]},\"y\":{\"__ndarray__\":\"mpmZmZkXo0DNzMzMTDyjQJqZmZkZPqNAAAAAAAD3o0AzMzMzM5ekQAAAAACA+aRAzczMzMzSo0CamZmZGTikQDMzMzMzqaRA\",\"dtype\":\"float64\",\"shape\":[9]}},\"selected\":{\"id\":\"c8a50944-88a6-4c55-98b8-e86f261761f0\",\"type\":\"Selection\"},\"selection_policy\":{\"id\":\"15d19978-d989-40cb-941e-36ebdaa1d967\",\"type\":\"UnionRenderers\"}},\"id\":\"b2245369-6ac2-48da-9149-3fd196660f07\",\"type\":\"ColumnDataSource\"},{\"attributes\":{},\"id\":\"15d19978-d989-40cb-941e-36ebdaa1d967\",\"type\":\"UnionRenderers\"},{\"attributes\":{},\"id\":\"c8a50944-88a6-4c55-98b8-e86f261761f0\",\"type\":\"Selection\"},{\"attributes\":{},\"id\":\"93f7cff8-0c06-4dae-a54c-e7b2a8186e1c\",\"type\":\"UnionRenderers\"},{\"attributes\":{\"line_color\":\"blue\",\"line_width\":3,\"x\":{\"field\":\"x\"},\"y\":{\"field\":\"y\"}},\"id\":\"a28b7546-fd6a-4ba9-bba3-048a6e764c54\",\"type\":\"Line\"},{\"attributes\":{},\"id\":\"aeee0ad9-870e-46ee-a2ab-3b17cf59b789\",\"type\":\"BasicTickFormatter\"},{\"attributes\":{\"fill_color\":{\"field\":\"k\"},\"line_color\":{\"field\":\"k\"},\"size\":{\"units\":\"screen\",\"value\":10},\"x\":{\"field\":\"x\"},\"y\":{\"field\":\"y\"}},\"id\":\"1e32e6af-7f47-48b4-acf2-92d2e8664a4d\",\"type\":\"Circle\"},{\"attributes\":{\"callback\":null,\"data\":{\"x\":{\"__ndarray__\":\"AAAAAAAAAAAAAAAAAAAAAAAAAAAAAAAAAAAAAAAAAAAAAAAAAAAAAAAAAAAAAAAAAAAAAAAAAAAAAAAAAAAAAAAAAAAAAAAAAAAAAAAAAAAAAAAAAAAAAAAAAAAAAAAAAAAAAAAAAAAAAAAAAAAAAAAAAAAAAAAAAAAAAAAAAAAAAAAAAAAAAAAAAAAAAAAAAAAAAAAAAAAAAAAAAAAAAAAAAAAAAAAAAAAAAAAAAAAAAAAAAAAAAAAAAAAAAAAAAAAAAAAAAAAAAAAAAAAAAAAAAAAAAAAAAAAAAAAAAAAAAAAAAAAAAAAAAAAAAAAAAAAAAAAAAAAAAAAAAAAAAAAAAAAAAAAAAAAAAAAAAAAAAAAAAAAAAAAAAAAAAAAAAAAAAAAAAAAAAAAAAAAAAAAAAAAAAAAAAAAAAAAAAAAAAAAAAAAAAAAAAAAAAAAAAAAAAAAAAAAAAAAAAAAAAAAAAAAAAAAAAAAAAAAAAAAAAAAAAAAAAAAAAAAAAAAAAAAAAAAAAAAAAAAAAAAAAAAAAAAAAAAAAAAAAAAAAAAAAAAAAAAAAAAAAAAAAAAAAAAAAAAAAAAAAAAAAAAAAAAAAAAAAAAAAAAAAAAAAAAAAAAAAAAAAAAAAAAAAAAAAAAAAAAAAAAAAAAAAAAAAAAAAAAAAAAAAAAAAAAAAAAAAAAAAAAAAAAAAAAAAAAAAAAAAAAAAAAAAAAAAAAAAAAAAAAAAAAAAAAAAAAAAAAAAAAAAAAAAAAAAAAAAAAAAAAAAAAAAAAAAAAAAAAAAAAAAAAAAAAAAAAAAAAAAAAAAAAAAAAAAAAAAAAAAAAAAAAAAAAAAAAAAAAAAAAAAAAAAAAAAAAAAAAAAAAAAAAAAAAAAAAAAAAAAAAAAAAAAAAAAAAAAAAAAAAAAAAAAAAAAAAAAAAAAAAAAAAAAAAAAAAAAAAAAAAAAAAAAAAAAAAAAAAAAAAAAAAAAAAAAAAAAAAAAAAAAAAAAAAAAAAAAAAAAAAAAAAAAAAAAAAAAAAAAAAAAAAAAAAAAAAAAAAAAAAAAAAAAAAAAAAAAAAAAAAAAAAAAAAAAAAAAAAAAAAAAAAAAAAAAAAAAAAAAAAAAAAAAAAAAAAAAAAAAAAAAAAAAAAAAAAAAAAAAAAAAAAAAAAAAAAAAAAAAAAAAAAAAAAAAAAAAAAAAAAAAAAAAAAAAAAAAAAAAAAAAAAAAAAAAAAAAAAAAAAAAAAAAAAAAAAAAAAAAAAAAAAAAAAAAAAAAAAAAAAAAAAAAAAAAAAAAAAAAAAAAAAAAAAAAAAAAAAAAAAAAAAAAAAAAAAAAAAAAAAAAAAAAAAAAAAAAAAAAAAAAAAAAAAAAAAAAAAAAAAAAAAAAAAAAAAAAAAAAAAAAAAAAAAAAAAAAAAAAAAAAAAAAAAAAAAAAAAAAAAAAAAAAAAAAAAAAAAAAAAAAAAAAAAAAAAAAAAAAAAAAAAAAAAAAAAAAAAAAAAAAAAAAAAAAAAAAAAAAAAAAAAAAAAAAAAAAAAAAAAAAAAAAAAAAAAAAAAAAAAAAAAAAAAAAAAAAAAAAAAAAAAAAAAAAAAAAAAAAAAAAAAAAAAAAAAAAAAAAAAAAAAAAAAAAAAAAAAAAAAAAAAAAAAAAAAAAAAAAAAAAAAAAAAAAAAAAAAAAAAAAAAAAAAAAAAAAAAAAAAAAAAAAAAAAAAAAAAAAAAAAAAAAAAAAAAAAAAAAAAAAAAAAAAAAAAAAAAAAAAAAAAAAAAAAAAAAAAAAAAAAAAAAAAAAAAAAAAAAAAAAAAAAAAAAAAAAAAAAAAAAAAAAAAAAAAAAAAAAAAAAAAAAAAAAAAAAAAAAAAAAAAAAAAAAAAAAAAAAAAAAAAAAAAAAAAAAAAAAAAAAAAAAAAAAAAAAAAAAAAAAAAAAAAAAAAAAAAAAAAAAAAAAAAAAAAAAAAAAAAAAAAAAAAAAAAAAAAAAAAAAAAAAAAAAAAAAAAAAAAAAAAAAAAAAAAAAAAAAAAAAAAAAAAAAAAAAAAAAAAAAAAAAAAAAAAAAAAAAAAAAAAAAAAAAAAAAAAAAAAAAAAAAAAAAAAAAAAAAAAAAAAAAAAAAAAAAAAAAAAAAAAAAAAAAAAAAAAAAAAAAAAAAAAAAAAAAAAAAAAAAAAAAAAAAAAAAAAAAAAAAAAAAAAAAAAAAAAAAAAAAAAAAAAAAAAAAAAAAAAAAAAAAAAAAAAAAAAAAAAAAAAAAAAAAAAAAAAAAAAAAAAAAAAAAAAAAAAAAAAAAAAAAAAAAAAAAAAAAAAAAAAAAAAAAAAAAAAAAAAAAAAAAAAAAAAAAAAAAAAAAAAAAAAAAAAAAAAAAAAAAAAAAAAAAAAAAAAAAAAAAAAAAAAAAAAAAAAAAAAAAAAAAAAAAAAAAAAAAAAAAAAAAAAAAAAAAAAAAAAAAAAAAAAAAAAAAAAAAAAAAAAAAAAAAAAAAAAAAAAAAAAAAAAAAAAAAAAAAAAAAAAAAAAAAAAAAAAAAAAAAAAAAAAAAAAAAAAAAAAAAAAAAAAAAAAAAAAAAAAAAAAAAAAAAAAAAAAAAAAAAAAAAAAAAAAAAAAAAAAAAAAAAAAAAAAAAAAAAAAAAAAAAAAAAAAAAAAAAAAAAAAAAAAAAAAAAA==\",\"dtype\":\"float64\",\"shape\":[248]},\"y\":{\"__ndarray__\":\"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\",\"dtype\":\"float64\",\"shape\":[248]}},\"selected\":{\"id\":\"b8e08a4a-bf50-4c54-bf9a-23b28aa9fb13\",\"type\":\"Selection\"},\"selection_policy\":{\"id\":\"93f7cff8-0c06-4dae-a54c-e7b2a8186e1c\",\"type\":\"UnionRenderers\"}},\"id\":\"2dcafe11-5f1f-4d93-a27b-2849c693d923\",\"type\":\"ColumnDataSource\"},{\"attributes\":{},\"id\":\"cf6574f9-a236-4339-9776-68d7d04c4ee2\",\"type\":\"SaveTool\"}],\"root_ids\":[\"bbac9343-3b98-4e77-995f-fb6611ad7188\"]},\"title\":\"Bokeh Application\",\"version\":\"0.13.0\"}};\n",
       "  var render_items = [{\"docid\":\"79319ee4-939f-448e-a594-4b49512ad9b1\",\"roots\":{\"bbac9343-3b98-4e77-995f-fb6611ad7188\":\"aefc4329-5df4-493a-b62a-6345835373e4\"}}];\n",
       "  root.Bokeh.embed.embed_items_notebook(docs_json, render_items);\n",
       "\n",
       "  }\n",
       "  if (root.Bokeh !== undefined) {\n",
       "    embed_document(root);\n",
       "  } else {\n",
       "    var attempts = 0;\n",
       "    var timer = setInterval(function(root) {\n",
       "      if (root.Bokeh !== undefined) {\n",
       "        embed_document(root);\n",
       "        clearInterval(timer);\n",
       "      }\n",
       "      attempts++;\n",
       "      if (attempts > 100) {\n",
       "        console.log(\"Bokeh: ERROR: Unable to run BokehJS code because BokehJS library is missing\")\n",
       "        clearInterval(timer);\n",
       "      }\n",
       "    }, 10, root)\n",
       "  }\n",
       "})(window);"
      ],
      "application/vnd.bokehjs_exec.v0+json": ""
     },
     "metadata": {
      "application/vnd.bokehjs_exec.v0+json": {
       "id": "bbac9343-3b98-4e77-995f-fb6611ad7188"
      }
     },
     "output_type": "display_data"
    },
    {
     "name": "stderr",
     "output_type": "stream",
     "text": [
      "ERROR:bokeh.core.validation.check:E-1001 (BAD_COLUMN_NAME): Glyph refers to nonexistent column name: k [renderer: GlyphRenderer(id='036f0949-a089-4de0-8f33-f4636db3e6e1', ...)]\n",
      "ERROR:bokeh.core.validation.check:E-1001 (BAD_COLUMN_NAME): Glyph refers to nonexistent column name: k [renderer: GlyphRenderer(id='7dde578f-36c0-496d-847a-327e75827b2b', ...)]\n",
      "ERROR:bokeh.core.validation.check:E-1001 (BAD_COLUMN_NAME): Glyph refers to nonexistent column name: k [renderer: GlyphRenderer(id='b0c4e087-d062-4f9a-a442-20fdf66eff7a', ...)]\n",
      "ERROR:bokeh.core.validation.check:E-1001 (BAD_COLUMN_NAME): Glyph refers to nonexistent column name: k [renderer: GlyphRenderer(id='8a332173-ff19-4fc7-a301-1388d640c612', ...)]\n",
      "ERROR:bokeh.core.validation.check:E-1001 (BAD_COLUMN_NAME): Glyph refers to nonexistent column name: k [renderer: GlyphRenderer(id='0dccaf0e-b525-4386-9b88-986f8212ef5f', ...)]\n",
      "ERROR:bokeh.core.validation.check:E-1001 (BAD_COLUMN_NAME): Glyph refers to nonexistent column name: k [renderer: GlyphRenderer(id='fd9303ac-9184-43ad-9402-01e31349256b', ...)]\n",
      "ERROR:bokeh.core.validation.check:E-1001 (BAD_COLUMN_NAME): Glyph refers to nonexistent column name: k [renderer: GlyphRenderer(id='7111a5ad-da32-4c10-ba14-b35ec34cd25f', ...)]\n",
      "ERROR:bokeh.core.validation.check:E-1001 (BAD_COLUMN_NAME): Glyph refers to nonexistent column name: k [renderer: GlyphRenderer(id='e7872765-6722-4490-993a-bace488f5645', ...)]\n",
      "ERROR:bokeh.core.validation.check:E-1001 (BAD_COLUMN_NAME): Glyph refers to nonexistent column name: k [renderer: GlyphRenderer(id='30ea4dc2-61b3-4d9f-9494-bb9ad6b0b40e', ...)]\n"
     ]
    }
   ],
   "source": [
    "bokeh_plotting(tcs)"
   ]
  },
  {
   "cell_type": "code",
   "execution_count": 167,
   "metadata": {},
   "outputs": [
    {
     "name": "stderr",
     "output_type": "stream",
     "text": [
      "ERROR:bokeh.core.validation.check:E-1001 (BAD_COLUMN_NAME): Glyph refers to nonexistent column name: k [renderer: GlyphRenderer(id='d8e4e8cd-5ebc-40c9-af8c-11a467bcff12', ...)]\n"
     ]
    },
    {
     "data": {
      "text/html": [
       "\n",
       "\n",
       "\n",
       "\n",
       "\n",
       "\n",
       "  <div class=\"bk-root\" id=\"64e25e69-c7b3-43e5-857c-467835e8f0cf\"></div>\n"
      ]
     },
     "metadata": {},
     "output_type": "display_data"
    },
    {
     "data": {
      "application/javascript": [
       "(function(root) {\n",
       "  function embed_document(root) {\n",
       "    \n",
       "  var docs_json = {\"2957b534-59a8-46b1-b030-670ea39b6e94\":{\"roots\":{\"references\":[{\"attributes\":{\"fill_alpha\":{\"value\":0.1},\"fill_color\":{\"value\":\"#1f77b4\"},\"line_alpha\":{\"value\":0.1},\"line_color\":{\"value\":\"#1f77b4\"},\"size\":{\"units\":\"screen\",\"value\":10},\"x\":{\"field\":\"x\"},\"y\":{\"field\":\"y\"}},\"id\":\"4e7589d0-5b31-4d0a-9471-56ba6d8e85ff\",\"type\":\"Circle\"},{\"attributes\":{},\"id\":\"30069f91-9ae2-4fb5-97ec-f837c0d72660\",\"type\":\"BasicTicker\"},{\"attributes\":{},\"id\":\"e0de27f4-a8f3-4c27-aeba-4e6bc0147de7\",\"type\":\"UnionRenderers\"},{\"attributes\":{\"source\":{\"id\":\"565e4c6a-dfa0-481f-b5e8-1dafde534cf8\",\"type\":\"ColumnDataSource\"}},\"id\":\"506b0f22-ff4a-4fad-81a3-6f9cabf7e47b\",\"type\":\"CDSView\"},{\"attributes\":{},\"id\":\"16f29299-0f37-4d76-86fb-61d659c306a3\",\"type\":\"LinearScale\"},{\"attributes\":{\"plot\":null,\"text\":\"Closing Price for NIFTY IT\"},\"id\":\"02a7f6e9-b5f7-47e6-991c-b06d6b2304bf\",\"type\":\"Title\"},{\"attributes\":{},\"id\":\"ee75aa7f-453d-41fa-89ae-0a35cd994fe7\",\"type\":\"WheelZoomTool\"},{\"attributes\":{},\"id\":\"66f76299-2dea-479b-b1d1-ca13440d6120\",\"type\":\"ResetTool\"},{\"attributes\":{\"callback\":null},\"id\":\"9fd2b088-052e-4260-b0e8-52948929ee5e\",\"type\":\"DataRange1d\"},{\"attributes\":{\"line_alpha\":0.1,\"line_color\":\"#1f77b4\",\"line_width\":3,\"x\":{\"field\":\"x\"},\"y\":{\"field\":\"y\"}},\"id\":\"8495926f-83af-4d27-8f31-210eac20ba28\",\"type\":\"Line\"},{\"attributes\":{\"callback\":null,\"data\":{\"x\":{\"__ndarray__\":\"AAAAAAAAAAAAAAAAAAAAAAAAAAAAAAAAAAAAAAAAAAAAAAAAAAAAAAAAAAAAAAAAAAAAAAAAAAAAAAAAAAAAAAAAAAAAAAAAAAAAAAAAAAAAAAAAAAAAAAAAAAAAAAAAAAAAAAAAAAAAAAAAAAAAAAAAAAAAAAAAAAAAAAAAAAAAAAAAAAAAAAAAAAAAAAAAAAAAAAAAAAAAAAAAAAAAAAAAAAAAAAAAAAAAAAAAAAAAAAAAAAAAAAAAAAAAAAAAAAAAAAAAAAAAAAAAAAAAAAAAAAAAAAAAAAAAAAAAAAAAAAAAAAAAAAAAAAAAAAAAAAAAAAAAAAAAAAAAAAAAAAAAAAAAAAAAAAAAAAAAAAAAAAAAAAAAAAAAAAAAAAAAAAAAAAAAAAAAAAAAAAAAAAAAAAAAAAAAAAAAAAAAAAAAAAAAAAAAAAAAAAAAAAAAAAAAAAAAAAAAAAAAAAAAAAAAAAAAAAAAAAAAAAAAAAAAAAAAAAAAAAAAAAAAAAAAAAAAAAAAAAAAAAAAAAAAAAAAAAAAAAAAAAAAAAAAAAAAAAAAAAAAAAAAAAAAAAAAAAAAAAAAAAAAAAAAAAAAAAAAAAAAAAAAAAAAAAAAAAAAAAAAAAAAAAAAAAAAAAAAAAAAAAAAAAAAAAAAAAAAAAAAAAAAAAAAAAAAAAAAAAAAAAAAAAAAAAAAAAAAAAAAAAAAAAAAAAAAAAAAAAAAAAAAAAAAAAAAAAAAAAAAAAAAAAAAAAAAAAAAAAAAAAAAAAAAAAAAAAAAAAAAAAAAAAAAAAAAAAAAAAAAAAAAAAAAAAAAAAAAAAAAAAAAAAAAAAAAAAAAAAAAAAAAAAAAAAAAAAAAAAAAAAAAAAAAAAAAAAAAAAAAAAAAAAAAAAAAAAAAAAAAAAAAAAAAAAAAAAAAAAAAAAAAAAAAAAAAAAAAAAAAAAAAAAAAAAAAAAAAAAAAAAAAAAAAAAAAAAAAAAAAAAAAAAAAAAAAAAAAAAAAAAAAAAAAAAAAAAAAAAAAAAAAAAAAAAAAAAAAAAAAAAAAAAAAAAAAAAAAAAAAAAAAAAAAAAAAAAAAAAAAAAAAAAAAAAAAAAAAAAAAAAAAAAAAAAAAAAAAAAAAAAAAAAAAAAAAAAAAAAAAAAAAAAAAAAAAAAAAAAAAAAAAAAAAAAAAAAAAAAAAAAAAAAAAAAAAAAAAAAAAAAAAAAAAAAAAAAAAAAAAAAAAAAAAAAAAAAAAAAAAAAAAAAAAAAAAAAAAAAAAAAAAAAAAAAAAAAAAAAAAAAAAAAAAAAAAAAAAAAAAAAAAAAAAAAAAAAAAAAAAAAAAAAAAAAAAAAAAAAAAAAAAAAAAAAAAAAAAAAAAAAAAAAAAAAAAAAAAAAAAAAAAAAAAAAAAAAAAAAAAAAAAAAAAAAAAAAAAAAAAAAAAAAAAAAAAAAAAAAAAAAAAAAAAAAAAAAAAAAAAAAAAAAAAAAAAAAAAAAAAAAAAAAAAAAAAAAAAAAAAAAAAAAAAAAAAAAAAAAAAAAAAAAAAAAAAAAAAAAAAAAAAAAAAAAAAAAAAAAAAAAAAAAAAAAAAAAAAAAAAAAAAAAAAAAAAAAAAAAAAAAAAAAAAAAAAAAAAAAAAAAAAAAAAAAAAAAAAAAAAAAAAAAAAAAAAAAAAAAAAAAAAAAAAAAAAAAAAAAAAAAAAAAAAAAAAAAAAAAAAAAAAAAAAAAAAAAAAAAAAAAAAAAAAAAAAAAAAAAAAAAAAAAAAAAAAAAAAAAAAAAAAAAAAAAAAAAAAAAAAAAAAAAAAAAAAAAAAAAAAAAAAAAAAAAAAAAAAAAAAAAAAAAAAAAAAAAAAAAAAAAAAAAAAAAAAAAAAAAAAAAAAAAAAAAAAAAAAAAAAAAAAAAAAAAAAAAAAAAAAAAAAAAAAAAAAAAAAAAAAAAAAAAAAAAAAAAAAAAAAAAAAAAAAAAAAAAAAAAAAAAAAAAAAAAAAAAAAAAAAAAAAAAAAAAAAAAAAAAAAAAAAAAAAAAAAAAAAAAAAAAAAAAAAAAAAAAAAAAAAAAAAAAAAAAAAAAAAAAAAAAAAAAAAAAAAAAAAAAAAAAAAAAAAAAAAAAAAAAAAAAAAAAAAAAAAAAAAAAAAAAAAAAAAAAAAAAAAAAAAAAAAAAAAAAAAAAAAAAAAAAAAAAAAAAAAAAAAAAAAAAAAAAAAAAAAAAAAAAAAAAAAAAAAAAAAAAAAAAAAAAAAAAAAAAAAAAAAAAAAAAAAAAAAAAAAAAAAAAAAAAAAAAAAAAAAAAAAAAAAAAAAAAAAAAAAAAAAAAAAAAAAAAAAAAAAAAAAAAAAAAAAAAAAAAAAAAAAAAAAAAAAAAAAAAAAAAAAAAAAAAAAAAAAAAAAAAAAAAAAAAAAAAAAAAAAAAAAAAAAAAAAAAAAAAAAAAAAAAAAAAAAAAAAAAAAAAAAAAAAAAAAAAAAAAAAAAAAAAAAAAAAAAAAAAAAAAAAAAAAAAAAAAAAAAAAAAAAAAAAAAAAAAAAAAAAAAAAAAAAAAAAAAAAAAAAAAAAAAAAAAAAAAAAAAAAAAAAAAAAAAAAAAAAAAAAAAAAAAAAAAAAAAAAAAAAAAAAAAAAAAAAAAAAAAAAAAAAAAAAAAAAAAAAAAAAAAAAAAAAAA==\",\"dtype\":\"float64\",\"shape\":[248]},\"y\":{\"__ndarray__\":\"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\",\"dtype\":\"float64\",\"shape\":[248]}},\"selected\":{\"id\":\"6ae068ad-d9d1-48db-8b9c-76613df8d760\",\"type\":\"Selection\"},\"selection_policy\":{\"id\":\"bc38a995-b464-4fe4-b698-090ff895b267\",\"type\":\"UnionRenderers\"}},\"id\":\"9ccb4894-3202-45dd-a828-e269a3de7fb0\",\"type\":\"ColumnDataSource\"},{\"attributes\":{\"axis_label\":\"Closing Price\",\"formatter\":{\"id\":\"9c99e043-41a3-4804-be68-3fe4c4026d9c\",\"type\":\"BasicTickFormatter\"},\"plot\":{\"id\":\"a5836186-cd2e-4ca3-a49f-da26231673dc\",\"subtype\":\"Figure\",\"type\":\"Plot\"},\"ticker\":{\"id\":\"8b423334-275a-4ec8-a651-b19e297a3b63\",\"type\":\"BasicTicker\"}},\"id\":\"c96114b3-b610-40a2-9af8-99e987a192f3\",\"type\":\"LinearAxis\"},{\"attributes\":{\"fill_color\":{\"field\":\"k\"},\"line_color\":{\"field\":\"k\"},\"size\":{\"units\":\"screen\",\"value\":10},\"x\":{\"field\":\"x\"},\"y\":{\"field\":\"y\"}},\"id\":\"f92f79c8-2097-457c-b087-d8355da389be\",\"type\":\"Circle\"},{\"attributes\":{},\"id\":\"e0a94fa1-630d-4f47-96cc-15bdfc2a6760\",\"type\":\"Selection\"},{\"attributes\":{\"dimension\":1,\"plot\":{\"id\":\"a5836186-cd2e-4ca3-a49f-da26231673dc\",\"subtype\":\"Figure\",\"type\":\"Plot\"},\"ticker\":{\"id\":\"8b423334-275a-4ec8-a651-b19e297a3b63\",\"type\":\"BasicTicker\"}},\"id\":\"37278608-8eec-4c76-8596-c1600fa19838\",\"type\":\"Grid\"},{\"attributes\":{\"source\":{\"id\":\"9ccb4894-3202-45dd-a828-e269a3de7fb0\",\"type\":\"ColumnDataSource\"}},\"id\":\"098643f6-7919-48b3-9144-d6b13bd1bde2\",\"type\":\"CDSView\"},{\"attributes\":{},\"id\":\"4a203ea1-e4a5-450a-b275-936675d749fa\",\"type\":\"LinearScale\"},{\"attributes\":{\"data_source\":{\"id\":\"9ccb4894-3202-45dd-a828-e269a3de7fb0\",\"type\":\"ColumnDataSource\"},\"glyph\":{\"id\":\"e6830e72-d8c0-4fda-8d8d-5d7063ffc7ba\",\"type\":\"Line\"},\"hover_glyph\":null,\"muted_glyph\":null,\"nonselection_glyph\":{\"id\":\"8495926f-83af-4d27-8f31-210eac20ba28\",\"type\":\"Line\"},\"selection_glyph\":null,\"view\":{\"id\":\"098643f6-7919-48b3-9144-d6b13bd1bde2\",\"type\":\"CDSView\"}},\"id\":\"1c0f003d-e8fb-4f70-b533-099a49b31316\",\"type\":\"GlyphRenderer\"},{\"attributes\":{},\"id\":\"6ae068ad-d9d1-48db-8b9c-76613df8d760\",\"type\":\"Selection\"},{\"attributes\":{\"below\":[{\"id\":\"58d6e9b0-c07f-4ad5-b5d9-fc898e717fbf\",\"type\":\"LinearAxis\"}],\"left\":[{\"id\":\"c96114b3-b610-40a2-9af8-99e987a192f3\",\"type\":\"LinearAxis\"}],\"plot_height\":400,\"plot_width\":800,\"renderers\":[{\"id\":\"58d6e9b0-c07f-4ad5-b5d9-fc898e717fbf\",\"type\":\"LinearAxis\"},{\"id\":\"5e3bdb52-f938-4106-804f-0d101f300786\",\"type\":\"Grid\"},{\"id\":\"c96114b3-b610-40a2-9af8-99e987a192f3\",\"type\":\"LinearAxis\"},{\"id\":\"37278608-8eec-4c76-8596-c1600fa19838\",\"type\":\"Grid\"},{\"id\":\"4ccab15d-1c42-40b5-9f54-7765cc37eb36\",\"type\":\"BoxAnnotation\"},{\"id\":\"d8e4e8cd-5ebc-40c9-af8c-11a467bcff12\",\"type\":\"GlyphRenderer\"},{\"id\":\"1c0f003d-e8fb-4f70-b533-099a49b31316\",\"type\":\"GlyphRenderer\"}],\"title\":{\"id\":\"02a7f6e9-b5f7-47e6-991c-b06d6b2304bf\",\"type\":\"Title\"},\"toolbar\":{\"id\":\"f06fd8b9-8226-46af-a6b0-64014222c07b\",\"type\":\"Toolbar\"},\"x_range\":{\"id\":\"0edb9a18-3319-43e4-9756-06d5e5d9612d\",\"type\":\"DataRange1d\"},\"x_scale\":{\"id\":\"4a203ea1-e4a5-450a-b275-936675d749fa\",\"type\":\"LinearScale\"},\"y_range\":{\"id\":\"9fd2b088-052e-4260-b0e8-52948929ee5e\",\"type\":\"DataRange1d\"},\"y_scale\":{\"id\":\"16f29299-0f37-4d76-86fb-61d659c306a3\",\"type\":\"LinearScale\"}},\"id\":\"a5836186-cd2e-4ca3-a49f-da26231673dc\",\"subtype\":\"Figure\",\"type\":\"Plot\"},{\"attributes\":{},\"id\":\"bc38a995-b464-4fe4-b698-090ff895b267\",\"type\":\"UnionRenderers\"},{\"attributes\":{\"plot\":{\"id\":\"a5836186-cd2e-4ca3-a49f-da26231673dc\",\"subtype\":\"Figure\",\"type\":\"Plot\"},\"ticker\":{\"id\":\"30069f91-9ae2-4fb5-97ec-f837c0d72660\",\"type\":\"BasicTicker\"}},\"id\":\"5e3bdb52-f938-4106-804f-0d101f300786\",\"type\":\"Grid\"},{\"attributes\":{\"active_drag\":\"auto\",\"active_inspect\":\"auto\",\"active_multi\":null,\"active_scroll\":\"auto\",\"active_tap\":\"auto\",\"tools\":[{\"id\":\"c2c7426a-78d1-436b-a321-69139aaf0aed\",\"type\":\"SaveTool\"},{\"id\":\"93852a1e-14d7-4867-b48f-7063f2ecc0f3\",\"type\":\"PanTool\"},{\"id\":\"3629ede5-f898-40a4-bc98-4d88e6c3c8e6\",\"type\":\"BoxZoomTool\"},{\"id\":\"66f76299-2dea-479b-b1d1-ca13440d6120\",\"type\":\"ResetTool\"},{\"id\":\"ee75aa7f-453d-41fa-89ae-0a35cd994fe7\",\"type\":\"WheelZoomTool\"},{\"id\":\"8049fb6c-9439-4883-beb9-b90e5c86a257\",\"type\":\"HoverTool\"}]},\"id\":\"f06fd8b9-8226-46af-a6b0-64014222c07b\",\"type\":\"Toolbar\"},{\"attributes\":{\"callback\":null},\"id\":\"0edb9a18-3319-43e4-9756-06d5e5d9612d\",\"type\":\"DataRange1d\"},{\"attributes\":{\"line_color\":\"blue\",\"line_width\":3,\"x\":{\"field\":\"x\"},\"y\":{\"field\":\"y\"}},\"id\":\"e6830e72-d8c0-4fda-8d8d-5d7063ffc7ba\",\"type\":\"Line\"},{\"attributes\":{\"data_source\":{\"id\":\"565e4c6a-dfa0-481f-b5e8-1dafde534cf8\",\"type\":\"ColumnDataSource\"},\"glyph\":{\"id\":\"f92f79c8-2097-457c-b087-d8355da389be\",\"type\":\"Circle\"},\"hover_glyph\":null,\"muted_glyph\":null,\"nonselection_glyph\":{\"id\":\"4e7589d0-5b31-4d0a-9471-56ba6d8e85ff\",\"type\":\"Circle\"},\"selection_glyph\":null,\"view\":{\"id\":\"506b0f22-ff4a-4fad-81a3-6f9cabf7e47b\",\"type\":\"CDSView\"}},\"id\":\"d8e4e8cd-5ebc-40c9-af8c-11a467bcff12\",\"type\":\"GlyphRenderer\"},{\"attributes\":{\"axis_label\":\"Time\",\"formatter\":{\"id\":\"7179c4e5-f60b-486c-9a04-be2e03bf5f2b\",\"type\":\"BasicTickFormatter\"},\"plot\":{\"id\":\"a5836186-cd2e-4ca3-a49f-da26231673dc\",\"subtype\":\"Figure\",\"type\":\"Plot\"},\"ticker\":{\"id\":\"30069f91-9ae2-4fb5-97ec-f837c0d72660\",\"type\":\"BasicTicker\"}},\"id\":\"58d6e9b0-c07f-4ad5-b5d9-fc898e717fbf\",\"type\":\"LinearAxis\"},{\"attributes\":{\"bottom_units\":\"screen\",\"fill_alpha\":{\"value\":0.5},\"fill_color\":{\"value\":\"lightgrey\"},\"left_units\":\"screen\",\"level\":\"overlay\",\"line_alpha\":{\"value\":1.0},\"line_color\":{\"value\":\"black\"},\"line_dash\":[4,4],\"line_width\":{\"value\":2},\"plot\":null,\"render_mode\":\"css\",\"right_units\":\"screen\",\"top_units\":\"screen\"},\"id\":\"4ccab15d-1c42-40b5-9f54-7765cc37eb36\",\"type\":\"BoxAnnotation\"},{\"attributes\":{},\"id\":\"9c99e043-41a3-4804-be68-3fe4c4026d9c\",\"type\":\"BasicTickFormatter\"},{\"attributes\":{},\"id\":\"c2c7426a-78d1-436b-a321-69139aaf0aed\",\"type\":\"SaveTool\"},{\"attributes\":{\"callback\":null,\"data\":{\"x\":{\"__ndarray__\":\"AAAAAAAAAAAAAAAAAAAAAA==\",\"dtype\":\"float64\",\"shape\":[2]},\"y\":{\"__ndarray__\":\"mpmZmXkBxkAAAAAAANfGQA==\",\"dtype\":\"float64\",\"shape\":[2]}},\"selected\":{\"id\":\"e0a94fa1-630d-4f47-96cc-15bdfc2a6760\",\"type\":\"Selection\"},\"selection_policy\":{\"id\":\"e0de27f4-a8f3-4c27-aeba-4e6bc0147de7\",\"type\":\"UnionRenderers\"}},\"id\":\"565e4c6a-dfa0-481f-b5e8-1dafde534cf8\",\"type\":\"ColumnDataSource\"},{\"attributes\":{\"overlay\":{\"id\":\"4ccab15d-1c42-40b5-9f54-7765cc37eb36\",\"type\":\"BoxAnnotation\"}},\"id\":\"3629ede5-f898-40a4-bc98-4d88e6c3c8e6\",\"type\":\"BoxZoomTool\"},{\"attributes\":{},\"id\":\"8b423334-275a-4ec8-a651-b19e297a3b63\",\"type\":\"BasicTicker\"},{\"attributes\":{},\"id\":\"93852a1e-14d7-4867-b48f-7063f2ecc0f3\",\"type\":\"PanTool\"},{\"attributes\":{\"callback\":null,\"renderers\":\"auto\",\"tooltips\":[[\"time\",\"@x\"],[\"Closing Price\",\"@y\"]]},\"id\":\"8049fb6c-9439-4883-beb9-b90e5c86a257\",\"type\":\"HoverTool\"},{\"attributes\":{},\"id\":\"7179c4e5-f60b-486c-9a04-be2e03bf5f2b\",\"type\":\"BasicTickFormatter\"}],\"root_ids\":[\"a5836186-cd2e-4ca3-a49f-da26231673dc\"]},\"title\":\"Bokeh Application\",\"version\":\"0.13.0\"}};\n",
       "  var render_items = [{\"docid\":\"2957b534-59a8-46b1-b030-670ea39b6e94\",\"roots\":{\"a5836186-cd2e-4ca3-a49f-da26231673dc\":\"64e25e69-c7b3-43e5-857c-467835e8f0cf\"}}];\n",
       "  root.Bokeh.embed.embed_items_notebook(docs_json, render_items);\n",
       "\n",
       "  }\n",
       "  if (root.Bokeh !== undefined) {\n",
       "    embed_document(root);\n",
       "  } else {\n",
       "    var attempts = 0;\n",
       "    var timer = setInterval(function(root) {\n",
       "      if (root.Bokeh !== undefined) {\n",
       "        embed_document(root);\n",
       "        clearInterval(timer);\n",
       "      }\n",
       "      attempts++;\n",
       "      if (attempts > 100) {\n",
       "        console.log(\"Bokeh: ERROR: Unable to run BokehJS code because BokehJS library is missing\")\n",
       "        clearInterval(timer);\n",
       "      }\n",
       "    }, 10, root)\n",
       "  }\n",
       "})(window);"
      ],
      "application/vnd.bokehjs_exec.v0+json": ""
     },
     "metadata": {
      "application/vnd.bokehjs_exec.v0+json": {
       "id": "a5836186-cd2e-4ca3-a49f-da26231673dc"
      }
     },
     "output_type": "display_data"
    },
    {
     "name": "stderr",
     "output_type": "stream",
     "text": [
      "ERROR:bokeh.core.validation.check:E-1001 (BAD_COLUMN_NAME): Glyph refers to nonexistent column name: k [renderer: GlyphRenderer(id='036f0949-a089-4de0-8f33-f4636db3e6e1', ...)]\n",
      "ERROR:bokeh.core.validation.check:E-1001 (BAD_COLUMN_NAME): Glyph refers to nonexistent column name: k [renderer: GlyphRenderer(id='7dde578f-36c0-496d-847a-327e75827b2b', ...)]\n",
      "ERROR:bokeh.core.validation.check:E-1001 (BAD_COLUMN_NAME): Glyph refers to nonexistent column name: k [renderer: GlyphRenderer(id='b0c4e087-d062-4f9a-a442-20fdf66eff7a', ...)]\n",
      "ERROR:bokeh.core.validation.check:E-1001 (BAD_COLUMN_NAME): Glyph refers to nonexistent column name: k [renderer: GlyphRenderer(id='8a332173-ff19-4fc7-a301-1388d640c612', ...)]\n",
      "ERROR:bokeh.core.validation.check:E-1001 (BAD_COLUMN_NAME): Glyph refers to nonexistent column name: k [renderer: GlyphRenderer(id='0dccaf0e-b525-4386-9b88-986f8212ef5f', ...)]\n",
      "ERROR:bokeh.core.validation.check:E-1001 (BAD_COLUMN_NAME): Glyph refers to nonexistent column name: k [renderer: GlyphRenderer(id='fd9303ac-9184-43ad-9402-01e31349256b', ...)]\n",
      "ERROR:bokeh.core.validation.check:E-1001 (BAD_COLUMN_NAME): Glyph refers to nonexistent column name: k [renderer: GlyphRenderer(id='7111a5ad-da32-4c10-ba14-b35ec34cd25f', ...)]\n",
      "ERROR:bokeh.core.validation.check:E-1001 (BAD_COLUMN_NAME): Glyph refers to nonexistent column name: k [renderer: GlyphRenderer(id='e7872765-6722-4490-993a-bace488f5645', ...)]\n",
      "ERROR:bokeh.core.validation.check:E-1001 (BAD_COLUMN_NAME): Glyph refers to nonexistent column name: k [renderer: GlyphRenderer(id='30ea4dc2-61b3-4d9f-9494-bb9ad6b0b40e', ...)]\n",
      "ERROR:bokeh.core.validation.check:E-1001 (BAD_COLUMN_NAME): Glyph refers to nonexistent column name: k [renderer: GlyphRenderer(id='d8e4e8cd-5ebc-40c9-af8c-11a467bcff12', ...)]\n"
     ]
    }
   ],
   "source": [
    "bokeh_plotting(nifty_IT)"
   ]
  },
  {
   "cell_type": "markdown",
   "metadata": {},
   "source": [
    "### Autocorrelation Plot"
   ]
  },
  {
   "cell_type": "code",
   "execution_count": 168,
   "metadata": {},
   "outputs": [],
   "source": [
    "from statsmodels.tsa.stattools import acf, pacf\n",
    "\n",
    "def draw_pacf(df):\n",
    "    \n",
    "    lags = 50\n",
    "\n",
    "    x = list(range(lags))\n",
    "\n",
    "    p = figure(plot_height=500, title=\"Partial Autocorrelation PLot {}\" .format(df.name))\n",
    "\n",
    "    partial_autocorr = pacf(df.Close, nlags=lags)\n",
    "    p.vbar(x=x, top=partial_autocorr, width=0.9)\n",
    "    show(p)"
   ]
  },
  {
   "cell_type": "code",
   "execution_count": 169,
   "metadata": {},
   "outputs": [
    {
     "data": {
      "text/html": [
       "\n",
       "\n",
       "\n",
       "\n",
       "\n",
       "\n",
       "  <div class=\"bk-root\" id=\"13c9bce7-815a-4eba-b294-26e21d2b3a34\"></div>\n"
      ]
     },
     "metadata": {},
     "output_type": "display_data"
    },
    {
     "data": {
      "application/javascript": [
       "(function(root) {\n",
       "  function embed_document(root) {\n",
       "    \n",
       "  var docs_json = {\"8ee30460-d1b1-4ef0-91b5-6168f8f2ef51\":{\"roots\":{\"references\":[{\"attributes\":{\"callback\":null},\"id\":\"c6175784-e69e-4828-8271-c2068b2b1a7c\",\"type\":\"DataRange1d\"},{\"attributes\":{\"dimension\":1,\"plot\":{\"id\":\"1bd583ba-c470-4991-87ec-5adb82a63018\",\"subtype\":\"Figure\",\"type\":\"Plot\"},\"ticker\":{\"id\":\"d8361a60-eb48-48d8-a285-71582b8aba8c\",\"type\":\"BasicTicker\"}},\"id\":\"f7c20d57-374e-48f7-aad0-13581786bf2a\",\"type\":\"Grid\"},{\"attributes\":{\"plot\":null,\"text\":\"Partial Autocorrelation PLot INFY\"},\"id\":\"6d6dd420-3f72-4343-b203-f6bb20adb65f\",\"type\":\"Title\"},{\"attributes\":{},\"id\":\"20001780-aa79-4754-8109-7d6cb736ee9f\",\"type\":\"Selection\"},{\"attributes\":{\"plot\":{\"id\":\"1bd583ba-c470-4991-87ec-5adb82a63018\",\"subtype\":\"Figure\",\"type\":\"Plot\"},\"ticker\":{\"id\":\"19ca4b68-0c7d-4349-9239-32cab29e923f\",\"type\":\"BasicTicker\"}},\"id\":\"a7cde09d-0e8e-46ce-940d-66ad8852efba\",\"type\":\"Grid\"},{\"attributes\":{},\"id\":\"b5a71076-bc5d-4f6a-a276-d45765ea593d\",\"type\":\"BasicTickFormatter\"},{\"attributes\":{\"below\":[{\"id\":\"ded9b761-6991-499a-8d10-83efd82bb9cb\",\"type\":\"LinearAxis\"}],\"left\":[{\"id\":\"b9743d18-5ae9-4a1c-b75a-2c4eec7f4615\",\"type\":\"LinearAxis\"}],\"plot_height\":500,\"renderers\":[{\"id\":\"ded9b761-6991-499a-8d10-83efd82bb9cb\",\"type\":\"LinearAxis\"},{\"id\":\"a7cde09d-0e8e-46ce-940d-66ad8852efba\",\"type\":\"Grid\"},{\"id\":\"b9743d18-5ae9-4a1c-b75a-2c4eec7f4615\",\"type\":\"LinearAxis\"},{\"id\":\"f7c20d57-374e-48f7-aad0-13581786bf2a\",\"type\":\"Grid\"},{\"id\":\"7c2e4d64-5e19-4038-bf6a-595d53b0d226\",\"type\":\"BoxAnnotation\"},{\"id\":\"0924bb9d-4657-4c44-960e-0ea5d5455ec9\",\"type\":\"GlyphRenderer\"}],\"title\":{\"id\":\"6d6dd420-3f72-4343-b203-f6bb20adb65f\",\"type\":\"Title\"},\"toolbar\":{\"id\":\"bc636df1-b9c4-42c1-993e-5749c1412c01\",\"type\":\"Toolbar\"},\"x_range\":{\"id\":\"c6175784-e69e-4828-8271-c2068b2b1a7c\",\"type\":\"DataRange1d\"},\"x_scale\":{\"id\":\"a6a5d6c7-a6f9-40d7-b20d-39d8933fe755\",\"type\":\"LinearScale\"},\"y_range\":{\"id\":\"17c9570b-2fbf-4544-9576-86ec9d56c754\",\"type\":\"DataRange1d\"},\"y_scale\":{\"id\":\"e8e61621-65d7-4c1b-ad1c-bad713fe8970\",\"type\":\"LinearScale\"}},\"id\":\"1bd583ba-c470-4991-87ec-5adb82a63018\",\"subtype\":\"Figure\",\"type\":\"Plot\"},{\"attributes\":{\"data_source\":{\"id\":\"df3f2f7b-272a-496e-81c6-b7da97448a6e\",\"type\":\"ColumnDataSource\"},\"glyph\":{\"id\":\"79afa6fc-cba5-43e7-8045-ec29236a1990\",\"type\":\"VBar\"},\"hover_glyph\":null,\"muted_glyph\":null,\"nonselection_glyph\":{\"id\":\"d50c5180-3b85-4b21-b274-a1068965725f\",\"type\":\"VBar\"},\"selection_glyph\":null,\"view\":{\"id\":\"6e05ba6b-829e-46b8-a913-d9e69b973f93\",\"type\":\"CDSView\"}},\"id\":\"0924bb9d-4657-4c44-960e-0ea5d5455ec9\",\"type\":\"GlyphRenderer\"},{\"attributes\":{},\"id\":\"d1407a9e-f9b0-43ea-8cb2-e3f48981cffe\",\"type\":\"BasicTickFormatter\"},{\"attributes\":{\"callback\":null},\"id\":\"17c9570b-2fbf-4544-9576-86ec9d56c754\",\"type\":\"DataRange1d\"},{\"attributes\":{},\"id\":\"15831d56-145c-4e02-a545-24f2c087fe0a\",\"type\":\"ResetTool\"},{\"attributes\":{},\"id\":\"19ca4b68-0c7d-4349-9239-32cab29e923f\",\"type\":\"BasicTicker\"},{\"attributes\":{\"active_drag\":\"auto\",\"active_inspect\":\"auto\",\"active_multi\":null,\"active_scroll\":\"auto\",\"active_tap\":\"auto\",\"tools\":[{\"id\":\"5920f981-a631-4a33-801d-58d8b64c84c2\",\"type\":\"PanTool\"},{\"id\":\"387413e9-8b1e-4f79-a26d-4ae393597d4a\",\"type\":\"WheelZoomTool\"},{\"id\":\"ebdeffe8-ec0d-499c-ad10-237d5824bdc6\",\"type\":\"BoxZoomTool\"},{\"id\":\"430b77fc-bfaa-4739-81c6-cfce10eb2d21\",\"type\":\"SaveTool\"},{\"id\":\"15831d56-145c-4e02-a545-24f2c087fe0a\",\"type\":\"ResetTool\"},{\"id\":\"46de0df0-db93-4743-a9b2-d15856d8eb54\",\"type\":\"HelpTool\"}]},\"id\":\"bc636df1-b9c4-42c1-993e-5749c1412c01\",\"type\":\"Toolbar\"},{\"attributes\":{\"fill_alpha\":{\"value\":0.1},\"fill_color\":{\"value\":\"#1f77b4\"},\"line_alpha\":{\"value\":0.1},\"line_color\":{\"value\":\"#1f77b4\"},\"top\":{\"field\":\"top\"},\"width\":{\"value\":0.9},\"x\":{\"field\":\"x\"}},\"id\":\"d50c5180-3b85-4b21-b274-a1068965725f\",\"type\":\"VBar\"},{\"attributes\":{\"callback\":null,\"data\":{\"top\":{\"__ndarray__\":\"AAAAAAAA8D/Iw2K0RsfvP4OnulGdrKe/hdoKptvtmL8KfoZGDjOzP6Wi62NPRKm/SK+24y9AgT84WIKwPFe5v1XvQaB4zpS/rbR1SDyfkj9C6dDvb26xv29oDDsXAJY/6jBePFhNj7/zZHibRj6yP0TWumBQgri/lrzWqi94qb8LfN7Mi0eovxPoTW7ZCYa/oeJ/qyIHPD8994Uymi2kv630ZoO1TqQ/KdDE8aXipz/E90Vg26KoP4bDh15pwIM/7mFjG3m6nr9iGVuZWCyqv8/oRsV15I2/4Hpbp8w8vz/uQ+w87OSsv8g+Z98TKqy/OHCkKV+SpL85BA9hLXWwPzrbxlOrW5W/+MFDJmnikL/AKDTc/EKwvwf16uAE1pi/o+XRX6Xxwr99pLfHfoO2v4ktMc+xNKA/u+lbtI/GoT8osWl2tsCxv4Gsvt8b/7O/VTS47I0HjD8bEk4MY0miP0kVf5p2JYs/II+gqnz5jb/UYcH8mCSKPwKgqT0djLs/z2HRw5GJlb9UDZsaSWmwv8w8W5g0Gqy/\",\"dtype\":\"float64\",\"shape\":[51]},\"x\":[0,1,2,3,4,5,6,7,8,9,10,11,12,13,14,15,16,17,18,19,20,21,22,23,24,25,26,27,28,29,30,31,32,33,34,35,36,37,38,39,40,41,42,43,44,45,46,47,48,49]},\"selected\":{\"id\":\"20001780-aa79-4754-8109-7d6cb736ee9f\",\"type\":\"Selection\"},\"selection_policy\":{\"id\":\"05946ef8-dccb-428e-8eb8-a4c0fa4daa53\",\"type\":\"UnionRenderers\"}},\"id\":\"df3f2f7b-272a-496e-81c6-b7da97448a6e\",\"type\":\"ColumnDataSource\"},{\"attributes\":{\"formatter\":{\"id\":\"d1407a9e-f9b0-43ea-8cb2-e3f48981cffe\",\"type\":\"BasicTickFormatter\"},\"plot\":{\"id\":\"1bd583ba-c470-4991-87ec-5adb82a63018\",\"subtype\":\"Figure\",\"type\":\"Plot\"},\"ticker\":{\"id\":\"d8361a60-eb48-48d8-a285-71582b8aba8c\",\"type\":\"BasicTicker\"}},\"id\":\"b9743d18-5ae9-4a1c-b75a-2c4eec7f4615\",\"type\":\"LinearAxis\"},{\"attributes\":{},\"id\":\"46de0df0-db93-4743-a9b2-d15856d8eb54\",\"type\":\"HelpTool\"},{\"attributes\":{\"fill_color\":{\"value\":\"#1f77b4\"},\"line_color\":{\"value\":\"#1f77b4\"},\"top\":{\"field\":\"top\"},\"width\":{\"value\":0.9},\"x\":{\"field\":\"x\"}},\"id\":\"79afa6fc-cba5-43e7-8045-ec29236a1990\",\"type\":\"VBar\"},{\"attributes\":{},\"id\":\"e8e61621-65d7-4c1b-ad1c-bad713fe8970\",\"type\":\"LinearScale\"},{\"attributes\":{},\"id\":\"430b77fc-bfaa-4739-81c6-cfce10eb2d21\",\"type\":\"SaveTool\"},{\"attributes\":{\"bottom_units\":\"screen\",\"fill_alpha\":{\"value\":0.5},\"fill_color\":{\"value\":\"lightgrey\"},\"left_units\":\"screen\",\"level\":\"overlay\",\"line_alpha\":{\"value\":1.0},\"line_color\":{\"value\":\"black\"},\"line_dash\":[4,4],\"line_width\":{\"value\":2},\"plot\":null,\"render_mode\":\"css\",\"right_units\":\"screen\",\"top_units\":\"screen\"},\"id\":\"7c2e4d64-5e19-4038-bf6a-595d53b0d226\",\"type\":\"BoxAnnotation\"},{\"attributes\":{},\"id\":\"5920f981-a631-4a33-801d-58d8b64c84c2\",\"type\":\"PanTool\"},{\"attributes\":{\"formatter\":{\"id\":\"b5a71076-bc5d-4f6a-a276-d45765ea593d\",\"type\":\"BasicTickFormatter\"},\"plot\":{\"id\":\"1bd583ba-c470-4991-87ec-5adb82a63018\",\"subtype\":\"Figure\",\"type\":\"Plot\"},\"ticker\":{\"id\":\"19ca4b68-0c7d-4349-9239-32cab29e923f\",\"type\":\"BasicTicker\"}},\"id\":\"ded9b761-6991-499a-8d10-83efd82bb9cb\",\"type\":\"LinearAxis\"},{\"attributes\":{},\"id\":\"05946ef8-dccb-428e-8eb8-a4c0fa4daa53\",\"type\":\"UnionRenderers\"},{\"attributes\":{},\"id\":\"387413e9-8b1e-4f79-a26d-4ae393597d4a\",\"type\":\"WheelZoomTool\"},{\"attributes\":{},\"id\":\"a6a5d6c7-a6f9-40d7-b20d-39d8933fe755\",\"type\":\"LinearScale\"},{\"attributes\":{\"source\":{\"id\":\"df3f2f7b-272a-496e-81c6-b7da97448a6e\",\"type\":\"ColumnDataSource\"}},\"id\":\"6e05ba6b-829e-46b8-a913-d9e69b973f93\",\"type\":\"CDSView\"},{\"attributes\":{\"overlay\":{\"id\":\"7c2e4d64-5e19-4038-bf6a-595d53b0d226\",\"type\":\"BoxAnnotation\"}},\"id\":\"ebdeffe8-ec0d-499c-ad10-237d5824bdc6\",\"type\":\"BoxZoomTool\"},{\"attributes\":{},\"id\":\"d8361a60-eb48-48d8-a285-71582b8aba8c\",\"type\":\"BasicTicker\"}],\"root_ids\":[\"1bd583ba-c470-4991-87ec-5adb82a63018\"]},\"title\":\"Bokeh Application\",\"version\":\"0.13.0\"}};\n",
       "  var render_items = [{\"docid\":\"8ee30460-d1b1-4ef0-91b5-6168f8f2ef51\",\"roots\":{\"1bd583ba-c470-4991-87ec-5adb82a63018\":\"13c9bce7-815a-4eba-b294-26e21d2b3a34\"}}];\n",
       "  root.Bokeh.embed.embed_items_notebook(docs_json, render_items);\n",
       "\n",
       "  }\n",
       "  if (root.Bokeh !== undefined) {\n",
       "    embed_document(root);\n",
       "  } else {\n",
       "    var attempts = 0;\n",
       "    var timer = setInterval(function(root) {\n",
       "      if (root.Bokeh !== undefined) {\n",
       "        embed_document(root);\n",
       "        clearInterval(timer);\n",
       "      }\n",
       "      attempts++;\n",
       "      if (attempts > 100) {\n",
       "        console.log(\"Bokeh: ERROR: Unable to run BokehJS code because BokehJS library is missing\")\n",
       "        clearInterval(timer);\n",
       "      }\n",
       "    }, 10, root)\n",
       "  }\n",
       "})(window);"
      ],
      "application/vnd.bokehjs_exec.v0+json": ""
     },
     "metadata": {
      "application/vnd.bokehjs_exec.v0+json": {
       "id": "1bd583ba-c470-4991-87ec-5adb82a63018"
      }
     },
     "output_type": "display_data"
    },
    {
     "name": "stderr",
     "output_type": "stream",
     "text": [
      "ERROR:bokeh.core.validation.check:E-1001 (BAD_COLUMN_NAME): Glyph refers to nonexistent column name: k [renderer: GlyphRenderer(id='036f0949-a089-4de0-8f33-f4636db3e6e1', ...)]\n",
      "ERROR:bokeh.core.validation.check:E-1001 (BAD_COLUMN_NAME): Glyph refers to nonexistent column name: k [renderer: GlyphRenderer(id='7dde578f-36c0-496d-847a-327e75827b2b', ...)]\n",
      "ERROR:bokeh.core.validation.check:E-1001 (BAD_COLUMN_NAME): Glyph refers to nonexistent column name: k [renderer: GlyphRenderer(id='b0c4e087-d062-4f9a-a442-20fdf66eff7a', ...)]\n",
      "ERROR:bokeh.core.validation.check:E-1001 (BAD_COLUMN_NAME): Glyph refers to nonexistent column name: k [renderer: GlyphRenderer(id='8a332173-ff19-4fc7-a301-1388d640c612', ...)]\n",
      "ERROR:bokeh.core.validation.check:E-1001 (BAD_COLUMN_NAME): Glyph refers to nonexistent column name: k [renderer: GlyphRenderer(id='0dccaf0e-b525-4386-9b88-986f8212ef5f', ...)]\n",
      "ERROR:bokeh.core.validation.check:E-1001 (BAD_COLUMN_NAME): Glyph refers to nonexistent column name: k [renderer: GlyphRenderer(id='fd9303ac-9184-43ad-9402-01e31349256b', ...)]\n",
      "ERROR:bokeh.core.validation.check:E-1001 (BAD_COLUMN_NAME): Glyph refers to nonexistent column name: k [renderer: GlyphRenderer(id='7111a5ad-da32-4c10-ba14-b35ec34cd25f', ...)]\n",
      "ERROR:bokeh.core.validation.check:E-1001 (BAD_COLUMN_NAME): Glyph refers to nonexistent column name: k [renderer: GlyphRenderer(id='e7872765-6722-4490-993a-bace488f5645', ...)]\n",
      "ERROR:bokeh.core.validation.check:E-1001 (BAD_COLUMN_NAME): Glyph refers to nonexistent column name: k [renderer: GlyphRenderer(id='30ea4dc2-61b3-4d9f-9494-bb9ad6b0b40e', ...)]\n",
      "ERROR:bokeh.core.validation.check:E-1001 (BAD_COLUMN_NAME): Glyph refers to nonexistent column name: k [renderer: GlyphRenderer(id='d8e4e8cd-5ebc-40c9-af8c-11a467bcff12', ...)]\n"
     ]
    },
    {
     "data": {
      "text/html": [
       "\n",
       "\n",
       "\n",
       "\n",
       "\n",
       "\n",
       "  <div class=\"bk-root\" id=\"112b44b8-97bf-4436-a734-fda0e0d7485e\"></div>\n"
      ]
     },
     "metadata": {},
     "output_type": "display_data"
    },
    {
     "data": {
      "application/javascript": [
       "(function(root) {\n",
       "  function embed_document(root) {\n",
       "    \n",
       "  var docs_json = {\"e332cdb7-c3bf-4d89-8dce-fecb48a2a5b9\":{\"roots\":{\"references\":[{\"attributes\":{},\"id\":\"a0eeb352-bc43-4e5b-9e1e-4a38c35dacf0\",\"type\":\"UnionRenderers\"},{\"attributes\":{\"plot\":null,\"text\":\"Partial Autocorrelation PLot TCS\"},\"id\":\"5362a303-fe12-41dd-8ce7-ec2859624e21\",\"type\":\"Title\"},{\"attributes\":{},\"id\":\"920760c9-ebf4-470a-8a85-13649c923351\",\"type\":\"BasicTickFormatter\"},{\"attributes\":{},\"id\":\"ebe67bd9-560c-4d7f-8919-01fd25ee0c7b\",\"type\":\"LinearScale\"},{\"attributes\":{\"dimension\":1,\"plot\":{\"id\":\"80af5d09-0d9f-456a-a34f-129b245bb122\",\"subtype\":\"Figure\",\"type\":\"Plot\"},\"ticker\":{\"id\":\"5a3184d2-b46f-4eaf-911d-15d5313fc538\",\"type\":\"BasicTicker\"}},\"id\":\"fe132660-dc6c-497e-a270-f0b01a12cb2e\",\"type\":\"Grid\"},{\"attributes\":{\"overlay\":{\"id\":\"3c982320-8ecb-43e4-b3e6-18b167fc9da9\",\"type\":\"BoxAnnotation\"}},\"id\":\"c29fe3c0-b74f-43e5-ab0e-641753d91d79\",\"type\":\"BoxZoomTool\"},{\"attributes\":{},\"id\":\"1f697025-cb01-42ca-ab16-d9f9ac1d61a0\",\"type\":\"BasicTicker\"},{\"attributes\":{},\"id\":\"f0affffe-0f57-4e2e-975f-67004a0cc038\",\"type\":\"WheelZoomTool\"},{\"attributes\":{\"callback\":null},\"id\":\"8e675555-8695-40a5-86c5-f697c3b0b670\",\"type\":\"DataRange1d\"},{\"attributes\":{\"plot\":{\"id\":\"80af5d09-0d9f-456a-a34f-129b245bb122\",\"subtype\":\"Figure\",\"type\":\"Plot\"},\"ticker\":{\"id\":\"1f697025-cb01-42ca-ab16-d9f9ac1d61a0\",\"type\":\"BasicTicker\"}},\"id\":\"8f20625a-5062-46a3-a680-f79317278a8c\",\"type\":\"Grid\"},{\"attributes\":{\"formatter\":{\"id\":\"9c8bfd02-5d9c-4d89-b407-c87aac10b2c1\",\"type\":\"BasicTickFormatter\"},\"plot\":{\"id\":\"80af5d09-0d9f-456a-a34f-129b245bb122\",\"subtype\":\"Figure\",\"type\":\"Plot\"},\"ticker\":{\"id\":\"1f697025-cb01-42ca-ab16-d9f9ac1d61a0\",\"type\":\"BasicTicker\"}},\"id\":\"49b6eb8b-92d5-4a27-9f84-1b7709d501e8\",\"type\":\"LinearAxis\"},{\"attributes\":{\"source\":{\"id\":\"06d5d45c-20d7-45e1-b79d-df5f337d940f\",\"type\":\"ColumnDataSource\"}},\"id\":\"bdfd6600-c0fb-4ce3-91e2-acefd24880f0\",\"type\":\"CDSView\"},{\"attributes\":{\"fill_color\":{\"value\":\"#1f77b4\"},\"line_color\":{\"value\":\"#1f77b4\"},\"top\":{\"field\":\"top\"},\"width\":{\"value\":0.9},\"x\":{\"field\":\"x\"}},\"id\":\"88cbed24-bc0e-4fad-b920-a6a6485b3d08\",\"type\":\"VBar\"},{\"attributes\":{\"active_drag\":\"auto\",\"active_inspect\":\"auto\",\"active_multi\":null,\"active_scroll\":\"auto\",\"active_tap\":\"auto\",\"tools\":[{\"id\":\"f5aa4887-f4cc-47df-aa21-2915b2ac1e85\",\"type\":\"PanTool\"},{\"id\":\"f0affffe-0f57-4e2e-975f-67004a0cc038\",\"type\":\"WheelZoomTool\"},{\"id\":\"c29fe3c0-b74f-43e5-ab0e-641753d91d79\",\"type\":\"BoxZoomTool\"},{\"id\":\"d8917f62-b040-4278-8890-5dc0e5701bdc\",\"type\":\"SaveTool\"},{\"id\":\"4c080fb2-b2fe-401d-89a9-40a091270ade\",\"type\":\"ResetTool\"},{\"id\":\"2e4ccda0-1fc7-4469-9a86-e88fe3102790\",\"type\":\"HelpTool\"}]},\"id\":\"b2e4be89-9c58-42e7-9fee-638344820e59\",\"type\":\"Toolbar\"},{\"attributes\":{},\"id\":\"4c080fb2-b2fe-401d-89a9-40a091270ade\",\"type\":\"ResetTool\"},{\"attributes\":{},\"id\":\"d8917f62-b040-4278-8890-5dc0e5701bdc\",\"type\":\"SaveTool\"},{\"attributes\":{\"callback\":null},\"id\":\"20463122-61b2-42c2-a9bb-9e5221c63db2\",\"type\":\"DataRange1d\"},{\"attributes\":{\"data_source\":{\"id\":\"06d5d45c-20d7-45e1-b79d-df5f337d940f\",\"type\":\"ColumnDataSource\"},\"glyph\":{\"id\":\"88cbed24-bc0e-4fad-b920-a6a6485b3d08\",\"type\":\"VBar\"},\"hover_glyph\":null,\"muted_glyph\":null,\"nonselection_glyph\":{\"id\":\"88a89d0d-cc58-456b-9ed1-06837db74b88\",\"type\":\"VBar\"},\"selection_glyph\":null,\"view\":{\"id\":\"bdfd6600-c0fb-4ce3-91e2-acefd24880f0\",\"type\":\"CDSView\"}},\"id\":\"1f34d472-b911-4588-b3ca-4c6adfd34b71\",\"type\":\"GlyphRenderer\"},{\"attributes\":{\"bottom_units\":\"screen\",\"fill_alpha\":{\"value\":0.5},\"fill_color\":{\"value\":\"lightgrey\"},\"left_units\":\"screen\",\"level\":\"overlay\",\"line_alpha\":{\"value\":1.0},\"line_color\":{\"value\":\"black\"},\"line_dash\":[4,4],\"line_width\":{\"value\":2},\"plot\":null,\"render_mode\":\"css\",\"right_units\":\"screen\",\"top_units\":\"screen\"},\"id\":\"3c982320-8ecb-43e4-b3e6-18b167fc9da9\",\"type\":\"BoxAnnotation\"},{\"attributes\":{},\"id\":\"15202c6c-e50d-4423-af69-63be80275e89\",\"type\":\"LinearScale\"},{\"attributes\":{\"callback\":null,\"data\":{\"top\":{\"__ndarray__\":\"AAAAAAAA8D8UKHgtLsjtPweMfLh0YcC/ULslIHRLm7+JhedP8TCTP8wjNR3rmqU/vIevlJTnn7/C2+H+7K+yP2YHcaHeJ7Y/I/t6AZtpgT/JlSd8/LKqv26ituLaj3i/Zq1iumOPuL8ZIIAV05Gov1uFg4yHRKM/6UHUpBC0rD/WnBMIgGhVvxJMTK9ogrY/IMToNvFCrb/TLrduH+eEv3RW8XyLiKY/8lK3SU1Wwr+9yC1IrzauPzDDl4UU6qw/Oy3exHbssb8WWNg0oWHAv3lWQhf855e/4j9nbdN4rz9dRKdorOCkP3mn1L0ivrY/QljlKNBMsT8yyWmVEJ2nv46g1DBEiby/3oY8WDPlu7/hQDFPZu2ov96CtA3kCMG/53aESoLpk7/d5Gd9sLazv0V15kuvG5Q/8Q2BPB9QtT+6+d25/8ikv/rzXxzCQpg/4CflbYi0mz9V8b43g4+qv3lQrY49+L4/lXA1JX6jkD91V9UhJvyzP38buG/byo0/CGhLQ6tGuD/5RxP+EUuhP0Zufmnn/bK/\",\"dtype\":\"float64\",\"shape\":[51]},\"x\":[0,1,2,3,4,5,6,7,8,9,10,11,12,13,14,15,16,17,18,19,20,21,22,23,24,25,26,27,28,29,30,31,32,33,34,35,36,37,38,39,40,41,42,43,44,45,46,47,48,49]},\"selected\":{\"id\":\"064990c5-50a9-4f07-bb78-99c6eae07697\",\"type\":\"Selection\"},\"selection_policy\":{\"id\":\"a0eeb352-bc43-4e5b-9e1e-4a38c35dacf0\",\"type\":\"UnionRenderers\"}},\"id\":\"06d5d45c-20d7-45e1-b79d-df5f337d940f\",\"type\":\"ColumnDataSource\"},{\"attributes\":{\"fill_alpha\":{\"value\":0.1},\"fill_color\":{\"value\":\"#1f77b4\"},\"line_alpha\":{\"value\":0.1},\"line_color\":{\"value\":\"#1f77b4\"},\"top\":{\"field\":\"top\"},\"width\":{\"value\":0.9},\"x\":{\"field\":\"x\"}},\"id\":\"88a89d0d-cc58-456b-9ed1-06837db74b88\",\"type\":\"VBar\"},{\"attributes\":{},\"id\":\"2e4ccda0-1fc7-4469-9a86-e88fe3102790\",\"type\":\"HelpTool\"},{\"attributes\":{},\"id\":\"f5aa4887-f4cc-47df-aa21-2915b2ac1e85\",\"type\":\"PanTool\"},{\"attributes\":{\"formatter\":{\"id\":\"920760c9-ebf4-470a-8a85-13649c923351\",\"type\":\"BasicTickFormatter\"},\"plot\":{\"id\":\"80af5d09-0d9f-456a-a34f-129b245bb122\",\"subtype\":\"Figure\",\"type\":\"Plot\"},\"ticker\":{\"id\":\"5a3184d2-b46f-4eaf-911d-15d5313fc538\",\"type\":\"BasicTicker\"}},\"id\":\"1f63b070-d49d-4031-a5c1-1e282de49fce\",\"type\":\"LinearAxis\"},{\"attributes\":{\"below\":[{\"id\":\"49b6eb8b-92d5-4a27-9f84-1b7709d501e8\",\"type\":\"LinearAxis\"}],\"left\":[{\"id\":\"1f63b070-d49d-4031-a5c1-1e282de49fce\",\"type\":\"LinearAxis\"}],\"plot_height\":500,\"renderers\":[{\"id\":\"49b6eb8b-92d5-4a27-9f84-1b7709d501e8\",\"type\":\"LinearAxis\"},{\"id\":\"8f20625a-5062-46a3-a680-f79317278a8c\",\"type\":\"Grid\"},{\"id\":\"1f63b070-d49d-4031-a5c1-1e282de49fce\",\"type\":\"LinearAxis\"},{\"id\":\"fe132660-dc6c-497e-a270-f0b01a12cb2e\",\"type\":\"Grid\"},{\"id\":\"3c982320-8ecb-43e4-b3e6-18b167fc9da9\",\"type\":\"BoxAnnotation\"},{\"id\":\"1f34d472-b911-4588-b3ca-4c6adfd34b71\",\"type\":\"GlyphRenderer\"}],\"title\":{\"id\":\"5362a303-fe12-41dd-8ce7-ec2859624e21\",\"type\":\"Title\"},\"toolbar\":{\"id\":\"b2e4be89-9c58-42e7-9fee-638344820e59\",\"type\":\"Toolbar\"},\"x_range\":{\"id\":\"20463122-61b2-42c2-a9bb-9e5221c63db2\",\"type\":\"DataRange1d\"},\"x_scale\":{\"id\":\"ebe67bd9-560c-4d7f-8919-01fd25ee0c7b\",\"type\":\"LinearScale\"},\"y_range\":{\"id\":\"8e675555-8695-40a5-86c5-f697c3b0b670\",\"type\":\"DataRange1d\"},\"y_scale\":{\"id\":\"15202c6c-e50d-4423-af69-63be80275e89\",\"type\":\"LinearScale\"}},\"id\":\"80af5d09-0d9f-456a-a34f-129b245bb122\",\"subtype\":\"Figure\",\"type\":\"Plot\"},{\"attributes\":{},\"id\":\"9c8bfd02-5d9c-4d89-b407-c87aac10b2c1\",\"type\":\"BasicTickFormatter\"},{\"attributes\":{},\"id\":\"064990c5-50a9-4f07-bb78-99c6eae07697\",\"type\":\"Selection\"},{\"attributes\":{},\"id\":\"5a3184d2-b46f-4eaf-911d-15d5313fc538\",\"type\":\"BasicTicker\"}],\"root_ids\":[\"80af5d09-0d9f-456a-a34f-129b245bb122\"]},\"title\":\"Bokeh Application\",\"version\":\"0.13.0\"}};\n",
       "  var render_items = [{\"docid\":\"e332cdb7-c3bf-4d89-8dce-fecb48a2a5b9\",\"roots\":{\"80af5d09-0d9f-456a-a34f-129b245bb122\":\"112b44b8-97bf-4436-a734-fda0e0d7485e\"}}];\n",
       "  root.Bokeh.embed.embed_items_notebook(docs_json, render_items);\n",
       "\n",
       "  }\n",
       "  if (root.Bokeh !== undefined) {\n",
       "    embed_document(root);\n",
       "  } else {\n",
       "    var attempts = 0;\n",
       "    var timer = setInterval(function(root) {\n",
       "      if (root.Bokeh !== undefined) {\n",
       "        embed_document(root);\n",
       "        clearInterval(timer);\n",
       "      }\n",
       "      attempts++;\n",
       "      if (attempts > 100) {\n",
       "        console.log(\"Bokeh: ERROR: Unable to run BokehJS code because BokehJS library is missing\")\n",
       "        clearInterval(timer);\n",
       "      }\n",
       "    }, 10, root)\n",
       "  }\n",
       "})(window);"
      ],
      "application/vnd.bokehjs_exec.v0+json": ""
     },
     "metadata": {
      "application/vnd.bokehjs_exec.v0+json": {
       "id": "80af5d09-0d9f-456a-a34f-129b245bb122"
      }
     },
     "output_type": "display_data"
    },
    {
     "name": "stderr",
     "output_type": "stream",
     "text": [
      "ERROR:bokeh.core.validation.check:E-1001 (BAD_COLUMN_NAME): Glyph refers to nonexistent column name: k [renderer: GlyphRenderer(id='036f0949-a089-4de0-8f33-f4636db3e6e1', ...)]\n",
      "ERROR:bokeh.core.validation.check:E-1001 (BAD_COLUMN_NAME): Glyph refers to nonexistent column name: k [renderer: GlyphRenderer(id='7dde578f-36c0-496d-847a-327e75827b2b', ...)]\n",
      "ERROR:bokeh.core.validation.check:E-1001 (BAD_COLUMN_NAME): Glyph refers to nonexistent column name: k [renderer: GlyphRenderer(id='b0c4e087-d062-4f9a-a442-20fdf66eff7a', ...)]\n",
      "ERROR:bokeh.core.validation.check:E-1001 (BAD_COLUMN_NAME): Glyph refers to nonexistent column name: k [renderer: GlyphRenderer(id='8a332173-ff19-4fc7-a301-1388d640c612', ...)]\n",
      "ERROR:bokeh.core.validation.check:E-1001 (BAD_COLUMN_NAME): Glyph refers to nonexistent column name: k [renderer: GlyphRenderer(id='0dccaf0e-b525-4386-9b88-986f8212ef5f', ...)]\n",
      "ERROR:bokeh.core.validation.check:E-1001 (BAD_COLUMN_NAME): Glyph refers to nonexistent column name: k [renderer: GlyphRenderer(id='fd9303ac-9184-43ad-9402-01e31349256b', ...)]\n",
      "ERROR:bokeh.core.validation.check:E-1001 (BAD_COLUMN_NAME): Glyph refers to nonexistent column name: k [renderer: GlyphRenderer(id='7111a5ad-da32-4c10-ba14-b35ec34cd25f', ...)]\n",
      "ERROR:bokeh.core.validation.check:E-1001 (BAD_COLUMN_NAME): Glyph refers to nonexistent column name: k [renderer: GlyphRenderer(id='e7872765-6722-4490-993a-bace488f5645', ...)]\n",
      "ERROR:bokeh.core.validation.check:E-1001 (BAD_COLUMN_NAME): Glyph refers to nonexistent column name: k [renderer: GlyphRenderer(id='30ea4dc2-61b3-4d9f-9494-bb9ad6b0b40e', ...)]\n",
      "ERROR:bokeh.core.validation.check:E-1001 (BAD_COLUMN_NAME): Glyph refers to nonexistent column name: k [renderer: GlyphRenderer(id='d8e4e8cd-5ebc-40c9-af8c-11a467bcff12', ...)]\n"
     ]
    },
    {
     "data": {
      "text/html": [
       "\n",
       "\n",
       "\n",
       "\n",
       "\n",
       "\n",
       "  <div class=\"bk-root\" id=\"218d8960-b8d3-4ce2-9040-a8e8fe39da4f\"></div>\n"
      ]
     },
     "metadata": {},
     "output_type": "display_data"
    },
    {
     "data": {
      "application/javascript": [
       "(function(root) {\n",
       "  function embed_document(root) {\n",
       "    \n",
       "  var docs_json = {\"965b32e9-62a9-45e8-bb2e-5fab25abac18\":{\"roots\":{\"references\":[{\"attributes\":{\"below\":[{\"id\":\"bc821357-a697-466b-979f-04d0ffc5c42d\",\"type\":\"LinearAxis\"}],\"left\":[{\"id\":\"6ac7ec87-7d28-4f56-95f7-d2eceecdbbbd\",\"type\":\"LinearAxis\"}],\"plot_height\":500,\"renderers\":[{\"id\":\"bc821357-a697-466b-979f-04d0ffc5c42d\",\"type\":\"LinearAxis\"},{\"id\":\"e1e08966-4234-4756-963c-1ba5e89e9ef7\",\"type\":\"Grid\"},{\"id\":\"6ac7ec87-7d28-4f56-95f7-d2eceecdbbbd\",\"type\":\"LinearAxis\"},{\"id\":\"89404ba2-324e-44fd-891f-19c488259629\",\"type\":\"Grid\"},{\"id\":\"469009e7-1a9e-417b-b71c-26c990e91d01\",\"type\":\"BoxAnnotation\"},{\"id\":\"f47ed0bb-b27e-470a-8706-c7f38b30d84b\",\"type\":\"GlyphRenderer\"}],\"title\":{\"id\":\"3bcbfdec-892b-4487-a210-377844eab638\",\"type\":\"Title\"},\"toolbar\":{\"id\":\"f2566748-6cb1-42dc-9123-ad948f45a623\",\"type\":\"Toolbar\"},\"x_range\":{\"id\":\"cf9069af-f186-463f-bf5b-97d4bbe9b98b\",\"type\":\"DataRange1d\"},\"x_scale\":{\"id\":\"91234535-0537-4c41-994c-6cd60c53c8a7\",\"type\":\"LinearScale\"},\"y_range\":{\"id\":\"d030ac06-4197-4a5a-8ae3-d704b308fe68\",\"type\":\"DataRange1d\"},\"y_scale\":{\"id\":\"a5f787a6-80ef-4f4f-bf4d-3b036f148217\",\"type\":\"LinearScale\"}},\"id\":\"5a3a0f47-de9b-4db1-9429-11befdc549ef\",\"subtype\":\"Figure\",\"type\":\"Plot\"},{\"attributes\":{},\"id\":\"7cbdb722-3262-4dee-8e11-20445df2293e\",\"type\":\"BasicTickFormatter\"},{\"attributes\":{\"formatter\":{\"id\":\"ec268441-fcdc-4bbd-a2c5-e6c381c80641\",\"type\":\"BasicTickFormatter\"},\"plot\":{\"id\":\"5a3a0f47-de9b-4db1-9429-11befdc549ef\",\"subtype\":\"Figure\",\"type\":\"Plot\"},\"ticker\":{\"id\":\"837182c4-eb7f-404a-a36a-36a77f305fd7\",\"type\":\"BasicTicker\"}},\"id\":\"bc821357-a697-466b-979f-04d0ffc5c42d\",\"type\":\"LinearAxis\"},{\"attributes\":{\"formatter\":{\"id\":\"7cbdb722-3262-4dee-8e11-20445df2293e\",\"type\":\"BasicTickFormatter\"},\"plot\":{\"id\":\"5a3a0f47-de9b-4db1-9429-11befdc549ef\",\"subtype\":\"Figure\",\"type\":\"Plot\"},\"ticker\":{\"id\":\"81ed3e41-60ea-41f3-b455-f108de3474c0\",\"type\":\"BasicTicker\"}},\"id\":\"6ac7ec87-7d28-4f56-95f7-d2eceecdbbbd\",\"type\":\"LinearAxis\"},{\"attributes\":{},\"id\":\"8ae95731-6721-4ba2-a5bc-a44151f070ba\",\"type\":\"Selection\"},{\"attributes\":{\"callback\":null},\"id\":\"cf9069af-f186-463f-bf5b-97d4bbe9b98b\",\"type\":\"DataRange1d\"},{\"attributes\":{\"active_drag\":\"auto\",\"active_inspect\":\"auto\",\"active_multi\":null,\"active_scroll\":\"auto\",\"active_tap\":\"auto\",\"tools\":[{\"id\":\"6d14a684-f317-4fae-a009-b7f8956ed46e\",\"type\":\"PanTool\"},{\"id\":\"9d859a28-a2aa-4fc4-a8d9-bd17e6b504b6\",\"type\":\"WheelZoomTool\"},{\"id\":\"c0a81bfc-0602-4a41-b613-6383dc71cc10\",\"type\":\"BoxZoomTool\"},{\"id\":\"c4bd2677-90f4-44f1-b223-8f97aeab9815\",\"type\":\"SaveTool\"},{\"id\":\"24525a09-ad13-415f-90e9-438b0912ddce\",\"type\":\"ResetTool\"},{\"id\":\"950e2934-fef6-4a81-98d8-14e1bd45e9e3\",\"type\":\"HelpTool\"}]},\"id\":\"f2566748-6cb1-42dc-9123-ad948f45a623\",\"type\":\"Toolbar\"},{\"attributes\":{\"fill_alpha\":{\"value\":0.1},\"fill_color\":{\"value\":\"#1f77b4\"},\"line_alpha\":{\"value\":0.1},\"line_color\":{\"value\":\"#1f77b4\"},\"top\":{\"field\":\"top\"},\"width\":{\"value\":0.9},\"x\":{\"field\":\"x\"}},\"id\":\"3aa898cc-3cdf-4186-b008-dbf97c131a2c\",\"type\":\"VBar\"},{\"attributes\":{\"callback\":null},\"id\":\"d030ac06-4197-4a5a-8ae3-d704b308fe68\",\"type\":\"DataRange1d\"},{\"attributes\":{\"plot\":null,\"text\":\"Partial Autocorrelation PLot NIFTY IT\"},\"id\":\"3bcbfdec-892b-4487-a210-377844eab638\",\"type\":\"Title\"},{\"attributes\":{},\"id\":\"6d14a684-f317-4fae-a009-b7f8956ed46e\",\"type\":\"PanTool\"},{\"attributes\":{\"plot\":{\"id\":\"5a3a0f47-de9b-4db1-9429-11befdc549ef\",\"subtype\":\"Figure\",\"type\":\"Plot\"},\"ticker\":{\"id\":\"837182c4-eb7f-404a-a36a-36a77f305fd7\",\"type\":\"BasicTicker\"}},\"id\":\"e1e08966-4234-4756-963c-1ba5e89e9ef7\",\"type\":\"Grid\"},{\"attributes\":{},\"id\":\"950e2934-fef6-4a81-98d8-14e1bd45e9e3\",\"type\":\"HelpTool\"},{\"attributes\":{\"dimension\":1,\"plot\":{\"id\":\"5a3a0f47-de9b-4db1-9429-11befdc549ef\",\"subtype\":\"Figure\",\"type\":\"Plot\"},\"ticker\":{\"id\":\"81ed3e41-60ea-41f3-b455-f108de3474c0\",\"type\":\"BasicTicker\"}},\"id\":\"89404ba2-324e-44fd-891f-19c488259629\",\"type\":\"Grid\"},{\"attributes\":{},\"id\":\"c4bd2677-90f4-44f1-b223-8f97aeab9815\",\"type\":\"SaveTool\"},{\"attributes\":{\"overlay\":{\"id\":\"469009e7-1a9e-417b-b71c-26c990e91d01\",\"type\":\"BoxAnnotation\"}},\"id\":\"c0a81bfc-0602-4a41-b613-6383dc71cc10\",\"type\":\"BoxZoomTool\"},{\"attributes\":{},\"id\":\"69724c3d-da01-4d78-a192-e3286e0c6027\",\"type\":\"UnionRenderers\"},{\"attributes\":{\"callback\":null,\"data\":{\"top\":{\"__ndarray__\":\"AAAAAAAA8D/ANe12XdvuP9V6dOvxj26/MvhJY8LZm7/AuzUTJ/eWv5aiWe/BpZq/lWbfydoNp799PgQMhqu1PxZ3fcDxapC/pGCxQVZ8hL8hy22+lnuAP/88upZQqKc/AGEzgrUrs79QCWvy/IOPv6O8TaR3VZY/AKoLpsF6jj/Fi6dYiIK2v//1s/ludro/DDrbUPA1pL/VRw7JzsyXv9ok1vX/2qS/CORVJftrvL/Iz5FSNwahv0V4NdoZw7o/AOgwTSyCxr9s7i+lZQy0P29jHyEmXpu/obb80cw4p7+A74GpiWymv9ndDyj4fHG/tDhSLzuZqb8GF9bYjh68P67CZmBGXsG/KmuUjvlWfb+rppszptevv/f/JY4Adru/sUKD7j81s7/IjV8E6qaxPx7vKG+KX7Y//hC+wx/ssj+nUshJvUWgP8KDNRWHnpO/1R7N374Ht7+OMi+vK0K1v8YhdZdAFrY/2tPfByYaqL+htTlAIAuwv8iuEJx/Ub0/TNTqZDXUsz/lCE6NOle2P8lidJN27cW/\",\"dtype\":\"float64\",\"shape\":[51]},\"x\":[0,1,2,3,4,5,6,7,8,9,10,11,12,13,14,15,16,17,18,19,20,21,22,23,24,25,26,27,28,29,30,31,32,33,34,35,36,37,38,39,40,41,42,43,44,45,46,47,48,49]},\"selected\":{\"id\":\"8ae95731-6721-4ba2-a5bc-a44151f070ba\",\"type\":\"Selection\"},\"selection_policy\":{\"id\":\"69724c3d-da01-4d78-a192-e3286e0c6027\",\"type\":\"UnionRenderers\"}},\"id\":\"b0593b0c-639b-4e06-8e7d-75254bbeae64\",\"type\":\"ColumnDataSource\"},{\"attributes\":{\"bottom_units\":\"screen\",\"fill_alpha\":{\"value\":0.5},\"fill_color\":{\"value\":\"lightgrey\"},\"left_units\":\"screen\",\"level\":\"overlay\",\"line_alpha\":{\"value\":1.0},\"line_color\":{\"value\":\"black\"},\"line_dash\":[4,4],\"line_width\":{\"value\":2},\"plot\":null,\"render_mode\":\"css\",\"right_units\":\"screen\",\"top_units\":\"screen\"},\"id\":\"469009e7-1a9e-417b-b71c-26c990e91d01\",\"type\":\"BoxAnnotation\"},{\"attributes\":{\"fill_color\":{\"value\":\"#1f77b4\"},\"line_color\":{\"value\":\"#1f77b4\"},\"top\":{\"field\":\"top\"},\"width\":{\"value\":0.9},\"x\":{\"field\":\"x\"}},\"id\":\"be43573c-c515-48cb-93c8-3c3dccaa3b1b\",\"type\":\"VBar\"},{\"attributes\":{},\"id\":\"a5f787a6-80ef-4f4f-bf4d-3b036f148217\",\"type\":\"LinearScale\"},{\"attributes\":{},\"id\":\"81ed3e41-60ea-41f3-b455-f108de3474c0\",\"type\":\"BasicTicker\"},{\"attributes\":{},\"id\":\"24525a09-ad13-415f-90e9-438b0912ddce\",\"type\":\"ResetTool\"},{\"attributes\":{\"data_source\":{\"id\":\"b0593b0c-639b-4e06-8e7d-75254bbeae64\",\"type\":\"ColumnDataSource\"},\"glyph\":{\"id\":\"be43573c-c515-48cb-93c8-3c3dccaa3b1b\",\"type\":\"VBar\"},\"hover_glyph\":null,\"muted_glyph\":null,\"nonselection_glyph\":{\"id\":\"3aa898cc-3cdf-4186-b008-dbf97c131a2c\",\"type\":\"VBar\"},\"selection_glyph\":null,\"view\":{\"id\":\"872a10ac-d2ef-4e5e-8351-5a5f71f47177\",\"type\":\"CDSView\"}},\"id\":\"f47ed0bb-b27e-470a-8706-c7f38b30d84b\",\"type\":\"GlyphRenderer\"},{\"attributes\":{},\"id\":\"837182c4-eb7f-404a-a36a-36a77f305fd7\",\"type\":\"BasicTicker\"},{\"attributes\":{},\"id\":\"91234535-0537-4c41-994c-6cd60c53c8a7\",\"type\":\"LinearScale\"},{\"attributes\":{},\"id\":\"9d859a28-a2aa-4fc4-a8d9-bd17e6b504b6\",\"type\":\"WheelZoomTool\"},{\"attributes\":{\"source\":{\"id\":\"b0593b0c-639b-4e06-8e7d-75254bbeae64\",\"type\":\"ColumnDataSource\"}},\"id\":\"872a10ac-d2ef-4e5e-8351-5a5f71f47177\",\"type\":\"CDSView\"},{\"attributes\":{},\"id\":\"ec268441-fcdc-4bbd-a2c5-e6c381c80641\",\"type\":\"BasicTickFormatter\"}],\"root_ids\":[\"5a3a0f47-de9b-4db1-9429-11befdc549ef\"]},\"title\":\"Bokeh Application\",\"version\":\"0.13.0\"}};\n",
       "  var render_items = [{\"docid\":\"965b32e9-62a9-45e8-bb2e-5fab25abac18\",\"roots\":{\"5a3a0f47-de9b-4db1-9429-11befdc549ef\":\"218d8960-b8d3-4ce2-9040-a8e8fe39da4f\"}}];\n",
       "  root.Bokeh.embed.embed_items_notebook(docs_json, render_items);\n",
       "\n",
       "  }\n",
       "  if (root.Bokeh !== undefined) {\n",
       "    embed_document(root);\n",
       "  } else {\n",
       "    var attempts = 0;\n",
       "    var timer = setInterval(function(root) {\n",
       "      if (root.Bokeh !== undefined) {\n",
       "        embed_document(root);\n",
       "        clearInterval(timer);\n",
       "      }\n",
       "      attempts++;\n",
       "      if (attempts > 100) {\n",
       "        console.log(\"Bokeh: ERROR: Unable to run BokehJS code because BokehJS library is missing\")\n",
       "        clearInterval(timer);\n",
       "      }\n",
       "    }, 10, root)\n",
       "  }\n",
       "})(window);"
      ],
      "application/vnd.bokehjs_exec.v0+json": ""
     },
     "metadata": {
      "application/vnd.bokehjs_exec.v0+json": {
       "id": "5a3a0f47-de9b-4db1-9429-11befdc549ef"
      }
     },
     "output_type": "display_data"
    },
    {
     "name": "stderr",
     "output_type": "stream",
     "text": [
      "ERROR:bokeh.core.validation.check:E-1001 (BAD_COLUMN_NAME): Glyph refers to nonexistent column name: k [renderer: GlyphRenderer(id='036f0949-a089-4de0-8f33-f4636db3e6e1', ...)]\n",
      "ERROR:bokeh.core.validation.check:E-1001 (BAD_COLUMN_NAME): Glyph refers to nonexistent column name: k [renderer: GlyphRenderer(id='7dde578f-36c0-496d-847a-327e75827b2b', ...)]\n",
      "ERROR:bokeh.core.validation.check:E-1001 (BAD_COLUMN_NAME): Glyph refers to nonexistent column name: k [renderer: GlyphRenderer(id='b0c4e087-d062-4f9a-a442-20fdf66eff7a', ...)]\n",
      "ERROR:bokeh.core.validation.check:E-1001 (BAD_COLUMN_NAME): Glyph refers to nonexistent column name: k [renderer: GlyphRenderer(id='8a332173-ff19-4fc7-a301-1388d640c612', ...)]\n",
      "ERROR:bokeh.core.validation.check:E-1001 (BAD_COLUMN_NAME): Glyph refers to nonexistent column name: k [renderer: GlyphRenderer(id='0dccaf0e-b525-4386-9b88-986f8212ef5f', ...)]\n",
      "ERROR:bokeh.core.validation.check:E-1001 (BAD_COLUMN_NAME): Glyph refers to nonexistent column name: k [renderer: GlyphRenderer(id='fd9303ac-9184-43ad-9402-01e31349256b', ...)]\n",
      "ERROR:bokeh.core.validation.check:E-1001 (BAD_COLUMN_NAME): Glyph refers to nonexistent column name: k [renderer: GlyphRenderer(id='7111a5ad-da32-4c10-ba14-b35ec34cd25f', ...)]\n",
      "ERROR:bokeh.core.validation.check:E-1001 (BAD_COLUMN_NAME): Glyph refers to nonexistent column name: k [renderer: GlyphRenderer(id='e7872765-6722-4490-993a-bace488f5645', ...)]\n",
      "ERROR:bokeh.core.validation.check:E-1001 (BAD_COLUMN_NAME): Glyph refers to nonexistent column name: k [renderer: GlyphRenderer(id='30ea4dc2-61b3-4d9f-9494-bb9ad6b0b40e', ...)]\n",
      "ERROR:bokeh.core.validation.check:E-1001 (BAD_COLUMN_NAME): Glyph refers to nonexistent column name: k [renderer: GlyphRenderer(id='d8e4e8cd-5ebc-40c9-af8c-11a467bcff12', ...)]\n"
     ]
    }
   ],
   "source": [
    "output_file(\"PACF.html\")\n",
    "\n",
    "draw_pacf(infy)\n",
    "draw_pacf(tcs)\n",
    "draw_pacf(nifty_IT)"
   ]
  },
  {
   "cell_type": "code",
   "execution_count": null,
   "metadata": {},
   "outputs": [],
   "source": []
  }
 ],
 "metadata": {
  "kernelspec": {
   "display_name": "Python 3",
   "language": "python",
   "name": "python3"
  },
  "language_info": {
   "codemirror_mode": {
    "name": "ipython",
    "version": 3
   },
   "file_extension": ".py",
   "mimetype": "text/x-python",
   "name": "python",
   "nbconvert_exporter": "python",
   "pygments_lexer": "ipython3",
   "version": "3.7.0"
  }
 },
 "nbformat": 4,
 "nbformat_minor": 2
}
