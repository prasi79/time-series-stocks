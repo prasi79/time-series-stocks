{
 "cells": [
  {
   "cell_type": "markdown",
   "metadata": {},
   "source": [
    "# RedCarpetUp Task"
   ]
  },
  {
   "cell_type": "markdown",
   "metadata": {},
   "source": [
    "## Data Selection"
   ]
  },
  {
   "cell_type": "code",
   "execution_count": 240,
   "metadata": {},
   "outputs": [],
   "source": [
    "import numpy as np\n",
    "import pandas as pd\n",
    "from datetime import date\n",
    "import matplotlib.pyplot as plt\n",
    "%matplotlib inline"
   ]
  },
  {
   "cell_type": "markdown",
   "metadata": {},
   "source": [
    "**NOTE : To use nsepy, please install the nsepy package onto your PC. i.e $ pip install nsepy**"
   ]
  },
  {
   "cell_type": "code",
   "execution_count": 244,
   "metadata": {},
   "outputs": [],
   "source": [
    "from nsepy import get_history\n",
    "infy = get_history(symbol='MCX',start=date(2015,1,1),end = date(2016,12,31))\n",
    "tcs = get_history(symbol='TCS',start=date(2015,1,1),end = date(2016,12,31))\n",
    "nifty_IT = get_history(symbol='NIFTY IT',start=date(2015,1,1),end = date(2016,12,31),index = True)"
   ]
  },
  {
   "cell_type": "markdown",
   "metadata": {},
   "source": [
    "**NOTE** : <br>\n",
    "The above code requires an internet connection to load the csv data. <br>\n",
    "There is some problem with the INFY file online. It doesn't extracts sometimes. So, I have extracted the stock data of MCX instead. <br>\n",
    "The csv data has already been downloaded by me and is commented using the code below."
   ]
  },
  {
   "cell_type": "code",
   "execution_count": 245,
   "metadata": {},
   "outputs": [],
   "source": [
    "#infy = pd.read_csv('infy_stock.csv', parse_dates=['Date'])\n",
    "#tcs = pd.read_csv('tcs_stock.csv', parse_dates=['Date'])\n",
    "#nifty_IT = pd.read_csv('nifty_it_index.csv', parse_dates=['Date'])"
   ]
  },
  {
   "cell_type": "code",
   "execution_count": 246,
   "metadata": {},
   "outputs": [
    {
     "data": {
      "text/html": [
       "<div>\n",
       "<style scoped>\n",
       "    .dataframe tbody tr th:only-of-type {\n",
       "        vertical-align: middle;\n",
       "    }\n",
       "\n",
       "    .dataframe tbody tr th {\n",
       "        vertical-align: top;\n",
       "    }\n",
       "\n",
       "    .dataframe thead th {\n",
       "        text-align: right;\n",
       "    }\n",
       "</style>\n",
       "<table border=\"1\" class=\"dataframe\">\n",
       "  <thead>\n",
       "    <tr style=\"text-align: right;\">\n",
       "      <th></th>\n",
       "      <th>Symbol</th>\n",
       "      <th>Series</th>\n",
       "      <th>Prev Close</th>\n",
       "      <th>Open</th>\n",
       "      <th>High</th>\n",
       "      <th>Low</th>\n",
       "      <th>Last</th>\n",
       "      <th>Close</th>\n",
       "      <th>VWAP</th>\n",
       "      <th>Volume</th>\n",
       "      <th>Turnover</th>\n",
       "      <th>Trades</th>\n",
       "      <th>Deliverable Volume</th>\n",
       "      <th>%Deliverble</th>\n",
       "    </tr>\n",
       "    <tr>\n",
       "      <th>Date</th>\n",
       "      <th></th>\n",
       "      <th></th>\n",
       "      <th></th>\n",
       "      <th></th>\n",
       "      <th></th>\n",
       "      <th></th>\n",
       "      <th></th>\n",
       "      <th></th>\n",
       "      <th></th>\n",
       "      <th></th>\n",
       "      <th></th>\n",
       "      <th></th>\n",
       "      <th></th>\n",
       "      <th></th>\n",
       "    </tr>\n",
       "  </thead>\n",
       "  <tbody>\n",
       "    <tr>\n",
       "      <th>2015-01-01</th>\n",
       "      <td>MCX</td>\n",
       "      <td>EQ</td>\n",
       "      <td>841.75</td>\n",
       "      <td>841.75</td>\n",
       "      <td>922.80</td>\n",
       "      <td>840.3</td>\n",
       "      <td>920.0</td>\n",
       "      <td>908.85</td>\n",
       "      <td>894.88</td>\n",
       "      <td>1940176</td>\n",
       "      <td>1.736227e+14</td>\n",
       "      <td>42606</td>\n",
       "      <td>418960</td>\n",
       "      <td>0.2159</td>\n",
       "    </tr>\n",
       "    <tr>\n",
       "      <th>2015-01-02</th>\n",
       "      <td>MCX</td>\n",
       "      <td>EQ</td>\n",
       "      <td>908.85</td>\n",
       "      <td>921.00</td>\n",
       "      <td>926.80</td>\n",
       "      <td>871.5</td>\n",
       "      <td>876.5</td>\n",
       "      <td>876.05</td>\n",
       "      <td>891.34</td>\n",
       "      <td>1729553</td>\n",
       "      <td>1.541613e+14</td>\n",
       "      <td>44258</td>\n",
       "      <td>583328</td>\n",
       "      <td>0.3373</td>\n",
       "    </tr>\n",
       "    <tr>\n",
       "      <th>2015-01-05</th>\n",
       "      <td>MCX</td>\n",
       "      <td>EQ</td>\n",
       "      <td>876.05</td>\n",
       "      <td>878.70</td>\n",
       "      <td>887.80</td>\n",
       "      <td>866.1</td>\n",
       "      <td>871.2</td>\n",
       "      <td>872.15</td>\n",
       "      <td>877.67</td>\n",
       "      <td>428965</td>\n",
       "      <td>3.764916e+13</td>\n",
       "      <td>14044</td>\n",
       "      <td>130523</td>\n",
       "      <td>0.3043</td>\n",
       "    </tr>\n",
       "    <tr>\n",
       "      <th>2015-01-06</th>\n",
       "      <td>MCX</td>\n",
       "      <td>EQ</td>\n",
       "      <td>872.15</td>\n",
       "      <td>863.00</td>\n",
       "      <td>867.25</td>\n",
       "      <td>843.0</td>\n",
       "      <td>856.0</td>\n",
       "      <td>853.20</td>\n",
       "      <td>855.19</td>\n",
       "      <td>402909</td>\n",
       "      <td>3.445628e+13</td>\n",
       "      <td>11028</td>\n",
       "      <td>179228</td>\n",
       "      <td>0.4448</td>\n",
       "    </tr>\n",
       "    <tr>\n",
       "      <th>2015-01-07</th>\n",
       "      <td>MCX</td>\n",
       "      <td>EQ</td>\n",
       "      <td>853.20</td>\n",
       "      <td>855.05</td>\n",
       "      <td>877.00</td>\n",
       "      <td>840.1</td>\n",
       "      <td>854.0</td>\n",
       "      <td>855.00</td>\n",
       "      <td>858.42</td>\n",
       "      <td>544622</td>\n",
       "      <td>4.675145e+13</td>\n",
       "      <td>18557</td>\n",
       "      <td>193827</td>\n",
       "      <td>0.3559</td>\n",
       "    </tr>\n",
       "  </tbody>\n",
       "</table>\n",
       "</div>"
      ],
      "text/plain": [
       "           Symbol Series  Prev Close    Open    High    Low   Last   Close  \\\n",
       "Date                                                                         \n",
       "2015-01-01    MCX     EQ      841.75  841.75  922.80  840.3  920.0  908.85   \n",
       "2015-01-02    MCX     EQ      908.85  921.00  926.80  871.5  876.5  876.05   \n",
       "2015-01-05    MCX     EQ      876.05  878.70  887.80  866.1  871.2  872.15   \n",
       "2015-01-06    MCX     EQ      872.15  863.00  867.25  843.0  856.0  853.20   \n",
       "2015-01-07    MCX     EQ      853.20  855.05  877.00  840.1  854.0  855.00   \n",
       "\n",
       "              VWAP   Volume      Turnover  Trades  Deliverable Volume  \\\n",
       "Date                                                                    \n",
       "2015-01-01  894.88  1940176  1.736227e+14   42606              418960   \n",
       "2015-01-02  891.34  1729553  1.541613e+14   44258              583328   \n",
       "2015-01-05  877.67   428965  3.764916e+13   14044              130523   \n",
       "2015-01-06  855.19   402909  3.445628e+13   11028              179228   \n",
       "2015-01-07  858.42   544622  4.675145e+13   18557              193827   \n",
       "\n",
       "            %Deliverble  \n",
       "Date                     \n",
       "2015-01-01       0.2159  \n",
       "2015-01-02       0.3373  \n",
       "2015-01-05       0.3043  \n",
       "2015-01-06       0.4448  \n",
       "2015-01-07       0.3559  "
      ]
     },
     "execution_count": 246,
     "metadata": {},
     "output_type": "execute_result"
    }
   ],
   "source": [
    "infy.head()"
   ]
  },
  {
   "cell_type": "markdown",
   "metadata": {},
   "source": [
    "The INFY stock prices data has been loaded into the variable 'infy'"
   ]
  },
  {
   "cell_type": "code",
   "execution_count": 247,
   "metadata": {},
   "outputs": [
    {
     "data": {
      "text/html": [
       "<div>\n",
       "<style scoped>\n",
       "    .dataframe tbody tr th:only-of-type {\n",
       "        vertical-align: middle;\n",
       "    }\n",
       "\n",
       "    .dataframe tbody tr th {\n",
       "        vertical-align: top;\n",
       "    }\n",
       "\n",
       "    .dataframe thead th {\n",
       "        text-align: right;\n",
       "    }\n",
       "</style>\n",
       "<table border=\"1\" class=\"dataframe\">\n",
       "  <thead>\n",
       "    <tr style=\"text-align: right;\">\n",
       "      <th></th>\n",
       "      <th>Symbol</th>\n",
       "      <th>Series</th>\n",
       "      <th>Prev Close</th>\n",
       "      <th>Open</th>\n",
       "      <th>High</th>\n",
       "      <th>Low</th>\n",
       "      <th>Last</th>\n",
       "      <th>Close</th>\n",
       "      <th>VWAP</th>\n",
       "      <th>Volume</th>\n",
       "      <th>Turnover</th>\n",
       "      <th>Trades</th>\n",
       "      <th>Deliverable Volume</th>\n",
       "      <th>%Deliverble</th>\n",
       "    </tr>\n",
       "    <tr>\n",
       "      <th>Date</th>\n",
       "      <th></th>\n",
       "      <th></th>\n",
       "      <th></th>\n",
       "      <th></th>\n",
       "      <th></th>\n",
       "      <th></th>\n",
       "      <th></th>\n",
       "      <th></th>\n",
       "      <th></th>\n",
       "      <th></th>\n",
       "      <th></th>\n",
       "      <th></th>\n",
       "      <th></th>\n",
       "      <th></th>\n",
       "    </tr>\n",
       "  </thead>\n",
       "  <tbody>\n",
       "    <tr>\n",
       "      <th>2015-01-01</th>\n",
       "      <td>TCS</td>\n",
       "      <td>EQ</td>\n",
       "      <td>2558.25</td>\n",
       "      <td>2567.0</td>\n",
       "      <td>2567.00</td>\n",
       "      <td>2541.00</td>\n",
       "      <td>2550.00</td>\n",
       "      <td>2545.55</td>\n",
       "      <td>2548.51</td>\n",
       "      <td>183415</td>\n",
       "      <td>4.674345e+13</td>\n",
       "      <td>8002</td>\n",
       "      <td>52870</td>\n",
       "      <td>0.2883</td>\n",
       "    </tr>\n",
       "    <tr>\n",
       "      <th>2015-01-02</th>\n",
       "      <td>TCS</td>\n",
       "      <td>EQ</td>\n",
       "      <td>2545.55</td>\n",
       "      <td>2551.0</td>\n",
       "      <td>2590.95</td>\n",
       "      <td>2550.60</td>\n",
       "      <td>2588.40</td>\n",
       "      <td>2579.45</td>\n",
       "      <td>2568.19</td>\n",
       "      <td>462870</td>\n",
       "      <td>1.188740e+14</td>\n",
       "      <td>27585</td>\n",
       "      <td>309350</td>\n",
       "      <td>0.6683</td>\n",
       "    </tr>\n",
       "    <tr>\n",
       "      <th>2015-01-05</th>\n",
       "      <td>TCS</td>\n",
       "      <td>EQ</td>\n",
       "      <td>2579.45</td>\n",
       "      <td>2581.0</td>\n",
       "      <td>2599.90</td>\n",
       "      <td>2524.65</td>\n",
       "      <td>2538.10</td>\n",
       "      <td>2540.25</td>\n",
       "      <td>2563.94</td>\n",
       "      <td>877121</td>\n",
       "      <td>2.248886e+14</td>\n",
       "      <td>43234</td>\n",
       "      <td>456728</td>\n",
       "      <td>0.5207</td>\n",
       "    </tr>\n",
       "    <tr>\n",
       "      <th>2015-01-06</th>\n",
       "      <td>TCS</td>\n",
       "      <td>EQ</td>\n",
       "      <td>2540.25</td>\n",
       "      <td>2529.1</td>\n",
       "      <td>2529.10</td>\n",
       "      <td>2440.00</td>\n",
       "      <td>2450.05</td>\n",
       "      <td>2446.60</td>\n",
       "      <td>2466.90</td>\n",
       "      <td>1211892</td>\n",
       "      <td>2.989615e+14</td>\n",
       "      <td>84503</td>\n",
       "      <td>714306</td>\n",
       "      <td>0.5894</td>\n",
       "    </tr>\n",
       "    <tr>\n",
       "      <th>2015-01-07</th>\n",
       "      <td>TCS</td>\n",
       "      <td>EQ</td>\n",
       "      <td>2446.60</td>\n",
       "      <td>2470.0</td>\n",
       "      <td>2479.15</td>\n",
       "      <td>2407.45</td>\n",
       "      <td>2426.90</td>\n",
       "      <td>2417.70</td>\n",
       "      <td>2433.96</td>\n",
       "      <td>1318166</td>\n",
       "      <td>3.208362e+14</td>\n",
       "      <td>101741</td>\n",
       "      <td>886368</td>\n",
       "      <td>0.6724</td>\n",
       "    </tr>\n",
       "  </tbody>\n",
       "</table>\n",
       "</div>"
      ],
      "text/plain": [
       "           Symbol Series  Prev Close    Open     High      Low     Last  \\\n",
       "Date                                                                      \n",
       "2015-01-01    TCS     EQ     2558.25  2567.0  2567.00  2541.00  2550.00   \n",
       "2015-01-02    TCS     EQ     2545.55  2551.0  2590.95  2550.60  2588.40   \n",
       "2015-01-05    TCS     EQ     2579.45  2581.0  2599.90  2524.65  2538.10   \n",
       "2015-01-06    TCS     EQ     2540.25  2529.1  2529.10  2440.00  2450.05   \n",
       "2015-01-07    TCS     EQ     2446.60  2470.0  2479.15  2407.45  2426.90   \n",
       "\n",
       "              Close     VWAP   Volume      Turnover  Trades  \\\n",
       "Date                                                          \n",
       "2015-01-01  2545.55  2548.51   183415  4.674345e+13    8002   \n",
       "2015-01-02  2579.45  2568.19   462870  1.188740e+14   27585   \n",
       "2015-01-05  2540.25  2563.94   877121  2.248886e+14   43234   \n",
       "2015-01-06  2446.60  2466.90  1211892  2.989615e+14   84503   \n",
       "2015-01-07  2417.70  2433.96  1318166  3.208362e+14  101741   \n",
       "\n",
       "            Deliverable Volume  %Deliverble  \n",
       "Date                                         \n",
       "2015-01-01               52870       0.2883  \n",
       "2015-01-02              309350       0.6683  \n",
       "2015-01-05              456728       0.5207  \n",
       "2015-01-06              714306       0.5894  \n",
       "2015-01-07              886368       0.6724  "
      ]
     },
     "execution_count": 247,
     "metadata": {},
     "output_type": "execute_result"
    }
   ],
   "source": [
    "tcs.head()"
   ]
  },
  {
   "cell_type": "markdown",
   "metadata": {},
   "source": [
    "NIFT IT indexes are loaded into the variable nifty_IT"
   ]
  },
  {
   "cell_type": "code",
   "execution_count": 248,
   "metadata": {},
   "outputs": [
    {
     "data": {
      "text/html": [
       "<div>\n",
       "<style scoped>\n",
       "    .dataframe tbody tr th:only-of-type {\n",
       "        vertical-align: middle;\n",
       "    }\n",
       "\n",
       "    .dataframe tbody tr th {\n",
       "        vertical-align: top;\n",
       "    }\n",
       "\n",
       "    .dataframe thead th {\n",
       "        text-align: right;\n",
       "    }\n",
       "</style>\n",
       "<table border=\"1\" class=\"dataframe\">\n",
       "  <thead>\n",
       "    <tr style=\"text-align: right;\">\n",
       "      <th></th>\n",
       "      <th>Open</th>\n",
       "      <th>High</th>\n",
       "      <th>Low</th>\n",
       "      <th>Close</th>\n",
       "      <th>Volume</th>\n",
       "      <th>Turnover</th>\n",
       "    </tr>\n",
       "    <tr>\n",
       "      <th>Date</th>\n",
       "      <th></th>\n",
       "      <th></th>\n",
       "      <th></th>\n",
       "      <th></th>\n",
       "      <th></th>\n",
       "      <th></th>\n",
       "    </tr>\n",
       "  </thead>\n",
       "  <tbody>\n",
       "    <tr>\n",
       "      <th>2015-01-01</th>\n",
       "      <td>11214.80</td>\n",
       "      <td>11235.75</td>\n",
       "      <td>11166.35</td>\n",
       "      <td>11215.70</td>\n",
       "      <td>4246150</td>\n",
       "      <td>3.575100e+09</td>\n",
       "    </tr>\n",
       "    <tr>\n",
       "      <th>2015-01-02</th>\n",
       "      <td>11214.65</td>\n",
       "      <td>11399.10</td>\n",
       "      <td>11214.65</td>\n",
       "      <td>11372.10</td>\n",
       "      <td>10004862</td>\n",
       "      <td>9.645600e+09</td>\n",
       "    </tr>\n",
       "    <tr>\n",
       "      <th>2015-01-05</th>\n",
       "      <td>11369.35</td>\n",
       "      <td>11433.75</td>\n",
       "      <td>11186.95</td>\n",
       "      <td>11248.55</td>\n",
       "      <td>8858018</td>\n",
       "      <td>1.059000e+10</td>\n",
       "    </tr>\n",
       "    <tr>\n",
       "      <th>2015-01-06</th>\n",
       "      <td>11186.10</td>\n",
       "      <td>11186.10</td>\n",
       "      <td>10909.00</td>\n",
       "      <td>10959.90</td>\n",
       "      <td>12515739</td>\n",
       "      <td>1.364500e+10</td>\n",
       "    </tr>\n",
       "    <tr>\n",
       "      <th>2015-01-07</th>\n",
       "      <td>11013.20</td>\n",
       "      <td>11042.35</td>\n",
       "      <td>10889.55</td>\n",
       "      <td>10916.00</td>\n",
       "      <td>10976356</td>\n",
       "      <td>1.203440e+10</td>\n",
       "    </tr>\n",
       "  </tbody>\n",
       "</table>\n",
       "</div>"
      ],
      "text/plain": [
       "                Open      High       Low     Close    Volume      Turnover\n",
       "Date                                                                      \n",
       "2015-01-01  11214.80  11235.75  11166.35  11215.70   4246150  3.575100e+09\n",
       "2015-01-02  11214.65  11399.10  11214.65  11372.10  10004862  9.645600e+09\n",
       "2015-01-05  11369.35  11433.75  11186.95  11248.55   8858018  1.059000e+10\n",
       "2015-01-06  11186.10  11186.10  10909.00  10959.90  12515739  1.364500e+10\n",
       "2015-01-07  11013.20  11042.35  10889.55  10916.00  10976356  1.203440e+10"
      ]
     },
     "execution_count": 248,
     "metadata": {},
     "output_type": "execute_result"
    }
   ],
   "source": [
    "nifty_IT.head()"
   ]
  },
  {
   "cell_type": "markdown",
   "metadata": {},
   "source": [
    "TCS stocks data loaded into the variable tcs"
   ]
  },
  {
   "cell_type": "markdown",
   "metadata": {},
   "source": [
    "## Part 1: Time Series Analysis"
   ]
  },
  {
   "cell_type": "markdown",
   "metadata": {},
   "source": [
    "### Rolling averages"
   ]
  },
  {
   "cell_type": "code",
   "execution_count": 249,
   "metadata": {},
   "outputs": [
    {
     "data": {
      "text/plain": [
       "(pandas.core.indexes.base.Index,\n",
       " pandas.core.indexes.base.Index,\n",
       " pandas.core.indexes.base.Index)"
      ]
     },
     "execution_count": 249,
     "metadata": {},
     "output_type": "execute_result"
    }
   ],
   "source": [
    "type(infy.index),type(tcs.index),type(nifty_IT.index)"
   ]
  },
  {
   "cell_type": "markdown",
   "metadata": {},
   "source": [
    "The dataframes are not Datetime Indexed. Therefore we need to DateTime Index the dataframes"
   ]
  },
  {
   "cell_type": "code",
   "execution_count": 250,
   "metadata": {},
   "outputs": [
    {
     "data": {
      "text/plain": [
       "(pandas.core.indexes.datetimes.DatetimeIndex,\n",
       " pandas.core.indexes.datetimes.DatetimeIndex,\n",
       " pandas.core.indexes.datetimes.DatetimeIndex)"
      ]
     },
     "execution_count": 250,
     "metadata": {},
     "output_type": "execute_result"
    }
   ],
   "source": [
    "infy.index = pd.to_datetime(infy.index)\n",
    "tcs.index = pd.to_datetime(tcs.index)\n",
    "nifty_IT.index = pd.to_datetime(nifty_IT.index)\n",
    "\n",
    "type(infy.index),type(tcs.index),type(nifty_IT.index)"
   ]
  },
  {
   "cell_type": "code",
   "execution_count": 251,
   "metadata": {},
   "outputs": [],
   "source": [
    "from datetime import timedelta\n",
    "def rollingAvg(df):\n",
    "    window = np.arange(4,53,12)\n",
    "    series = df.Close\n",
    "    df_new = pd.DataFrame(index=df.index,columns=list(window))\n",
    "    for i in window:\n",
    "        df_new[i] = series.rolling(window=timedelta(weeks=int(i))).mean()\n",
    "    df_new.columns.name = 'Rolling window size'\n",
    "    return df_new"
   ]
  },
  {
   "cell_type": "markdown",
   "metadata": {},
   "source": [
    "**In the function above, I create a k-moving average function where k = 4,16,...52. I put all these individual moving averages Series into a single Dataframe**"
   ]
  },
  {
   "cell_type": "code",
   "execution_count": 252,
   "metadata": {},
   "outputs": [
    {
     "data": {
      "text/html": [
       "<div>\n",
       "<style scoped>\n",
       "    .dataframe tbody tr th:only-of-type {\n",
       "        vertical-align: middle;\n",
       "    }\n",
       "\n",
       "    .dataframe tbody tr th {\n",
       "        vertical-align: top;\n",
       "    }\n",
       "\n",
       "    .dataframe thead th {\n",
       "        text-align: right;\n",
       "    }\n",
       "</style>\n",
       "<table border=\"1\" class=\"dataframe\">\n",
       "  <thead>\n",
       "    <tr style=\"text-align: right;\">\n",
       "      <th>Rolling window size</th>\n",
       "      <th>4</th>\n",
       "      <th>16</th>\n",
       "      <th>28</th>\n",
       "      <th>40</th>\n",
       "      <th>52</th>\n",
       "    </tr>\n",
       "    <tr>\n",
       "      <th>Date</th>\n",
       "      <th></th>\n",
       "      <th></th>\n",
       "      <th></th>\n",
       "      <th></th>\n",
       "      <th></th>\n",
       "    </tr>\n",
       "  </thead>\n",
       "  <tbody>\n",
       "    <tr>\n",
       "      <th>2015-01-01</th>\n",
       "      <td>2545.550000</td>\n",
       "      <td>2545.550000</td>\n",
       "      <td>2545.550000</td>\n",
       "      <td>2545.550000</td>\n",
       "      <td>2545.550000</td>\n",
       "    </tr>\n",
       "    <tr>\n",
       "      <th>2015-01-02</th>\n",
       "      <td>2562.500000</td>\n",
       "      <td>2562.500000</td>\n",
       "      <td>2562.500000</td>\n",
       "      <td>2562.500000</td>\n",
       "      <td>2562.500000</td>\n",
       "    </tr>\n",
       "    <tr>\n",
       "      <th>2015-01-05</th>\n",
       "      <td>2555.083333</td>\n",
       "      <td>2555.083333</td>\n",
       "      <td>2555.083333</td>\n",
       "      <td>2555.083333</td>\n",
       "      <td>2555.083333</td>\n",
       "    </tr>\n",
       "    <tr>\n",
       "      <th>2015-01-06</th>\n",
       "      <td>2527.962500</td>\n",
       "      <td>2527.962500</td>\n",
       "      <td>2527.962500</td>\n",
       "      <td>2527.962500</td>\n",
       "      <td>2527.962500</td>\n",
       "    </tr>\n",
       "    <tr>\n",
       "      <th>2015-01-07</th>\n",
       "      <td>2505.910000</td>\n",
       "      <td>2505.910000</td>\n",
       "      <td>2505.910000</td>\n",
       "      <td>2505.910000</td>\n",
       "      <td>2505.910000</td>\n",
       "    </tr>\n",
       "  </tbody>\n",
       "</table>\n",
       "</div>"
      ],
      "text/plain": [
       "Rolling window size           4            16           28           40  \\\n",
       "Date                                                                      \n",
       "2015-01-01           2545.550000  2545.550000  2545.550000  2545.550000   \n",
       "2015-01-02           2562.500000  2562.500000  2562.500000  2562.500000   \n",
       "2015-01-05           2555.083333  2555.083333  2555.083333  2555.083333   \n",
       "2015-01-06           2527.962500  2527.962500  2527.962500  2527.962500   \n",
       "2015-01-07           2505.910000  2505.910000  2505.910000  2505.910000   \n",
       "\n",
       "Rolling window size           52  \n",
       "Date                              \n",
       "2015-01-01           2545.550000  \n",
       "2015-01-02           2562.500000  \n",
       "2015-01-05           2555.083333  \n",
       "2015-01-06           2527.962500  \n",
       "2015-01-07           2505.910000  "
      ]
     },
     "execution_count": 252,
     "metadata": {},
     "output_type": "execute_result"
    }
   ],
   "source": [
    "tcs_df = rollingAvg(tcs)\n",
    "tcs_df.head()"
   ]
  },
  {
   "cell_type": "code",
   "execution_count": 253,
   "metadata": {},
   "outputs": [
    {
     "data": {
      "text/html": [
       "<div>\n",
       "<style scoped>\n",
       "    .dataframe tbody tr th:only-of-type {\n",
       "        vertical-align: middle;\n",
       "    }\n",
       "\n",
       "    .dataframe tbody tr th {\n",
       "        vertical-align: top;\n",
       "    }\n",
       "\n",
       "    .dataframe thead th {\n",
       "        text-align: right;\n",
       "    }\n",
       "</style>\n",
       "<table border=\"1\" class=\"dataframe\">\n",
       "  <thead>\n",
       "    <tr style=\"text-align: right;\">\n",
       "      <th>Rolling window size</th>\n",
       "      <th>4</th>\n",
       "      <th>16</th>\n",
       "      <th>28</th>\n",
       "      <th>40</th>\n",
       "      <th>52</th>\n",
       "    </tr>\n",
       "    <tr>\n",
       "      <th>Date</th>\n",
       "      <th></th>\n",
       "      <th></th>\n",
       "      <th></th>\n",
       "      <th></th>\n",
       "      <th></th>\n",
       "    </tr>\n",
       "  </thead>\n",
       "  <tbody>\n",
       "    <tr>\n",
       "      <th>2015-01-01</th>\n",
       "      <td>908.850000</td>\n",
       "      <td>908.850000</td>\n",
       "      <td>908.850000</td>\n",
       "      <td>908.850000</td>\n",
       "      <td>908.850000</td>\n",
       "    </tr>\n",
       "    <tr>\n",
       "      <th>2015-01-02</th>\n",
       "      <td>892.450000</td>\n",
       "      <td>892.450000</td>\n",
       "      <td>892.450000</td>\n",
       "      <td>892.450000</td>\n",
       "      <td>892.450000</td>\n",
       "    </tr>\n",
       "    <tr>\n",
       "      <th>2015-01-05</th>\n",
       "      <td>885.683333</td>\n",
       "      <td>885.683333</td>\n",
       "      <td>885.683333</td>\n",
       "      <td>885.683333</td>\n",
       "      <td>885.683333</td>\n",
       "    </tr>\n",
       "    <tr>\n",
       "      <th>2015-01-06</th>\n",
       "      <td>877.562500</td>\n",
       "      <td>877.562500</td>\n",
       "      <td>877.562500</td>\n",
       "      <td>877.562500</td>\n",
       "      <td>877.562500</td>\n",
       "    </tr>\n",
       "    <tr>\n",
       "      <th>2015-01-07</th>\n",
       "      <td>873.050000</td>\n",
       "      <td>873.050000</td>\n",
       "      <td>873.050000</td>\n",
       "      <td>873.050000</td>\n",
       "      <td>873.050000</td>\n",
       "    </tr>\n",
       "  </tbody>\n",
       "</table>\n",
       "</div>"
      ],
      "text/plain": [
       "Rolling window size          4           16          28          40  \\\n",
       "Date                                                                  \n",
       "2015-01-01           908.850000  908.850000  908.850000  908.850000   \n",
       "2015-01-02           892.450000  892.450000  892.450000  892.450000   \n",
       "2015-01-05           885.683333  885.683333  885.683333  885.683333   \n",
       "2015-01-06           877.562500  877.562500  877.562500  877.562500   \n",
       "2015-01-07           873.050000  873.050000  873.050000  873.050000   \n",
       "\n",
       "Rolling window size          52  \n",
       "Date                             \n",
       "2015-01-01           908.850000  \n",
       "2015-01-02           892.450000  \n",
       "2015-01-05           885.683333  \n",
       "2015-01-06           877.562500  \n",
       "2015-01-07           873.050000  "
      ]
     },
     "execution_count": 253,
     "metadata": {},
     "output_type": "execute_result"
    }
   ],
   "source": [
    "infy_df = rollingAvg(infy)\n",
    "infy_df.head()"
   ]
  },
  {
   "cell_type": "code",
   "execution_count": 254,
   "metadata": {},
   "outputs": [
    {
     "data": {
      "text/html": [
       "<div>\n",
       "<style scoped>\n",
       "    .dataframe tbody tr th:only-of-type {\n",
       "        vertical-align: middle;\n",
       "    }\n",
       "\n",
       "    .dataframe tbody tr th {\n",
       "        vertical-align: top;\n",
       "    }\n",
       "\n",
       "    .dataframe thead th {\n",
       "        text-align: right;\n",
       "    }\n",
       "</style>\n",
       "<table border=\"1\" class=\"dataframe\">\n",
       "  <thead>\n",
       "    <tr style=\"text-align: right;\">\n",
       "      <th>Rolling window size</th>\n",
       "      <th>4</th>\n",
       "      <th>16</th>\n",
       "      <th>28</th>\n",
       "      <th>40</th>\n",
       "      <th>52</th>\n",
       "    </tr>\n",
       "    <tr>\n",
       "      <th>Date</th>\n",
       "      <th></th>\n",
       "      <th></th>\n",
       "      <th></th>\n",
       "      <th></th>\n",
       "      <th></th>\n",
       "    </tr>\n",
       "  </thead>\n",
       "  <tbody>\n",
       "    <tr>\n",
       "      <th>2015-01-01</th>\n",
       "      <td>11215.700000</td>\n",
       "      <td>11215.700000</td>\n",
       "      <td>11215.700000</td>\n",
       "      <td>11215.700000</td>\n",
       "      <td>11215.700000</td>\n",
       "    </tr>\n",
       "    <tr>\n",
       "      <th>2015-01-02</th>\n",
       "      <td>11293.900000</td>\n",
       "      <td>11293.900000</td>\n",
       "      <td>11293.900000</td>\n",
       "      <td>11293.900000</td>\n",
       "      <td>11293.900000</td>\n",
       "    </tr>\n",
       "    <tr>\n",
       "      <th>2015-01-05</th>\n",
       "      <td>11278.783333</td>\n",
       "      <td>11278.783333</td>\n",
       "      <td>11278.783333</td>\n",
       "      <td>11278.783333</td>\n",
       "      <td>11278.783333</td>\n",
       "    </tr>\n",
       "    <tr>\n",
       "      <th>2015-01-06</th>\n",
       "      <td>11199.062500</td>\n",
       "      <td>11199.062500</td>\n",
       "      <td>11199.062500</td>\n",
       "      <td>11199.062500</td>\n",
       "      <td>11199.062500</td>\n",
       "    </tr>\n",
       "    <tr>\n",
       "      <th>2015-01-07</th>\n",
       "      <td>11142.450000</td>\n",
       "      <td>11142.450000</td>\n",
       "      <td>11142.450000</td>\n",
       "      <td>11142.450000</td>\n",
       "      <td>11142.450000</td>\n",
       "    </tr>\n",
       "  </tbody>\n",
       "</table>\n",
       "</div>"
      ],
      "text/plain": [
       "Rolling window size            4             16            28            40  \\\n",
       "Date                                                                          \n",
       "2015-01-01           11215.700000  11215.700000  11215.700000  11215.700000   \n",
       "2015-01-02           11293.900000  11293.900000  11293.900000  11293.900000   \n",
       "2015-01-05           11278.783333  11278.783333  11278.783333  11278.783333   \n",
       "2015-01-06           11199.062500  11199.062500  11199.062500  11199.062500   \n",
       "2015-01-07           11142.450000  11142.450000  11142.450000  11142.450000   \n",
       "\n",
       "Rolling window size            52  \n",
       "Date                               \n",
       "2015-01-01           11215.700000  \n",
       "2015-01-02           11293.900000  \n",
       "2015-01-05           11278.783333  \n",
       "2015-01-06           11199.062500  \n",
       "2015-01-07           11142.450000  "
      ]
     },
     "execution_count": 254,
     "metadata": {},
     "output_type": "execute_result"
    }
   ],
   "source": [
    "nifty_df = rollingAvg(nifty_IT)\n",
    "nifty_df.head()"
   ]
  },
  {
   "cell_type": "markdown",
   "metadata": {},
   "source": [
    "### Additional: Plotting the different k-moving averages (k=4,16,...52) for comparision"
   ]
  },
  {
   "cell_type": "code",
   "execution_count": 255,
   "metadata": {},
   "outputs": [
    {
     "data": {
      "image/png": "[encoded data removed]",
      "text/plain": [
       "<Figure size 1080x1080 with 3 Axes>"
      ]
     },
     "metadata": {
      "needs_background": "light"
     },
     "output_type": "display_data"
    }
   ],
   "source": [
    "fig = plt.figure(figsize=(15,15))\n",
    "df_list = [tcs_df,nifty_df,infy_df]\n",
    "plot_titles = ['Plot for TCS','Plot for NIFTY 50','Plot for INFY']\n",
    "for i in range(3):\n",
    "    ax = fig.add_subplot(2,2,i+1)\n",
    "    df_list[i].plot(ax=ax,title=plot_titles[i])"
   ]
  },
  {
   "cell_type": "markdown",
   "metadata": {},
   "source": [
    "### Conclusion: We observe that as the window size of the moving average increases, the time-series plot gets more and more noise-free"
   ]
  },
  {
   "cell_type": "markdown",
   "metadata": {},
   "source": [
    "## Calculating Shocks"
   ]
  },
  {
   "cell_type": "markdown",
   "metadata": {},
   "source": [
    "### 1. Volume shock"
   ]
  },
  {
   "cell_type": "code",
   "execution_count": 256,
   "metadata": {},
   "outputs": [],
   "source": [
    "def volumeShock(df):\n",
    "    volume_arr = np.array(df.Volume)\n",
    "    volume_prev = np.roll(volume_arr,1) #Shift the array by 1 position ahead\n",
    "    volume_prev[0] = 0 #The first element is nullified\n",
    "    \n",
    "    volume_diff = volume_arr - volume_prev\n",
    "    \n",
    "    volume_shock_np = ((volume_diff/volume_arr)>0.1).astype(int)\n",
    "    \n",
    "    volume_shock = pd.Series(volume_shock_np,index=df.index)\n",
    "    return volume_shock"
   ]
  },
  {
   "cell_type": "markdown",
   "metadata": {},
   "source": [
    "In the function volumeShock above, I have done the computaion in numpy than in Series as the computations in numpy are faster."
   ]
  },
  {
   "cell_type": "code",
   "execution_count": 257,
   "metadata": {},
   "outputs": [
    {
     "data": {
      "text/plain": [
       "Date\n",
       "2015-01-01    1\n",
       "2015-01-02    0\n",
       "2015-01-05    0\n",
       "2015-01-06    0\n",
       "2015-01-07    1\n",
       "2015-01-08    0\n",
       "2015-01-09    0\n",
       "2015-01-12    1\n",
       "2015-01-13    0\n",
       "2015-01-14    0\n",
       "2015-01-15    1\n",
       "2015-01-16    0\n",
       "2015-01-19    0\n",
       "2015-01-20    1\n",
       "2015-01-21    0\n",
       "2015-01-22    0\n",
       "2015-01-23    1\n",
       "2015-01-27    0\n",
       "2015-01-28    1\n",
       "2015-01-29    1\n",
       "2015-01-30    0\n",
       "2015-02-02    0\n",
       "2015-02-03    0\n",
       "2015-02-04    0\n",
       "2015-02-05    1\n",
       "2015-02-06    0\n",
       "2015-02-09    0\n",
       "2015-02-10    1\n",
       "2015-02-11    0\n",
       "2015-02-12    1\n",
       "             ..\n",
       "2016-11-21    1\n",
       "2016-11-22    0\n",
       "2016-11-23    0\n",
       "2016-11-24    0\n",
       "2016-11-25    0\n",
       "2016-11-28    1\n",
       "2016-11-29    0\n",
       "2016-11-30    1\n",
       "2016-12-01    0\n",
       "2016-12-02    1\n",
       "2016-12-05    0\n",
       "2016-12-06    1\n",
       "2016-12-07    0\n",
       "2016-12-08    0\n",
       "2016-12-09    1\n",
       "2016-12-12    0\n",
       "2016-12-13    0\n",
       "2016-12-14    0\n",
       "2016-12-15    1\n",
       "2016-12-16    0\n",
       "2016-12-19    0\n",
       "2016-12-20    0\n",
       "2016-12-21    0\n",
       "2016-12-22    1\n",
       "2016-12-23    0\n",
       "2016-12-26    0\n",
       "2016-12-27    0\n",
       "2016-12-28    1\n",
       "2016-12-29    1\n",
       "2016-12-30    0\n",
       "Length: 495, dtype: int32"
      ]
     },
     "execution_count": 257,
     "metadata": {},
     "output_type": "execute_result"
    }
   ],
   "source": [
    "volumeShock(infy)"
   ]
  },
  {
   "cell_type": "code",
   "execution_count": 258,
   "metadata": {},
   "outputs": [
    {
     "data": {
      "text/plain": [
       "Date\n",
       "2015-01-01    1\n",
       "2015-01-02    1\n",
       "2015-01-05    1\n",
       "2015-01-06    1\n",
       "2015-01-07    0\n",
       "2015-01-08    0\n",
       "2015-01-09    1\n",
       "2015-01-12    0\n",
       "2015-01-13    0\n",
       "2015-01-14    1\n",
       "2015-01-15    1\n",
       "2015-01-16    0\n",
       "2015-01-19    0\n",
       "2015-01-20    1\n",
       "2015-01-21    1\n",
       "2015-01-22    0\n",
       "2015-01-23    1\n",
       "2015-01-27    0\n",
       "2015-01-28    1\n",
       "2015-01-29    1\n",
       "2015-01-30    1\n",
       "2015-02-02    0\n",
       "2015-02-03    0\n",
       "2015-02-04    0\n",
       "2015-02-05    1\n",
       "2015-02-06    0\n",
       "2015-02-09    0\n",
       "2015-02-10    1\n",
       "2015-02-11    0\n",
       "2015-02-12    0\n",
       "             ..\n",
       "2016-11-21    0\n",
       "2016-11-22    0\n",
       "2016-11-23    0\n",
       "2016-11-24    1\n",
       "2016-11-25    1\n",
       "2016-11-28    0\n",
       "2016-11-29    0\n",
       "2016-11-30    1\n",
       "2016-12-01    0\n",
       "2016-12-02    1\n",
       "2016-12-05    1\n",
       "2016-12-06    0\n",
       "2016-12-07    1\n",
       "2016-12-08    1\n",
       "2016-12-09    0\n",
       "2016-12-12    0\n",
       "2016-12-13    1\n",
       "2016-12-14    0\n",
       "2016-12-15    1\n",
       "2016-12-16    0\n",
       "2016-12-19    0\n",
       "2016-12-20    1\n",
       "2016-12-21    0\n",
       "2016-12-22    0\n",
       "2016-12-23    0\n",
       "2016-12-26    0\n",
       "2016-12-27    1\n",
       "2016-12-28    0\n",
       "2016-12-29    1\n",
       "2016-12-30    0\n",
       "Length: 495, dtype: int32"
      ]
     },
     "execution_count": 258,
     "metadata": {},
     "output_type": "execute_result"
    }
   ],
   "source": [
    "volumeShock(tcs)"
   ]
  },
  {
   "cell_type": "code",
   "execution_count": 259,
   "metadata": {},
   "outputs": [
    {
     "data": {
      "text/plain": [
       "Date\n",
       "2015-01-01    1\n",
       "2015-01-02    1\n",
       "2015-01-05    0\n",
       "2015-01-06    1\n",
       "2015-01-07    0\n",
       "2015-01-08    1\n",
       "2015-01-09    1\n",
       "2015-01-12    0\n",
       "2015-01-13    0\n",
       "2015-01-14    0\n",
       "2015-01-15    0\n",
       "2015-01-16    0\n",
       "2015-01-19    0\n",
       "2015-01-20    0\n",
       "2015-01-21    1\n",
       "2015-01-22    0\n",
       "2015-01-23    1\n",
       "2015-01-27    0\n",
       "2015-01-28    0\n",
       "2015-01-29    0\n",
       "2015-01-30    1\n",
       "2015-02-02    0\n",
       "2015-02-03    1\n",
       "2015-02-04    0\n",
       "2015-02-05    0\n",
       "2015-02-06    0\n",
       "2015-02-09    0\n",
       "2015-02-10    1\n",
       "2015-02-11    0\n",
       "2015-02-12    1\n",
       "             ..\n",
       "2016-11-21    1\n",
       "2016-11-22    0\n",
       "2016-11-23    0\n",
       "2016-11-24    1\n",
       "2016-11-25    1\n",
       "2016-11-28    0\n",
       "2016-11-29    0\n",
       "2016-11-30    1\n",
       "2016-12-01    0\n",
       "2016-12-02    0\n",
       "2016-12-05    0\n",
       "2016-12-06    0\n",
       "2016-12-07    1\n",
       "2016-12-08    1\n",
       "2016-12-09    1\n",
       "2016-12-12    0\n",
       "2016-12-13    1\n",
       "2016-12-14    1\n",
       "2016-12-15    1\n",
       "2016-12-16    0\n",
       "2016-12-19    0\n",
       "2016-12-20    1\n",
       "2016-12-21    0\n",
       "2016-12-22    0\n",
       "2016-12-23    0\n",
       "2016-12-26    0\n",
       "2016-12-27    1\n",
       "2016-12-28    1\n",
       "2016-12-29    1\n",
       "2016-12-30    0\n",
       "Length: 495, dtype: int32"
      ]
     },
     "execution_count": 259,
     "metadata": {},
     "output_type": "execute_result"
    }
   ],
   "source": [
    "volumeShock(nifty_IT)"
   ]
  },
  {
   "cell_type": "markdown",
   "metadata": {},
   "source": [
    "### 2. Price Shocks / Price Black Swan"
   ]
  },
  {
   "cell_type": "code",
   "execution_count": 260,
   "metadata": {},
   "outputs": [],
   "source": [
    "def pricingShock(df):\n",
    "    pricing_arr = np.array(df.Close)\n",
    "    pricing_next = np.roll(pricing_arr,-1) #Shift the array by 1 position behind\n",
    "    pricing_next[-1] = 0 #The last element is nullified\n",
    "    \n",
    "    pricing_diff = pricing_next - pricing_arr\n",
    "    \n",
    "    pricing_shock_np = ((pricing_diff/pricing_arr)>0.02).astype(int)\n",
    "    \n",
    "    pricing_shock = pd.Series(pricing_shock_np,index=df.index)\n",
    "    return pricing_shock"
   ]
  },
  {
   "cell_type": "markdown",
   "metadata": {},
   "source": [
    "**Pricing Shock : Based on the difference of (T+1)th closing price and (T)th closing price**"
   ]
  },
  {
   "cell_type": "code",
   "execution_count": 261,
   "metadata": {},
   "outputs": [
    {
     "data": {
      "text/plain": [
       "Date\n",
       "2015-01-01    0\n",
       "2015-01-02    0\n",
       "2015-01-05    0\n",
       "2015-01-06    0\n",
       "2015-01-07    0\n",
       "2015-01-08    0\n",
       "2015-01-09    1\n",
       "2015-01-12    0\n",
       "2015-01-13    0\n",
       "2015-01-14    0\n",
       "2015-01-15    0\n",
       "2015-01-16    0\n",
       "2015-01-19    0\n",
       "2015-01-20    0\n",
       "2015-01-21    0\n",
       "2015-01-22    0\n",
       "2015-01-23    0\n",
       "2015-01-27    0\n",
       "2015-01-28    1\n",
       "2015-01-29    0\n",
       "2015-01-30    0\n",
       "2015-02-02    0\n",
       "2015-02-03    0\n",
       "2015-02-04    0\n",
       "2015-02-05    0\n",
       "2015-02-06    0\n",
       "2015-02-09    0\n",
       "2015-02-10    0\n",
       "2015-02-11    0\n",
       "2015-02-12    0\n",
       "             ..\n",
       "2016-11-21    0\n",
       "2016-11-22    0\n",
       "2016-11-23    0\n",
       "2016-11-24    0\n",
       "2016-11-25    0\n",
       "2016-11-28    0\n",
       "2016-11-29    0\n",
       "2016-11-30    0\n",
       "2016-12-01    0\n",
       "2016-12-02    0\n",
       "2016-12-05    1\n",
       "2016-12-06    1\n",
       "2016-12-07    1\n",
       "2016-12-08    1\n",
       "2016-12-09    0\n",
       "2016-12-12    0\n",
       "2016-12-13    0\n",
       "2016-12-14    0\n",
       "2016-12-15    0\n",
       "2016-12-16    0\n",
       "2016-12-19    0\n",
       "2016-12-20    0\n",
       "2016-12-21    0\n",
       "2016-12-22    0\n",
       "2016-12-23    0\n",
       "2016-12-26    0\n",
       "2016-12-27    1\n",
       "2016-12-28    0\n",
       "2016-12-29    0\n",
       "2016-12-30    0\n",
       "Length: 495, dtype: int32"
      ]
     },
     "execution_count": 261,
     "metadata": {},
     "output_type": "execute_result"
    }
   ],
   "source": [
    "pricingShock(infy)"
   ]
  },
  {
   "cell_type": "code",
   "execution_count": 262,
   "metadata": {},
   "outputs": [
    {
     "data": {
      "text/plain": [
       "Date\n",
       "2015-01-01    0\n",
       "2015-01-02    0\n",
       "2015-01-05    0\n",
       "2015-01-06    0\n",
       "2015-01-07    0\n",
       "2015-01-08    1\n",
       "2015-01-09    0\n",
       "2015-01-12    0\n",
       "2015-01-13    0\n",
       "2015-01-14    0\n",
       "2015-01-15    0\n",
       "2015-01-16    0\n",
       "2015-01-19    0\n",
       "2015-01-20    0\n",
       "2015-01-21    0\n",
       "2015-01-22    0\n",
       "2015-01-23    0\n",
       "2015-01-27    0\n",
       "2015-01-28    0\n",
       "2015-01-29    0\n",
       "2015-01-30    0\n",
       "2015-02-02    0\n",
       "2015-02-03    0\n",
       "2015-02-04    0\n",
       "2015-02-05    0\n",
       "2015-02-06    0\n",
       "2015-02-09    0\n",
       "2015-02-10    0\n",
       "2015-02-11    0\n",
       "2015-02-12    1\n",
       "             ..\n",
       "2016-11-21    0\n",
       "2016-11-22    0\n",
       "2016-11-23    0\n",
       "2016-11-24    1\n",
       "2016-11-25    0\n",
       "2016-11-28    0\n",
       "2016-11-29    0\n",
       "2016-11-30    0\n",
       "2016-12-01    0\n",
       "2016-12-02    0\n",
       "2016-12-05    0\n",
       "2016-12-06    0\n",
       "2016-12-07    0\n",
       "2016-12-08    0\n",
       "2016-12-09    0\n",
       "2016-12-12    0\n",
       "2016-12-13    0\n",
       "2016-12-14    1\n",
       "2016-12-15    0\n",
       "2016-12-16    0\n",
       "2016-12-19    1\n",
       "2016-12-20    0\n",
       "2016-12-21    0\n",
       "2016-12-22    0\n",
       "2016-12-23    0\n",
       "2016-12-26    0\n",
       "2016-12-27    0\n",
       "2016-12-28    0\n",
       "2016-12-29    0\n",
       "2016-12-30    0\n",
       "Length: 495, dtype: int32"
      ]
     },
     "execution_count": 262,
     "metadata": {},
     "output_type": "execute_result"
    }
   ],
   "source": [
    "pricingShock(tcs)"
   ]
  },
  {
   "cell_type": "code",
   "execution_count": 263,
   "metadata": {},
   "outputs": [
    {
     "data": {
      "text/plain": [
       "Date\n",
       "2015-01-01    0\n",
       "2015-01-02    0\n",
       "2015-01-05    0\n",
       "2015-01-06    0\n",
       "2015-01-07    0\n",
       "2015-01-08    1\n",
       "2015-01-09    0\n",
       "2015-01-12    0\n",
       "2015-01-13    0\n",
       "2015-01-14    0\n",
       "2015-01-15    0\n",
       "2015-01-16    0\n",
       "2015-01-19    0\n",
       "2015-01-20    0\n",
       "2015-01-21    0\n",
       "2015-01-22    0\n",
       "2015-01-23    0\n",
       "2015-01-27    0\n",
       "2015-01-28    0\n",
       "2015-01-29    0\n",
       "2015-01-30    0\n",
       "2015-02-02    0\n",
       "2015-02-03    0\n",
       "2015-02-04    0\n",
       "2015-02-05    0\n",
       "2015-02-06    0\n",
       "2015-02-09    0\n",
       "2015-02-10    0\n",
       "2015-02-11    0\n",
       "2015-02-12    0\n",
       "             ..\n",
       "2016-11-21    0\n",
       "2016-11-22    0\n",
       "2016-11-23    0\n",
       "2016-11-24    1\n",
       "2016-11-25    0\n",
       "2016-11-28    0\n",
       "2016-11-29    0\n",
       "2016-11-30    0\n",
       "2016-12-01    0\n",
       "2016-12-02    0\n",
       "2016-12-05    0\n",
       "2016-12-06    0\n",
       "2016-12-07    0\n",
       "2016-12-08    0\n",
       "2016-12-09    0\n",
       "2016-12-12    0\n",
       "2016-12-13    0\n",
       "2016-12-14    0\n",
       "2016-12-15    0\n",
       "2016-12-16    0\n",
       "2016-12-19    0\n",
       "2016-12-20    0\n",
       "2016-12-21    0\n",
       "2016-12-22    0\n",
       "2016-12-23    0\n",
       "2016-12-26    0\n",
       "2016-12-27    0\n",
       "2016-12-28    0\n",
       "2016-12-29    0\n",
       "2016-12-30    0\n",
       "Length: 495, dtype: int32"
      ]
     },
     "execution_count": 263,
     "metadata": {},
     "output_type": "execute_result"
    }
   ],
   "source": [
    "pricingShock(nifty_IT)"
   ]
  },
  {
   "cell_type": "markdown",
   "metadata": {},
   "source": [
    "## 3. Pricing shock without Volume shock"
   ]
  },
  {
   "cell_type": "markdown",
   "metadata": {},
   "source": [
    "**NOTE : <br>\n",
    "The definition of the pricing without volume shock was unclear in the question, therefore I have assumed it as follow: <br>\n",
    "To find those days when pricing shock is 1 but Volume shock is 0**"
   ]
  },
  {
   "cell_type": "code",
   "execution_count": 264,
   "metadata": {},
   "outputs": [],
   "source": [
    "def priceVol(df):\n",
    "    pricing_shock = np.array(pricingShock(df))\n",
    "    volume_shock = np.array(volumeShock(df))\n",
    "    \n",
    "    priceVol = df.index[np.where((pricing_shock==1) & (volume_shock==0))]\n",
    "    \n",
    "    return priceVol"
   ]
  },
  {
   "cell_type": "code",
   "execution_count": 265,
   "metadata": {},
   "outputs": [
    {
     "data": {
      "text/plain": [
       "DatetimeIndex(['2015-01-09', '2015-02-20', '2015-02-24', '2015-02-27',\n",
       "               '2015-03-20', '2015-04-09', '2015-05-12', '2015-05-14',\n",
       "               '2015-05-20', '2015-05-28', '2015-06-15', '2015-06-22',\n",
       "               '2015-06-30', '2015-07-03', '2015-08-04', '2015-08-13',\n",
       "               '2015-08-26', '2015-09-02', '2015-09-07', '2015-11-10',\n",
       "               '2015-12-21', '2015-12-30', '2016-02-19', '2016-03-03',\n",
       "               '2016-03-09', '2016-03-11', '2016-04-12', '2016-05-04',\n",
       "               '2016-05-20', '2016-06-13', '2016-06-27', '2016-07-05',\n",
       "               '2016-07-19', '2016-07-21', '2016-07-26', '2016-09-12',\n",
       "               '2016-09-19', '2016-09-21', '2016-09-23', '2016-09-28',\n",
       "               '2016-11-15', '2016-12-05', '2016-12-07', '2016-12-08',\n",
       "               '2016-12-27'],\n",
       "              dtype='datetime64[ns]', name='Date', freq=None)"
      ]
     },
     "execution_count": 265,
     "metadata": {},
     "output_type": "execute_result"
    }
   ],
   "source": [
    "priceVol(infy)"
   ]
  },
  {
   "cell_type": "code",
   "execution_count": 266,
   "metadata": {},
   "outputs": [
    {
     "data": {
      "text/plain": [
       "DatetimeIndex(['2015-01-08', '2015-02-12', '2015-05-06', '2015-05-21',\n",
       "               '2015-08-13', '2015-08-17', '2015-09-01', '2015-09-30',\n",
       "               '2015-10-01', '2016-03-02', '2016-04-08', '2016-05-24',\n",
       "               '2016-05-27', '2016-06-29', '2016-07-29', '2016-08-22',\n",
       "               '2016-12-14', '2016-12-19'],\n",
       "              dtype='datetime64[ns]', name='Date', freq=None)"
      ]
     },
     "execution_count": 266,
     "metadata": {},
     "output_type": "execute_result"
    }
   ],
   "source": [
    "priceVol(tcs)"
   ]
  },
  {
   "cell_type": "code",
   "execution_count": 267,
   "metadata": {},
   "outputs": [
    {
     "data": {
      "text/plain": [
       "DatetimeIndex(['2015-07-20', '2015-09-23', '2016-03-01', '2016-04-08',\n",
       "               '2016-05-24', '2016-07-29', '2016-10-17'],\n",
       "              dtype='datetime64[ns]', name='Date', freq=None)"
      ]
     },
     "execution_count": 267,
     "metadata": {},
     "output_type": "execute_result"
    }
   ],
   "source": [
    "priceVol(nifty_IT)"
   ]
  },
  {
   "cell_type": "markdown",
   "metadata": {},
   "source": [
    "# Part 2 : Visualization"
   ]
  },
  {
   "cell_type": "markdown",
   "metadata": {},
   "source": [
    "### Bokeh Visualization"
   ]
  },
  {
   "cell_type": "code",
   "execution_count": 268,
   "metadata": {},
   "outputs": [],
   "source": [
    "from bokeh.plotting import figure, show, output_file, output_notebook\n",
    "from bokeh.palettes import Spectral11, colorblind, Inferno, BuGn, brewer\n",
    "from bokeh.models import HoverTool, value, LabelSet, Legend, ColumnDataSource,LinearColorMapper,BasicTicker, PrintfTickFormatter, ColorBar\n",
    "import warnings\n",
    "warnings.filterwarnings('ignore')"
   ]
  },
  {
   "cell_type": "code",
   "execution_count": 269,
   "metadata": {},
   "outputs": [
    {
     "data": {
      "text/html": [
       "\n",
       "    <div class=\"bk-root\">\n",
       "        <a href=\"https://bokeh.pydata.org\" target=\"_blank\" class=\"bk-logo bk-logo-small bk-logo-notebook\"></a>\n",
       "        <span id=\"49bc978f-39d5-456c-b460-57dff6383218\">Loading BokehJS ...</span>\n",
       "    </div>"
      ]
     },
     "metadata": {},
     "output_type": "display_data"
    },
    {
     "data": {
      "application/javascript": [
       "\n",
       "(function(root) {\n",
       "  function now() {\n",
       "    return new Date();\n",
       "  }\n",
       "\n",
       "  var force = true;\n",
       "\n",
       "  if (typeof (root._bokeh_onload_callbacks) === \"undefined\" || force === true) {\n",
       "    root._bokeh_onload_callbacks = [];\n",
       "    root._bokeh_is_loading = undefined;\n",
       "  }\n",
       "\n",
       "  var JS_MIME_TYPE = 'application/javascript';\n",
       "  var HTML_MIME_TYPE = 'text/html';\n",
       "  var EXEC_MIME_TYPE = 'application/vnd.bokehjs_exec.v0+json';\n",
       "  var CLASS_NAME = 'output_bokeh rendered_html';\n",
       "\n",
       "  /**\n",
       "   * Render data to the DOM node\n",
       "   */\n",
       "  function render(props, node) {\n",
       "    var script = document.createElement(\"script\");\n",
       "    node.appendChild(script);\n",
       "  }\n",
       "\n",
       "  /**\n",
       "   * Handle when an output is cleared or removed\n",
       "   */\n",
       "  function handleClearOutput(event, handle) {\n",
       "    var cell = handle.cell;\n",
       "\n",
       "    var id = cell.output_area._bokeh_element_id;\n",
       "    var server_id = cell.output_area._bokeh_server_id;\n",
       "    // Clean up Bokeh references\n",
       "    if (id != null && id in Bokeh.index) {\n",
       "      Bokeh.index[id].model.document.clear();\n",
       "      delete Bokeh.index[id];\n",
       "    }\n",
       "\n",
       "    if (server_id !== undefined) {\n",
       "      // Clean up Bokeh references\n",
       "      var cmd = \"from bokeh.io.state import curstate; print(curstate().uuid_to_server['\" + server_id + \"'].get_sessions()[0].document.roots[0]._id)\";\n",
       "      cell.notebook.kernel.execute(cmd, {\n",
       "        iopub: {\n",
       "          output: function(msg) {\n",
       "            var id = msg.content.text.trim();\n",
       "            if (id in Bokeh.index) {\n",
       "              Bokeh.index[id].model.document.clear();\n",
       "              delete Bokeh.index[id];\n",
       "            }\n",
       "          }\n",
       "        }\n",
       "      });\n",
       "      // Destroy server and session\n",
       "      var cmd = \"import bokeh.io.notebook as ion; ion.destroy_server('\" + server_id + \"')\";\n",
       "      cell.notebook.kernel.execute(cmd);\n",
       "    }\n",
       "  }\n",
       "\n",
       "  /**\n",
       "   * Handle when a new output is added\n",
       "   */\n",
       "  function handleAddOutput(event, handle) {\n",
       "    var output_area = handle.output_area;\n",
       "    var output = handle.output;\n",
       "\n",
       "    // limit handleAddOutput to display_data with EXEC_MIME_TYPE content only\n",
       "    if ((output.output_type != \"display_data\") || (!output.data.hasOwnProperty(EXEC_MIME_TYPE))) {\n",
       "      return\n",
       "    }\n",
       "\n",
       "    var toinsert = output_area.element.find(\".\" + CLASS_NAME.split(' ')[0]);\n",
       "\n",
       "    if (output.metadata[EXEC_MIME_TYPE][\"id\"] !== undefined) {\n",
       "      toinsert[toinsert.length - 1].firstChild.textContent = output.data[JS_MIME_TYPE];\n",
       "      // store reference to embed id on output_area\n",
       "      output_area._bokeh_element_id = output.metadata[EXEC_MIME_TYPE][\"id\"];\n",
       "    }\n",
       "    if (output.metadata[EXEC_MIME_TYPE][\"server_id\"] !== undefined) {\n",
       "      var bk_div = document.createElement(\"div\");\n",
       "      bk_div.innerHTML = output.data[HTML_MIME_TYPE];\n",
       "      var script_attrs = bk_div.children[0].attributes;\n",
       "      for (var i = 0; i < script_attrs.length; i++) {\n",
       "        toinsert[toinsert.length - 1].firstChild.setAttribute(script_attrs[i].name, script_attrs[i].value);\n",
       "      }\n",
       "      // store reference to server id on output_area\n",
       "      output_area._bokeh_server_id = output.metadata[EXEC_MIME_TYPE][\"server_id\"];\n",
       "    }\n",
       "  }\n",
       "\n",
       "  function register_renderer(events, OutputArea) {\n",
       "\n",
       "    function append_mime(data, metadata, element) {\n",
       "      // create a DOM node to render to\n",
       "      var toinsert = this.create_output_subarea(\n",
       "        metadata,\n",
       "        CLASS_NAME,\n",
       "        EXEC_MIME_TYPE\n",
       "      );\n",
       "      this.keyboard_manager.register_events(toinsert);\n",
       "      // Render to node\n",
       "      var props = {data: data, metadata: metadata[EXEC_MIME_TYPE]};\n",
       "      render(props, toinsert[toinsert.length - 1]);\n",
       "      element.append(toinsert);\n",
       "      return toinsert\n",
       "    }\n",
       "\n",
       "    /* Handle when an output is cleared or removed */\n",
       "    events.on('clear_output.CodeCell', handleClearOutput);\n",
       "    events.on('delete.Cell', handleClearOutput);\n",
       "\n",
       "    /* Handle when a new output is added */\n",
       "    events.on('output_added.OutputArea', handleAddOutput);\n",
       "\n",
       "    /**\n",
       "     * Register the mime type and append_mime function with output_area\n",
       "     */\n",
       "    OutputArea.prototype.register_mime_type(EXEC_MIME_TYPE, append_mime, {\n",
       "      /* Is output safe? */\n",
       "      safe: true,\n",
       "      /* Index of renderer in `output_area.display_order` */\n",
       "      index: 0\n",
       "    });\n",
       "  }\n",
       "\n",
       "  // register the mime type if in Jupyter Notebook environment and previously unregistered\n",
       "  if (root.Jupyter !== undefined) {\n",
       "    var events = require('base/js/events');\n",
       "    var OutputArea = require('notebook/js/outputarea').OutputArea;\n",
       "\n",
       "    if (OutputArea.prototype.mime_types().indexOf(EXEC_MIME_TYPE) == -1) {\n",
       "      register_renderer(events, OutputArea);\n",
       "    }\n",
       "  }\n",
       "\n",
       "  \n",
       "  if (typeof (root._bokeh_timeout) === \"undefined\" || force === true) {\n",
       "    root._bokeh_timeout = Date.now() + 5000;\n",
       "    root._bokeh_failed_load = false;\n",
       "  }\n",
       "\n",
       "  var NB_LOAD_WARNING = {'data': {'text/html':\n",
       "     \"<div style='background-color: #fdd'>\\n\"+\n",
       "     \"<p>\\n\"+\n",
       "     \"BokehJS does not appear to have successfully loaded. If loading BokehJS from CDN, this \\n\"+\n",
       "     \"may be due to a slow or bad network connection. Possible fixes:\\n\"+\n",
       "     \"</p>\\n\"+\n",
       "     \"<ul>\\n\"+\n",
       "     \"<li>re-rerun `output_notebook()` to attempt to load from CDN again, or</li>\\n\"+\n",
       "     \"<li>use INLINE resources instead, as so:</li>\\n\"+\n",
       "     \"</ul>\\n\"+\n",
       "     \"<code>\\n\"+\n",
       "     \"from bokeh.resources import INLINE\\n\"+\n",
       "     \"output_notebook(resources=INLINE)\\n\"+\n",
       "     \"</code>\\n\"+\n",
       "     \"</div>\"}};\n",
       "\n",
       "  function display_loaded() {\n",
       "    var el = document.getElementById(\"49bc978f-39d5-456c-b460-57dff6383218\");\n",
       "    if (el != null) {\n",
       "      el.textContent = \"BokehJS is loading...\";\n",
       "    }\n",
       "    if (root.Bokeh !== undefined) {\n",
       "      if (el != null) {\n",
       "        el.textContent = \"BokehJS \" + root.Bokeh.version + \" successfully loaded.\";\n",
       "      }\n",
       "    } else if (Date.now() < root._bokeh_timeout) {\n",
       "      setTimeout(display_loaded, 100)\n",
       "    }\n",
       "  }\n",
       "\n",
       "\n",
       "  function run_callbacks() {\n",
       "    try {\n",
       "      root._bokeh_onload_callbacks.forEach(function(callback) { callback() });\n",
       "    }\n",
       "    finally {\n",
       "      delete root._bokeh_onload_callbacks\n",
       "    }\n",
       "    console.info(\"Bokeh: all callbacks have finished\");\n",
       "  }\n",
       "\n",
       "  function load_libs(js_urls, callback) {\n",
       "    root._bokeh_onload_callbacks.push(callback);\n",
       "    if (root._bokeh_is_loading > 0) {\n",
       "      console.log(\"Bokeh: BokehJS is being loaded, scheduling callback at\", now());\n",
       "      return null;\n",
       "    }\n",
       "    if (js_urls == null || js_urls.length === 0) {\n",
       "      run_callbacks();\n",
       "      return null;\n",
       "    }\n",
       "    console.log(\"Bokeh: BokehJS not loaded, scheduling load and callback at\", now());\n",
       "    root._bokeh_is_loading = js_urls.length;\n",
       "    for (var i = 0; i < js_urls.length; i++) {\n",
       "      var url = js_urls[i];\n",
       "      var s = document.createElement('script');\n",
       "      s.src = url;\n",
       "      s.async = false;\n",
       "      s.onreadystatechange = s.onload = function() {\n",
       "        root._bokeh_is_loading--;\n",
       "        if (root._bokeh_is_loading === 0) {\n",
       "          console.log(\"Bokeh: all BokehJS libraries loaded\");\n",
       "          run_callbacks()\n",
       "        }\n",
       "      };\n",
       "      s.onerror = function() {\n",
       "        console.warn(\"failed to load library \" + url);\n",
       "      };\n",
       "      console.log(\"Bokeh: injecting script tag for BokehJS library: \", url);\n",
       "      document.getElementsByTagName(\"head\")[0].appendChild(s);\n",
       "    }\n",
       "  };var element = document.getElementById(\"49bc978f-39d5-456c-b460-57dff6383218\");\n",
       "  if (element == null) {\n",
       "    console.log(\"Bokeh: ERROR: autoload.js configured with elementid '49bc978f-39d5-456c-b460-57dff6383218' but no matching script tag was found. \")\n",
       "    return false;\n",
       "  }\n",
       "\n",
       "  var js_urls = [\"https://cdn.pydata.org/bokeh/release/bokeh-0.13.0.min.js\", \"https://cdn.pydata.org/bokeh/release/bokeh-widgets-0.13.0.min.js\", \"https://cdn.pydata.org/bokeh/release/bokeh-tables-0.13.0.min.js\", \"https://cdn.pydata.org/bokeh/release/bokeh-gl-0.13.0.min.js\"];\n",
       "\n",
       "  var inline_js = [\n",
       "    function(Bokeh) {\n",
       "      Bokeh.set_log_level(\"info\");\n",
       "    },\n",
       "    \n",
       "    function(Bokeh) {\n",
       "      \n",
       "    },\n",
       "    function(Bokeh) {\n",
       "      console.log(\"Bokeh: injecting CSS: https://cdn.pydata.org/bokeh/release/bokeh-0.13.0.min.css\");\n",
       "      Bokeh.embed.inject_css(\"https://cdn.pydata.org/bokeh/release/bokeh-0.13.0.min.css\");\n",
       "      console.log(\"Bokeh: injecting CSS: https://cdn.pydata.org/bokeh/release/bokeh-widgets-0.13.0.min.css\");\n",
       "      Bokeh.embed.inject_css(\"https://cdn.pydata.org/bokeh/release/bokeh-widgets-0.13.0.min.css\");\n",
       "      console.log(\"Bokeh: injecting CSS: https://cdn.pydata.org/bokeh/release/bokeh-tables-0.13.0.min.css\");\n",
       "      Bokeh.embed.inject_css(\"https://cdn.pydata.org/bokeh/release/bokeh-tables-0.13.0.min.css\");\n",
       "    }\n",
       "  ];\n",
       "\n",
       "  function run_inline_js() {\n",
       "    \n",
       "    if ((root.Bokeh !== undefined) || (force === true)) {\n",
       "      for (var i = 0; i < inline_js.length; i++) {\n",
       "        inline_js[i].call(root, root.Bokeh);\n",
       "      }if (force === true) {\n",
       "        display_loaded();\n",
       "      }} else if (Date.now() < root._bokeh_timeout) {\n",
       "      setTimeout(run_inline_js, 100);\n",
       "    } else if (!root._bokeh_failed_load) {\n",
       "      console.log(\"Bokeh: BokehJS failed to load within specified timeout.\");\n",
       "      root._bokeh_failed_load = true;\n",
       "    } else if (force !== true) {\n",
       "      var cell = $(document.getElementById(\"49bc978f-39d5-456c-b460-57dff6383218\")).parents('.cell').data().cell;\n",
       "      cell.output_area.append_execute_result(NB_LOAD_WARNING)\n",
       "    }\n",
       "\n",
       "  }\n",
       "\n",
       "  if (root._bokeh_is_loading === 0) {\n",
       "    console.log(\"Bokeh: BokehJS loaded, going straight to plotting\");\n",
       "    run_inline_js();\n",
       "  } else {\n",
       "    load_libs(js_urls, function() {\n",
       "      console.log(\"Bokeh: BokehJS plotting callback run at\", now());\n",
       "      run_inline_js();\n",
       "    });\n",
       "  }\n",
       "}(window));"
      ],
      "application/vnd.bokehjs_load.v0+json": "\n(function(root) {\n  function now() {\n    return new Date();\n  }\n\n  var force = true;\n\n  if (typeof (root._bokeh_onload_callbacks) === \"undefined\" || force === true) {\n    root._bokeh_onload_callbacks = [];\n    root._bokeh_is_loading = undefined;\n  }\n\n  \n\n  \n  if (typeof (root._bokeh_timeout) === \"undefined\" || force === true) {\n    root._bokeh_timeout = Date.now() + 5000;\n    root._bokeh_failed_load = false;\n  }\n\n  var NB_LOAD_WARNING = {'data': {'text/html':\n     \"<div style='background-color: #fdd'>\\n\"+\n     \"<p>\\n\"+\n     \"BokehJS does not appear to have successfully loaded. If loading BokehJS from CDN, this \\n\"+\n     \"may be due to a slow or bad network connection. Possible fixes:\\n\"+\n     \"</p>\\n\"+\n     \"<ul>\\n\"+\n     \"<li>re-rerun `output_notebook()` to attempt to load from CDN again, or</li>\\n\"+\n     \"<li>use INLINE resources instead, as so:</li>\\n\"+\n     \"</ul>\\n\"+\n     \"<code>\\n\"+\n     \"from bokeh.resources import INLINE\\n\"+\n     \"output_notebook(resources=INLINE)\\n\"+\n     \"</code>\\n\"+\n     \"</div>\"}};\n\n  function display_loaded() {\n    var el = document.getElementById(\"49bc978f-39d5-456c-b460-57dff6383218\");\n    if (el != null) {\n      el.textContent = \"BokehJS is loading...\";\n    }\n    if (root.Bokeh !== undefined) {\n      if (el != null) {\n        el.textContent = \"BokehJS \" + root.Bokeh.version + \" successfully loaded.\";\n      }\n    } else if (Date.now() < root._bokeh_timeout) {\n      setTimeout(display_loaded, 100)\n    }\n  }\n\n\n  function run_callbacks() {\n    try {\n      root._bokeh_onload_callbacks.forEach(function(callback) { callback() });\n    }\n    finally {\n      delete root._bokeh_onload_callbacks\n    }\n    console.info(\"Bokeh: all callbacks have finished\");\n  }\n\n  function load_libs(js_urls, callback) {\n    root._bokeh_onload_callbacks.push(callback);\n    if (root._bokeh_is_loading > 0) {\n      console.log(\"Bokeh: BokehJS is being loaded, scheduling callback at\", now());\n      return null;\n    }\n    if (js_urls == null || js_urls.length === 0) {\n      run_callbacks();\n      return null;\n    }\n    console.log(\"Bokeh: BokehJS not loaded, scheduling load and callback at\", now());\n    root._bokeh_is_loading = js_urls.length;\n    for (var i = 0; i < js_urls.length; i++) {\n      var url = js_urls[i];\n      var s = document.createElement('script');\n      s.src = url;\n      s.async = false;\n      s.onreadystatechange = s.onload = function() {\n        root._bokeh_is_loading--;\n        if (root._bokeh_is_loading === 0) {\n          console.log(\"Bokeh: all BokehJS libraries loaded\");\n          run_callbacks()\n        }\n      };\n      s.onerror = function() {\n        console.warn(\"failed to load library \" + url);\n      };\n      console.log(\"Bokeh: injecting script tag for BokehJS library: \", url);\n      document.getElementsByTagName(\"head\")[0].appendChild(s);\n    }\n  };var element = document.getElementById(\"49bc978f-39d5-456c-b460-57dff6383218\");\n  if (element == null) {\n    console.log(\"Bokeh: ERROR: autoload.js configured with elementid '49bc978f-39d5-456c-b460-57dff6383218' but no matching script tag was found. \")\n    return false;\n  }\n\n  var js_urls = [\"https://cdn.pydata.org/bokeh/release/bokeh-0.13.0.min.js\", \"https://cdn.pydata.org/bokeh/release/bokeh-widgets-0.13.0.min.js\", \"https://cdn.pydata.org/bokeh/release/bokeh-tables-0.13.0.min.js\", \"https://cdn.pydata.org/bokeh/release/bokeh-gl-0.13.0.min.js\"];\n\n  var inline_js = [\n    function(Bokeh) {\n      Bokeh.set_log_level(\"info\");\n    },\n    \n    function(Bokeh) {\n      \n    },\n    function(Bokeh) {\n      console.log(\"Bokeh: injecting CSS: https://cdn.pydata.org/bokeh/release/bokeh-0.13.0.min.css\");\n      Bokeh.embed.inject_css(\"https://cdn.pydata.org/bokeh/release/bokeh-0.13.0.min.css\");\n      console.log(\"Bokeh: injecting CSS: https://cdn.pydata.org/bokeh/release/bokeh-widgets-0.13.0.min.css\");\n      Bokeh.embed.inject_css(\"https://cdn.pydata.org/bokeh/release/bokeh-widgets-0.13.0.min.css\");\n      console.log(\"Bokeh: injecting CSS: https://cdn.pydata.org/bokeh/release/bokeh-tables-0.13.0.min.css\");\n      Bokeh.embed.inject_css(\"https://cdn.pydata.org/bokeh/release/bokeh-tables-0.13.0.min.css\");\n    }\n  ];\n\n  function run_inline_js() {\n    \n    if ((root.Bokeh !== undefined) || (force === true)) {\n      for (var i = 0; i < inline_js.length; i++) {\n        inline_js[i].call(root, root.Bokeh);\n      }if (force === true) {\n        display_loaded();\n      }} else if (Date.now() < root._bokeh_timeout) {\n      setTimeout(run_inline_js, 100);\n    } else if (!root._bokeh_failed_load) {\n      console.log(\"Bokeh: BokehJS failed to load within specified timeout.\");\n      root._bokeh_failed_load = true;\n    } else if (force !== true) {\n      var cell = $(document.getElementById(\"49bc978f-39d5-456c-b460-57dff6383218\")).parents('.cell').data().cell;\n      cell.output_area.append_execute_result(NB_LOAD_WARNING)\n    }\n\n  }\n\n  if (root._bokeh_is_loading === 0) {\n    console.log(\"Bokeh: BokehJS loaded, going straight to plotting\");\n    run_inline_js();\n  } else {\n    load_libs(js_urls, function() {\n      console.log(\"Bokeh: BokehJS plotting callback run at\", now());\n      run_inline_js();\n    });\n  }\n}(window));"
     },
     "metadata": {},
     "output_type": "display_data"
    }
   ],
   "source": [
    "output_notebook()"
   ]
  },
  {
   "cell_type": "code",
   "execution_count": 270,
   "metadata": {},
   "outputs": [],
   "source": [
    "infy.name = 'INFY'\n",
    "tcs.name = 'TCS'\n",
    "nifty_IT.name = 'NIFTY IT'\n",
    "def bokeh_plotting(df):\n",
    "    TOOLS = 'save,pan,box_zoom,reset,wheel_zoom,hover'\n",
    "    p = figure(title=\"Closing Price for {}\".format(df.name), y_axis_type=\"linear\", plot_height = 400,tools = TOOLS, plot_width = 800)\n",
    "    p.xaxis.axis_label = 'Time'\n",
    "    p.yaxis.axis_label = 'Closing Price'\n",
    "    \n",
    "    \n",
    "    #Marking the volumeless price movement with black\n",
    "    p.circle(priceVol(df),df.Close[priceVol(df)], size = 10, color = 'k')\n",
    "\n",
    "    p.line(df.index,df.Close,line_color=\"blue\", line_width = 3)\n",
    "    p.select_one(HoverTool).tooltips = [('time', '@x'),('Closing Price', '@y')]\n",
    "    show(p)"
   ]
  },
  {
   "cell_type": "code",
   "execution_count": 271,
   "metadata": {},
   "outputs": [
    {
     "name": "stderr",
     "output_type": "stream",
     "text": [
      "ERROR:bokeh.core.validation.check:E-1001 (BAD_COLUMN_NAME): Glyph refers to nonexistent column name: k [renderer: GlyphRenderer(id='568e632d-c107-49d7-a99c-e7f9c41364f0', ...)]\n"
     ]
    },
    {
     "data": {
      "text/html": [
       "\n",
       "\n",
       "\n",
       "\n",
       "\n",
       "\n",
       "  <div class=\"bk-root\" id=\"b65aa6dc-a8dd-4b21-9b74-b5a64e2b372a\"></div>\n"
      ]
     },
     "metadata": {},
     "output_type": "display_data"
    },
    {
     "data": {
      "application/javascript": [
       "(function(root) {\n",
       "  function embed_document(root) {\n",
       "    \n",
       "  var docs_json = {\"34256e8d-feda-420b-99fa-f2dc70eccdf5\":{\"roots\":{\"references\":[{\"attributes\":{\"fill_color\":{\"field\":\"k\"},\"line_color\":{\"field\":\"k\"},\"size\":{\"units\":\"screen\",\"value\":10},\"x\":{\"field\":\"x\"},\"y\":{\"field\":\"y\"}},\"id\":\"64f4c8b1-1494-4df1-942a-9804e4be8033\",\"type\":\"Circle\"},{\"attributes\":{},\"id\":\"db8a3c97-e4bf-4194-952a-d452f2f64ac3\",\"type\":\"LinearScale\"},{\"attributes\":{\"bottom_units\":\"screen\",\"fill_alpha\":{\"value\":0.5},\"fill_color\":{\"value\":\"lightgrey\"},\"left_units\":\"screen\",\"level\":\"overlay\",\"line_alpha\":{\"value\":1.0},\"line_color\":{\"value\":\"black\"},\"line_dash\":[4,4],\"line_width\":{\"value\":2},\"plot\":null,\"render_mode\":\"css\",\"right_units\":\"screen\",\"top_units\":\"screen\"},\"id\":\"e939329e-2003-4d0d-8875-006ed3c8494c\",\"type\":\"BoxAnnotation\"},{\"attributes\":{\"data_source\":{\"id\":\"718332ab-b3e9-41c6-9024-5566a0b52b64\",\"type\":\"ColumnDataSource\"},\"glyph\":{\"id\":\"67bd36a7-d2f6-419f-ba78-8f271c5b14e0\",\"type\":\"Line\"},\"hover_glyph\":null,\"muted_glyph\":null,\"nonselection_glyph\":{\"id\":\"702fa24b-e0cb-42cb-88d5-dfcada6fd8b8\",\"type\":\"Line\"},\"selection_glyph\":null,\"view\":{\"id\":\"29b0d7fd-d362-456c-a0a2-d3a271103dc9\",\"type\":\"CDSView\"}},\"id\":\"6ba0f6dc-9475-47ab-ab0f-8358c55e1f57\",\"type\":\"GlyphRenderer\"},{\"attributes\":{},\"id\":\"fad46f36-894c-49d8-89bc-9255818de8d4\",\"type\":\"BasicTickFormatter\"},{\"attributes\":{\"callback\":null},\"id\":\"f9efac1d-ebd2-40ec-89ec-14e9145b5bd9\",\"type\":\"DataRange1d\"},{\"attributes\":{\"active_drag\":\"auto\",\"active_inspect\":\"auto\",\"active_multi\":null,\"active_scroll\":\"auto\",\"active_tap\":\"auto\",\"tools\":[{\"id\":\"42e7c07f-a9ba-44e1-9ebd-cd2c5b36d241\",\"type\":\"SaveTool\"},{\"id\":\"46516104-35ac-4098-a33f-682a2f191f31\",\"type\":\"PanTool\"},{\"id\":\"db0b58b5-8d91-40d7-812f-f2e36c026cf1\",\"type\":\"BoxZoomTool\"},{\"id\":\"ca10cfe8-f820-4de6-bee8-bd140665ac4a\",\"type\":\"ResetTool\"},{\"id\":\"c59a5c86-1134-418f-92d8-4674bb15ac78\",\"type\":\"WheelZoomTool\"},{\"id\":\"b59e6c56-d846-4c56-a10b-6808873bac6c\",\"type\":\"HoverTool\"}]},\"id\":\"fbf2a8d6-7c12-49b8-bee3-eae8d3418ba1\",\"type\":\"Toolbar\"},{\"attributes\":{\"line_color\":\"blue\",\"line_width\":3,\"x\":{\"field\":\"x\"},\"y\":{\"field\":\"y\"}},\"id\":\"67bd36a7-d2f6-419f-ba78-8f271c5b14e0\",\"type\":\"Line\"},{\"attributes\":{},\"id\":\"ca10cfe8-f820-4de6-bee8-bd140665ac4a\",\"type\":\"ResetTool\"},{\"attributes\":{\"callback\":null},\"id\":\"02fa05d0-c878-41b5-8521-4e8bbb8c214d\",\"type\":\"DataRange1d\"},{\"attributes\":{\"plot\":null,\"text\":\"Closing Price for INFY\"},\"id\":\"a557c123-6174-4093-9544-76b242b16b1d\",\"type\":\"Title\"},{\"attributes\":{\"axis_label\":\"Time\",\"formatter\":{\"id\":\"fad46f36-894c-49d8-89bc-9255818de8d4\",\"type\":\"BasicTickFormatter\"},\"plot\":{\"id\":\"f31f7731-ff05-4862-9b70-0ea4af5c6185\",\"subtype\":\"Figure\",\"type\":\"Plot\"},\"ticker\":{\"id\":\"42a3dbe7-9284-410a-a464-5e7d59627c17\",\"type\":\"BasicTicker\"}},\"id\":\"f56d580b-8cc9-46c5-b9b5-97144fd12e18\",\"type\":\"LinearAxis\"},{\"attributes\":{},\"id\":\"ec962753-22df-457a-ab40-1d63d882464b\",\"type\":\"LinearScale\"},{\"attributes\":{\"line_alpha\":0.1,\"line_color\":\"#1f77b4\",\"line_width\":3,\"x\":{\"field\":\"x\"},\"y\":{\"field\":\"y\"}},\"id\":\"702fa24b-e0cb-42cb-88d5-dfcada6fd8b8\",\"type\":\"Line\"},{\"attributes\":{\"source\":{\"id\":\"94fd03ef-b94c-4e96-8ca5-42d7e19bc7a9\",\"type\":\"ColumnDataSource\"}},\"id\":\"02d3755f-e2d9-4cf9-b8b4-2b5a08f40996\",\"type\":\"CDSView\"},{\"attributes\":{\"data_source\":{\"id\":\"94fd03ef-b94c-4e96-8ca5-42d7e19bc7a9\",\"type\":\"ColumnDataSource\"},\"glyph\":{\"id\":\"64f4c8b1-1494-4df1-942a-9804e4be8033\",\"type\":\"Circle\"},\"hover_glyph\":null,\"muted_glyph\":null,\"nonselection_glyph\":{\"id\":\"48d667ca-c20c-45c3-9b0e-1c77c08534af\",\"type\":\"Circle\"},\"selection_glyph\":null,\"view\":{\"id\":\"02d3755f-e2d9-4cf9-b8b4-2b5a08f40996\",\"type\":\"CDSView\"}},\"id\":\"568e632d-c107-49d7-a99c-e7f9c41364f0\",\"type\":\"GlyphRenderer\"},{\"attributes\":{},\"id\":\"42e7c07f-a9ba-44e1-9ebd-cd2c5b36d241\",\"type\":\"SaveTool\"},{\"attributes\":{},\"id\":\"55c34cea-7f86-4de1-aaf3-accfd2c1df89\",\"type\":\"UnionRenderers\"},{\"attributes\":{},\"id\":\"c59a5c86-1134-418f-92d8-4674bb15ac78\",\"type\":\"WheelZoomTool\"},{\"attributes\":{\"plot\":{\"id\":\"f31f7731-ff05-4862-9b70-0ea4af5c6185\",\"subtype\":\"Figure\",\"type\":\"Plot\"},\"ticker\":{\"id\":\"42a3dbe7-9284-410a-a464-5e7d59627c17\",\"type\":\"BasicTicker\"}},\"id\":\"3dd6026a-ce25-43e2-97cd-bbc0b4e16cfb\",\"type\":\"Grid\"},{\"attributes\":{\"dimension\":1,\"plot\":{\"id\":\"f31f7731-ff05-4862-9b70-0ea4af5c6185\",\"subtype\":\"Figure\",\"type\":\"Plot\"},\"ticker\":{\"id\":\"4867b5e0-6afe-4ebf-a803-d59563d34f22\",\"type\":\"BasicTicker\"}},\"id\":\"0d5de3f2-56b3-4ca0-a650-f0be17243aa3\",\"type\":\"Grid\"},{\"attributes\":{\"callback\":null,\"data\":{\"x\":{\"__ndarray__\":\"AAAA2b+sdEIAAICKRLp0QgAAgCGOu3RCAADAUoW8dEIAAICrR8N0QgAAgJ63yXRCAABAvFbUdEIAAMCH+9R0QgAAQOrp1nRCAABAGH3ZdEIAAMA/SN90QgAAAAiJ4XRCAAAANhzkdEIAAEBnE+V0QgAAQB9g73RCAAAAs0XydEIAAMDddPZ0QgAAAKa1+HRCAADAolH6dEIAAMAS6w51QgAAgF4dHHVCAABA8gIfdUIAAIA3bS91QgAAQGKcM3VCAADAxIo1dUIAAECQLzZ1QgAAQEh8QHVCAADABpFHdUIAAMBit0x1QgAAwOxwVHVCAABAffJYdUIAAECrhVt1QgAAwDsHYHVCAABAB6xgdUIAAAAESGJ1QgAAABi7cXVCAABA4PtzdUIAAMCroHR1QgAAQHdFdXVCAAAAdOF2dUIAAACIVIZ1QgAAAHvEjHVCAACARmmNdUIAAECsu411QgAAgDnZk3VC\",\"dtype\":\"float64\",\"shape\":[45]},\"y\":{\"__ndarray__\":\"ZmZmZmZUikBmZmZmZmqOQJqZmZmZrY9AZmZmZmZ5kEDNzMzMzIqRQGZmZmZmjJFAAAAAAAB0jkCamZmZmXOQQDMzMzMzS5FAAAAAAACOkECamZmZmSGOQDMzMzMzTJBAZmZmZmZOkEDNzMzMzKmQQGZmZmZmWpFAmpmZmZltkEAzMzMzMwePQAAAAAAAJo5AMzMzMzO7jEDNzMzMzACKQDMzMzMzOYlAmpmZmZkvjEAAAAAAAFqHQDMzMzMznYlAAAAAAADqiUAzMzMzM1WKQDMzMzMzkYlAmpmZmZmri0BmZmZmZsiKQJqZmZmZP45AzczMzMwGjkAzMzMzM4mPQDMzMzMzW49AzczMzMzyj0CamZmZmRyQQM3MzMzMCo1AzczMzMzgjkAAAAAAABCQQJqZmZmZYJBAAAAAAACKk0DNzMzMzB+TQAAAAAAAupJAMzMzMzPQk0DNzMzMzE2UQAAAAAAAFZNA\",\"dtype\":\"float64\",\"shape\":[45]}},\"selected\":{\"id\":\"21df8c52-2d49-48ea-bc59-3bc2788dc0fb\",\"type\":\"Selection\"},\"selection_policy\":{\"id\":\"55c34cea-7f86-4de1-aaf3-accfd2c1df89\",\"type\":\"UnionRenderers\"}},\"id\":\"94fd03ef-b94c-4e96-8ca5-42d7e19bc7a9\",\"type\":\"ColumnDataSource\"},{\"attributes\":{},\"id\":\"42a3dbe7-9284-410a-a464-5e7d59627c17\",\"type\":\"BasicTicker\"},{\"attributes\":{\"overlay\":{\"id\":\"e939329e-2003-4d0d-8875-006ed3c8494c\",\"type\":\"BoxAnnotation\"}},\"id\":\"db0b58b5-8d91-40d7-812f-f2e36c026cf1\",\"type\":\"BoxZoomTool\"},{\"attributes\":{},\"id\":\"122df6de-20b0-4c45-83d2-57bbe1275624\",\"type\":\"BasicTickFormatter\"},{\"attributes\":{},\"id\":\"21df8c52-2d49-48ea-bc59-3bc2788dc0fb\",\"type\":\"Selection\"},{\"attributes\":{\"callback\":null,\"renderers\":\"auto\",\"tooltips\":[[\"time\",\"@x\"],[\"Closing Price\",\"@y\"]]},\"id\":\"b59e6c56-d846-4c56-a10b-6808873bac6c\",\"type\":\"HoverTool\"},{\"attributes\":{},\"id\":\"439b0aa1-1358-4a23-a731-0f5ea57905c8\",\"type\":\"Selection\"},{\"attributes\":{},\"id\":\"3abe5a7d-a2f3-4dee-9cdd-f05ecbc56ce4\",\"type\":\"UnionRenderers\"},{\"attributes\":{\"below\":[{\"id\":\"f56d580b-8cc9-46c5-b9b5-97144fd12e18\",\"type\":\"LinearAxis\"}],\"left\":[{\"id\":\"6be88810-0c67-46c1-a7dc-c24e2be3d839\",\"type\":\"LinearAxis\"}],\"plot_height\":400,\"plot_width\":800,\"renderers\":[{\"id\":\"f56d580b-8cc9-46c5-b9b5-97144fd12e18\",\"type\":\"LinearAxis\"},{\"id\":\"3dd6026a-ce25-43e2-97cd-bbc0b4e16cfb\",\"type\":\"Grid\"},{\"id\":\"6be88810-0c67-46c1-a7dc-c24e2be3d839\",\"type\":\"LinearAxis\"},{\"id\":\"0d5de3f2-56b3-4ca0-a650-f0be17243aa3\",\"type\":\"Grid\"},{\"id\":\"e939329e-2003-4d0d-8875-006ed3c8494c\",\"type\":\"BoxAnnotation\"},{\"id\":\"568e632d-c107-49d7-a99c-e7f9c41364f0\",\"type\":\"GlyphRenderer\"},{\"id\":\"6ba0f6dc-9475-47ab-ab0f-8358c55e1f57\",\"type\":\"GlyphRenderer\"}],\"title\":{\"id\":\"a557c123-6174-4093-9544-76b242b16b1d\",\"type\":\"Title\"},\"toolbar\":{\"id\":\"fbf2a8d6-7c12-49b8-bee3-eae8d3418ba1\",\"type\":\"Toolbar\"},\"x_range\":{\"id\":\"02fa05d0-c878-41b5-8521-4e8bbb8c214d\",\"type\":\"DataRange1d\"},\"x_scale\":{\"id\":\"db8a3c97-e4bf-4194-952a-d452f2f64ac3\",\"type\":\"LinearScale\"},\"y_range\":{\"id\":\"f9efac1d-ebd2-40ec-89ec-14e9145b5bd9\",\"type\":\"DataRange1d\"},\"y_scale\":{\"id\":\"ec962753-22df-457a-ab40-1d63d882464b\",\"type\":\"LinearScale\"}},\"id\":\"f31f7731-ff05-4862-9b70-0ea4af5c6185\",\"subtype\":\"Figure\",\"type\":\"Plot\"},{\"attributes\":{},\"id\":\"4867b5e0-6afe-4ebf-a803-d59563d34f22\",\"type\":\"BasicTicker\"},{\"attributes\":{\"source\":{\"id\":\"718332ab-b3e9-41c6-9024-5566a0b52b64\",\"type\":\"ColumnDataSource\"}},\"id\":\"29b0d7fd-d362-456c-a0a2-d3a271103dc9\",\"type\":\"CDSView\"},{\"attributes\":{},\"id\":\"46516104-35ac-4098-a33f-682a2f191f31\",\"type\":\"PanTool\"},{\"attributes\":{\"axis_label\":\"Closing Price\",\"formatter\":{\"id\":\"122df6de-20b0-4c45-83d2-57bbe1275624\",\"type\":\"BasicTickFormatter\"},\"plot\":{\"id\":\"f31f7731-ff05-4862-9b70-0ea4af5c6185\",\"subtype\":\"Figure\",\"type\":\"Plot\"},\"ticker\":{\"id\":\"4867b5e0-6afe-4ebf-a803-d59563d34f22\",\"type\":\"BasicTicker\"}},\"id\":\"6be88810-0c67-46c1-a7dc-c24e2be3d839\",\"type\":\"LinearAxis\"},{\"attributes\":{\"callback\":null,\"data\":{\"x\":{\"__ndarray__\":\"AAAAqyyqdEIAAMAQf6p0QgAAAEJ2q3RCAADAp8irdEIAAIANG6x0QgAAQHNtrHRCAAAA2b+sdEIAAEAKt610QgAAAHAJrnRCAADA1VuudEIAAIA7rq50QgAAQKEAr3RCAACA0vevdEIAAEA4SrB0QgAAAJ6csHRCAADAA++wdEIAAIBpQbF0QgAAgACLsnRCAABAZt2ydEIAAADML7N0QgAAwDGCs3RCAAAAY3m0dEIAAMDIy7R0QgAAgC4etXRCAABAlHC1dEIAAAD6wrV0QgAAQCu6tnRCAAAAkQy3dEIAAMD2Xrd0QgAAgFyxt3RCAABAwgO4dEIAAIDz+rh0QgAAAL+fuXRCAADAJPK5dEIAAICKRLp0QgAAwLs7u3RCAACAIY67dEIAAECH4Lt0QgAAAO0yvHRCAADAUoW8dEIAAIC417x0QgAAAIR8vXRCAADA6c69dEIAAIBPIb50QgAAQLVzvnRCAABATL2/dEIAAACyD8B0QgAAwBdiwHRCAACAfbTAdEIAAEDjBsF0QgAAgBT+wXRCAABAelDCdEIAAADgosJ0QgAAwEX1wnRCAACAq0fDdEIAAMDcPsR0QgAAgEKRxHRCAABAqOPEdEIAAAAONsV0QgAAwHOIxXRCAAAApX/GdEIAAMAK0sZ0QgAAgHAkx3RCAABAbcDIdEIAAADTEsl0QgAAwDhlyXRCAACAnrfJdEIAAEAECsp0QgAAgDUBy3RCAAAAAabLdEIAAMBm+Mt0QgAAgMxKzHRCAADA/UHNdEIAAIBjlM10QgAAQMnmzXRCAAAALznOdEIAAMCUi850QgAAAMaCz3RCAADAK9XPdEIAAICRJ9B0QgAAQPd50HRCAABAjsPRdEIAAAD0FdJ0QgAAwFlo0nRCAACAv7rSdEIAAEAlDdN0QgAAgFYE1HRCAABAvFbUdEIAAAAiqdR0QgAAwIf71HRCAACA7U3VdEIAAMAeRdZ0QgAAgISX1nRCAABA6unWdEIAAABQPNd0QgAAwLWO13RCAAAA54XYdEIAAMBM2Nh0QgAAgLIq2XRCAABAGH3ZdEIAAAB+z9l0QgAAQK/G2nRCAAAAFRnbdEIAAMB6a9t0QgAAgOC923RCAABARhDcdEIAAIB3B910QgAAQN1Z3XRCAAAAQ6zddEIAAMCo/t10QgAAgA5R3nRCAADAP0jfdEIAAIClmt90QgAAQAvt33RCAAAAcT/gdEIAAMDWkeB0QgAAAAiJ4XRCAADAbdvhdEIAAIDTLeJ0QgAAQDmA4nRCAAAAn9LidEIAAEDQyeN0QgAAADYc5HRCAADAm27kdEIAAIABweR0QgAAQGcT5XRCAACAmArmdEIAAED+XOZ0QgAAAGSv5nRCAADAyQHndEIAAIAvVOd0QgAAwGBL6HRCAACAxp3odEIAAEAs8Oh0QgAAAJJC6XRCAADA95TpdEIAAAApjOp0QgAAwI7e6nRCAACA9DDrdEIAAEBag+t0QgAAAMDV63RCAABA8czsdEIAAABXH+10QgAAwLxx7XRCAACAIsTtdEIAAECIFu50QgAAgLkN73RCAABAH2DvdEIAAACFsu90QgAAwOoE8HRCAACAUFfwdEIAAMCBTvF0QgAAgOeg8XRCAABATfPxdEIAAACzRfJ0QgAAwBiY8nRCAAAASo/zdEIAAMCv4fN0QgAAgBU09HRCAABAe4b0dEIAAADh2PR0QgAAQBLQ9XRCAAAAeCL2dEIAAMDddPZ0QgAAgEPH9nRCAABAqRn3dEIAAIDaEPh0QgAAQEBj+HRCAAAAprX4dEIAAMALCPl0QgAAgHFa+XRCAADAolH6dEIAAIAIpPp0QgAAQG72+nRCAAAA1Ej7dEIAAMA5m/t0QgAAAGuS/HRCAADA0OT8dEIAAIA2N/10QgAAAALc/XRCAABAM9P+dEIAAACZJf90QgAAwP53/3RCAACAZMr/dEIAAID7EwF1QgAAQGFmAXVCAAAAx7gBdUIAAMAsCwJ1QgAAwMNUA3VCAACAKacDdUIAAECP+QN1QgAAAPVLBHVCAADAWp4EdUIAAACMlQV1QgAAwPHnBXVCAACAVzoGdUIAAEC9jAZ1QgAAACPfBnVCAABAVNYHdUIAAAC6KAh1QgAAwB97CHVCAABA6x8JdUIAAIAcFwp1QgAAQIJpCnVCAAAA6LsKdUIAAMBNDgt1QgAAgLNgC3VCAADA5FcMdUIAAIBKqgx1QgAAQLD8DHVCAAAAFk8NdUIAAMB7oQ11QgAAAK2YDnVCAADAEusOdUIAAIB4PQ91QgAAAETiD3VCAABAddkQdUIAAADbKxF1QgAAwEB+EXVCAACAptARdUIAAEAMIxJ1QgAAgD0aE3VCAABAo2wTdUIAAMBuERR1QgAAgNRjFHVCAADABVsVdUIAAIBrrRV1QgAAQNH/FXVCAAAAN1IWdUIAAMCcpBZ1QgAAAM6bF3VCAADAM+4XdUIAAICZQBh1QgAAQP+SGHVCAAAAZeUYdUIAAECW3Bl1QgAAAPwuGnVCAADAYYEadUIAAIDH0xp1QgAAQC0mG3VCAACAXh0cdUIAAEDEbxx1QgAAACrCHHVCAADAjxQddUIAAMAmXh51QgAAgIywHnVCAABA8gIfdUIAAABYVR91QgAAwL2nH3VCAAAA754gdUIAAMBU8SB1QgAAgLpDIXVCAABAIJYhdUIAAACG6CF1QgAAQLffInVCAAAAHTIjdUIAAMCChCN1QgAAgOjWI3VCAABATikkdUIAAIB/ICV1QgAAQOVyJXVCAAAAS8UldUIAAMCwFyZ1QgAAgBZqJnVCAADAR2EndUIAAEATBih1QgAAAHlYKHVCAADA3qoodUIAAAAQoil1QgAAwHX0KXVCAACA20YqdUIAAEBBmSp1QgAAAKfrKnVCAABA2OIrdUIAAAA+NSx1QgAAwKOHLHVCAACACdosdUIAAEBvLC11QgAAgKAjLnVCAABABnYudUIAAABsyC51QgAAwNEaL3VCAACAN20vdUIAAMBoZDB1QgAAgM62MHVCAABANAkxdUIAAACaWzF1QgAAwP+tMXVCAAAAMaUydUIAAMCW9zJ1QgAAgPxJM3VCAABAYpwzdUIAAADI7jN1QgAAAF84NXVCAADAxIo1dUIAAIAq3TV1QgAAQJAvNnVCAACAwSY3dUIAAEAneTd1QgAAAI3LN3VCAADA8h04dUIAAIBYcDh1QgAAwIlnOXVCAACA77k5dUIAAEBVDDp1QgAAAFKoO3VCAADAt/o7dUIAAIAdTTx1QgAAQIOfPHVCAAAA6fE8dUIAAEAa6T11QgAAAIA7PnVCAADA5Y0+dUIAAIBL4D51QgAAQLEyP3VCAACA4ilAdUIAAEBIfEB1QgAAAK7OQHVCAADAqmpCdUIAAEB2D0N1QgAAANxhQ3VCAADAQbRDdUIAAABzq0R1QgAAwNj9RHVCAACAPlBFdUIAAECkokV1QgAAAAr1RXVCAABAO+xGdUIAAAChPkd1QgAAwAaRR3VCAACAbONHdUIAAEDSNUh1QgAAgAMtSXVCAABAaX9JdUIAAADP0Ul1QgAAwDQkSnVCAACAmnZKdUIAAMDLbUt1QgAAgDHAS3VCAABAlxJMdUIAAAD9ZEx1QgAAwGK3THVCAAAAlK5NdUIAAMD5AE51QgAAgF9TTnVCAABAxaVOdUIAAAAr+E51QgAAQFzvT3VCAAAAwkFQdUIAAMAnlFB1QgAAgI3mUHVCAABA8zhRdUIAAIAkMFJ1QgAAQIqCUnVCAAAA8NRSdUIAAMBVJ1N1QgAAgLt5U3VCAADA7HBUdUIAAIBSw1R1QgAAQLgVVXVCAAAAHmhVdUIAAMCDulV1QgAAALWxVnVCAADAGgRXdUIAAICAVld1QgAAQOaoV3VCAAAATPtXdUIAAEB98lh1QgAAAONEWXVCAADASJdZdUIAAICu6Vl1QgAAQBQ8WnVCAACARTNbdUIAAECrhVt1QgAAwHYqXHVCAACA3HxcdUIAAMANdF11QgAAgHPGXXVCAABA2RhedUIAAAA/a151QgAAwKS9XnVCAAAA1rRfdUIAAMA7B2B1QgAAgKFZYHVCAABAB6xgdUIAAABt/mB1QgAAQJ71YXVCAAAABEhidUIAAMBpmmJ1QgAAgM/sYnVCAABANT9jdUIAAIBmNmR1QgAAQMyIZHVCAAAAMttkdUIAAMCXLWV1QgAAgP1/ZXVCAADALndmdUIAAICUyWZ1QgAAQPobZ3VCAAAAYG5ndUIAAMDFwGd1QgAAwFwKaXVCAACAwlxpdUIAAEAor2l1QgAAAI4BanVCAABAv/hqdUIAAAAlS2t1QgAAwIqda3VCAACA8O9rdUIAAEBWQmx1QgAAgIc5bXVCAABA7YttdUIAAABT3m11QgAAwLgwbnVCAACAHoNudUIAAIC1zG91QgAAQBsfcHVCAAAAgXFwdUIAAMDmw3B1QgAAABi7cXVCAACA419ydUIAAEBJsnJ1QgAAAK8Ec3VCAABA4PtzdUIAAABGTnR1QgAAwKugdHVCAACAEfN0dUIAAEB3RXV1QgAAgKg8dnVCAABADo92dUIAAAB04XZ1QgAAwNkzd3VCAACAP4Z3dUIAAMBwfXh1QgAAgNbPeHVCAABAPCJ5dUIAAACidHl1QgAAwAfHeXVCAAAAOb56dUIAAEBqtXt1QgAAANAHfHVCAABAAf98dUIAAABnUX11QgAAwMyjfXVCAACAMvZ9dUIAAECYSH51QgAAgMk/f3VCAABAL5J/dUIAAACV5H91QgAAwPo2gHVCAACAYImAdUIAAAAsLoF1QgAAgPfSgXVCAABAXSWCdUIAAADDd4J1QgAAwCjKgnVCAAAAWsGDdUIAAMC/E4R1QgAAgCVmhHVCAABAi7iEdUIAAADxCoV1QgAAAIhUhnVCAADA7aaGdUIAAIBT+YZ1QgAAQLlLh3VCAACA6kKIdUIAAEBQlYh1QgAAALbniHVCAADAGzqJdUIAAICBjIl1QgAAwLKDinVCAACAGNaKdUIAAEB+KIt1QgAAAOR6i3VCAADASc2LdUIAAAB7xIx1QgAAwOAWjXVCAACARmmNdUIAAECsu411QgAAABIOjnVCAABAQwWPdUIAAACpV491QgAAwA6qj3VCAACAdPyPdUIAAEDaTpB1QgAAgAtGkXVCAABAcZiRdUIAAADX6pF1QgAAwDw9knVCAACAoo+SdUIAAMDThpN1QgAAgDnZk3VCAABAnyuUdUIAAAAFfpR1QgAAwGrQlHVC\",\"dtype\":\"float64\",\"shape\":[495]},\"y\":{\"__ndarray__\":\"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\",\"dtype\":\"float64\",\"shape\":[495]}},\"selected\":{\"id\":\"439b0aa1-1358-4a23-a731-0f5ea57905c8\",\"type\":\"Selection\"},\"selection_policy\":{\"id\":\"3abe5a7d-a2f3-4dee-9cdd-f05ecbc56ce4\",\"type\":\"UnionRenderers\"}},\"id\":\"718332ab-b3e9-41c6-9024-5566a0b52b64\",\"type\":\"ColumnDataSource\"},{\"attributes\":{\"fill_alpha\":{\"value\":0.1},\"fill_color\":{\"value\":\"#1f77b4\"},\"line_alpha\":{\"value\":0.1},\"line_color\":{\"value\":\"#1f77b4\"},\"size\":{\"units\":\"screen\",\"value\":10},\"x\":{\"field\":\"x\"},\"y\":{\"field\":\"y\"}},\"id\":\"48d667ca-c20c-45c3-9b0e-1c77c08534af\",\"type\":\"Circle\"}],\"root_ids\":[\"f31f7731-ff05-4862-9b70-0ea4af5c6185\"]},\"title\":\"Bokeh Application\",\"version\":\"0.13.0\"}};\n",
       "  var render_items = [{\"docid\":\"34256e8d-feda-420b-99fa-f2dc70eccdf5\",\"roots\":{\"f31f7731-ff05-4862-9b70-0ea4af5c6185\":\"b65aa6dc-a8dd-4b21-9b74-b5a64e2b372a\"}}];\n",
       "  root.Bokeh.embed.embed_items_notebook(docs_json, render_items);\n",
       "\n",
       "  }\n",
       "  if (root.Bokeh !== undefined) {\n",
       "    embed_document(root);\n",
       "  } else {\n",
       "    var attempts = 0;\n",
       "    var timer = setInterval(function(root) {\n",
       "      if (root.Bokeh !== undefined) {\n",
       "        embed_document(root);\n",
       "        clearInterval(timer);\n",
       "      }\n",
       "      attempts++;\n",
       "      if (attempts > 100) {\n",
       "        console.log(\"Bokeh: ERROR: Unable to run BokehJS code because BokehJS library is missing\")\n",
       "        clearInterval(timer);\n",
       "      }\n",
       "    }, 10, root)\n",
       "  }\n",
       "})(window);"
      ],
      "application/vnd.bokehjs_exec.v0+json": ""
     },
     "metadata": {
      "application/vnd.bokehjs_exec.v0+json": {
       "id": "f31f7731-ff05-4862-9b70-0ea4af5c6185"
      }
     },
     "output_type": "display_data"
    },
    {
     "name": "stderr",
     "output_type": "stream",
     "text": [
      "ERROR:bokeh.core.validation.check:E-1001 (BAD_COLUMN_NAME): Glyph refers to nonexistent column name: k [renderer: GlyphRenderer(id='036f0949-a089-4de0-8f33-f4636db3e6e1', ...)]\n",
      "ERROR:bokeh.core.validation.check:E-1001 (BAD_COLUMN_NAME): Glyph refers to nonexistent column name: k [renderer: GlyphRenderer(id='7dde578f-36c0-496d-847a-327e75827b2b', ...)]\n",
      "ERROR:bokeh.core.validation.check:E-1001 (BAD_COLUMN_NAME): Glyph refers to nonexistent column name: k [renderer: GlyphRenderer(id='b0c4e087-d062-4f9a-a442-20fdf66eff7a', ...)]\n",
      "ERROR:bokeh.core.validation.check:E-1001 (BAD_COLUMN_NAME): Glyph refers to nonexistent column name: k [renderer: GlyphRenderer(id='8a332173-ff19-4fc7-a301-1388d640c612', ...)]\n",
      "ERROR:bokeh.core.validation.check:E-1001 (BAD_COLUMN_NAME): Glyph refers to nonexistent column name: k [renderer: GlyphRenderer(id='0dccaf0e-b525-4386-9b88-986f8212ef5f', ...)]\n",
      "ERROR:bokeh.core.validation.check:E-1001 (BAD_COLUMN_NAME): Glyph refers to nonexistent column name: k [renderer: GlyphRenderer(id='fd9303ac-9184-43ad-9402-01e31349256b', ...)]\n",
      "ERROR:bokeh.core.validation.check:E-1001 (BAD_COLUMN_NAME): Glyph refers to nonexistent column name: k [renderer: GlyphRenderer(id='7111a5ad-da32-4c10-ba14-b35ec34cd25f', ...)]\n",
      "ERROR:bokeh.core.validation.check:E-1001 (BAD_COLUMN_NAME): Glyph refers to nonexistent column name: k [renderer: GlyphRenderer(id='e7872765-6722-4490-993a-bace488f5645', ...)]\n",
      "ERROR:bokeh.core.validation.check:E-1001 (BAD_COLUMN_NAME): Glyph refers to nonexistent column name: k [renderer: GlyphRenderer(id='30ea4dc2-61b3-4d9f-9494-bb9ad6b0b40e', ...)]\n",
      "ERROR:bokeh.core.validation.check:E-1001 (BAD_COLUMN_NAME): Glyph refers to nonexistent column name: k [renderer: GlyphRenderer(id='d8e4e8cd-5ebc-40c9-af8c-11a467bcff12', ...)]\n",
      "ERROR:bokeh.core.validation.check:E-1001 (BAD_COLUMN_NAME): Glyph refers to nonexistent column name: k [renderer: GlyphRenderer(id='977410a2-76d5-43db-b414-c9b34734989b', ...)]\n",
      "ERROR:bokeh.core.validation.check:E-1001 (BAD_COLUMN_NAME): Glyph refers to nonexistent column name: k [renderer: GlyphRenderer(id='7fd698a6-ef70-404c-85c4-e7a8c1b8145d', ...)]\n",
      "ERROR:bokeh.core.validation.check:E-1001 (BAD_COLUMN_NAME): Glyph refers to nonexistent column name: k [renderer: GlyphRenderer(id='10607909-3c3e-47c5-a9ac-891777942f5b', ...)]\n",
      "ERROR:bokeh.core.validation.check:E-1001 (BAD_COLUMN_NAME): Glyph refers to nonexistent column name: k [renderer: GlyphRenderer(id='634b86db-5052-4079-bd9f-9bb5d158f9c2', ...)]\n",
      "ERROR:bokeh.core.validation.check:E-1001 (BAD_COLUMN_NAME): Glyph refers to nonexistent column name: k [renderer: GlyphRenderer(id='6acee8bb-3862-4832-a12a-927b1b787134', ...)]\n",
      "ERROR:bokeh.core.validation.check:E-1001 (BAD_COLUMN_NAME): Glyph refers to nonexistent column name: k [renderer: GlyphRenderer(id='aa7c9a84-0b00-45fa-aeb5-3cd6910af35a', ...)]\n",
      "ERROR:bokeh.core.validation.check:E-1001 (BAD_COLUMN_NAME): Glyph refers to nonexistent column name: k [renderer: GlyphRenderer(id='bebdc8ca-8b54-46f6-99a8-663f2c59c346', ...)]\n",
      "ERROR:bokeh.core.validation.check:E-1001 (BAD_COLUMN_NAME): Glyph refers to nonexistent column name: k [renderer: GlyphRenderer(id='35dabc7f-38f4-4fe6-afd7-c251d7702dc7', ...)]\n",
      "ERROR:bokeh.core.validation.check:E-1001 (BAD_COLUMN_NAME): Glyph refers to nonexistent column name: k [renderer: GlyphRenderer(id='ec14446c-7cfe-4957-b070-88aa5ddc8bdf', ...)]\n",
      "ERROR:bokeh.core.validation.check:E-1001 (BAD_COLUMN_NAME): Glyph refers to nonexistent column name: k [renderer: GlyphRenderer(id='17f9ec26-21c3-4008-8dc7-7d683c008fe1', ...)]\n",
      "ERROR:bokeh.core.validation.check:E-1001 (BAD_COLUMN_NAME): Glyph refers to nonexistent column name: k [renderer: GlyphRenderer(id='568e632d-c107-49d7-a99c-e7f9c41364f0', ...)]\n",
      "ERROR:bokeh.core.validation.check:E-1001 (BAD_COLUMN_NAME): Glyph refers to nonexistent column name: k [renderer: GlyphRenderer(id='c57398a8-4918-4b3c-b6a5-c65a253e5d27', ...)]\n"
     ]
    },
    {
     "data": {
      "text/html": [
       "\n",
       "\n",
       "\n",
       "\n",
       "\n",
       "\n",
       "  <div class=\"bk-root\" id=\"a6e8b158-5ced-42d6-902e-cf6b64f1cd5b\"></div>\n"
      ]
     },
     "metadata": {},
     "output_type": "display_data"
    },
    {
     "data": {
      "application/javascript": [
       "(function(root) {\n",
       "  function embed_document(root) {\n",
       "    \n",
       "  var docs_json = {\"79896bce-f963-4dd2-822f-11d6d0434ec2\":{\"roots\":{\"references\":[{\"attributes\":{},\"id\":\"ac6d02d2-0dac-40dd-b7a1-2d8599adc79f\",\"type\":\"Selection\"},{\"attributes\":{\"callback\":null},\"id\":\"0ad6df04-f7e2-4dfb-89da-d22d89db9dba\",\"type\":\"DataRange1d\"},{\"attributes\":{},\"id\":\"500b3224-1c67-4703-bba1-d4f42775671b\",\"type\":\"SaveTool\"},{\"attributes\":{},\"id\":\"809a7f83-484c-482c-9c87-44c0975771dd\",\"type\":\"BasicTickFormatter\"},{\"attributes\":{},\"id\":\"1431d302-df2d-4ad4-8260-bfb80526374c\",\"type\":\"Selection\"},{\"attributes\":{},\"id\":\"175eda1d-a40b-4ba4-abbe-d99e544ed8e8\",\"type\":\"UnionRenderers\"},{\"attributes\":{\"data_source\":{\"id\":\"19842637-1056-4c4c-96df-1c6b9c56605f\",\"type\":\"ColumnDataSource\"},\"glyph\":{\"id\":\"d5cffaf4-d1db-45c9-9e08-7844f89f9020\",\"type\":\"Line\"},\"hover_glyph\":null,\"muted_glyph\":null,\"nonselection_glyph\":{\"id\":\"482e659d-90fa-4675-b8a4-8621118344fc\",\"type\":\"Line\"},\"selection_glyph\":null,\"view\":{\"id\":\"529c7c02-ea57-4e11-929d-e0273a744178\",\"type\":\"CDSView\"}},\"id\":\"4653a580-b54a-4d3a-8687-6560dfa2f4e3\",\"type\":\"GlyphRenderer\"},{\"attributes\":{},\"id\":\"28b13ce8-bac2-4c72-9440-2617c64c86b5\",\"type\":\"LinearScale\"},{\"attributes\":{\"overlay\":{\"id\":\"03938781-bc7f-4aa6-acf2-7e60959f8358\",\"type\":\"BoxAnnotation\"}},\"id\":\"cada484a-d311-43ad-b2b1-363d862ecfc8\",\"type\":\"BoxZoomTool\"},{\"attributes\":{\"active_drag\":\"auto\",\"active_inspect\":\"auto\",\"active_multi\":null,\"active_scroll\":\"auto\",\"active_tap\":\"auto\",\"tools\":[{\"id\":\"500b3224-1c67-4703-bba1-d4f42775671b\",\"type\":\"SaveTool\"},{\"id\":\"9f111a5d-0c2a-4ef2-a7d2-68435e336566\",\"type\":\"PanTool\"},{\"id\":\"cada484a-d311-43ad-b2b1-363d862ecfc8\",\"type\":\"BoxZoomTool\"},{\"id\":\"2bd0e55a-f746-4084-b10e-27f5230aa614\",\"type\":\"ResetTool\"},{\"id\":\"20e81231-9dd9-4663-be8a-3cfaccdc9478\",\"type\":\"WheelZoomTool\"},{\"id\":\"ab85e151-a8f3-4b41-9819-8893555c79d4\",\"type\":\"HoverTool\"}]},\"id\":\"d69ffd99-3338-4c5f-8ceb-b92da4fde23a\",\"type\":\"Toolbar\"},{\"attributes\":{\"callback\":null,\"renderers\":\"auto\",\"tooltips\":[[\"time\",\"@x\"],[\"Closing Price\",\"@y\"]]},\"id\":\"ab85e151-a8f3-4b41-9819-8893555c79d4\",\"type\":\"HoverTool\"},{\"attributes\":{},\"id\":\"2e35efaa-3602-433d-a1e1-556e8206ca46\",\"type\":\"BasicTickFormatter\"},{\"attributes\":{},\"id\":\"20e81231-9dd9-4663-be8a-3cfaccdc9478\",\"type\":\"WheelZoomTool\"},{\"attributes\":{},\"id\":\"20cc3f84-3ce2-430e-a08f-a78f96414be5\",\"type\":\"UnionRenderers\"},{\"attributes\":{\"callback\":null},\"id\":\"351795b6-099e-4ed3-86e0-70831fc9dc50\",\"type\":\"DataRange1d\"},{\"attributes\":{},\"id\":\"2bd0e55a-f746-4084-b10e-27f5230aa614\",\"type\":\"ResetTool\"},{\"attributes\":{\"fill_color\":{\"field\":\"k\"},\"line_color\":{\"field\":\"k\"},\"size\":{\"units\":\"screen\",\"value\":10},\"x\":{\"field\":\"x\"},\"y\":{\"field\":\"y\"}},\"id\":\"39beee3e-2794-4067-94a7-cca5b4e673f9\",\"type\":\"Circle\"},{\"attributes\":{\"bottom_units\":\"screen\",\"fill_alpha\":{\"value\":0.5},\"fill_color\":{\"value\":\"lightgrey\"},\"left_units\":\"screen\",\"level\":\"overlay\",\"line_alpha\":{\"value\":1.0},\"line_color\":{\"value\":\"black\"},\"line_dash\":[4,4],\"line_width\":{\"value\":2},\"plot\":null,\"render_mode\":\"css\",\"right_units\":\"screen\",\"top_units\":\"screen\"},\"id\":\"03938781-bc7f-4aa6-acf2-7e60959f8358\",\"type\":\"BoxAnnotation\"},{\"attributes\":{\"plot\":null,\"text\":\"Closing Price for TCS\"},\"id\":\"e2d6a3f5-02d2-4fbb-b48c-02afced00b44\",\"type\":\"Title\"},{\"attributes\":{\"callback\":null,\"data\":{\"x\":{\"__ndarray__\":\"AABAc22sdEIAAIBcsbd0QgAAwFlo0nRCAAAAUDzXdEIAAACzRfJ0QgAAAEqP83RCAABAQGP4dEIAAADHuAF1QgAAwCwLAnVCAACA/EkzdUIAAECxMj91QgAAwPkATnVCAAAAK/hOdUIAAMBIl1l1QgAAQDU/Y3VCAABAv/hqdUIAAMAOqo91QgAAgAtGkXVC\",\"dtype\":\"float64\",\"shape\":[18]},\"y\":{\"__ndarray__\":\"mpmZmZkXo0DNzMzMTDyjQJqZmZkZPqNAAAAAAAD3o0AzMzMzM5ekQAAAAACA+aRAzczMzMzSo0CamZmZGTikQDMzMzMzqaRAMzMzM7MdokCamZmZGQCjQGZmZmZmR6NAzczMzEwZpEDNzMzMzI2jQJqZmZmZdqRAZmZmZmbpo0AzMzMzMz+hQM3MzMzM4aFA\",\"dtype\":\"float64\",\"shape\":[18]}},\"selected\":{\"id\":\"ac6d02d2-0dac-40dd-b7a1-2d8599adc79f\",\"type\":\"Selection\"},\"selection_policy\":{\"id\":\"175eda1d-a40b-4ba4-abbe-d99e544ed8e8\",\"type\":\"UnionRenderers\"}},\"id\":\"52a5772c-025f-47f8-8c65-1f3e994e6d0b\",\"type\":\"ColumnDataSource\"},{\"attributes\":{\"axis_label\":\"Time\",\"formatter\":{\"id\":\"809a7f83-484c-482c-9c87-44c0975771dd\",\"type\":\"BasicTickFormatter\"},\"plot\":{\"id\":\"973a61a4-2e25-4020-9500-7fe18bade86b\",\"subtype\":\"Figure\",\"type\":\"Plot\"},\"ticker\":{\"id\":\"f01957b2-4971-43e7-94ab-5f7d869b0cc3\",\"type\":\"BasicTicker\"}},\"id\":\"1d14c1a9-4385-4a5f-9741-4f0b13ea1b36\",\"type\":\"LinearAxis\"},{\"attributes\":{},\"id\":\"f01957b2-4971-43e7-94ab-5f7d869b0cc3\",\"type\":\"BasicTicker\"},{\"attributes\":{},\"id\":\"dd2d6441-f92e-4241-ba2d-b9cb8fbc93c2\",\"type\":\"LinearScale\"},{\"attributes\":{\"plot\":{\"id\":\"973a61a4-2e25-4020-9500-7fe18bade86b\",\"subtype\":\"Figure\",\"type\":\"Plot\"},\"ticker\":{\"id\":\"f01957b2-4971-43e7-94ab-5f7d869b0cc3\",\"type\":\"BasicTicker\"}},\"id\":\"e47ecb8b-2bd5-410e-ac1a-39cacba04cce\",\"type\":\"Grid\"},{\"attributes\":{},\"id\":\"4b770dd5-6a09-41bc-8232-e4cc5af9b289\",\"type\":\"BasicTicker\"},{\"attributes\":{\"fill_alpha\":{\"value\":0.1},\"fill_color\":{\"value\":\"#1f77b4\"},\"line_alpha\":{\"value\":0.1},\"line_color\":{\"value\":\"#1f77b4\"},\"size\":{\"units\":\"screen\",\"value\":10},\"x\":{\"field\":\"x\"},\"y\":{\"field\":\"y\"}},\"id\":\"b4b07908-3126-4b3f-9734-930aede94500\",\"type\":\"Circle\"},{\"attributes\":{\"source\":{\"id\":\"19842637-1056-4c4c-96df-1c6b9c56605f\",\"type\":\"ColumnDataSource\"}},\"id\":\"529c7c02-ea57-4e11-929d-e0273a744178\",\"type\":\"CDSView\"},{\"attributes\":{\"dimension\":1,\"plot\":{\"id\":\"973a61a4-2e25-4020-9500-7fe18bade86b\",\"subtype\":\"Figure\",\"type\":\"Plot\"},\"ticker\":{\"id\":\"4b770dd5-6a09-41bc-8232-e4cc5af9b289\",\"type\":\"BasicTicker\"}},\"id\":\"3a9cde2c-711e-48d8-99ae-57b0d39c1498\",\"type\":\"Grid\"},{\"attributes\":{\"source\":{\"id\":\"52a5772c-025f-47f8-8c65-1f3e994e6d0b\",\"type\":\"ColumnDataSource\"}},\"id\":\"c49c2814-1ef7-424f-9ac3-7cde6f517b64\",\"type\":\"CDSView\"},{\"attributes\":{\"data_source\":{\"id\":\"52a5772c-025f-47f8-8c65-1f3e994e6d0b\",\"type\":\"ColumnDataSource\"},\"glyph\":{\"id\":\"39beee3e-2794-4067-94a7-cca5b4e673f9\",\"type\":\"Circle\"},\"hover_glyph\":null,\"muted_glyph\":null,\"nonselection_glyph\":{\"id\":\"b4b07908-3126-4b3f-9734-930aede94500\",\"type\":\"Circle\"},\"selection_glyph\":null,\"view\":{\"id\":\"c49c2814-1ef7-424f-9ac3-7cde6f517b64\",\"type\":\"CDSView\"}},\"id\":\"c57398a8-4918-4b3c-b6a5-c65a253e5d27\",\"type\":\"GlyphRenderer\"},{\"attributes\":{\"axis_label\":\"Closing Price\",\"formatter\":{\"id\":\"2e35efaa-3602-433d-a1e1-556e8206ca46\",\"type\":\"BasicTickFormatter\"},\"plot\":{\"id\":\"973a61a4-2e25-4020-9500-7fe18bade86b\",\"subtype\":\"Figure\",\"type\":\"Plot\"},\"ticker\":{\"id\":\"4b770dd5-6a09-41bc-8232-e4cc5af9b289\",\"type\":\"BasicTicker\"}},\"id\":\"f8a4cbaa-5c71-4fd2-b4a6-d69f93183c77\",\"type\":\"LinearAxis\"},{\"attributes\":{\"line_color\":\"blue\",\"line_width\":3,\"x\":{\"field\":\"x\"},\"y\":{\"field\":\"y\"}},\"id\":\"d5cffaf4-d1db-45c9-9e08-7844f89f9020\",\"type\":\"Line\"},{\"attributes\":{\"line_alpha\":0.1,\"line_color\":\"#1f77b4\",\"line_width\":3,\"x\":{\"field\":\"x\"},\"y\":{\"field\":\"y\"}},\"id\":\"482e659d-90fa-4675-b8a4-8621118344fc\",\"type\":\"Line\"},{\"attributes\":{\"below\":[{\"id\":\"1d14c1a9-4385-4a5f-9741-4f0b13ea1b36\",\"type\":\"LinearAxis\"}],\"left\":[{\"id\":\"f8a4cbaa-5c71-4fd2-b4a6-d69f93183c77\",\"type\":\"LinearAxis\"}],\"plot_height\":400,\"plot_width\":800,\"renderers\":[{\"id\":\"1d14c1a9-4385-4a5f-9741-4f0b13ea1b36\",\"type\":\"LinearAxis\"},{\"id\":\"e47ecb8b-2bd5-410e-ac1a-39cacba04cce\",\"type\":\"Grid\"},{\"id\":\"f8a4cbaa-5c71-4fd2-b4a6-d69f93183c77\",\"type\":\"LinearAxis\"},{\"id\":\"3a9cde2c-711e-48d8-99ae-57b0d39c1498\",\"type\":\"Grid\"},{\"id\":\"03938781-bc7f-4aa6-acf2-7e60959f8358\",\"type\":\"BoxAnnotation\"},{\"id\":\"c57398a8-4918-4b3c-b6a5-c65a253e5d27\",\"type\":\"GlyphRenderer\"},{\"id\":\"4653a580-b54a-4d3a-8687-6560dfa2f4e3\",\"type\":\"GlyphRenderer\"}],\"title\":{\"id\":\"e2d6a3f5-02d2-4fbb-b48c-02afced00b44\",\"type\":\"Title\"},\"toolbar\":{\"id\":\"d69ffd99-3338-4c5f-8ceb-b92da4fde23a\",\"type\":\"Toolbar\"},\"x_range\":{\"id\":\"351795b6-099e-4ed3-86e0-70831fc9dc50\",\"type\":\"DataRange1d\"},\"x_scale\":{\"id\":\"28b13ce8-bac2-4c72-9440-2617c64c86b5\",\"type\":\"LinearScale\"},\"y_range\":{\"id\":\"0ad6df04-f7e2-4dfb-89da-d22d89db9dba\",\"type\":\"DataRange1d\"},\"y_scale\":{\"id\":\"dd2d6441-f92e-4241-ba2d-b9cb8fbc93c2\",\"type\":\"LinearScale\"}},\"id\":\"973a61a4-2e25-4020-9500-7fe18bade86b\",\"subtype\":\"Figure\",\"type\":\"Plot\"},{\"attributes\":{\"callback\":null,\"data\":{\"x\":{\"__ndarray__\":\"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\",\"dtype\":\"float64\",\"shape\":[495]},\"y\":{\"__ndarray__\":\"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\",\"dtype\":\"float64\",\"shape\":[495]}},\"selected\":{\"id\":\"1431d302-df2d-4ad4-8260-bfb80526374c\",\"type\":\"Selection\"},\"selection_policy\":{\"id\":\"20cc3f84-3ce2-430e-a08f-a78f96414be5\",\"type\":\"UnionRenderers\"}},\"id\":\"19842637-1056-4c4c-96df-1c6b9c56605f\",\"type\":\"ColumnDataSource\"},{\"attributes\":{},\"id\":\"9f111a5d-0c2a-4ef2-a7d2-68435e336566\",\"type\":\"PanTool\"}],\"root_ids\":[\"973a61a4-2e25-4020-9500-7fe18bade86b\"]},\"title\":\"Bokeh Application\",\"version\":\"0.13.0\"}};\n",
       "  var render_items = [{\"docid\":\"79896bce-f963-4dd2-822f-11d6d0434ec2\",\"roots\":{\"973a61a4-2e25-4020-9500-7fe18bade86b\":\"a6e8b158-5ced-42d6-902e-cf6b64f1cd5b\"}}];\n",
       "  root.Bokeh.embed.embed_items_notebook(docs_json, render_items);\n",
       "\n",
       "  }\n",
       "  if (root.Bokeh !== undefined) {\n",
       "    embed_document(root);\n",
       "  } else {\n",
       "    var attempts = 0;\n",
       "    var timer = setInterval(function(root) {\n",
       "      if (root.Bokeh !== undefined) {\n",
       "        embed_document(root);\n",
       "        clearInterval(timer);\n",
       "      }\n",
       "      attempts++;\n",
       "      if (attempts > 100) {\n",
       "        console.log(\"Bokeh: ERROR: Unable to run BokehJS code because BokehJS library is missing\")\n",
       "        clearInterval(timer);\n",
       "      }\n",
       "    }, 10, root)\n",
       "  }\n",
       "})(window);"
      ],
      "application/vnd.bokehjs_exec.v0+json": ""
     },
     "metadata": {
      "application/vnd.bokehjs_exec.v0+json": {
       "id": "973a61a4-2e25-4020-9500-7fe18bade86b"
      }
     },
     "output_type": "display_data"
    },
    {
     "name": "stderr",
     "output_type": "stream",
     "text": [
      "ERROR:bokeh.core.validation.check:E-1001 (BAD_COLUMN_NAME): Glyph refers to nonexistent column name: k [renderer: GlyphRenderer(id='036f0949-a089-4de0-8f33-f4636db3e6e1', ...)]\n",
      "ERROR:bokeh.core.validation.check:E-1001 (BAD_COLUMN_NAME): Glyph refers to nonexistent column name: k [renderer: GlyphRenderer(id='7dde578f-36c0-496d-847a-327e75827b2b', ...)]\n",
      "ERROR:bokeh.core.validation.check:E-1001 (BAD_COLUMN_NAME): Glyph refers to nonexistent column name: k [renderer: GlyphRenderer(id='b0c4e087-d062-4f9a-a442-20fdf66eff7a', ...)]\n",
      "ERROR:bokeh.core.validation.check:E-1001 (BAD_COLUMN_NAME): Glyph refers to nonexistent column name: k [renderer: GlyphRenderer(id='8a332173-ff19-4fc7-a301-1388d640c612', ...)]\n",
      "ERROR:bokeh.core.validation.check:E-1001 (BAD_COLUMN_NAME): Glyph refers to nonexistent column name: k [renderer: GlyphRenderer(id='0dccaf0e-b525-4386-9b88-986f8212ef5f', ...)]\n",
      "ERROR:bokeh.core.validation.check:E-1001 (BAD_COLUMN_NAME): Glyph refers to nonexistent column name: k [renderer: GlyphRenderer(id='fd9303ac-9184-43ad-9402-01e31349256b', ...)]\n",
      "ERROR:bokeh.core.validation.check:E-1001 (BAD_COLUMN_NAME): Glyph refers to nonexistent column name: k [renderer: GlyphRenderer(id='7111a5ad-da32-4c10-ba14-b35ec34cd25f', ...)]\n",
      "ERROR:bokeh.core.validation.check:E-1001 (BAD_COLUMN_NAME): Glyph refers to nonexistent column name: k [renderer: GlyphRenderer(id='e7872765-6722-4490-993a-bace488f5645', ...)]\n",
      "ERROR:bokeh.core.validation.check:E-1001 (BAD_COLUMN_NAME): Glyph refers to nonexistent column name: k [renderer: GlyphRenderer(id='30ea4dc2-61b3-4d9f-9494-bb9ad6b0b40e', ...)]\n",
      "ERROR:bokeh.core.validation.check:E-1001 (BAD_COLUMN_NAME): Glyph refers to nonexistent column name: k [renderer: GlyphRenderer(id='d8e4e8cd-5ebc-40c9-af8c-11a467bcff12', ...)]\n",
      "ERROR:bokeh.core.validation.check:E-1001 (BAD_COLUMN_NAME): Glyph refers to nonexistent column name: k [renderer: GlyphRenderer(id='977410a2-76d5-43db-b414-c9b34734989b', ...)]\n",
      "ERROR:bokeh.core.validation.check:E-1001 (BAD_COLUMN_NAME): Glyph refers to nonexistent column name: k [renderer: GlyphRenderer(id='7fd698a6-ef70-404c-85c4-e7a8c1b8145d', ...)]\n",
      "ERROR:bokeh.core.validation.check:E-1001 (BAD_COLUMN_NAME): Glyph refers to nonexistent column name: k [renderer: GlyphRenderer(id='10607909-3c3e-47c5-a9ac-891777942f5b', ...)]\n",
      "ERROR:bokeh.core.validation.check:E-1001 (BAD_COLUMN_NAME): Glyph refers to nonexistent column name: k [renderer: GlyphRenderer(id='634b86db-5052-4079-bd9f-9bb5d158f9c2', ...)]\n",
      "ERROR:bokeh.core.validation.check:E-1001 (BAD_COLUMN_NAME): Glyph refers to nonexistent column name: k [renderer: GlyphRenderer(id='6acee8bb-3862-4832-a12a-927b1b787134', ...)]\n",
      "ERROR:bokeh.core.validation.check:E-1001 (BAD_COLUMN_NAME): Glyph refers to nonexistent column name: k [renderer: GlyphRenderer(id='aa7c9a84-0b00-45fa-aeb5-3cd6910af35a', ...)]\n",
      "ERROR:bokeh.core.validation.check:E-1001 (BAD_COLUMN_NAME): Glyph refers to nonexistent column name: k [renderer: GlyphRenderer(id='bebdc8ca-8b54-46f6-99a8-663f2c59c346', ...)]\n",
      "ERROR:bokeh.core.validation.check:E-1001 (BAD_COLUMN_NAME): Glyph refers to nonexistent column name: k [renderer: GlyphRenderer(id='35dabc7f-38f4-4fe6-afd7-c251d7702dc7', ...)]\n",
      "ERROR:bokeh.core.validation.check:E-1001 (BAD_COLUMN_NAME): Glyph refers to nonexistent column name: k [renderer: GlyphRenderer(id='ec14446c-7cfe-4957-b070-88aa5ddc8bdf', ...)]\n",
      "ERROR:bokeh.core.validation.check:E-1001 (BAD_COLUMN_NAME): Glyph refers to nonexistent column name: k [renderer: GlyphRenderer(id='17f9ec26-21c3-4008-8dc7-7d683c008fe1', ...)]\n",
      "ERROR:bokeh.core.validation.check:E-1001 (BAD_COLUMN_NAME): Glyph refers to nonexistent column name: k [renderer: GlyphRenderer(id='568e632d-c107-49d7-a99c-e7f9c41364f0', ...)]\n",
      "ERROR:bokeh.core.validation.check:E-1001 (BAD_COLUMN_NAME): Glyph refers to nonexistent column name: k [renderer: GlyphRenderer(id='c57398a8-4918-4b3c-b6a5-c65a253e5d27', ...)]\n",
      "ERROR:bokeh.core.validation.check:E-1001 (BAD_COLUMN_NAME): Glyph refers to nonexistent column name: k [renderer: GlyphRenderer(id='8235250c-ae7e-48c0-a41c-88609029d0be', ...)]\n"
     ]
    },
    {
     "data": {
      "text/html": [
       "\n",
       "\n",
       "\n",
       "\n",
       "\n",
       "\n",
       "  <div class=\"bk-root\" id=\"4ac6828d-6659-474d-90b9-56dc8859454f\"></div>\n"
      ]
     },
     "metadata": {},
     "output_type": "display_data"
    },
    {
     "data": {
      "application/javascript": [
       "(function(root) {\n",
       "  function embed_document(root) {\n",
       "    \n",
       "  var docs_json = {\"0103213d-cf94-4f27-b2ef-098b80d19ad5\":{\"roots\":{\"references\":[{\"attributes\":{\"dimension\":1,\"plot\":{\"id\":\"193d126d-300e-454a-b58d-7ba1dde5ac9a\",\"subtype\":\"Figure\",\"type\":\"Plot\"},\"ticker\":{\"id\":\"0ca47ebd-74fe-49a9-9a62-426018f69ab4\",\"type\":\"BasicTicker\"}},\"id\":\"e65e67fc-b9e1-469c-9e1a-e52ce11c85c6\",\"type\":\"Grid\"},{\"attributes\":{},\"id\":\"8cf866ae-fa12-4b30-bea8-a97d512befa4\",\"type\":\"Selection\"},{\"attributes\":{\"data_source\":{\"id\":\"6e56b073-c7fa-4666-af9b-97bd82ebc3ef\",\"type\":\"ColumnDataSource\"},\"glyph\":{\"id\":\"10bfab1f-af9b-4b2a-8ebc-90f836e2f74e\",\"type\":\"Circle\"},\"hover_glyph\":null,\"muted_glyph\":null,\"nonselection_glyph\":{\"id\":\"9be0234b-22ad-4119-9996-423740e9aecb\",\"type\":\"Circle\"},\"selection_glyph\":null,\"view\":{\"id\":\"25878651-6ce4-47a8-a8d8-3e82a5fb719e\",\"type\":\"CDSView\"}},\"id\":\"8235250c-ae7e-48c0-a41c-88609029d0be\",\"type\":\"GlyphRenderer\"},{\"attributes\":{},\"id\":\"d884f159-7428-4ec0-b8ee-df5585d1047a\",\"type\":\"WheelZoomTool\"},{\"attributes\":{\"fill_alpha\":{\"value\":0.1},\"fill_color\":{\"value\":\"#1f77b4\"},\"line_alpha\":{\"value\":0.1},\"line_color\":{\"value\":\"#1f77b4\"},\"size\":{\"units\":\"screen\",\"value\":10},\"x\":{\"field\":\"x\"},\"y\":{\"field\":\"y\"}},\"id\":\"9be0234b-22ad-4119-9996-423740e9aecb\",\"type\":\"Circle\"},{\"attributes\":{\"callback\":null},\"id\":\"7cec7965-e5d1-4561-ba8a-097517a72cbf\",\"type\":\"DataRange1d\"},{\"attributes\":{\"bottom_units\":\"screen\",\"fill_alpha\":{\"value\":0.5},\"fill_color\":{\"value\":\"lightgrey\"},\"left_units\":\"screen\",\"level\":\"overlay\",\"line_alpha\":{\"value\":1.0},\"line_color\":{\"value\":\"black\"},\"line_dash\":[4,4],\"line_width\":{\"value\":2},\"plot\":null,\"render_mode\":\"css\",\"right_units\":\"screen\",\"top_units\":\"screen\"},\"id\":\"ee5c415a-fa56-40b2-8fb0-f32b24ecec80\",\"type\":\"BoxAnnotation\"},{\"attributes\":{\"axis_label\":\"Closing Price\",\"formatter\":{\"id\":\"5cda8502-9405-4028-b9c7-3dafaa4542b2\",\"type\":\"BasicTickFormatter\"},\"plot\":{\"id\":\"193d126d-300e-454a-b58d-7ba1dde5ac9a\",\"subtype\":\"Figure\",\"type\":\"Plot\"},\"ticker\":{\"id\":\"0ca47ebd-74fe-49a9-9a62-426018f69ab4\",\"type\":\"BasicTicker\"}},\"id\":\"9b36afb7-559c-43ab-8db6-cdcdd6810967\",\"type\":\"LinearAxis\"},{\"attributes\":{},\"id\":\"0fa1ffa9-26b3-4fcf-8f7a-260f846316b6\",\"type\":\"BasicTicker\"},{\"attributes\":{},\"id\":\"5cda8502-9405-4028-b9c7-3dafaa4542b2\",\"type\":\"BasicTickFormatter\"},{\"attributes\":{},\"id\":\"0ca47ebd-74fe-49a9-9a62-426018f69ab4\",\"type\":\"BasicTicker\"},{\"attributes\":{\"source\":{\"id\":\"cdbc47aa-caff-40a2-85b7-8025b780cf0c\",\"type\":\"ColumnDataSource\"}},\"id\":\"5623b0f3-9ce8-445b-8897-a2cf2121f647\",\"type\":\"CDSView\"},{\"attributes\":{},\"id\":\"5d49b7e2-cae4-48e1-9e6e-0e0dc6d58a83\",\"type\":\"UnionRenderers\"},{\"attributes\":{\"axis_label\":\"Time\",\"formatter\":{\"id\":\"feeb5e89-c019-4630-8bf1-ee76ed87cb05\",\"type\":\"BasicTickFormatter\"},\"plot\":{\"id\":\"193d126d-300e-454a-b58d-7ba1dde5ac9a\",\"subtype\":\"Figure\",\"type\":\"Plot\"},\"ticker\":{\"id\":\"0fa1ffa9-26b3-4fcf-8f7a-260f846316b6\",\"type\":\"BasicTicker\"}},\"id\":\"38de6699-5bd9-408a-818b-0007d84d2e31\",\"type\":\"LinearAxis\"},{\"attributes\":{\"source\":{\"id\":\"6e56b073-c7fa-4666-af9b-97bd82ebc3ef\",\"type\":\"ColumnDataSource\"}},\"id\":\"25878651-6ce4-47a8-a8d8-3e82a5fb719e\",\"type\":\"CDSView\"},{\"attributes\":{\"fill_color\":{\"field\":\"k\"},\"line_color\":{\"field\":\"k\"},\"size\":{\"units\":\"screen\",\"value\":10},\"x\":{\"field\":\"x\"},\"y\":{\"field\":\"y\"}},\"id\":\"10bfab1f-af9b-4b2a-8ebc-90f836e2f74e\",\"type\":\"Circle\"},{\"attributes\":{\"callback\":null,\"data\":{\"x\":{\"__ndarray__\":\"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\",\"dtype\":\"float64\",\"shape\":[495]},\"y\":{\"__ndarray__\":\"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\",\"dtype\":\"float64\",\"shape\":[495]}},\"selected\":{\"id\":\"8cf866ae-fa12-4b30-bea8-a97d512befa4\",\"type\":\"Selection\"},\"selection_policy\":{\"id\":\"5d49b7e2-cae4-48e1-9e6e-0e0dc6d58a83\",\"type\":\"UnionRenderers\"}},\"id\":\"cdbc47aa-caff-40a2-85b7-8025b780cf0c\",\"type\":\"ColumnDataSource\"},{\"attributes\":{},\"id\":\"feeb5e89-c019-4630-8bf1-ee76ed87cb05\",\"type\":\"BasicTickFormatter\"},{\"attributes\":{\"plot\":{\"id\":\"193d126d-300e-454a-b58d-7ba1dde5ac9a\",\"subtype\":\"Figure\",\"type\":\"Plot\"},\"ticker\":{\"id\":\"0fa1ffa9-26b3-4fcf-8f7a-260f846316b6\",\"type\":\"BasicTicker\"}},\"id\":\"0a587607-b4b1-41a3-8010-ea5dec48a99c\",\"type\":\"Grid\"},{\"attributes\":{\"callback\":null},\"id\":\"fae3c5a7-956b-48db-b282-6c0b75c7f093\",\"type\":\"DataRange1d\"},{\"attributes\":{},\"id\":\"c7747da1-8848-4107-a948-ce2dd3db7c02\",\"type\":\"Selection\"},{\"attributes\":{},\"id\":\"ac95436a-43aa-4b66-a096-fbaeadf972b3\",\"type\":\"LinearScale\"},{\"attributes\":{\"below\":[{\"id\":\"38de6699-5bd9-408a-818b-0007d84d2e31\",\"type\":\"LinearAxis\"}],\"left\":[{\"id\":\"9b36afb7-559c-43ab-8db6-cdcdd6810967\",\"type\":\"LinearAxis\"}],\"plot_height\":400,\"plot_width\":800,\"renderers\":[{\"id\":\"38de6699-5bd9-408a-818b-0007d84d2e31\",\"type\":\"LinearAxis\"},{\"id\":\"0a587607-b4b1-41a3-8010-ea5dec48a99c\",\"type\":\"Grid\"},{\"id\":\"9b36afb7-559c-43ab-8db6-cdcdd6810967\",\"type\":\"LinearAxis\"},{\"id\":\"e65e67fc-b9e1-469c-9e1a-e52ce11c85c6\",\"type\":\"Grid\"},{\"id\":\"ee5c415a-fa56-40b2-8fb0-f32b24ecec80\",\"type\":\"BoxAnnotation\"},{\"id\":\"8235250c-ae7e-48c0-a41c-88609029d0be\",\"type\":\"GlyphRenderer\"},{\"id\":\"59615768-0bfa-4713-9256-3fd459552f2f\",\"type\":\"GlyphRenderer\"}],\"title\":{\"id\":\"624f8b6a-78f3-43d4-98da-8bdf29d1b243\",\"type\":\"Title\"},\"toolbar\":{\"id\":\"cee76165-9dff-4b6e-8181-942a136b6c49\",\"type\":\"Toolbar\"},\"x_range\":{\"id\":\"fae3c5a7-956b-48db-b282-6c0b75c7f093\",\"type\":\"DataRange1d\"},\"x_scale\":{\"id\":\"ac95436a-43aa-4b66-a096-fbaeadf972b3\",\"type\":\"LinearScale\"},\"y_range\":{\"id\":\"7cec7965-e5d1-4561-ba8a-097517a72cbf\",\"type\":\"DataRange1d\"},\"y_scale\":{\"id\":\"502e7f90-f052-4361-969d-ba0efc6413a8\",\"type\":\"LinearScale\"}},\"id\":\"193d126d-300e-454a-b58d-7ba1dde5ac9a\",\"subtype\":\"Figure\",\"type\":\"Plot\"},{\"attributes\":{\"callback\":null,\"renderers\":\"auto\",\"tooltips\":[[\"time\",\"@x\"],[\"Closing Price\",\"@y\"]]},\"id\":\"1ddb5b2d-cb00-4e96-a1fd-3f7499c2a13d\",\"type\":\"HoverTool\"},{\"attributes\":{},\"id\":\"502e7f90-f052-4361-969d-ba0efc6413a8\",\"type\":\"LinearScale\"},{\"attributes\":{},\"id\":\"cffd37c4-f3b6-4291-ba47-5769cda12f2c\",\"type\":\"PanTool\"},{\"attributes\":{\"active_drag\":\"auto\",\"active_inspect\":\"auto\",\"active_multi\":null,\"active_scroll\":\"auto\",\"active_tap\":\"auto\",\"tools\":[{\"id\":\"7f3fb733-b178-4576-b2d6-ad5e0f392ae1\",\"type\":\"SaveTool\"},{\"id\":\"cffd37c4-f3b6-4291-ba47-5769cda12f2c\",\"type\":\"PanTool\"},{\"id\":\"559ad6e4-61ec-42d3-bc8a-8b483fb48e7b\",\"type\":\"BoxZoomTool\"},{\"id\":\"c390099a-88f9-4521-a0fe-ee2efffd6d39\",\"type\":\"ResetTool\"},{\"id\":\"d884f159-7428-4ec0-b8ee-df5585d1047a\",\"type\":\"WheelZoomTool\"},{\"id\":\"1ddb5b2d-cb00-4e96-a1fd-3f7499c2a13d\",\"type\":\"HoverTool\"}]},\"id\":\"cee76165-9dff-4b6e-8181-942a136b6c49\",\"type\":\"Toolbar\"},{\"attributes\":{\"line_alpha\":0.1,\"line_color\":\"#1f77b4\",\"line_width\":3,\"x\":{\"field\":\"x\"},\"y\":{\"field\":\"y\"}},\"id\":\"99b887b8-fd13-431a-9895-3c8a681caa95\",\"type\":\"Line\"},{\"attributes\":{\"overlay\":{\"id\":\"ee5c415a-fa56-40b2-8fb0-f32b24ecec80\",\"type\":\"BoxAnnotation\"}},\"id\":\"559ad6e4-61ec-42d3-bc8a-8b483fb48e7b\",\"type\":\"BoxZoomTool\"},{\"attributes\":{\"plot\":null,\"text\":\"Closing Price for NIFTY IT\"},\"id\":\"624f8b6a-78f3-43d4-98da-8bdf29d1b243\",\"type\":\"Title\"},{\"attributes\":{},\"id\":\"7c2c5aac-686f-4725-9e67-16b0246524ee\",\"type\":\"UnionRenderers\"},{\"attributes\":{},\"id\":\"c390099a-88f9-4521-a0fe-ee2efffd6d39\",\"type\":\"ResetTool\"},{\"attributes\":{},\"id\":\"7f3fb733-b178-4576-b2d6-ad5e0f392ae1\",\"type\":\"SaveTool\"},{\"attributes\":{\"line_color\":\"blue\",\"line_width\":3,\"x\":{\"field\":\"x\"},\"y\":{\"field\":\"y\"}},\"id\":\"dd32de1d-efd0-4688-bdba-3731e4dd43eb\",\"type\":\"Line\"},{\"attributes\":{\"data_source\":{\"id\":\"cdbc47aa-caff-40a2-85b7-8025b780cf0c\",\"type\":\"ColumnDataSource\"},\"glyph\":{\"id\":\"dd32de1d-efd0-4688-bdba-3731e4dd43eb\",\"type\":\"Line\"},\"hover_glyph\":null,\"muted_glyph\":null,\"nonselection_glyph\":{\"id\":\"99b887b8-fd13-431a-9895-3c8a681caa95\",\"type\":\"Line\"},\"selection_glyph\":null,\"view\":{\"id\":\"5623b0f3-9ce8-445b-8897-a2cf2121f647\",\"type\":\"CDSView\"}},\"id\":\"59615768-0bfa-4713-9256-3fd459552f2f\",\"type\":\"GlyphRenderer\"},{\"attributes\":{\"callback\":null,\"data\":{\"x\":{\"__ndarray__\":\"AAAAKYzqdEIAAMD+d/90QgAAwJb3MnVCAABAsTI/dUIAAMD5AE51QgAAQDU/Y3VCAABAAf98dUI=\",\"dtype\":\"float64\",\"shape\":[7]},\"y\":{\"__ndarray__\":\"mpmZmXkBxkAAAAAAANfGQM3MzMysxsRAMzMzM5OaxUBmZmZmZlbFQGZmZmamUMVAAAAAAGDXw0A=\",\"dtype\":\"float64\",\"shape\":[7]}},\"selected\":{\"id\":\"c7747da1-8848-4107-a948-ce2dd3db7c02\",\"type\":\"Selection\"},\"selection_policy\":{\"id\":\"7c2c5aac-686f-4725-9e67-16b0246524ee\",\"type\":\"UnionRenderers\"}},\"id\":\"6e56b073-c7fa-4666-af9b-97bd82ebc3ef\",\"type\":\"ColumnDataSource\"}],\"root_ids\":[\"193d126d-300e-454a-b58d-7ba1dde5ac9a\"]},\"title\":\"Bokeh Application\",\"version\":\"0.13.0\"}};\n",
       "  var render_items = [{\"docid\":\"0103213d-cf94-4f27-b2ef-098b80d19ad5\",\"roots\":{\"193d126d-300e-454a-b58d-7ba1dde5ac9a\":\"4ac6828d-6659-474d-90b9-56dc8859454f\"}}];\n",
       "  root.Bokeh.embed.embed_items_notebook(docs_json, render_items);\n",
       "\n",
       "  }\n",
       "  if (root.Bokeh !== undefined) {\n",
       "    embed_document(root);\n",
       "  } else {\n",
       "    var attempts = 0;\n",
       "    var timer = setInterval(function(root) {\n",
       "      if (root.Bokeh !== undefined) {\n",
       "        embed_document(root);\n",
       "        clearInterval(timer);\n",
       "      }\n",
       "      attempts++;\n",
       "      if (attempts > 100) {\n",
       "        console.log(\"Bokeh: ERROR: Unable to run BokehJS code because BokehJS library is missing\")\n",
       "        clearInterval(timer);\n",
       "      }\n",
       "    }, 10, root)\n",
       "  }\n",
       "})(window);"
      ],
      "application/vnd.bokehjs_exec.v0+json": ""
     },
     "metadata": {
      "application/vnd.bokehjs_exec.v0+json": {
       "id": "193d126d-300e-454a-b58d-7ba1dde5ac9a"
      }
     },
     "output_type": "display_data"
    },
    {
     "name": "stderr",
     "output_type": "stream",
     "text": [
      "ERROR:bokeh.core.validation.check:E-1001 (BAD_COLUMN_NAME): Glyph refers to nonexistent column name: k [renderer: GlyphRenderer(id='036f0949-a089-4de0-8f33-f4636db3e6e1', ...)]\n",
      "ERROR:bokeh.core.validation.check:E-1001 (BAD_COLUMN_NAME): Glyph refers to nonexistent column name: k [renderer: GlyphRenderer(id='7dde578f-36c0-496d-847a-327e75827b2b', ...)]\n",
      "ERROR:bokeh.core.validation.check:E-1001 (BAD_COLUMN_NAME): Glyph refers to nonexistent column name: k [renderer: GlyphRenderer(id='b0c4e087-d062-4f9a-a442-20fdf66eff7a', ...)]\n",
      "ERROR:bokeh.core.validation.check:E-1001 (BAD_COLUMN_NAME): Glyph refers to nonexistent column name: k [renderer: GlyphRenderer(id='8a332173-ff19-4fc7-a301-1388d640c612', ...)]\n",
      "ERROR:bokeh.core.validation.check:E-1001 (BAD_COLUMN_NAME): Glyph refers to nonexistent column name: k [renderer: GlyphRenderer(id='0dccaf0e-b525-4386-9b88-986f8212ef5f', ...)]\n",
      "ERROR:bokeh.core.validation.check:E-1001 (BAD_COLUMN_NAME): Glyph refers to nonexistent column name: k [renderer: GlyphRenderer(id='fd9303ac-9184-43ad-9402-01e31349256b', ...)]\n",
      "ERROR:bokeh.core.validation.check:E-1001 (BAD_COLUMN_NAME): Glyph refers to nonexistent column name: k [renderer: GlyphRenderer(id='7111a5ad-da32-4c10-ba14-b35ec34cd25f', ...)]\n",
      "ERROR:bokeh.core.validation.check:E-1001 (BAD_COLUMN_NAME): Glyph refers to nonexistent column name: k [renderer: GlyphRenderer(id='e7872765-6722-4490-993a-bace488f5645', ...)]\n",
      "ERROR:bokeh.core.validation.check:E-1001 (BAD_COLUMN_NAME): Glyph refers to nonexistent column name: k [renderer: GlyphRenderer(id='30ea4dc2-61b3-4d9f-9494-bb9ad6b0b40e', ...)]\n",
      "ERROR:bokeh.core.validation.check:E-1001 (BAD_COLUMN_NAME): Glyph refers to nonexistent column name: k [renderer: GlyphRenderer(id='d8e4e8cd-5ebc-40c9-af8c-11a467bcff12', ...)]\n",
      "ERROR:bokeh.core.validation.check:E-1001 (BAD_COLUMN_NAME): Glyph refers to nonexistent column name: k [renderer: GlyphRenderer(id='977410a2-76d5-43db-b414-c9b34734989b', ...)]\n",
      "ERROR:bokeh.core.validation.check:E-1001 (BAD_COLUMN_NAME): Glyph refers to nonexistent column name: k [renderer: GlyphRenderer(id='7fd698a6-ef70-404c-85c4-e7a8c1b8145d', ...)]\n",
      "ERROR:bokeh.core.validation.check:E-1001 (BAD_COLUMN_NAME): Glyph refers to nonexistent column name: k [renderer: GlyphRenderer(id='10607909-3c3e-47c5-a9ac-891777942f5b', ...)]\n",
      "ERROR:bokeh.core.validation.check:E-1001 (BAD_COLUMN_NAME): Glyph refers to nonexistent column name: k [renderer: GlyphRenderer(id='634b86db-5052-4079-bd9f-9bb5d158f9c2', ...)]\n",
      "ERROR:bokeh.core.validation.check:E-1001 (BAD_COLUMN_NAME): Glyph refers to nonexistent column name: k [renderer: GlyphRenderer(id='6acee8bb-3862-4832-a12a-927b1b787134', ...)]\n",
      "ERROR:bokeh.core.validation.check:E-1001 (BAD_COLUMN_NAME): Glyph refers to nonexistent column name: k [renderer: GlyphRenderer(id='aa7c9a84-0b00-45fa-aeb5-3cd6910af35a', ...)]\n",
      "ERROR:bokeh.core.validation.check:E-1001 (BAD_COLUMN_NAME): Glyph refers to nonexistent column name: k [renderer: GlyphRenderer(id='bebdc8ca-8b54-46f6-99a8-663f2c59c346', ...)]\n",
      "ERROR:bokeh.core.validation.check:E-1001 (BAD_COLUMN_NAME): Glyph refers to nonexistent column name: k [renderer: GlyphRenderer(id='35dabc7f-38f4-4fe6-afd7-c251d7702dc7', ...)]\n",
      "ERROR:bokeh.core.validation.check:E-1001 (BAD_COLUMN_NAME): Glyph refers to nonexistent column name: k [renderer: GlyphRenderer(id='ec14446c-7cfe-4957-b070-88aa5ddc8bdf', ...)]\n",
      "ERROR:bokeh.core.validation.check:E-1001 (BAD_COLUMN_NAME): Glyph refers to nonexistent column name: k [renderer: GlyphRenderer(id='17f9ec26-21c3-4008-8dc7-7d683c008fe1', ...)]\n",
      "ERROR:bokeh.core.validation.check:E-1001 (BAD_COLUMN_NAME): Glyph refers to nonexistent column name: k [renderer: GlyphRenderer(id='568e632d-c107-49d7-a99c-e7f9c41364f0', ...)]\n",
      "ERROR:bokeh.core.validation.check:E-1001 (BAD_COLUMN_NAME): Glyph refers to nonexistent column name: k [renderer: GlyphRenderer(id='c57398a8-4918-4b3c-b6a5-c65a253e5d27', ...)]\n",
      "ERROR:bokeh.core.validation.check:E-1001 (BAD_COLUMN_NAME): Glyph refers to nonexistent column name: k [renderer: GlyphRenderer(id='8235250c-ae7e-48c0-a41c-88609029d0be', ...)]\n"
     ]
    }
   ],
   "source": [
    "output_file(\"bokeh_plotting.html\", title=\"Data Visualization\")\n",
    "bokeh_plotting(infy)\n",
    "bokeh_plotting(tcs)\n",
    "bokeh_plotting(nifty_IT)"
   ]
  },
  {
   "cell_type": "code",
   "execution_count": 272,
   "metadata": {},
   "outputs": [
    {
     "name": "stderr",
     "output_type": "stream",
     "text": [
      "ERROR:bokeh.core.validation.check:E-1001 (BAD_COLUMN_NAME): Glyph refers to nonexistent column name: k [renderer: GlyphRenderer(id='7967b316-4ec3-4a40-82be-552333458fdf', ...)]\n"
     ]
    },
    {
     "data": {
      "text/html": [
       "\n",
       "\n",
       "\n",
       "\n",
       "\n",
       "\n",
       "  <div class=\"bk-root\" id=\"dc6e25fe-fb80-4ad6-a624-efbdd795f039\"></div>\n"
      ]
     },
     "metadata": {},
     "output_type": "display_data"
    },
    {
     "data": {
      "application/javascript": [
       "(function(root) {\n",
       "  function embed_document(root) {\n",
       "    \n",
       "  var docs_json = {\"aadadaef-b748-4736-b3e1-cb2de34d70e4\":{\"roots\":{\"references\":[{\"attributes\":{\"overlay\":{\"id\":\"bc210bca-5f8f-40f5-b05f-a8de7a362750\",\"type\":\"BoxAnnotation\"}},\"id\":\"49a1f451-c9c9-4d38-9df9-802d9ed44485\",\"type\":\"BoxZoomTool\"},{\"attributes\":{},\"id\":\"f9e3b304-31a2-4856-ab15-d74cee9a9762\",\"type\":\"SaveTool\"},{\"attributes\":{},\"id\":\"93bcf686-92aa-4129-b136-59e2a3e51c9c\",\"type\":\"WheelZoomTool\"},{\"attributes\":{\"callback\":null,\"renderers\":\"auto\",\"tooltips\":[[\"time\",\"@x\"],[\"Closing Price\",\"@y\"]]},\"id\":\"fb0442bf-1eac-492a-aeef-eb2405b4cee6\",\"type\":\"HoverTool\"},{\"attributes\":{},\"id\":\"91df7571-4039-4edd-a466-09299274ac76\",\"type\":\"BasicTicker\"},{\"attributes\":{},\"id\":\"04da12dd-f33d-4c41-a88e-882b4543dc30\",\"type\":\"Selection\"},{\"attributes\":{},\"id\":\"5373602e-2fc0-42a4-afa3-2a668aa8dc46\",\"type\":\"UnionRenderers\"},{\"attributes\":{\"callback\":null},\"id\":\"b6045637-b147-43a7-84f4-5e3dfebe8841\",\"type\":\"DataRange1d\"},{\"attributes\":{},\"id\":\"6cda087f-2cdb-4766-8b62-49a64b972b03\",\"type\":\"ResetTool\"},{\"attributes\":{\"callback\":null,\"data\":{\"x\":{\"__ndarray__\":\"AABAc22sdEIAAIBcsbd0QgAAwFlo0nRCAAAAUDzXdEIAAACzRfJ0QgAAAEqP83RCAABAQGP4dEIAAADHuAF1QgAAwCwLAnVCAACA/EkzdUIAAECxMj91QgAAwPkATnVCAAAAK/hOdUIAAMBIl1l1QgAAQDU/Y3VCAABAv/hqdUIAAMAOqo91QgAAgAtGkXVC\",\"dtype\":\"float64\",\"shape\":[18]},\"y\":{\"__ndarray__\":\"mpmZmZkXo0DNzMzMTDyjQJqZmZkZPqNAAAAAAAD3o0AzMzMzM5ekQAAAAACA+aRAzczMzMzSo0CamZmZGTikQDMzMzMzqaRAMzMzM7MdokCamZmZGQCjQGZmZmZmR6NAzczMzEwZpEDNzMzMzI2jQJqZmZmZdqRAZmZmZmbpo0AzMzMzMz+hQM3MzMzM4aFA\",\"dtype\":\"float64\",\"shape\":[18]}},\"selected\":{\"id\":\"04da12dd-f33d-4c41-a88e-882b4543dc30\",\"type\":\"Selection\"},\"selection_policy\":{\"id\":\"5373602e-2fc0-42a4-afa3-2a668aa8dc46\",\"type\":\"UnionRenderers\"}},\"id\":\"4feffc69-8882-4de0-a051-2ce400209e51\",\"type\":\"ColumnDataSource\"},{\"attributes\":{\"bottom_units\":\"screen\",\"fill_alpha\":{\"value\":0.5},\"fill_color\":{\"value\":\"lightgrey\"},\"left_units\":\"screen\",\"level\":\"overlay\",\"line_alpha\":{\"value\":1.0},\"line_color\":{\"value\":\"black\"},\"line_dash\":[4,4],\"line_width\":{\"value\":2},\"plot\":null,\"render_mode\":\"css\",\"right_units\":\"screen\",\"top_units\":\"screen\"},\"id\":\"bc210bca-5f8f-40f5-b05f-a8de7a362750\",\"type\":\"BoxAnnotation\"},{\"attributes\":{\"fill_color\":{\"field\":\"k\"},\"line_color\":{\"field\":\"k\"},\"size\":{\"units\":\"screen\",\"value\":10},\"x\":{\"field\":\"x\"},\"y\":{\"field\":\"y\"}},\"id\":\"208a95f6-b7a1-4df2-8e1c-052959e9c1a2\",\"type\":\"Circle\"},{\"attributes\":{\"data_source\":{\"id\":\"de1b7cc8-2c86-4483-b6d8-a87ba2c82ea3\",\"type\":\"ColumnDataSource\"},\"glyph\":{\"id\":\"0531562f-6f4e-46a7-aaae-5d7362aa39b4\",\"type\":\"Line\"},\"hover_glyph\":null,\"muted_glyph\":null,\"nonselection_glyph\":{\"id\":\"63065661-52cf-44cd-a9b0-0fd45c869c07\",\"type\":\"Line\"},\"selection_glyph\":null,\"view\":{\"id\":\"0d1ba292-771b-4b8f-a4ec-b904232669be\",\"type\":\"CDSView\"}},\"id\":\"1dbef5fe-7255-4eb8-9fd8-6a01494e6a3c\",\"type\":\"GlyphRenderer\"},{\"attributes\":{\"source\":{\"id\":\"4feffc69-8882-4de0-a051-2ce400209e51\",\"type\":\"ColumnDataSource\"}},\"id\":\"39c3aced-c1d8-427b-96c6-bc27842c4474\",\"type\":\"CDSView\"},{\"attributes\":{},\"id\":\"88e2e43b-e2bd-4ad0-b9d2-e512adcb4b65\",\"type\":\"LinearScale\"},{\"attributes\":{\"fill_alpha\":{\"value\":0.1},\"fill_color\":{\"value\":\"#1f77b4\"},\"line_alpha\":{\"value\":0.1},\"line_color\":{\"value\":\"#1f77b4\"},\"size\":{\"units\":\"screen\",\"value\":10},\"x\":{\"field\":\"x\"},\"y\":{\"field\":\"y\"}},\"id\":\"19c25db4-c530-41ab-bd5f-7502f06478d0\",\"type\":\"Circle\"},{\"attributes\":{\"below\":[{\"id\":\"556e5c5e-a409-4e21-9e2b-39c49c3fbd05\",\"type\":\"LinearAxis\"}],\"left\":[{\"id\":\"54bef65c-b7ea-465c-b53f-29747c98794b\",\"type\":\"LinearAxis\"}],\"plot_height\":400,\"plot_width\":800,\"renderers\":[{\"id\":\"556e5c5e-a409-4e21-9e2b-39c49c3fbd05\",\"type\":\"LinearAxis\"},{\"id\":\"9140de75-b8dd-40b7-8203-d5d4f0f6cf4c\",\"type\":\"Grid\"},{\"id\":\"54bef65c-b7ea-465c-b53f-29747c98794b\",\"type\":\"LinearAxis\"},{\"id\":\"44d86260-8362-47a4-9aa5-dba89ed94f20\",\"type\":\"Grid\"},{\"id\":\"bc210bca-5f8f-40f5-b05f-a8de7a362750\",\"type\":\"BoxAnnotation\"},{\"id\":\"7967b316-4ec3-4a40-82be-552333458fdf\",\"type\":\"GlyphRenderer\"},{\"id\":\"1dbef5fe-7255-4eb8-9fd8-6a01494e6a3c\",\"type\":\"GlyphRenderer\"}],\"title\":{\"id\":\"4445f500-bf8b-4866-9f7c-09743d1f9ee4\",\"type\":\"Title\"},\"toolbar\":{\"id\":\"a9971ed4-0826-480c-a9fe-1c5614dabd7c\",\"type\":\"Toolbar\"},\"x_range\":{\"id\":\"b6045637-b147-43a7-84f4-5e3dfebe8841\",\"type\":\"DataRange1d\"},\"x_scale\":{\"id\":\"88e2e43b-e2bd-4ad0-b9d2-e512adcb4b65\",\"type\":\"LinearScale\"},\"y_range\":{\"id\":\"585eae78-875b-4b6b-be7f-b10f61cff113\",\"type\":\"DataRange1d\"},\"y_scale\":{\"id\":\"42c69a76-4827-4178-946e-36af5029012e\",\"type\":\"LinearScale\"}},\"id\":\"127c4eef-17bf-456d-a8be-31f05863d077\",\"subtype\":\"Figure\",\"type\":\"Plot\"},{\"attributes\":{},\"id\":\"42a8aa83-f180-414c-aa55-9f2429d34749\",\"type\":\"BasicTickFormatter\"},{\"attributes\":{\"data_source\":{\"id\":\"4feffc69-8882-4de0-a051-2ce400209e51\",\"type\":\"ColumnDataSource\"},\"glyph\":{\"id\":\"208a95f6-b7a1-4df2-8e1c-052959e9c1a2\",\"type\":\"Circle\"},\"hover_glyph\":null,\"muted_glyph\":null,\"nonselection_glyph\":{\"id\":\"19c25db4-c530-41ab-bd5f-7502f06478d0\",\"type\":\"Circle\"},\"selection_glyph\":null,\"view\":{\"id\":\"39c3aced-c1d8-427b-96c6-bc27842c4474\",\"type\":\"CDSView\"}},\"id\":\"7967b316-4ec3-4a40-82be-552333458fdf\",\"type\":\"GlyphRenderer\"},{\"attributes\":{\"line_color\":\"blue\",\"line_width\":3,\"x\":{\"field\":\"x\"},\"y\":{\"field\":\"y\"}},\"id\":\"0531562f-6f4e-46a7-aaae-5d7362aa39b4\",\"type\":\"Line\"},{\"attributes\":{\"callback\":null,\"data\":{\"x\":{\"__ndarray__\":\"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\",\"dtype\":\"float64\",\"shape\":[495]},\"y\":{\"__ndarray__\":\"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\",\"dtype\":\"float64\",\"shape\":[495]}},\"selected\":{\"id\":\"0a73f35b-1f0a-488a-8927-e054ceb5a24b\",\"type\":\"Selection\"},\"selection_policy\":{\"id\":\"367f6641-f1ad-426d-a869-49e24de376d3\",\"type\":\"UnionRenderers\"}},\"id\":\"de1b7cc8-2c86-4483-b6d8-a87ba2c82ea3\",\"type\":\"ColumnDataSource\"},{\"attributes\":{\"plot\":null,\"text\":\"Closing Price for TCS\"},\"id\":\"4445f500-bf8b-4866-9f7c-09743d1f9ee4\",\"type\":\"Title\"},{\"attributes\":{\"source\":{\"id\":\"de1b7cc8-2c86-4483-b6d8-a87ba2c82ea3\",\"type\":\"ColumnDataSource\"}},\"id\":\"0d1ba292-771b-4b8f-a4ec-b904232669be\",\"type\":\"CDSView\"},{\"attributes\":{},\"id\":\"51e24a12-6e07-47ba-9a6c-3a0956d7eab3\",\"type\":\"BasicTickFormatter\"},{\"attributes\":{\"callback\":null},\"id\":\"585eae78-875b-4b6b-be7f-b10f61cff113\",\"type\":\"DataRange1d\"},{\"attributes\":{\"line_alpha\":0.1,\"line_color\":\"#1f77b4\",\"line_width\":3,\"x\":{\"field\":\"x\"},\"y\":{\"field\":\"y\"}},\"id\":\"63065661-52cf-44cd-a9b0-0fd45c869c07\",\"type\":\"Line\"},{\"attributes\":{\"active_drag\":\"auto\",\"active_inspect\":\"auto\",\"active_multi\":null,\"active_scroll\":\"auto\",\"active_tap\":\"auto\",\"tools\":[{\"id\":\"f9e3b304-31a2-4856-ab15-d74cee9a9762\",\"type\":\"SaveTool\"},{\"id\":\"112d918b-22c2-49f1-9b11-aa6013ade096\",\"type\":\"PanTool\"},{\"id\":\"49a1f451-c9c9-4d38-9df9-802d9ed44485\",\"type\":\"BoxZoomTool\"},{\"id\":\"6cda087f-2cdb-4766-8b62-49a64b972b03\",\"type\":\"ResetTool\"},{\"id\":\"93bcf686-92aa-4129-b136-59e2a3e51c9c\",\"type\":\"WheelZoomTool\"},{\"id\":\"fb0442bf-1eac-492a-aeef-eb2405b4cee6\",\"type\":\"HoverTool\"}]},\"id\":\"a9971ed4-0826-480c-a9fe-1c5614dabd7c\",\"type\":\"Toolbar\"},{\"attributes\":{},\"id\":\"42c69a76-4827-4178-946e-36af5029012e\",\"type\":\"LinearScale\"},{\"attributes\":{\"plot\":{\"id\":\"127c4eef-17bf-456d-a8be-31f05863d077\",\"subtype\":\"Figure\",\"type\":\"Plot\"},\"ticker\":{\"id\":\"91df7571-4039-4edd-a466-09299274ac76\",\"type\":\"BasicTicker\"}},\"id\":\"9140de75-b8dd-40b7-8203-d5d4f0f6cf4c\",\"type\":\"Grid\"},{\"attributes\":{\"axis_label\":\"Time\",\"formatter\":{\"id\":\"42a8aa83-f180-414c-aa55-9f2429d34749\",\"type\":\"BasicTickFormatter\"},\"plot\":{\"id\":\"127c4eef-17bf-456d-a8be-31f05863d077\",\"subtype\":\"Figure\",\"type\":\"Plot\"},\"ticker\":{\"id\":\"91df7571-4039-4edd-a466-09299274ac76\",\"type\":\"BasicTicker\"}},\"id\":\"556e5c5e-a409-4e21-9e2b-39c49c3fbd05\",\"type\":\"LinearAxis\"},{\"attributes\":{\"dimension\":1,\"plot\":{\"id\":\"127c4eef-17bf-456d-a8be-31f05863d077\",\"subtype\":\"Figure\",\"type\":\"Plot\"},\"ticker\":{\"id\":\"2a53aada-ecba-48bf-81bc-6f27869a45f8\",\"type\":\"BasicTicker\"}},\"id\":\"44d86260-8362-47a4-9aa5-dba89ed94f20\",\"type\":\"Grid\"},{\"attributes\":{\"axis_label\":\"Closing Price\",\"formatter\":{\"id\":\"51e24a12-6e07-47ba-9a6c-3a0956d7eab3\",\"type\":\"BasicTickFormatter\"},\"plot\":{\"id\":\"127c4eef-17bf-456d-a8be-31f05863d077\",\"subtype\":\"Figure\",\"type\":\"Plot\"},\"ticker\":{\"id\":\"2a53aada-ecba-48bf-81bc-6f27869a45f8\",\"type\":\"BasicTicker\"}},\"id\":\"54bef65c-b7ea-465c-b53f-29747c98794b\",\"type\":\"LinearAxis\"},{\"attributes\":{},\"id\":\"0a73f35b-1f0a-488a-8927-e054ceb5a24b\",\"type\":\"Selection\"},{\"attributes\":{},\"id\":\"112d918b-22c2-49f1-9b11-aa6013ade096\",\"type\":\"PanTool\"},{\"attributes\":{},\"id\":\"367f6641-f1ad-426d-a869-49e24de376d3\",\"type\":\"UnionRenderers\"},{\"attributes\":{},\"id\":\"2a53aada-ecba-48bf-81bc-6f27869a45f8\",\"type\":\"BasicTicker\"}],\"root_ids\":[\"127c4eef-17bf-456d-a8be-31f05863d077\"]},\"title\":\"Bokeh Application\",\"version\":\"0.13.0\"}};\n",
       "  var render_items = [{\"docid\":\"aadadaef-b748-4736-b3e1-cb2de34d70e4\",\"roots\":{\"127c4eef-17bf-456d-a8be-31f05863d077\":\"dc6e25fe-fb80-4ad6-a624-efbdd795f039\"}}];\n",
       "  root.Bokeh.embed.embed_items_notebook(docs_json, render_items);\n",
       "\n",
       "  }\n",
       "  if (root.Bokeh !== undefined) {\n",
       "    embed_document(root);\n",
       "  } else {\n",
       "    var attempts = 0;\n",
       "    var timer = setInterval(function(root) {\n",
       "      if (root.Bokeh !== undefined) {\n",
       "        embed_document(root);\n",
       "        clearInterval(timer);\n",
       "      }\n",
       "      attempts++;\n",
       "      if (attempts > 100) {\n",
       "        console.log(\"Bokeh: ERROR: Unable to run BokehJS code because BokehJS library is missing\")\n",
       "        clearInterval(timer);\n",
       "      }\n",
       "    }, 10, root)\n",
       "  }\n",
       "})(window);"
      ],
      "application/vnd.bokehjs_exec.v0+json": ""
     },
     "metadata": {
      "application/vnd.bokehjs_exec.v0+json": {
       "id": "127c4eef-17bf-456d-a8be-31f05863d077"
      }
     },
     "output_type": "display_data"
    },
    {
     "name": "stderr",
     "output_type": "stream",
     "text": [
      "ERROR:bokeh.core.validation.check:E-1001 (BAD_COLUMN_NAME): Glyph refers to nonexistent column name: k [renderer: GlyphRenderer(id='036f0949-a089-4de0-8f33-f4636db3e6e1', ...)]\n",
      "ERROR:bokeh.core.validation.check:E-1001 (BAD_COLUMN_NAME): Glyph refers to nonexistent column name: k [renderer: GlyphRenderer(id='7dde578f-36c0-496d-847a-327e75827b2b', ...)]\n",
      "ERROR:bokeh.core.validation.check:E-1001 (BAD_COLUMN_NAME): Glyph refers to nonexistent column name: k [renderer: GlyphRenderer(id='b0c4e087-d062-4f9a-a442-20fdf66eff7a', ...)]\n",
      "ERROR:bokeh.core.validation.check:E-1001 (BAD_COLUMN_NAME): Glyph refers to nonexistent column name: k [renderer: GlyphRenderer(id='8a332173-ff19-4fc7-a301-1388d640c612', ...)]\n",
      "ERROR:bokeh.core.validation.check:E-1001 (BAD_COLUMN_NAME): Glyph refers to nonexistent column name: k [renderer: GlyphRenderer(id='0dccaf0e-b525-4386-9b88-986f8212ef5f', ...)]\n",
      "ERROR:bokeh.core.validation.check:E-1001 (BAD_COLUMN_NAME): Glyph refers to nonexistent column name: k [renderer: GlyphRenderer(id='fd9303ac-9184-43ad-9402-01e31349256b', ...)]\n",
      "ERROR:bokeh.core.validation.check:E-1001 (BAD_COLUMN_NAME): Glyph refers to nonexistent column name: k [renderer: GlyphRenderer(id='7111a5ad-da32-4c10-ba14-b35ec34cd25f', ...)]\n",
      "ERROR:bokeh.core.validation.check:E-1001 (BAD_COLUMN_NAME): Glyph refers to nonexistent column name: k [renderer: GlyphRenderer(id='e7872765-6722-4490-993a-bace488f5645', ...)]\n",
      "ERROR:bokeh.core.validation.check:E-1001 (BAD_COLUMN_NAME): Glyph refers to nonexistent column name: k [renderer: GlyphRenderer(id='30ea4dc2-61b3-4d9f-9494-bb9ad6b0b40e', ...)]\n",
      "ERROR:bokeh.core.validation.check:E-1001 (BAD_COLUMN_NAME): Glyph refers to nonexistent column name: k [renderer: GlyphRenderer(id='d8e4e8cd-5ebc-40c9-af8c-11a467bcff12', ...)]\n",
      "ERROR:bokeh.core.validation.check:E-1001 (BAD_COLUMN_NAME): Glyph refers to nonexistent column name: k [renderer: GlyphRenderer(id='977410a2-76d5-43db-b414-c9b34734989b', ...)]\n",
      "ERROR:bokeh.core.validation.check:E-1001 (BAD_COLUMN_NAME): Glyph refers to nonexistent column name: k [renderer: GlyphRenderer(id='7fd698a6-ef70-404c-85c4-e7a8c1b8145d', ...)]\n",
      "ERROR:bokeh.core.validation.check:E-1001 (BAD_COLUMN_NAME): Glyph refers to nonexistent column name: k [renderer: GlyphRenderer(id='10607909-3c3e-47c5-a9ac-891777942f5b', ...)]\n",
      "ERROR:bokeh.core.validation.check:E-1001 (BAD_COLUMN_NAME): Glyph refers to nonexistent column name: k [renderer: GlyphRenderer(id='634b86db-5052-4079-bd9f-9bb5d158f9c2', ...)]\n",
      "ERROR:bokeh.core.validation.check:E-1001 (BAD_COLUMN_NAME): Glyph refers to nonexistent column name: k [renderer: GlyphRenderer(id='6acee8bb-3862-4832-a12a-927b1b787134', ...)]\n",
      "ERROR:bokeh.core.validation.check:E-1001 (BAD_COLUMN_NAME): Glyph refers to nonexistent column name: k [renderer: GlyphRenderer(id='aa7c9a84-0b00-45fa-aeb5-3cd6910af35a', ...)]\n",
      "ERROR:bokeh.core.validation.check:E-1001 (BAD_COLUMN_NAME): Glyph refers to nonexistent column name: k [renderer: GlyphRenderer(id='bebdc8ca-8b54-46f6-99a8-663f2c59c346', ...)]\n",
      "ERROR:bokeh.core.validation.check:E-1001 (BAD_COLUMN_NAME): Glyph refers to nonexistent column name: k [renderer: GlyphRenderer(id='35dabc7f-38f4-4fe6-afd7-c251d7702dc7', ...)]\n",
      "ERROR:bokeh.core.validation.check:E-1001 (BAD_COLUMN_NAME): Glyph refers to nonexistent column name: k [renderer: GlyphRenderer(id='ec14446c-7cfe-4957-b070-88aa5ddc8bdf', ...)]\n",
      "ERROR:bokeh.core.validation.check:E-1001 (BAD_COLUMN_NAME): Glyph refers to nonexistent column name: k [renderer: GlyphRenderer(id='17f9ec26-21c3-4008-8dc7-7d683c008fe1', ...)]\n",
      "ERROR:bokeh.core.validation.check:E-1001 (BAD_COLUMN_NAME): Glyph refers to nonexistent column name: k [renderer: GlyphRenderer(id='568e632d-c107-49d7-a99c-e7f9c41364f0', ...)]\n",
      "ERROR:bokeh.core.validation.check:E-1001 (BAD_COLUMN_NAME): Glyph refers to nonexistent column name: k [renderer: GlyphRenderer(id='c57398a8-4918-4b3c-b6a5-c65a253e5d27', ...)]\n",
      "ERROR:bokeh.core.validation.check:E-1001 (BAD_COLUMN_NAME): Glyph refers to nonexistent column name: k [renderer: GlyphRenderer(id='8235250c-ae7e-48c0-a41c-88609029d0be', ...)]\n",
      "ERROR:bokeh.core.validation.check:E-1001 (BAD_COLUMN_NAME): Glyph refers to nonexistent column name: k [renderer: GlyphRenderer(id='7967b316-4ec3-4a40-82be-552333458fdf', ...)]\n"
     ]
    }
   ],
   "source": [
    "bokeh_plotting(tcs)"
   ]
  },
  {
   "cell_type": "code",
   "execution_count": 273,
   "metadata": {},
   "outputs": [
    {
     "name": "stderr",
     "output_type": "stream",
     "text": [
      "ERROR:bokeh.core.validation.check:E-1001 (BAD_COLUMN_NAME): Glyph refers to nonexistent column name: k [renderer: GlyphRenderer(id='f829cd86-4970-4c4c-a610-fe0777ac6bd9', ...)]\n"
     ]
    },
    {
     "data": {
      "text/html": [
       "\n",
       "\n",
       "\n",
       "\n",
       "\n",
       "\n",
       "  <div class=\"bk-root\" id=\"f5c5ef4d-5181-4b40-a2cd-5efcbdc13f52\"></div>\n"
      ]
     },
     "metadata": {},
     "output_type": "display_data"
    },
    {
     "data": {
      "application/javascript": [
       "(function(root) {\n",
       "  function embed_document(root) {\n",
       "    \n",
       "  var docs_json = {\"94da908f-72df-458c-b1bb-15c33d173394\":{\"roots\":{\"references\":[{\"attributes\":{\"source\":{\"id\":\"16e33cba-9700-42fa-9c53-0f1ce7069d3e\",\"type\":\"ColumnDataSource\"}},\"id\":\"68a8748b-65e9-4e4f-9f57-2ed9c5425d9d\",\"type\":\"CDSView\"},{\"attributes\":{\"callback\":null,\"data\":{\"x\":{\"__ndarray__\":\"AAAAKYzqdEIAAMD+d/90QgAAwJb3MnVCAABAsTI/dUIAAMD5AE51QgAAQDU/Y3VCAABAAf98dUI=\",\"dtype\":\"float64\",\"shape\":[7]},\"y\":{\"__ndarray__\":\"mpmZmXkBxkAAAAAAANfGQM3MzMysxsRAMzMzM5OaxUBmZmZmZlbFQGZmZmamUMVAAAAAAGDXw0A=\",\"dtype\":\"float64\",\"shape\":[7]}},\"selected\":{\"id\":\"ad45baca-c785-49ac-80b0-85c3ee6a3a2b\",\"type\":\"Selection\"},\"selection_policy\":{\"id\":\"7c0b498e-2259-45fe-bac9-01632f0452c9\",\"type\":\"UnionRenderers\"}},\"id\":\"c1937100-2751-4170-9fd1-f3f54aadbfc3\",\"type\":\"ColumnDataSource\"},{\"attributes\":{},\"id\":\"7c0b498e-2259-45fe-bac9-01632f0452c9\",\"type\":\"UnionRenderers\"},{\"attributes\":{},\"id\":\"07bdfb98-46d7-4e88-88f2-4d3b4ed20162\",\"type\":\"ResetTool\"},{\"attributes\":{},\"id\":\"065a1eb6-ef87-40af-8394-c452bfcf36fe\",\"type\":\"LinearScale\"},{\"attributes\":{},\"id\":\"facec60b-fc10-4bb6-9c92-57df6ed635f0\",\"type\":\"Selection\"},{\"attributes\":{},\"id\":\"ad45baca-c785-49ac-80b0-85c3ee6a3a2b\",\"type\":\"Selection\"},{\"attributes\":{\"below\":[{\"id\":\"3d8ec6bc-8461-4e8a-a417-6b24d2388524\",\"type\":\"LinearAxis\"}],\"left\":[{\"id\":\"6b64b807-4ba0-4abb-b99e-e24324df91f1\",\"type\":\"LinearAxis\"}],\"plot_height\":400,\"plot_width\":800,\"renderers\":[{\"id\":\"3d8ec6bc-8461-4e8a-a417-6b24d2388524\",\"type\":\"LinearAxis\"},{\"id\":\"b1e7efa9-742b-482d-a05e-d779f645129c\",\"type\":\"Grid\"},{\"id\":\"6b64b807-4ba0-4abb-b99e-e24324df91f1\",\"type\":\"LinearAxis\"},{\"id\":\"35a75159-a146-46ec-93d0-6a270a0ff070\",\"type\":\"Grid\"},{\"id\":\"913e8e43-c19b-48b4-bb54-b00697758d27\",\"type\":\"BoxAnnotation\"},{\"id\":\"f829cd86-4970-4c4c-a610-fe0777ac6bd9\",\"type\":\"GlyphRenderer\"},{\"id\":\"e450418b-ee56-4a74-ad3d-dadf7c3d7929\",\"type\":\"GlyphRenderer\"}],\"title\":{\"id\":\"2fadaf7d-37eb-442d-83d9-fb5777e5176e\",\"type\":\"Title\"},\"toolbar\":{\"id\":\"dcbd15f2-eda9-4cb5-ab69-de5274339ba3\",\"type\":\"Toolbar\"},\"x_range\":{\"id\":\"ac732a5f-bee7-4407-9d28-e4dfd66126f9\",\"type\":\"DataRange1d\"},\"x_scale\":{\"id\":\"435adc08-322a-4bb1-a66a-2060e4b8ace7\",\"type\":\"LinearScale\"},\"y_range\":{\"id\":\"df21e128-e102-42c8-8a5f-79fb13bd62cf\",\"type\":\"DataRange1d\"},\"y_scale\":{\"id\":\"065a1eb6-ef87-40af-8394-c452bfcf36fe\",\"type\":\"LinearScale\"}},\"id\":\"3ac742ed-7bef-4882-9fc1-15fcdf933118\",\"subtype\":\"Figure\",\"type\":\"Plot\"},{\"attributes\":{\"plot\":null,\"text\":\"Closing Price for NIFTY IT\"},\"id\":\"2fadaf7d-37eb-442d-83d9-fb5777e5176e\",\"type\":\"Title\"},{\"attributes\":{\"axis_label\":\"Closing Price\",\"formatter\":{\"id\":\"2c52f57a-d128-47b7-9a58-68b6d03b1b27\",\"type\":\"BasicTickFormatter\"},\"plot\":{\"id\":\"3ac742ed-7bef-4882-9fc1-15fcdf933118\",\"subtype\":\"Figure\",\"type\":\"Plot\"},\"ticker\":{\"id\":\"9e89696a-38ee-4adb-9b7d-52eeb025ac29\",\"type\":\"BasicTicker\"}},\"id\":\"6b64b807-4ba0-4abb-b99e-e24324df91f1\",\"type\":\"LinearAxis\"},{\"attributes\":{},\"id\":\"b792ed48-86a6-4183-8a77-4c96715dbc77\",\"type\":\"WheelZoomTool\"},{\"attributes\":{\"bottom_units\":\"screen\",\"fill_alpha\":{\"value\":0.5},\"fill_color\":{\"value\":\"lightgrey\"},\"left_units\":\"screen\",\"level\":\"overlay\",\"line_alpha\":{\"value\":1.0},\"line_color\":{\"value\":\"black\"},\"line_dash\":[4,4],\"line_width\":{\"value\":2},\"plot\":null,\"render_mode\":\"css\",\"right_units\":\"screen\",\"top_units\":\"screen\"},\"id\":\"913e8e43-c19b-48b4-bb54-b00697758d27\",\"type\":\"BoxAnnotation\"},{\"attributes\":{\"dimension\":1,\"plot\":{\"id\":\"3ac742ed-7bef-4882-9fc1-15fcdf933118\",\"subtype\":\"Figure\",\"type\":\"Plot\"},\"ticker\":{\"id\":\"9e89696a-38ee-4adb-9b7d-52eeb025ac29\",\"type\":\"BasicTicker\"}},\"id\":\"35a75159-a146-46ec-93d0-6a270a0ff070\",\"type\":\"Grid\"},{\"attributes\":{\"data_source\":{\"id\":\"c1937100-2751-4170-9fd1-f3f54aadbfc3\",\"type\":\"ColumnDataSource\"},\"glyph\":{\"id\":\"bfdb3838-2ad5-41a3-ba5c-7aba044da903\",\"type\":\"Circle\"},\"hover_glyph\":null,\"muted_glyph\":null,\"nonselection_glyph\":{\"id\":\"36528906-6831-4e24-8019-d1e2e5fe6c0f\",\"type\":\"Circle\"},\"selection_glyph\":null,\"view\":{\"id\":\"31338b7a-6151-4ffe-994f-69ac58bbbc25\",\"type\":\"CDSView\"}},\"id\":\"f829cd86-4970-4c4c-a610-fe0777ac6bd9\",\"type\":\"GlyphRenderer\"},{\"attributes\":{\"callback\":null},\"id\":\"ac732a5f-bee7-4407-9d28-e4dfd66126f9\",\"type\":\"DataRange1d\"},{\"attributes\":{\"callback\":null,\"data\":{\"x\":{\"__ndarray__\":\"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\",\"dtype\":\"float64\",\"shape\":[495]},\"y\":{\"__ndarray__\":\"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\",\"dtype\":\"float64\",\"shape\":[495]}},\"selected\":{\"id\":\"facec60b-fc10-4bb6-9c92-57df6ed635f0\",\"type\":\"Selection\"},\"selection_policy\":{\"id\":\"352d338b-da42-47c9-aa2c-dc3e2b6f8043\",\"type\":\"UnionRenderers\"}},\"id\":\"16e33cba-9700-42fa-9c53-0f1ce7069d3e\",\"type\":\"ColumnDataSource\"},{\"attributes\":{},\"id\":\"352d338b-da42-47c9-aa2c-dc3e2b6f8043\",\"type\":\"UnionRenderers\"},{\"attributes\":{},\"id\":\"a2de2705-a63c-497c-8f7c-5580b5a1f40e\",\"type\":\"SaveTool\"},{\"attributes\":{\"fill_color\":{\"field\":\"k\"},\"line_color\":{\"field\":\"k\"},\"size\":{\"units\":\"screen\",\"value\":10},\"x\":{\"field\":\"x\"},\"y\":{\"field\":\"y\"}},\"id\":\"bfdb3838-2ad5-41a3-ba5c-7aba044da903\",\"type\":\"Circle\"},{\"attributes\":{},\"id\":\"608326ae-7a56-4852-9c70-0e6f8ffcf642\",\"type\":\"BasicTickFormatter\"},{\"attributes\":{\"fill_alpha\":{\"value\":0.1},\"fill_color\":{\"value\":\"#1f77b4\"},\"line_alpha\":{\"value\":0.1},\"line_color\":{\"value\":\"#1f77b4\"},\"size\":{\"units\":\"screen\",\"value\":10},\"x\":{\"field\":\"x\"},\"y\":{\"field\":\"y\"}},\"id\":\"36528906-6831-4e24-8019-d1e2e5fe6c0f\",\"type\":\"Circle\"},{\"attributes\":{\"callback\":null,\"renderers\":\"auto\",\"tooltips\":[[\"time\",\"@x\"],[\"Closing Price\",\"@y\"]]},\"id\":\"28d3557e-ef26-47a0-b0ac-b2c625fee7f6\",\"type\":\"HoverTool\"},{\"attributes\":{},\"id\":\"435adc08-322a-4bb1-a66a-2060e4b8ace7\",\"type\":\"LinearScale\"},{\"attributes\":{\"overlay\":{\"id\":\"913e8e43-c19b-48b4-bb54-b00697758d27\",\"type\":\"BoxAnnotation\"}},\"id\":\"9b1af2e9-6317-47af-a22b-c3dfe2f8db1f\",\"type\":\"BoxZoomTool\"},{\"attributes\":{\"callback\":null},\"id\":\"df21e128-e102-42c8-8a5f-79fb13bd62cf\",\"type\":\"DataRange1d\"},{\"attributes\":{\"source\":{\"id\":\"c1937100-2751-4170-9fd1-f3f54aadbfc3\",\"type\":\"ColumnDataSource\"}},\"id\":\"31338b7a-6151-4ffe-994f-69ac58bbbc25\",\"type\":\"CDSView\"},{\"attributes\":{},\"id\":\"2c52f57a-d128-47b7-9a58-68b6d03b1b27\",\"type\":\"BasicTickFormatter\"},{\"attributes\":{\"active_drag\":\"auto\",\"active_inspect\":\"auto\",\"active_multi\":null,\"active_scroll\":\"auto\",\"active_tap\":\"auto\",\"tools\":[{\"id\":\"a2de2705-a63c-497c-8f7c-5580b5a1f40e\",\"type\":\"SaveTool\"},{\"id\":\"5eb1e93e-29cf-4d34-95cd-0e4de04b6962\",\"type\":\"PanTool\"},{\"id\":\"9b1af2e9-6317-47af-a22b-c3dfe2f8db1f\",\"type\":\"BoxZoomTool\"},{\"id\":\"07bdfb98-46d7-4e88-88f2-4d3b4ed20162\",\"type\":\"ResetTool\"},{\"id\":\"b792ed48-86a6-4183-8a77-4c96715dbc77\",\"type\":\"WheelZoomTool\"},{\"id\":\"28d3557e-ef26-47a0-b0ac-b2c625fee7f6\",\"type\":\"HoverTool\"}]},\"id\":\"dcbd15f2-eda9-4cb5-ab69-de5274339ba3\",\"type\":\"Toolbar\"},{\"attributes\":{\"axis_label\":\"Time\",\"formatter\":{\"id\":\"608326ae-7a56-4852-9c70-0e6f8ffcf642\",\"type\":\"BasicTickFormatter\"},\"plot\":{\"id\":\"3ac742ed-7bef-4882-9fc1-15fcdf933118\",\"subtype\":\"Figure\",\"type\":\"Plot\"},\"ticker\":{\"id\":\"43c2fe63-6713-4cce-943f-319e9c48682f\",\"type\":\"BasicTicker\"}},\"id\":\"3d8ec6bc-8461-4e8a-a417-6b24d2388524\",\"type\":\"LinearAxis\"},{\"attributes\":{\"data_source\":{\"id\":\"16e33cba-9700-42fa-9c53-0f1ce7069d3e\",\"type\":\"ColumnDataSource\"},\"glyph\":{\"id\":\"d4e043a6-2b47-45b0-b7c2-1ffa74b286a8\",\"type\":\"Line\"},\"hover_glyph\":null,\"muted_glyph\":null,\"nonselection_glyph\":{\"id\":\"03dd8090-3afa-4bd4-9dcd-008c2754f32b\",\"type\":\"Line\"},\"selection_glyph\":null,\"view\":{\"id\":\"68a8748b-65e9-4e4f-9f57-2ed9c5425d9d\",\"type\":\"CDSView\"}},\"id\":\"e450418b-ee56-4a74-ad3d-dadf7c3d7929\",\"type\":\"GlyphRenderer\"},{\"attributes\":{},\"id\":\"9e89696a-38ee-4adb-9b7d-52eeb025ac29\",\"type\":\"BasicTicker\"},{\"attributes\":{},\"id\":\"43c2fe63-6713-4cce-943f-319e9c48682f\",\"type\":\"BasicTicker\"},{\"attributes\":{},\"id\":\"5eb1e93e-29cf-4d34-95cd-0e4de04b6962\",\"type\":\"PanTool\"},{\"attributes\":{\"line_color\":\"blue\",\"line_width\":3,\"x\":{\"field\":\"x\"},\"y\":{\"field\":\"y\"}},\"id\":\"d4e043a6-2b47-45b0-b7c2-1ffa74b286a8\",\"type\":\"Line\"},{\"attributes\":{\"line_alpha\":0.1,\"line_color\":\"#1f77b4\",\"line_width\":3,\"x\":{\"field\":\"x\"},\"y\":{\"field\":\"y\"}},\"id\":\"03dd8090-3afa-4bd4-9dcd-008c2754f32b\",\"type\":\"Line\"},{\"attributes\":{\"plot\":{\"id\":\"3ac742ed-7bef-4882-9fc1-15fcdf933118\",\"subtype\":\"Figure\",\"type\":\"Plot\"},\"ticker\":{\"id\":\"43c2fe63-6713-4cce-943f-319e9c48682f\",\"type\":\"BasicTicker\"}},\"id\":\"b1e7efa9-742b-482d-a05e-d779f645129c\",\"type\":\"Grid\"}],\"root_ids\":[\"3ac742ed-7bef-4882-9fc1-15fcdf933118\"]},\"title\":\"Bokeh Application\",\"version\":\"0.13.0\"}};\n",
       "  var render_items = [{\"docid\":\"94da908f-72df-458c-b1bb-15c33d173394\",\"roots\":{\"3ac742ed-7bef-4882-9fc1-15fcdf933118\":\"f5c5ef4d-5181-4b40-a2cd-5efcbdc13f52\"}}];\n",
       "  root.Bokeh.embed.embed_items_notebook(docs_json, render_items);\n",
       "\n",
       "  }\n",
       "  if (root.Bokeh !== undefined) {\n",
       "    embed_document(root);\n",
       "  } else {\n",
       "    var attempts = 0;\n",
       "    var timer = setInterval(function(root) {\n",
       "      if (root.Bokeh !== undefined) {\n",
       "        embed_document(root);\n",
       "        clearInterval(timer);\n",
       "      }\n",
       "      attempts++;\n",
       "      if (attempts > 100) {\n",
       "        console.log(\"Bokeh: ERROR: Unable to run BokehJS code because BokehJS library is missing\")\n",
       "        clearInterval(timer);\n",
       "      }\n",
       "    }, 10, root)\n",
       "  }\n",
       "})(window);"
      ],
      "application/vnd.bokehjs_exec.v0+json": ""
     },
     "metadata": {
      "application/vnd.bokehjs_exec.v0+json": {
       "id": "3ac742ed-7bef-4882-9fc1-15fcdf933118"
      }
     },
     "output_type": "display_data"
    },
    {
     "name": "stderr",
     "output_type": "stream",
     "text": [
      "ERROR:bokeh.core.validation.check:E-1001 (BAD_COLUMN_NAME): Glyph refers to nonexistent column name: k [renderer: GlyphRenderer(id='036f0949-a089-4de0-8f33-f4636db3e6e1', ...)]\n",
      "ERROR:bokeh.core.validation.check:E-1001 (BAD_COLUMN_NAME): Glyph refers to nonexistent column name: k [renderer: GlyphRenderer(id='7dde578f-36c0-496d-847a-327e75827b2b', ...)]\n",
      "ERROR:bokeh.core.validation.check:E-1001 (BAD_COLUMN_NAME): Glyph refers to nonexistent column name: k [renderer: GlyphRenderer(id='b0c4e087-d062-4f9a-a442-20fdf66eff7a', ...)]\n",
      "ERROR:bokeh.core.validation.check:E-1001 (BAD_COLUMN_NAME): Glyph refers to nonexistent column name: k [renderer: GlyphRenderer(id='8a332173-ff19-4fc7-a301-1388d640c612', ...)]\n",
      "ERROR:bokeh.core.validation.check:E-1001 (BAD_COLUMN_NAME): Glyph refers to nonexistent column name: k [renderer: GlyphRenderer(id='0dccaf0e-b525-4386-9b88-986f8212ef5f', ...)]\n",
      "ERROR:bokeh.core.validation.check:E-1001 (BAD_COLUMN_NAME): Glyph refers to nonexistent column name: k [renderer: GlyphRenderer(id='fd9303ac-9184-43ad-9402-01e31349256b', ...)]\n",
      "ERROR:bokeh.core.validation.check:E-1001 (BAD_COLUMN_NAME): Glyph refers to nonexistent column name: k [renderer: GlyphRenderer(id='7111a5ad-da32-4c10-ba14-b35ec34cd25f', ...)]\n",
      "ERROR:bokeh.core.validation.check:E-1001 (BAD_COLUMN_NAME): Glyph refers to nonexistent column name: k [renderer: GlyphRenderer(id='e7872765-6722-4490-993a-bace488f5645', ...)]\n",
      "ERROR:bokeh.core.validation.check:E-1001 (BAD_COLUMN_NAME): Glyph refers to nonexistent column name: k [renderer: GlyphRenderer(id='30ea4dc2-61b3-4d9f-9494-bb9ad6b0b40e', ...)]\n",
      "ERROR:bokeh.core.validation.check:E-1001 (BAD_COLUMN_NAME): Glyph refers to nonexistent column name: k [renderer: GlyphRenderer(id='d8e4e8cd-5ebc-40c9-af8c-11a467bcff12', ...)]\n",
      "ERROR:bokeh.core.validation.check:E-1001 (BAD_COLUMN_NAME): Glyph refers to nonexistent column name: k [renderer: GlyphRenderer(id='977410a2-76d5-43db-b414-c9b34734989b', ...)]\n",
      "ERROR:bokeh.core.validation.check:E-1001 (BAD_COLUMN_NAME): Glyph refers to nonexistent column name: k [renderer: GlyphRenderer(id='7fd698a6-ef70-404c-85c4-e7a8c1b8145d', ...)]\n",
      "ERROR:bokeh.core.validation.check:E-1001 (BAD_COLUMN_NAME): Glyph refers to nonexistent column name: k [renderer: GlyphRenderer(id='10607909-3c3e-47c5-a9ac-891777942f5b', ...)]\n",
      "ERROR:bokeh.core.validation.check:E-1001 (BAD_COLUMN_NAME): Glyph refers to nonexistent column name: k [renderer: GlyphRenderer(id='634b86db-5052-4079-bd9f-9bb5d158f9c2', ...)]\n",
      "ERROR:bokeh.core.validation.check:E-1001 (BAD_COLUMN_NAME): Glyph refers to nonexistent column name: k [renderer: GlyphRenderer(id='6acee8bb-3862-4832-a12a-927b1b787134', ...)]\n",
      "ERROR:bokeh.core.validation.check:E-1001 (BAD_COLUMN_NAME): Glyph refers to nonexistent column name: k [renderer: GlyphRenderer(id='aa7c9a84-0b00-45fa-aeb5-3cd6910af35a', ...)]\n",
      "ERROR:bokeh.core.validation.check:E-1001 (BAD_COLUMN_NAME): Glyph refers to nonexistent column name: k [renderer: GlyphRenderer(id='bebdc8ca-8b54-46f6-99a8-663f2c59c346', ...)]\n",
      "ERROR:bokeh.core.validation.check:E-1001 (BAD_COLUMN_NAME): Glyph refers to nonexistent column name: k [renderer: GlyphRenderer(id='35dabc7f-38f4-4fe6-afd7-c251d7702dc7', ...)]\n",
      "ERROR:bokeh.core.validation.check:E-1001 (BAD_COLUMN_NAME): Glyph refers to nonexistent column name: k [renderer: GlyphRenderer(id='ec14446c-7cfe-4957-b070-88aa5ddc8bdf', ...)]\n",
      "ERROR:bokeh.core.validation.check:E-1001 (BAD_COLUMN_NAME): Glyph refers to nonexistent column name: k [renderer: GlyphRenderer(id='17f9ec26-21c3-4008-8dc7-7d683c008fe1', ...)]\n",
      "ERROR:bokeh.core.validation.check:E-1001 (BAD_COLUMN_NAME): Glyph refers to nonexistent column name: k [renderer: GlyphRenderer(id='568e632d-c107-49d7-a99c-e7f9c41364f0', ...)]\n",
      "ERROR:bokeh.core.validation.check:E-1001 (BAD_COLUMN_NAME): Glyph refers to nonexistent column name: k [renderer: GlyphRenderer(id='c57398a8-4918-4b3c-b6a5-c65a253e5d27', ...)]\n",
      "ERROR:bokeh.core.validation.check:E-1001 (BAD_COLUMN_NAME): Glyph refers to nonexistent column name: k [renderer: GlyphRenderer(id='8235250c-ae7e-48c0-a41c-88609029d0be', ...)]\n",
      "ERROR:bokeh.core.validation.check:E-1001 (BAD_COLUMN_NAME): Glyph refers to nonexistent column name: k [renderer: GlyphRenderer(id='7967b316-4ec3-4a40-82be-552333458fdf', ...)]\n",
      "ERROR:bokeh.core.validation.check:E-1001 (BAD_COLUMN_NAME): Glyph refers to nonexistent column name: k [renderer: GlyphRenderer(id='f829cd86-4970-4c4c-a610-fe0777ac6bd9', ...)]\n"
     ]
    }
   ],
   "source": [
    "bokeh_plotting(nifty_IT)"
   ]
  },
  {
   "cell_type": "markdown",
   "metadata": {},
   "source": [
    "### Autocorrelation Plot"
   ]
  },
  {
   "cell_type": "code",
   "execution_count": 274,
   "metadata": {},
   "outputs": [],
   "source": [
    "from statsmodels.tsa.stattools import acf, pacf\n",
    "\n",
    "def draw_pacf(df):\n",
    "    \n",
    "    lags = 50\n",
    "\n",
    "    x = list(range(lags))\n",
    "\n",
    "    p = figure(plot_height=500, title=\"Partial Autocorrelation PLot {}\" .format(df.name))\n",
    "\n",
    "    partial_autocorr = pacf(df.Close, nlags=lags)\n",
    "    p.vbar(x=x, top=partial_autocorr, width=0.9)\n",
    "    show(p)"
   ]
  },
  {
   "cell_type": "code",
   "execution_count": 275,
   "metadata": {},
   "outputs": [
    {
     "data": {
      "text/html": [
       "\n",
       "\n",
       "\n",
       "\n",
       "\n",
       "\n",
       "  <div class=\"bk-root\" id=\"253a151b-812d-4437-ae78-0aa1e8739151\"></div>\n"
      ]
     },
     "metadata": {},
     "output_type": "display_data"
    },
    {
     "data": {
      "application/javascript": [
       "(function(root) {\n",
       "  function embed_document(root) {\n",
       "    \n",
       "  var docs_json = {\"2d1fe767-5c05-484b-8f0a-9375958b51b7\":{\"roots\":{\"references\":[{\"attributes\":{\"source\":{\"id\":\"224b4f8d-eb2b-4a1a-a74f-a5d53fc9fa86\",\"type\":\"ColumnDataSource\"}},\"id\":\"ba7882a8-d19e-4b26-b933-06f403191f71\",\"type\":\"CDSView\"},{\"attributes\":{\"dimension\":1,\"plot\":{\"id\":\"33773d86-eea0-4b0d-a286-27b07839033a\",\"subtype\":\"Figure\",\"type\":\"Plot\"},\"ticker\":{\"id\":\"e66506c6-76dd-4b5f-8636-321f5150f279\",\"type\":\"BasicTicker\"}},\"id\":\"6bc0ba67-e972-4daf-914a-a7aeb1276a56\",\"type\":\"Grid\"},{\"attributes\":{\"below\":[{\"id\":\"0916e6f4-0b06-465d-8876-ce16b5c67488\",\"type\":\"LinearAxis\"}],\"left\":[{\"id\":\"336dd2b8-a704-4346-8535-dc28b0b7a7c7\",\"type\":\"LinearAxis\"}],\"plot_height\":500,\"renderers\":[{\"id\":\"0916e6f4-0b06-465d-8876-ce16b5c67488\",\"type\":\"LinearAxis\"},{\"id\":\"9ea8c30d-336b-4b54-97b9-775a132eda50\",\"type\":\"Grid\"},{\"id\":\"336dd2b8-a704-4346-8535-dc28b0b7a7c7\",\"type\":\"LinearAxis\"},{\"id\":\"6bc0ba67-e972-4daf-914a-a7aeb1276a56\",\"type\":\"Grid\"},{\"id\":\"765c522f-e41d-477b-a9dc-a2bdd864d78f\",\"type\":\"BoxAnnotation\"},{\"id\":\"c7db2eee-9918-48a4-889d-25bbf71a37d0\",\"type\":\"GlyphRenderer\"}],\"title\":{\"id\":\"4d4dc50e-6e16-401a-bb9d-be77a5b667b7\",\"type\":\"Title\"},\"toolbar\":{\"id\":\"00ec3bf8-3f89-4646-a3ae-74bb8f70b106\",\"type\":\"Toolbar\"},\"x_range\":{\"id\":\"ff3b7987-09db-423a-84b3-291e3a2ecf39\",\"type\":\"DataRange1d\"},\"x_scale\":{\"id\":\"d8eff6e1-420b-448c-9b94-680744975756\",\"type\":\"LinearScale\"},\"y_range\":{\"id\":\"eb8109db-26d5-416e-aecd-35c2c4363085\",\"type\":\"DataRange1d\"},\"y_scale\":{\"id\":\"bca39b74-b960-40df-86c1-7a4fa2ce80dd\",\"type\":\"LinearScale\"}},\"id\":\"33773d86-eea0-4b0d-a286-27b07839033a\",\"subtype\":\"Figure\",\"type\":\"Plot\"},{\"attributes\":{\"plot\":null,\"text\":\"Partial Autocorrelation PLot INFY\"},\"id\":\"4d4dc50e-6e16-401a-bb9d-be77a5b667b7\",\"type\":\"Title\"},{\"attributes\":{},\"id\":\"bdf690df-0832-46a3-8245-dba7a4dc71ed\",\"type\":\"WheelZoomTool\"},{\"attributes\":{\"fill_color\":{\"value\":\"#1f77b4\"},\"line_color\":{\"value\":\"#1f77b4\"},\"top\":{\"field\":\"top\"},\"width\":{\"value\":0.9},\"x\":{\"field\":\"x\"}},\"id\":\"e5dcd5b5-933f-4ba3-a2bd-3e96ce2c7000\",\"type\":\"VBar\"},{\"attributes\":{},\"id\":\"7f1ab1e7-830a-4c96-ab31-8bae081d3bb4\",\"type\":\"Selection\"},{\"attributes\":{\"active_drag\":\"auto\",\"active_inspect\":\"auto\",\"active_multi\":null,\"active_scroll\":\"auto\",\"active_tap\":\"auto\",\"tools\":[{\"id\":\"13f41945-b3d1-4268-b0e5-b45957b6fa4f\",\"type\":\"PanTool\"},{\"id\":\"bdf690df-0832-46a3-8245-dba7a4dc71ed\",\"type\":\"WheelZoomTool\"},{\"id\":\"d1922d01-fbea-4f6c-8c24-8c239f840247\",\"type\":\"BoxZoomTool\"},{\"id\":\"39a4f943-fd29-4d7a-a5da-bfb4464f7b24\",\"type\":\"SaveTool\"},{\"id\":\"48ec9567-74d0-4b2a-8105-e4e1498e560c\",\"type\":\"ResetTool\"},{\"id\":\"0f4a4da5-15b7-4fcb-8d6c-d1ca5f72a087\",\"type\":\"HelpTool\"}]},\"id\":\"00ec3bf8-3f89-4646-a3ae-74bb8f70b106\",\"type\":\"Toolbar\"},{\"attributes\":{\"bottom_units\":\"screen\",\"fill_alpha\":{\"value\":0.5},\"fill_color\":{\"value\":\"lightgrey\"},\"left_units\":\"screen\",\"level\":\"overlay\",\"line_alpha\":{\"value\":1.0},\"line_color\":{\"value\":\"black\"},\"line_dash\":[4,4],\"line_width\":{\"value\":2},\"plot\":null,\"render_mode\":\"css\",\"right_units\":\"screen\",\"top_units\":\"screen\"},\"id\":\"765c522f-e41d-477b-a9dc-a2bdd864d78f\",\"type\":\"BoxAnnotation\"},{\"attributes\":{\"fill_alpha\":{\"value\":0.1},\"fill_color\":{\"value\":\"#1f77b4\"},\"line_alpha\":{\"value\":0.1},\"line_color\":{\"value\":\"#1f77b4\"},\"top\":{\"field\":\"top\"},\"width\":{\"value\":0.9},\"x\":{\"field\":\"x\"}},\"id\":\"1c922926-46e1-4c9d-97a1-091852313725\",\"type\":\"VBar\"},{\"attributes\":{},\"id\":\"dbad9738-177f-42e7-916f-766c728c8874\",\"type\":\"BasicTickFormatter\"},{\"attributes\":{\"callback\":null,\"data\":{\"top\":{\"__ndarray__\":\"AAAAAAAA8D/9CdSpDo3vPy9n/95sJK6//H4jrmTUoz/LqsgRoqigv3Nk+/+fEZm/a1j6FgaCs7/0I1NItSaxPwZ7i8an5q2/USG2GMk2q7/hIt27B02tv8xfC8hXMp2/TglLIbuwdj9odYo8Q4yhP1DDhjAb6aE/gMMO1r1tmT9zZ1CqtWqaP0KR+QHsKqI/yI9XyHFqpD+M9D92l2+nP3c2lKcH5aw/wKrfczFUpL9l0OnK/Nawv3ZEgeCr97K/8UF9l92AlT8f6E5cTya8v0KHRgC7gri/TrHpHbZhvr8AyFLuyMKWv0qsrLA1Ppw/x2C36hPRtD/uNWIpGJGyv2Y9nVY+EcA/demVCSdwuz+1aQJTV+ayP38nrpyQ9YM//jlh0WttsT+jTzJqdFe/Pw5ewHYs65W/Ng5AaSzbub8T0A/6vx+jv9bOSW1ZFIA/VIERmdVwoD8AbNZB7eN+v4CgX6NIiK2/C+NAJB/njD9lJnbS8NiCv9SAMAN1jrO/f+rLHth0oD8UPuD5JDOxvyTzkw+gPKa/\",\"dtype\":\"float64\",\"shape\":[51]},\"x\":[0,1,2,3,4,5,6,7,8,9,10,11,12,13,14,15,16,17,18,19,20,21,22,23,24,25,26,27,28,29,30,31,32,33,34,35,36,37,38,39,40,41,42,43,44,45,46,47,48,49]},\"selected\":{\"id\":\"7f1ab1e7-830a-4c96-ab31-8bae081d3bb4\",\"type\":\"Selection\"},\"selection_policy\":{\"id\":\"8308f1ee-a7f5-44b7-a64a-0926954a05e0\",\"type\":\"UnionRenderers\"}},\"id\":\"224b4f8d-eb2b-4a1a-a74f-a5d53fc9fa86\",\"type\":\"ColumnDataSource\"},{\"attributes\":{},\"id\":\"48ec9567-74d0-4b2a-8105-e4e1498e560c\",\"type\":\"ResetTool\"},{\"attributes\":{},\"id\":\"8308f1ee-a7f5-44b7-a64a-0926954a05e0\",\"type\":\"UnionRenderers\"},{\"attributes\":{\"overlay\":{\"id\":\"765c522f-e41d-477b-a9dc-a2bdd864d78f\",\"type\":\"BoxAnnotation\"}},\"id\":\"d1922d01-fbea-4f6c-8c24-8c239f840247\",\"type\":\"BoxZoomTool\"},{\"attributes\":{},\"id\":\"13f41945-b3d1-4268-b0e5-b45957b6fa4f\",\"type\":\"PanTool\"},{\"attributes\":{},\"id\":\"0f4a4da5-15b7-4fcb-8d6c-d1ca5f72a087\",\"type\":\"HelpTool\"},{\"attributes\":{\"data_source\":{\"id\":\"224b4f8d-eb2b-4a1a-a74f-a5d53fc9fa86\",\"type\":\"ColumnDataSource\"},\"glyph\":{\"id\":\"e5dcd5b5-933f-4ba3-a2bd-3e96ce2c7000\",\"type\":\"VBar\"},\"hover_glyph\":null,\"muted_glyph\":null,\"nonselection_glyph\":{\"id\":\"1c922926-46e1-4c9d-97a1-091852313725\",\"type\":\"VBar\"},\"selection_glyph\":null,\"view\":{\"id\":\"ba7882a8-d19e-4b26-b933-06f403191f71\",\"type\":\"CDSView\"}},\"id\":\"c7db2eee-9918-48a4-889d-25bbf71a37d0\",\"type\":\"GlyphRenderer\"},{\"attributes\":{},\"id\":\"56e2c7c5-3a68-4345-b75c-512dc0977f66\",\"type\":\"BasicTickFormatter\"},{\"attributes\":{\"formatter\":{\"id\":\"56e2c7c5-3a68-4345-b75c-512dc0977f66\",\"type\":\"BasicTickFormatter\"},\"plot\":{\"id\":\"33773d86-eea0-4b0d-a286-27b07839033a\",\"subtype\":\"Figure\",\"type\":\"Plot\"},\"ticker\":{\"id\":\"e66506c6-76dd-4b5f-8636-321f5150f279\",\"type\":\"BasicTicker\"}},\"id\":\"336dd2b8-a704-4346-8535-dc28b0b7a7c7\",\"type\":\"LinearAxis\"},{\"attributes\":{\"plot\":{\"id\":\"33773d86-eea0-4b0d-a286-27b07839033a\",\"subtype\":\"Figure\",\"type\":\"Plot\"},\"ticker\":{\"id\":\"156c15c5-1269-475f-9f9e-9b5949cb66a0\",\"type\":\"BasicTicker\"}},\"id\":\"9ea8c30d-336b-4b54-97b9-775a132eda50\",\"type\":\"Grid\"},{\"attributes\":{},\"id\":\"39a4f943-fd29-4d7a-a5da-bfb4464f7b24\",\"type\":\"SaveTool\"},{\"attributes\":{},\"id\":\"bca39b74-b960-40df-86c1-7a4fa2ce80dd\",\"type\":\"LinearScale\"},{\"attributes\":{},\"id\":\"d8eff6e1-420b-448c-9b94-680744975756\",\"type\":\"LinearScale\"},{\"attributes\":{\"formatter\":{\"id\":\"dbad9738-177f-42e7-916f-766c728c8874\",\"type\":\"BasicTickFormatter\"},\"plot\":{\"id\":\"33773d86-eea0-4b0d-a286-27b07839033a\",\"subtype\":\"Figure\",\"type\":\"Plot\"},\"ticker\":{\"id\":\"156c15c5-1269-475f-9f9e-9b5949cb66a0\",\"type\":\"BasicTicker\"}},\"id\":\"0916e6f4-0b06-465d-8876-ce16b5c67488\",\"type\":\"LinearAxis\"},{\"attributes\":{\"callback\":null},\"id\":\"eb8109db-26d5-416e-aecd-35c2c4363085\",\"type\":\"DataRange1d\"},{\"attributes\":{},\"id\":\"156c15c5-1269-475f-9f9e-9b5949cb66a0\",\"type\":\"BasicTicker\"},{\"attributes\":{\"callback\":null},\"id\":\"ff3b7987-09db-423a-84b3-291e3a2ecf39\",\"type\":\"DataRange1d\"},{\"attributes\":{},\"id\":\"e66506c6-76dd-4b5f-8636-321f5150f279\",\"type\":\"BasicTicker\"}],\"root_ids\":[\"33773d86-eea0-4b0d-a286-27b07839033a\"]},\"title\":\"Bokeh Application\",\"version\":\"0.13.0\"}};\n",
       "  var render_items = [{\"docid\":\"2d1fe767-5c05-484b-8f0a-9375958b51b7\",\"roots\":{\"33773d86-eea0-4b0d-a286-27b07839033a\":\"253a151b-812d-4437-ae78-0aa1e8739151\"}}];\n",
       "  root.Bokeh.embed.embed_items_notebook(docs_json, render_items);\n",
       "\n",
       "  }\n",
       "  if (root.Bokeh !== undefined) {\n",
       "    embed_document(root);\n",
       "  } else {\n",
       "    var attempts = 0;\n",
       "    var timer = setInterval(function(root) {\n",
       "      if (root.Bokeh !== undefined) {\n",
       "        embed_document(root);\n",
       "        clearInterval(timer);\n",
       "      }\n",
       "      attempts++;\n",
       "      if (attempts > 100) {\n",
       "        console.log(\"Bokeh: ERROR: Unable to run BokehJS code because BokehJS library is missing\")\n",
       "        clearInterval(timer);\n",
       "      }\n",
       "    }, 10, root)\n",
       "  }\n",
       "})(window);"
      ],
      "application/vnd.bokehjs_exec.v0+json": ""
     },
     "metadata": {
      "application/vnd.bokehjs_exec.v0+json": {
       "id": "33773d86-eea0-4b0d-a286-27b07839033a"
      }
     },
     "output_type": "display_data"
    },
    {
     "name": "stderr",
     "output_type": "stream",
     "text": [
      "ERROR:bokeh.core.validation.check:E-1001 (BAD_COLUMN_NAME): Glyph refers to nonexistent column name: k [renderer: GlyphRenderer(id='036f0949-a089-4de0-8f33-f4636db3e6e1', ...)]\n",
      "ERROR:bokeh.core.validation.check:E-1001 (BAD_COLUMN_NAME): Glyph refers to nonexistent column name: k [renderer: GlyphRenderer(id='7dde578f-36c0-496d-847a-327e75827b2b', ...)]\n",
      "ERROR:bokeh.core.validation.check:E-1001 (BAD_COLUMN_NAME): Glyph refers to nonexistent column name: k [renderer: GlyphRenderer(id='b0c4e087-d062-4f9a-a442-20fdf66eff7a', ...)]\n",
      "ERROR:bokeh.core.validation.check:E-1001 (BAD_COLUMN_NAME): Glyph refers to nonexistent column name: k [renderer: GlyphRenderer(id='8a332173-ff19-4fc7-a301-1388d640c612', ...)]\n",
      "ERROR:bokeh.core.validation.check:E-1001 (BAD_COLUMN_NAME): Glyph refers to nonexistent column name: k [renderer: GlyphRenderer(id='0dccaf0e-b525-4386-9b88-986f8212ef5f', ...)]\n",
      "ERROR:bokeh.core.validation.check:E-1001 (BAD_COLUMN_NAME): Glyph refers to nonexistent column name: k [renderer: GlyphRenderer(id='fd9303ac-9184-43ad-9402-01e31349256b', ...)]\n",
      "ERROR:bokeh.core.validation.check:E-1001 (BAD_COLUMN_NAME): Glyph refers to nonexistent column name: k [renderer: GlyphRenderer(id='7111a5ad-da32-4c10-ba14-b35ec34cd25f', ...)]\n",
      "ERROR:bokeh.core.validation.check:E-1001 (BAD_COLUMN_NAME): Glyph refers to nonexistent column name: k [renderer: GlyphRenderer(id='e7872765-6722-4490-993a-bace488f5645', ...)]\n",
      "ERROR:bokeh.core.validation.check:E-1001 (BAD_COLUMN_NAME): Glyph refers to nonexistent column name: k [renderer: GlyphRenderer(id='30ea4dc2-61b3-4d9f-9494-bb9ad6b0b40e', ...)]\n",
      "ERROR:bokeh.core.validation.check:E-1001 (BAD_COLUMN_NAME): Glyph refers to nonexistent column name: k [renderer: GlyphRenderer(id='d8e4e8cd-5ebc-40c9-af8c-11a467bcff12', ...)]\n",
      "ERROR:bokeh.core.validation.check:E-1001 (BAD_COLUMN_NAME): Glyph refers to nonexistent column name: k [renderer: GlyphRenderer(id='977410a2-76d5-43db-b414-c9b34734989b', ...)]\n",
      "ERROR:bokeh.core.validation.check:E-1001 (BAD_COLUMN_NAME): Glyph refers to nonexistent column name: k [renderer: GlyphRenderer(id='7fd698a6-ef70-404c-85c4-e7a8c1b8145d', ...)]\n",
      "ERROR:bokeh.core.validation.check:E-1001 (BAD_COLUMN_NAME): Glyph refers to nonexistent column name: k [renderer: GlyphRenderer(id='10607909-3c3e-47c5-a9ac-891777942f5b', ...)]\n",
      "ERROR:bokeh.core.validation.check:E-1001 (BAD_COLUMN_NAME): Glyph refers to nonexistent column name: k [renderer: GlyphRenderer(id='634b86db-5052-4079-bd9f-9bb5d158f9c2', ...)]\n",
      "ERROR:bokeh.core.validation.check:E-1001 (BAD_COLUMN_NAME): Glyph refers to nonexistent column name: k [renderer: GlyphRenderer(id='6acee8bb-3862-4832-a12a-927b1b787134', ...)]\n",
      "ERROR:bokeh.core.validation.check:E-1001 (BAD_COLUMN_NAME): Glyph refers to nonexistent column name: k [renderer: GlyphRenderer(id='aa7c9a84-0b00-45fa-aeb5-3cd6910af35a', ...)]\n",
      "ERROR:bokeh.core.validation.check:E-1001 (BAD_COLUMN_NAME): Glyph refers to nonexistent column name: k [renderer: GlyphRenderer(id='bebdc8ca-8b54-46f6-99a8-663f2c59c346', ...)]\n",
      "ERROR:bokeh.core.validation.check:E-1001 (BAD_COLUMN_NAME): Glyph refers to nonexistent column name: k [renderer: GlyphRenderer(id='35dabc7f-38f4-4fe6-afd7-c251d7702dc7', ...)]\n",
      "ERROR:bokeh.core.validation.check:E-1001 (BAD_COLUMN_NAME): Glyph refers to nonexistent column name: k [renderer: GlyphRenderer(id='ec14446c-7cfe-4957-b070-88aa5ddc8bdf', ...)]\n",
      "ERROR:bokeh.core.validation.check:E-1001 (BAD_COLUMN_NAME): Glyph refers to nonexistent column name: k [renderer: GlyphRenderer(id='17f9ec26-21c3-4008-8dc7-7d683c008fe1', ...)]\n",
      "ERROR:bokeh.core.validation.check:E-1001 (BAD_COLUMN_NAME): Glyph refers to nonexistent column name: k [renderer: GlyphRenderer(id='568e632d-c107-49d7-a99c-e7f9c41364f0', ...)]\n",
      "ERROR:bokeh.core.validation.check:E-1001 (BAD_COLUMN_NAME): Glyph refers to nonexistent column name: k [renderer: GlyphRenderer(id='c57398a8-4918-4b3c-b6a5-c65a253e5d27', ...)]\n",
      "ERROR:bokeh.core.validation.check:E-1001 (BAD_COLUMN_NAME): Glyph refers to nonexistent column name: k [renderer: GlyphRenderer(id='8235250c-ae7e-48c0-a41c-88609029d0be', ...)]\n",
      "ERROR:bokeh.core.validation.check:E-1001 (BAD_COLUMN_NAME): Glyph refers to nonexistent column name: k [renderer: GlyphRenderer(id='7967b316-4ec3-4a40-82be-552333458fdf', ...)]\n",
      "ERROR:bokeh.core.validation.check:E-1001 (BAD_COLUMN_NAME): Glyph refers to nonexistent column name: k [renderer: GlyphRenderer(id='f829cd86-4970-4c4c-a610-fe0777ac6bd9', ...)]\n"
     ]
    },
    {
     "data": {
      "text/html": [
       "\n",
       "\n",
       "\n",
       "\n",
       "\n",
       "\n",
       "  <div class=\"bk-root\" id=\"6db0a24c-8dc9-42b8-97f5-f83cbaf9d12c\"></div>\n"
      ]
     },
     "metadata": {},
     "output_type": "display_data"
    },
    {
     "data": {
      "application/javascript": [
       "(function(root) {\n",
       "  function embed_document(root) {\n",
       "    \n",
       "  var docs_json = {\"6057835b-3d9b-41e8-a89c-e947fbb56f0e\":{\"roots\":{\"references\":[{\"attributes\":{},\"id\":\"3bdce08e-8628-48fc-b077-0b35195d322e\",\"type\":\"BasicTicker\"},{\"attributes\":{},\"id\":\"a0902a93-4d72-4aa3-abf5-9929835522a0\",\"type\":\"Selection\"},{\"attributes\":{},\"id\":\"41c31e51-b619-4936-a9c8-0da36555131a\",\"type\":\"LinearScale\"},{\"attributes\":{\"callback\":null},\"id\":\"e965a153-d4a9-4ca9-bce2-ce10e13d3318\",\"type\":\"DataRange1d\"},{\"attributes\":{},\"id\":\"0ed48b0b-4d34-412a-af74-a7f238714af0\",\"type\":\"BasicTickFormatter\"},{\"attributes\":{},\"id\":\"59140a6a-b1e0-45ee-9a62-94be415edf3c\",\"type\":\"HelpTool\"},{\"attributes\":{\"callback\":null},\"id\":\"96d38b31-d8f0-4082-bc74-5c09152cd9a2\",\"type\":\"DataRange1d\"},{\"attributes\":{\"fill_alpha\":{\"value\":0.1},\"fill_color\":{\"value\":\"#1f77b4\"},\"line_alpha\":{\"value\":0.1},\"line_color\":{\"value\":\"#1f77b4\"},\"top\":{\"field\":\"top\"},\"width\":{\"value\":0.9},\"x\":{\"field\":\"x\"}},\"id\":\"f2703e86-fa04-420a-8806-efc258173428\",\"type\":\"VBar\"},{\"attributes\":{},\"id\":\"2e5fb0f8-b335-45bf-a776-7927841e187b\",\"type\":\"BasicTicker\"},{\"attributes\":{},\"id\":\"76eb90d3-dc75-4abe-85c4-92b90308c993\",\"type\":\"LinearScale\"},{\"attributes\":{},\"id\":\"097aae8e-3e67-479b-933f-e7e30fa6b4e6\",\"type\":\"SaveTool\"},{\"attributes\":{\"plot\":null,\"text\":\"Partial Autocorrelation PLot TCS\"},\"id\":\"d0289d03-766d-4e6e-afb8-595bd02060c5\",\"type\":\"Title\"},{\"attributes\":{},\"id\":\"445d6ceb-aab1-4b9e-8e56-4bff93eb2c3d\",\"type\":\"BasicTickFormatter\"},{\"attributes\":{\"source\":{\"id\":\"f1969f41-a429-4340-a1ef-94ae155486e5\",\"type\":\"ColumnDataSource\"}},\"id\":\"b712f34b-d769-461e-a0a1-ca4fb34ec41f\",\"type\":\"CDSView\"},{\"attributes\":{\"plot\":{\"id\":\"b25cecf6-1605-47bc-ae2a-86448bcb50ba\",\"subtype\":\"Figure\",\"type\":\"Plot\"},\"ticker\":{\"id\":\"3bdce08e-8628-48fc-b077-0b35195d322e\",\"type\":\"BasicTicker\"}},\"id\":\"426fe887-730d-4156-8ea8-57f982b40d60\",\"type\":\"Grid\"},{\"attributes\":{},\"id\":\"6f1a95eb-8134-4f72-b13a-fb31dcba5352\",\"type\":\"UnionRenderers\"},{\"attributes\":{},\"id\":\"b7baef93-52ae-4b64-aed7-84e2a17b3f76\",\"type\":\"ResetTool\"},{\"attributes\":{\"formatter\":{\"id\":\"445d6ceb-aab1-4b9e-8e56-4bff93eb2c3d\",\"type\":\"BasicTickFormatter\"},\"plot\":{\"id\":\"b25cecf6-1605-47bc-ae2a-86448bcb50ba\",\"subtype\":\"Figure\",\"type\":\"Plot\"},\"ticker\":{\"id\":\"3bdce08e-8628-48fc-b077-0b35195d322e\",\"type\":\"BasicTicker\"}},\"id\":\"1109ccb7-ea20-47a3-9ae0-b6f4483b2c5f\",\"type\":\"LinearAxis\"},{\"attributes\":{\"active_drag\":\"auto\",\"active_inspect\":\"auto\",\"active_multi\":null,\"active_scroll\":\"auto\",\"active_tap\":\"auto\",\"tools\":[{\"id\":\"302450f1-c38d-4e14-9278-7df0b9c3ebf6\",\"type\":\"PanTool\"},{\"id\":\"148ec493-5675-4a55-b037-f33d3cf80d40\",\"type\":\"WheelZoomTool\"},{\"id\":\"98c7bf5c-4595-4174-bcd7-2f2900dc7133\",\"type\":\"BoxZoomTool\"},{\"id\":\"097aae8e-3e67-479b-933f-e7e30fa6b4e6\",\"type\":\"SaveTool\"},{\"id\":\"b7baef93-52ae-4b64-aed7-84e2a17b3f76\",\"type\":\"ResetTool\"},{\"id\":\"59140a6a-b1e0-45ee-9a62-94be415edf3c\",\"type\":\"HelpTool\"}]},\"id\":\"6d268599-8382-4182-b40c-384395c39b14\",\"type\":\"Toolbar\"},{\"attributes\":{\"formatter\":{\"id\":\"0ed48b0b-4d34-412a-af74-a7f238714af0\",\"type\":\"BasicTickFormatter\"},\"plot\":{\"id\":\"b25cecf6-1605-47bc-ae2a-86448bcb50ba\",\"subtype\":\"Figure\",\"type\":\"Plot\"},\"ticker\":{\"id\":\"2e5fb0f8-b335-45bf-a776-7927841e187b\",\"type\":\"BasicTicker\"}},\"id\":\"8cff976c-809b-412b-a851-382f14198ae1\",\"type\":\"LinearAxis\"},{\"attributes\":{},\"id\":\"302450f1-c38d-4e14-9278-7df0b9c3ebf6\",\"type\":\"PanTool\"},{\"attributes\":{},\"id\":\"148ec493-5675-4a55-b037-f33d3cf80d40\",\"type\":\"WheelZoomTool\"},{\"attributes\":{\"data_source\":{\"id\":\"f1969f41-a429-4340-a1ef-94ae155486e5\",\"type\":\"ColumnDataSource\"},\"glyph\":{\"id\":\"048158aa-fb44-4718-9700-fe3f00fa41fe\",\"type\":\"VBar\"},\"hover_glyph\":null,\"muted_glyph\":null,\"nonselection_glyph\":{\"id\":\"f2703e86-fa04-420a-8806-efc258173428\",\"type\":\"VBar\"},\"selection_glyph\":null,\"view\":{\"id\":\"b712f34b-d769-461e-a0a1-ca4fb34ec41f\",\"type\":\"CDSView\"}},\"id\":\"13db9f48-a39b-463e-bd45-6c3afe70f3d6\",\"type\":\"GlyphRenderer\"},{\"attributes\":{\"below\":[{\"id\":\"1109ccb7-ea20-47a3-9ae0-b6f4483b2c5f\",\"type\":\"LinearAxis\"}],\"left\":[{\"id\":\"8cff976c-809b-412b-a851-382f14198ae1\",\"type\":\"LinearAxis\"}],\"plot_height\":500,\"renderers\":[{\"id\":\"1109ccb7-ea20-47a3-9ae0-b6f4483b2c5f\",\"type\":\"LinearAxis\"},{\"id\":\"426fe887-730d-4156-8ea8-57f982b40d60\",\"type\":\"Grid\"},{\"id\":\"8cff976c-809b-412b-a851-382f14198ae1\",\"type\":\"LinearAxis\"},{\"id\":\"aeca6d4e-6649-451a-b501-e4806f4885ed\",\"type\":\"Grid\"},{\"id\":\"1eae5d62-82d0-4c6f-b7a0-705c2e5c03d0\",\"type\":\"BoxAnnotation\"},{\"id\":\"13db9f48-a39b-463e-bd45-6c3afe70f3d6\",\"type\":\"GlyphRenderer\"}],\"title\":{\"id\":\"d0289d03-766d-4e6e-afb8-595bd02060c5\",\"type\":\"Title\"},\"toolbar\":{\"id\":\"6d268599-8382-4182-b40c-384395c39b14\",\"type\":\"Toolbar\"},\"x_range\":{\"id\":\"e965a153-d4a9-4ca9-bce2-ce10e13d3318\",\"type\":\"DataRange1d\"},\"x_scale\":{\"id\":\"76eb90d3-dc75-4abe-85c4-92b90308c993\",\"type\":\"LinearScale\"},\"y_range\":{\"id\":\"96d38b31-d8f0-4082-bc74-5c09152cd9a2\",\"type\":\"DataRange1d\"},\"y_scale\":{\"id\":\"41c31e51-b619-4936-a9c8-0da36555131a\",\"type\":\"LinearScale\"}},\"id\":\"b25cecf6-1605-47bc-ae2a-86448bcb50ba\",\"subtype\":\"Figure\",\"type\":\"Plot\"},{\"attributes\":{\"bottom_units\":\"screen\",\"fill_alpha\":{\"value\":0.5},\"fill_color\":{\"value\":\"lightgrey\"},\"left_units\":\"screen\",\"level\":\"overlay\",\"line_alpha\":{\"value\":1.0},\"line_color\":{\"value\":\"black\"},\"line_dash\":[4,4],\"line_width\":{\"value\":2},\"plot\":null,\"render_mode\":\"css\",\"right_units\":\"screen\",\"top_units\":\"screen\"},\"id\":\"1eae5d62-82d0-4c6f-b7a0-705c2e5c03d0\",\"type\":\"BoxAnnotation\"},{\"attributes\":{\"callback\":null,\"data\":{\"top\":{\"__ndarray__\":\"AAAAAAAA8D+HMLzWDfbuPxVQBJcX4ry/SwJ9M3Rspb9YIF3+nheRPzSMSMggILw/j1MxtSIXaT/q9GBjNeS2P+EGpxnXnHo/dNAkv+lIZT/PB0i60Zihv9Ooy1F4qp4/VNv9YSssj7+3SrJAB/W0vwPoxiiI6Jo/V3lZh04vYL8RpcscM+ylv8ooNr6HULg/0QkWkdHClL9QVH6VxviwP3KNhHEKbIY/Pozp03ikkb8sHlFdCAWRP3t4KATrnIE/pHpg1GlmjL+G1dCD5oi0vw+B6R/T148/mlf3FATOpD9RP8XZ2dGSPxz3XzY1LrE/Jsx+MBBxUb+XAkDPGWKov1aMKHa1iow/dJ/O+TIKn79hjuMLTfOFv1BenE6tCKu/FR4MG/Enbz/0IrQdb9mov1FNYlOHiZA/a2jGiMq3jL/BpHjIbuKRP8j1wsYfEIi/PxBZGtmsoD8B7sza9q2ovzzci8G4tpI/smY1OKtqp78g6bgTckCZP0mjy1G1FLe/WHi0LR+dtj8r47SCd9qYP3TNmfO/VaK/\",\"dtype\":\"float64\",\"shape\":[51]},\"x\":[0,1,2,3,4,5,6,7,8,9,10,11,12,13,14,15,16,17,18,19,20,21,22,23,24,25,26,27,28,29,30,31,32,33,34,35,36,37,38,39,40,41,42,43,44,45,46,47,48,49]},\"selected\":{\"id\":\"a0902a93-4d72-4aa3-abf5-9929835522a0\",\"type\":\"Selection\"},\"selection_policy\":{\"id\":\"6f1a95eb-8134-4f72-b13a-fb31dcba5352\",\"type\":\"UnionRenderers\"}},\"id\":\"f1969f41-a429-4340-a1ef-94ae155486e5\",\"type\":\"ColumnDataSource\"},{\"attributes\":{\"dimension\":1,\"plot\":{\"id\":\"b25cecf6-1605-47bc-ae2a-86448bcb50ba\",\"subtype\":\"Figure\",\"type\":\"Plot\"},\"ticker\":{\"id\":\"2e5fb0f8-b335-45bf-a776-7927841e187b\",\"type\":\"BasicTicker\"}},\"id\":\"aeca6d4e-6649-451a-b501-e4806f4885ed\",\"type\":\"Grid\"},{\"attributes\":{\"overlay\":{\"id\":\"1eae5d62-82d0-4c6f-b7a0-705c2e5c03d0\",\"type\":\"BoxAnnotation\"}},\"id\":\"98c7bf5c-4595-4174-bcd7-2f2900dc7133\",\"type\":\"BoxZoomTool\"},{\"attributes\":{\"fill_color\":{\"value\":\"#1f77b4\"},\"line_color\":{\"value\":\"#1f77b4\"},\"top\":{\"field\":\"top\"},\"width\":{\"value\":0.9},\"x\":{\"field\":\"x\"}},\"id\":\"048158aa-fb44-4718-9700-fe3f00fa41fe\",\"type\":\"VBar\"}],\"root_ids\":[\"b25cecf6-1605-47bc-ae2a-86448bcb50ba\"]},\"title\":\"Bokeh Application\",\"version\":\"0.13.0\"}};\n",
       "  var render_items = [{\"docid\":\"6057835b-3d9b-41e8-a89c-e947fbb56f0e\",\"roots\":{\"b25cecf6-1605-47bc-ae2a-86448bcb50ba\":\"6db0a24c-8dc9-42b8-97f5-f83cbaf9d12c\"}}];\n",
       "  root.Bokeh.embed.embed_items_notebook(docs_json, render_items);\n",
       "\n",
       "  }\n",
       "  if (root.Bokeh !== undefined) {\n",
       "    embed_document(root);\n",
       "  } else {\n",
       "    var attempts = 0;\n",
       "    var timer = setInterval(function(root) {\n",
       "      if (root.Bokeh !== undefined) {\n",
       "        embed_document(root);\n",
       "        clearInterval(timer);\n",
       "      }\n",
       "      attempts++;\n",
       "      if (attempts > 100) {\n",
       "        console.log(\"Bokeh: ERROR: Unable to run BokehJS code because BokehJS library is missing\")\n",
       "        clearInterval(timer);\n",
       "      }\n",
       "    }, 10, root)\n",
       "  }\n",
       "})(window);"
      ],
      "application/vnd.bokehjs_exec.v0+json": ""
     },
     "metadata": {
      "application/vnd.bokehjs_exec.v0+json": {
       "id": "b25cecf6-1605-47bc-ae2a-86448bcb50ba"
      }
     },
     "output_type": "display_data"
    },
    {
     "name": "stderr",
     "output_type": "stream",
     "text": [
      "ERROR:bokeh.core.validation.check:E-1001 (BAD_COLUMN_NAME): Glyph refers to nonexistent column name: k [renderer: GlyphRenderer(id='036f0949-a089-4de0-8f33-f4636db3e6e1', ...)]\n",
      "ERROR:bokeh.core.validation.check:E-1001 (BAD_COLUMN_NAME): Glyph refers to nonexistent column name: k [renderer: GlyphRenderer(id='7dde578f-36c0-496d-847a-327e75827b2b', ...)]\n",
      "ERROR:bokeh.core.validation.check:E-1001 (BAD_COLUMN_NAME): Glyph refers to nonexistent column name: k [renderer: GlyphRenderer(id='b0c4e087-d062-4f9a-a442-20fdf66eff7a', ...)]\n",
      "ERROR:bokeh.core.validation.check:E-1001 (BAD_COLUMN_NAME): Glyph refers to nonexistent column name: k [renderer: GlyphRenderer(id='8a332173-ff19-4fc7-a301-1388d640c612', ...)]\n",
      "ERROR:bokeh.core.validation.check:E-1001 (BAD_COLUMN_NAME): Glyph refers to nonexistent column name: k [renderer: GlyphRenderer(id='0dccaf0e-b525-4386-9b88-986f8212ef5f', ...)]\n",
      "ERROR:bokeh.core.validation.check:E-1001 (BAD_COLUMN_NAME): Glyph refers to nonexistent column name: k [renderer: GlyphRenderer(id='fd9303ac-9184-43ad-9402-01e31349256b', ...)]\n",
      "ERROR:bokeh.core.validation.check:E-1001 (BAD_COLUMN_NAME): Glyph refers to nonexistent column name: k [renderer: GlyphRenderer(id='7111a5ad-da32-4c10-ba14-b35ec34cd25f', ...)]\n",
      "ERROR:bokeh.core.validation.check:E-1001 (BAD_COLUMN_NAME): Glyph refers to nonexistent column name: k [renderer: GlyphRenderer(id='e7872765-6722-4490-993a-bace488f5645', ...)]\n",
      "ERROR:bokeh.core.validation.check:E-1001 (BAD_COLUMN_NAME): Glyph refers to nonexistent column name: k [renderer: GlyphRenderer(id='30ea4dc2-61b3-4d9f-9494-bb9ad6b0b40e', ...)]\n",
      "ERROR:bokeh.core.validation.check:E-1001 (BAD_COLUMN_NAME): Glyph refers to nonexistent column name: k [renderer: GlyphRenderer(id='d8e4e8cd-5ebc-40c9-af8c-11a467bcff12', ...)]\n",
      "ERROR:bokeh.core.validation.check:E-1001 (BAD_COLUMN_NAME): Glyph refers to nonexistent column name: k [renderer: GlyphRenderer(id='977410a2-76d5-43db-b414-c9b34734989b', ...)]\n",
      "ERROR:bokeh.core.validation.check:E-1001 (BAD_COLUMN_NAME): Glyph refers to nonexistent column name: k [renderer: GlyphRenderer(id='7fd698a6-ef70-404c-85c4-e7a8c1b8145d', ...)]\n",
      "ERROR:bokeh.core.validation.check:E-1001 (BAD_COLUMN_NAME): Glyph refers to nonexistent column name: k [renderer: GlyphRenderer(id='10607909-3c3e-47c5-a9ac-891777942f5b', ...)]\n",
      "ERROR:bokeh.core.validation.check:E-1001 (BAD_COLUMN_NAME): Glyph refers to nonexistent column name: k [renderer: GlyphRenderer(id='634b86db-5052-4079-bd9f-9bb5d158f9c2', ...)]\n",
      "ERROR:bokeh.core.validation.check:E-1001 (BAD_COLUMN_NAME): Glyph refers to nonexistent column name: k [renderer: GlyphRenderer(id='6acee8bb-3862-4832-a12a-927b1b787134', ...)]\n",
      "ERROR:bokeh.core.validation.check:E-1001 (BAD_COLUMN_NAME): Glyph refers to nonexistent column name: k [renderer: GlyphRenderer(id='aa7c9a84-0b00-45fa-aeb5-3cd6910af35a', ...)]\n",
      "ERROR:bokeh.core.validation.check:E-1001 (BAD_COLUMN_NAME): Glyph refers to nonexistent column name: k [renderer: GlyphRenderer(id='bebdc8ca-8b54-46f6-99a8-663f2c59c346', ...)]\n",
      "ERROR:bokeh.core.validation.check:E-1001 (BAD_COLUMN_NAME): Glyph refers to nonexistent column name: k [renderer: GlyphRenderer(id='35dabc7f-38f4-4fe6-afd7-c251d7702dc7', ...)]\n",
      "ERROR:bokeh.core.validation.check:E-1001 (BAD_COLUMN_NAME): Glyph refers to nonexistent column name: k [renderer: GlyphRenderer(id='ec14446c-7cfe-4957-b070-88aa5ddc8bdf', ...)]\n",
      "ERROR:bokeh.core.validation.check:E-1001 (BAD_COLUMN_NAME): Glyph refers to nonexistent column name: k [renderer: GlyphRenderer(id='17f9ec26-21c3-4008-8dc7-7d683c008fe1', ...)]\n",
      "ERROR:bokeh.core.validation.check:E-1001 (BAD_COLUMN_NAME): Glyph refers to nonexistent column name: k [renderer: GlyphRenderer(id='568e632d-c107-49d7-a99c-e7f9c41364f0', ...)]\n",
      "ERROR:bokeh.core.validation.check:E-1001 (BAD_COLUMN_NAME): Glyph refers to nonexistent column name: k [renderer: GlyphRenderer(id='c57398a8-4918-4b3c-b6a5-c65a253e5d27', ...)]\n",
      "ERROR:bokeh.core.validation.check:E-1001 (BAD_COLUMN_NAME): Glyph refers to nonexistent column name: k [renderer: GlyphRenderer(id='8235250c-ae7e-48c0-a41c-88609029d0be', ...)]\n",
      "ERROR:bokeh.core.validation.check:E-1001 (BAD_COLUMN_NAME): Glyph refers to nonexistent column name: k [renderer: GlyphRenderer(id='7967b316-4ec3-4a40-82be-552333458fdf', ...)]\n",
      "ERROR:bokeh.core.validation.check:E-1001 (BAD_COLUMN_NAME): Glyph refers to nonexistent column name: k [renderer: GlyphRenderer(id='f829cd86-4970-4c4c-a610-fe0777ac6bd9', ...)]\n"
     ]
    },
    {
     "data": {
      "text/html": [
       "\n",
       "\n",
       "\n",
       "\n",
       "\n",
       "\n",
       "  <div class=\"bk-root\" id=\"8481ee11-8d76-40a3-834f-fef44c736e46\"></div>\n"
      ]
     },
     "metadata": {},
     "output_type": "display_data"
    },
    {
     "data": {
      "application/javascript": [
       "(function(root) {\n",
       "  function embed_document(root) {\n",
       "    \n",
       "  var docs_json = {\"2c3f167f-3be6-43f8-be01-0570829499c0\":{\"roots\":{\"references\":[{\"attributes\":{\"callback\":null},\"id\":\"5cb3a678-94ab-416c-830b-7089511b227e\",\"type\":\"DataRange1d\"},{\"attributes\":{\"active_drag\":\"auto\",\"active_inspect\":\"auto\",\"active_multi\":null,\"active_scroll\":\"auto\",\"active_tap\":\"auto\",\"tools\":[{\"id\":\"2baca185-8178-49de-a3f7-ebc2a21fb96f\",\"type\":\"PanTool\"},{\"id\":\"5a94d0f6-d523-42de-a8a1-91207226945c\",\"type\":\"WheelZoomTool\"},{\"id\":\"8659fba9-bced-4abd-98a0-dfee7cd719f6\",\"type\":\"BoxZoomTool\"},{\"id\":\"faf3d458-249c-423a-b8f1-21561c7f672d\",\"type\":\"SaveTool\"},{\"id\":\"6cede4cd-061d-4bf1-8f64-806a77088197\",\"type\":\"ResetTool\"},{\"id\":\"87284d9d-f800-43fc-93e2-9b74d753b3d9\",\"type\":\"HelpTool\"}]},\"id\":\"516315ca-87a9-4f4d-ae66-f3e0632dbd50\",\"type\":\"Toolbar\"},{\"attributes\":{\"below\":[{\"id\":\"d33f1ee8-74cc-4e4d-be69-204ac5d27f22\",\"type\":\"LinearAxis\"}],\"left\":[{\"id\":\"0363ae20-95a7-4365-91fb-6cbf0e3029db\",\"type\":\"LinearAxis\"}],\"plot_height\":500,\"renderers\":[{\"id\":\"d33f1ee8-74cc-4e4d-be69-204ac5d27f22\",\"type\":\"LinearAxis\"},{\"id\":\"fd3b0066-d1f6-4c4a-8d5c-33456ee5b5dc\",\"type\":\"Grid\"},{\"id\":\"0363ae20-95a7-4365-91fb-6cbf0e3029db\",\"type\":\"LinearAxis\"},{\"id\":\"ad5cde02-5e11-4b37-b5d9-82820a0dad35\",\"type\":\"Grid\"},{\"id\":\"89900241-486b-4cbd-b870-eb88fe634af3\",\"type\":\"BoxAnnotation\"},{\"id\":\"165bd037-2996-421c-9780-2b246949bd45\",\"type\":\"GlyphRenderer\"}],\"title\":{\"id\":\"aea47520-b5d5-4ae9-924b-2881d3732594\",\"type\":\"Title\"},\"toolbar\":{\"id\":\"516315ca-87a9-4f4d-ae66-f3e0632dbd50\",\"type\":\"Toolbar\"},\"x_range\":{\"id\":\"5cb3a678-94ab-416c-830b-7089511b227e\",\"type\":\"DataRange1d\"},\"x_scale\":{\"id\":\"9d10a2cb-498b-4473-b7b9-f50f7ec05a9e\",\"type\":\"LinearScale\"},\"y_range\":{\"id\":\"e52bc0de-f741-42c8-9aab-8784f48df27e\",\"type\":\"DataRange1d\"},\"y_scale\":{\"id\":\"069a29c1-8fbe-483c-a1c4-5129c4d1e230\",\"type\":\"LinearScale\"}},\"id\":\"3df945f9-b288-43d0-b882-a6658b842804\",\"subtype\":\"Figure\",\"type\":\"Plot\"},{\"attributes\":{},\"id\":\"87284d9d-f800-43fc-93e2-9b74d753b3d9\",\"type\":\"HelpTool\"},{\"attributes\":{\"formatter\":{\"id\":\"29c430b8-c5c8-4af7-ab8c-f1fccf659641\",\"type\":\"BasicTickFormatter\"},\"plot\":{\"id\":\"3df945f9-b288-43d0-b882-a6658b842804\",\"subtype\":\"Figure\",\"type\":\"Plot\"},\"ticker\":{\"id\":\"6dc00353-5825-4799-b850-96b9ef0320aa\",\"type\":\"BasicTicker\"}},\"id\":\"d33f1ee8-74cc-4e4d-be69-204ac5d27f22\",\"type\":\"LinearAxis\"},{\"attributes\":{},\"id\":\"9d10a2cb-498b-4473-b7b9-f50f7ec05a9e\",\"type\":\"LinearScale\"},{\"attributes\":{\"data_source\":{\"id\":\"2e5e1e9b-a79d-4583-92e4-290e85adb232\",\"type\":\"ColumnDataSource\"},\"glyph\":{\"id\":\"500f7a84-7a78-4911-ab18-c696a8844725\",\"type\":\"VBar\"},\"hover_glyph\":null,\"muted_glyph\":null,\"nonselection_glyph\":{\"id\":\"636ba5ad-a50d-4bfe-b299-627c630b13e7\",\"type\":\"VBar\"},\"selection_glyph\":null,\"view\":{\"id\":\"60f0865e-9f38-48e8-9219-e67e4149cd8a\",\"type\":\"CDSView\"}},\"id\":\"165bd037-2996-421c-9780-2b246949bd45\",\"type\":\"GlyphRenderer\"},{\"attributes\":{\"fill_color\":{\"value\":\"#1f77b4\"},\"line_color\":{\"value\":\"#1f77b4\"},\"top\":{\"field\":\"top\"},\"width\":{\"value\":0.9},\"x\":{\"field\":\"x\"}},\"id\":\"500f7a84-7a78-4911-ab18-c696a8844725\",\"type\":\"VBar\"},{\"attributes\":{},\"id\":\"96b255d6-83bc-45b4-a491-1d8b62545b13\",\"type\":\"BasicTicker\"},{\"attributes\":{\"fill_alpha\":{\"value\":0.1},\"fill_color\":{\"value\":\"#1f77b4\"},\"line_alpha\":{\"value\":0.1},\"line_color\":{\"value\":\"#1f77b4\"},\"top\":{\"field\":\"top\"},\"width\":{\"value\":0.9},\"x\":{\"field\":\"x\"}},\"id\":\"636ba5ad-a50d-4bfe-b299-627c630b13e7\",\"type\":\"VBar\"},{\"attributes\":{},\"id\":\"5a94d0f6-d523-42de-a8a1-91207226945c\",\"type\":\"WheelZoomTool\"},{\"attributes\":{},\"id\":\"648a7c31-401a-47dd-8fd4-2ae59cd29b49\",\"type\":\"Selection\"},{\"attributes\":{},\"id\":\"29c430b8-c5c8-4af7-ab8c-f1fccf659641\",\"type\":\"BasicTickFormatter\"},{\"attributes\":{\"bottom_units\":\"screen\",\"fill_alpha\":{\"value\":0.5},\"fill_color\":{\"value\":\"lightgrey\"},\"left_units\":\"screen\",\"level\":\"overlay\",\"line_alpha\":{\"value\":1.0},\"line_color\":{\"value\":\"black\"},\"line_dash\":[4,4],\"line_width\":{\"value\":2},\"plot\":null,\"render_mode\":\"css\",\"right_units\":\"screen\",\"top_units\":\"screen\"},\"id\":\"89900241-486b-4cbd-b870-eb88fe634af3\",\"type\":\"BoxAnnotation\"},{\"attributes\":{},\"id\":\"2baca185-8178-49de-a3f7-ebc2a21fb96f\",\"type\":\"PanTool\"},{\"attributes\":{},\"id\":\"6cede4cd-061d-4bf1-8f64-806a77088197\",\"type\":\"ResetTool\"},{\"attributes\":{\"plot\":null,\"text\":\"Partial Autocorrelation PLot NIFTY IT\"},\"id\":\"aea47520-b5d5-4ae9-924b-2881d3732594\",\"type\":\"Title\"},{\"attributes\":{},\"id\":\"069a29c1-8fbe-483c-a1c4-5129c4d1e230\",\"type\":\"LinearScale\"},{\"attributes\":{\"source\":{\"id\":\"2e5e1e9b-a79d-4583-92e4-290e85adb232\",\"type\":\"ColumnDataSource\"}},\"id\":\"60f0865e-9f38-48e8-9219-e67e4149cd8a\",\"type\":\"CDSView\"},{\"attributes\":{},\"id\":\"57389d76-1251-4a55-8038-b051225aee06\",\"type\":\"UnionRenderers\"},{\"attributes\":{\"callback\":null},\"id\":\"e52bc0de-f741-42c8-9aab-8784f48df27e\",\"type\":\"DataRange1d\"},{\"attributes\":{\"plot\":{\"id\":\"3df945f9-b288-43d0-b882-a6658b842804\",\"subtype\":\"Figure\",\"type\":\"Plot\"},\"ticker\":{\"id\":\"6dc00353-5825-4799-b850-96b9ef0320aa\",\"type\":\"BasicTicker\"}},\"id\":\"fd3b0066-d1f6-4c4a-8d5c-33456ee5b5dc\",\"type\":\"Grid\"},{\"attributes\":{},\"id\":\"6dc00353-5825-4799-b850-96b9ef0320aa\",\"type\":\"BasicTicker\"},{\"attributes\":{\"overlay\":{\"id\":\"89900241-486b-4cbd-b870-eb88fe634af3\",\"type\":\"BoxAnnotation\"}},\"id\":\"8659fba9-bced-4abd-98a0-dfee7cd719f6\",\"type\":\"BoxZoomTool\"},{\"attributes\":{\"formatter\":{\"id\":\"3dc4726a-d106-4c50-8d45-12af169ca596\",\"type\":\"BasicTickFormatter\"},\"plot\":{\"id\":\"3df945f9-b288-43d0-b882-a6658b842804\",\"subtype\":\"Figure\",\"type\":\"Plot\"},\"ticker\":{\"id\":\"96b255d6-83bc-45b4-a491-1d8b62545b13\",\"type\":\"BasicTicker\"}},\"id\":\"0363ae20-95a7-4365-91fb-6cbf0e3029db\",\"type\":\"LinearAxis\"},{\"attributes\":{\"dimension\":1,\"plot\":{\"id\":\"3df945f9-b288-43d0-b882-a6658b842804\",\"subtype\":\"Figure\",\"type\":\"Plot\"},\"ticker\":{\"id\":\"96b255d6-83bc-45b4-a491-1d8b62545b13\",\"type\":\"BasicTicker\"}},\"id\":\"ad5cde02-5e11-4b37-b5d9-82820a0dad35\",\"type\":\"Grid\"},{\"attributes\":{},\"id\":\"3dc4726a-d106-4c50-8d45-12af169ca596\",\"type\":\"BasicTickFormatter\"},{\"attributes\":{},\"id\":\"faf3d458-249c-423a-b8f1-21561c7f672d\",\"type\":\"SaveTool\"},{\"attributes\":{\"callback\":null,\"data\":{\"top\":{\"__ndarray__\":\"AAAAAAAA8D9W9EVoYnfvP7D+myXtErK/XTL9GnHEEj8K4yWA9Rxzv7LcKrPvRas/Mkwnx5IoiT+pWTBpPWS2P9VNfek97Zi/XrYsZA/BkD8s21JRpWSQv9ZLCc1ZlqM/9csNe1FnlL+J/ybY+FKevzIOuS9Zaxi/0PZyIp4nsL/VTnviF2ukv1KfaVjzNbQ/zTY66+X5Rr9GVPs7tj2YPxebgX1wA5e/hsajdytzor93waIhuTOnP/wIJPYyY5I/8i0ZtwZttb9f5e2KtoWlP2Ldx1Aoo6C/eAY/qctZo7/N8VLXQ4utv9hTDhvZ0pe/01hGZGwIo79fsJo97iWaPwY6wDSnZ5G/vaLjfx5Znr/yizllSK2bv6mr2urGjbC/89hH1EGghj96Sbp6SHaQP38FnbKlOrI/Y8bup2AiQD9IDcIsFfydP5lEO6Cu1Zq/9mXW7gMFrD8A3kC4+ZSOvxklgkwJR1o/+Y0Wgnrps79atoyIFXmpPxbxb4smp7C/x86V+tPSsD9dc2l6HhSwP4VaV2ksHae/\",\"dtype\":\"float64\",\"shape\":[51]},\"x\":[0,1,2,3,4,5,6,7,8,9,10,11,12,13,14,15,16,17,18,19,20,21,22,23,24,25,26,27,28,29,30,31,32,33,34,35,36,37,38,39,40,41,42,43,44,45,46,47,48,49]},\"selected\":{\"id\":\"648a7c31-401a-47dd-8fd4-2ae59cd29b49\",\"type\":\"Selection\"},\"selection_policy\":{\"id\":\"57389d76-1251-4a55-8038-b051225aee06\",\"type\":\"UnionRenderers\"}},\"id\":\"2e5e1e9b-a79d-4583-92e4-290e85adb232\",\"type\":\"ColumnDataSource\"}],\"root_ids\":[\"3df945f9-b288-43d0-b882-a6658b842804\"]},\"title\":\"Bokeh Application\",\"version\":\"0.13.0\"}};\n",
       "  var render_items = [{\"docid\":\"2c3f167f-3be6-43f8-be01-0570829499c0\",\"roots\":{\"3df945f9-b288-43d0-b882-a6658b842804\":\"8481ee11-8d76-40a3-834f-fef44c736e46\"}}];\n",
       "  root.Bokeh.embed.embed_items_notebook(docs_json, render_items);\n",
       "\n",
       "  }\n",
       "  if (root.Bokeh !== undefined) {\n",
       "    embed_document(root);\n",
       "  } else {\n",
       "    var attempts = 0;\n",
       "    var timer = setInterval(function(root) {\n",
       "      if (root.Bokeh !== undefined) {\n",
       "        embed_document(root);\n",
       "        clearInterval(timer);\n",
       "      }\n",
       "      attempts++;\n",
       "      if (attempts > 100) {\n",
       "        console.log(\"Bokeh: ERROR: Unable to run BokehJS code because BokehJS library is missing\")\n",
       "        clearInterval(timer);\n",
       "      }\n",
       "    }, 10, root)\n",
       "  }\n",
       "})(window);"
      ],
      "application/vnd.bokehjs_exec.v0+json": ""
     },
     "metadata": {
      "application/vnd.bokehjs_exec.v0+json": {
       "id": "3df945f9-b288-43d0-b882-a6658b842804"
      }
     },
     "output_type": "display_data"
    },
    {
     "name": "stderr",
     "output_type": "stream",
     "text": [
      "ERROR:bokeh.core.validation.check:E-1001 (BAD_COLUMN_NAME): Glyph refers to nonexistent column name: k [renderer: GlyphRenderer(id='036f0949-a089-4de0-8f33-f4636db3e6e1', ...)]\n",
      "ERROR:bokeh.core.validation.check:E-1001 (BAD_COLUMN_NAME): Glyph refers to nonexistent column name: k [renderer: GlyphRenderer(id='7dde578f-36c0-496d-847a-327e75827b2b', ...)]\n",
      "ERROR:bokeh.core.validation.check:E-1001 (BAD_COLUMN_NAME): Glyph refers to nonexistent column name: k [renderer: GlyphRenderer(id='b0c4e087-d062-4f9a-a442-20fdf66eff7a', ...)]\n",
      "ERROR:bokeh.core.validation.check:E-1001 (BAD_COLUMN_NAME): Glyph refers to nonexistent column name: k [renderer: GlyphRenderer(id='8a332173-ff19-4fc7-a301-1388d640c612', ...)]\n",
      "ERROR:bokeh.core.validation.check:E-1001 (BAD_COLUMN_NAME): Glyph refers to nonexistent column name: k [renderer: GlyphRenderer(id='0dccaf0e-b525-4386-9b88-986f8212ef5f', ...)]\n",
      "ERROR:bokeh.core.validation.check:E-1001 (BAD_COLUMN_NAME): Glyph refers to nonexistent column name: k [renderer: GlyphRenderer(id='fd9303ac-9184-43ad-9402-01e31349256b', ...)]\n",
      "ERROR:bokeh.core.validation.check:E-1001 (BAD_COLUMN_NAME): Glyph refers to nonexistent column name: k [renderer: GlyphRenderer(id='7111a5ad-da32-4c10-ba14-b35ec34cd25f', ...)]\n",
      "ERROR:bokeh.core.validation.check:E-1001 (BAD_COLUMN_NAME): Glyph refers to nonexistent column name: k [renderer: GlyphRenderer(id='e7872765-6722-4490-993a-bace488f5645', ...)]\n",
      "ERROR:bokeh.core.validation.check:E-1001 (BAD_COLUMN_NAME): Glyph refers to nonexistent column name: k [renderer: GlyphRenderer(id='30ea4dc2-61b3-4d9f-9494-bb9ad6b0b40e', ...)]\n",
      "ERROR:bokeh.core.validation.check:E-1001 (BAD_COLUMN_NAME): Glyph refers to nonexistent column name: k [renderer: GlyphRenderer(id='d8e4e8cd-5ebc-40c9-af8c-11a467bcff12', ...)]\n",
      "ERROR:bokeh.core.validation.check:E-1001 (BAD_COLUMN_NAME): Glyph refers to nonexistent column name: k [renderer: GlyphRenderer(id='977410a2-76d5-43db-b414-c9b34734989b', ...)]\n",
      "ERROR:bokeh.core.validation.check:E-1001 (BAD_COLUMN_NAME): Glyph refers to nonexistent column name: k [renderer: GlyphRenderer(id='7fd698a6-ef70-404c-85c4-e7a8c1b8145d', ...)]\n",
      "ERROR:bokeh.core.validation.check:E-1001 (BAD_COLUMN_NAME): Glyph refers to nonexistent column name: k [renderer: GlyphRenderer(id='10607909-3c3e-47c5-a9ac-891777942f5b', ...)]\n",
      "ERROR:bokeh.core.validation.check:E-1001 (BAD_COLUMN_NAME): Glyph refers to nonexistent column name: k [renderer: GlyphRenderer(id='634b86db-5052-4079-bd9f-9bb5d158f9c2', ...)]\n",
      "ERROR:bokeh.core.validation.check:E-1001 (BAD_COLUMN_NAME): Glyph refers to nonexistent column name: k [renderer: GlyphRenderer(id='6acee8bb-3862-4832-a12a-927b1b787134', ...)]\n",
      "ERROR:bokeh.core.validation.check:E-1001 (BAD_COLUMN_NAME): Glyph refers to nonexistent column name: k [renderer: GlyphRenderer(id='aa7c9a84-0b00-45fa-aeb5-3cd6910af35a', ...)]\n",
      "ERROR:bokeh.core.validation.check:E-1001 (BAD_COLUMN_NAME): Glyph refers to nonexistent column name: k [renderer: GlyphRenderer(id='bebdc8ca-8b54-46f6-99a8-663f2c59c346', ...)]\n",
      "ERROR:bokeh.core.validation.check:E-1001 (BAD_COLUMN_NAME): Glyph refers to nonexistent column name: k [renderer: GlyphRenderer(id='35dabc7f-38f4-4fe6-afd7-c251d7702dc7', ...)]\n",
      "ERROR:bokeh.core.validation.check:E-1001 (BAD_COLUMN_NAME): Glyph refers to nonexistent column name: k [renderer: GlyphRenderer(id='ec14446c-7cfe-4957-b070-88aa5ddc8bdf', ...)]\n",
      "ERROR:bokeh.core.validation.check:E-1001 (BAD_COLUMN_NAME): Glyph refers to nonexistent column name: k [renderer: GlyphRenderer(id='17f9ec26-21c3-4008-8dc7-7d683c008fe1', ...)]\n",
      "ERROR:bokeh.core.validation.check:E-1001 (BAD_COLUMN_NAME): Glyph refers to nonexistent column name: k [renderer: GlyphRenderer(id='568e632d-c107-49d7-a99c-e7f9c41364f0', ...)]\n",
      "ERROR:bokeh.core.validation.check:E-1001 (BAD_COLUMN_NAME): Glyph refers to nonexistent column name: k [renderer: GlyphRenderer(id='c57398a8-4918-4b3c-b6a5-c65a253e5d27', ...)]\n",
      "ERROR:bokeh.core.validation.check:E-1001 (BAD_COLUMN_NAME): Glyph refers to nonexistent column name: k [renderer: GlyphRenderer(id='8235250c-ae7e-48c0-a41c-88609029d0be', ...)]\n",
      "ERROR:bokeh.core.validation.check:E-1001 (BAD_COLUMN_NAME): Glyph refers to nonexistent column name: k [renderer: GlyphRenderer(id='7967b316-4ec3-4a40-82be-552333458fdf', ...)]\n",
      "ERROR:bokeh.core.validation.check:E-1001 (BAD_COLUMN_NAME): Glyph refers to nonexistent column name: k [renderer: GlyphRenderer(id='f829cd86-4970-4c4c-a610-fe0777ac6bd9', ...)]\n"
     ]
    }
   ],
   "source": [
    "output_file(\"PACF.html\")\n",
    "\n",
    "draw_pacf(infy)\n",
    "draw_pacf(tcs)\n",
    "draw_pacf(nifty_IT)"
   ]
  },
  {
   "cell_type": "code",
   "execution_count": null,
   "metadata": {},
   "outputs": [],
   "source": []
  }
 ],
 "metadata": {
  "kernelspec": {
   "display_name": "Python 3",
   "language": "python",
   "name": "python3"
  },
  "language_info": {
   "codemirror_mode": {
    "name": "ipython",
    "version": 3
   },
   "file_extension": ".py",
   "mimetype": "text/x-python",
   "name": "python",
   "nbconvert_exporter": "python",
   "pygments_lexer": "ipython3",
   "version": "3.7.0"
  }
 },
 "nbformat": 4,
 "nbformat_minor": 2
}
